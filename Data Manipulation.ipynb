{
 "cells": [
  {
   "cell_type": "code",
   "execution_count": 2,
   "id": "c9157736-ae46-4782-b2ad-cf99b1c3c2e4",
   "metadata": {},
   "outputs": [],
   "source": [
    "import numpy as np\n",
    "import matplotlib.pyplot as plt\n",
    "import tensorflow as tf\n",
    "import pandas as pd\n",
    "from tqdm.notebook import tqdm\n",
    "import matplotlib.pyplot as plt\n",
    "import scikitplot as skplt\n",
    "import sklearn\n",
    "from sklearn.model_selection import train_test_split\n",
    "import os"
   ]
  },
  {
   "cell_type": "code",
   "execution_count": 20,
   "id": "5ebd560f-3f23-4dd2-a47f-75ec0fe9c60a",
   "metadata": {},
   "outputs": [],
   "source": [
    "data_length = {\n",
    "    'radius_5\\\\level_1' : 3216,\n",
    "    'radius_5\\\\level_5' : 2496,\n",
    "    'radius_10\\\\level_1' : 3206,\n",
    "    'radius_10\\\\level_5' : 2488,\n",
    "    'radius_15\\\\level_1' : 3206,\n",
    "    'radius_15\\\\level_5' : 2484,\n",
    "    'radius_20\\\\level_1' : 3164,\n",
    "    'radius_20\\\\level_5' : 2444,\n",
    "    'radius_25\\\\level_1' : 3153,\n",
    "    'radius_25\\\\level_5' : 2424,\n",
    "    'radius_30\\\\level_1' : 3126,\n",
    "    'radius_30\\\\level_5' : 2400,\n",
    "    'radius_35\\\\level_1' : 3098,\n",
    "    'radius_35\\\\level_5' : 2376,\n",
    "    'radius_40\\\\level_1' : 3005,\n",
    "    'radius_40\\\\level_5' : 2318,\n",
    "    'radius_45\\\\level_1' : 2980,\n",
    "    'radius_45\\\\level_5' : 2290,\n",
    "    'radius_50\\\\level_1' : 2956,\n",
    "    'radius_50\\\\level_5' : 2270\n",
    "}"
   ]
  },
  {
   "cell_type": "code",
   "execution_count": 16,
   "id": "9c69a9f2-9bb8-44b6-acab-d37d72504d76",
   "metadata": {},
   "outputs": [],
   "source": [
    "def absoluteFilePaths(directory):\n",
    "    paths = []\n",
    "    for dirpath,_,filenames in tqdm(os.walk(directory), total = 10):\n",
    "        for f in filenames:\n",
    "            paths.append(os.path.abspath(os.path.join(dirpath, f)))\n",
    "    return paths\n",
    "\n",
    "def ifnotexistmake(path_to_save):\n",
    "    if not os.path.exists(path_to_save):\n",
    "        os.makedirs(path_to_save)\n",
    "        \n",
    "def get_key(path, dictrionary):\n",
    "    for key in list(dictionary.keys()):\n",
    "        if key in path:\n",
    "            return key"
   ]
  },
  {
   "cell_type": "code",
   "execution_count": 9,
   "id": "d9ad102a-d017-486f-8bb2-bb97b3f1a43f",
   "metadata": {},
   "outputs": [
    {
     "data": {
      "application/vnd.jupyter.widget-view+json": {
       "model_id": "debdd625fb4849d3a90af4eab9c9575c",
       "version_major": 2,
       "version_minor": 0
      },
      "text/plain": [
       "  0%|          | 0/10 [00:00<?, ?it/s]"
      ]
     },
     "metadata": {},
     "output_type": "display_data"
    }
   ],
   "source": [
    "main_dir = './sameslicethickness/different_distances/size_encoded'\n",
    "internal_paths = absoluteFilePaths(main_dir)\n",
    "del internal_paths[0:2]"
   ]
  },
  {
   "cell_type": "code",
   "execution_count": 13,
   "id": "a94ac9b3-8407-4791-aaf5-e76a7ad87be1",
   "metadata": {},
   "outputs": [
    {
     "data": {
      "text/plain": [
       "'A:\\\\After Graduation\\\\CUFE Masters\\\\Thesis\\\\Pulmonary Nodules\\\\data\\\\code\\\\sameslicethickness\\\\different_distances\\\\size_encoded\\\\radius_10\\\\level_1\\\\volumes\\\\v0.npy'"
      ]
     },
     "execution_count": 13,
     "metadata": {},
     "output_type": "execute_result"
    }
   ],
   "source": [
    "internal_paths[0]"
   ]
  },
  {
   "cell_type": "code",
   "execution_count": 17,
   "id": "aa8a1466-f408-4159-af8e-13e1c1af7c6d",
   "metadata": {},
   "outputs": [],
   "source": [
    "target_dir = './sameslicethickness/different_distances/size_encoded/arranged'"
   ]
  },
  {
   "cell_type": "code",
   "execution_count": 21,
   "id": "13fe62dd-11a2-40e4-b4d9-e407c31183f8",
   "metadata": {
    "collapsed": true,
    "jupyter": {
     "outputs_hidden": true
    },
    "tags": []
   },
   "outputs": [
    {
     "data": {
      "application/vnd.jupyter.widget-view+json": {
       "model_id": "6d81600c7ab74b86abe06fe1629b8466",
       "version_major": 2,
       "version_minor": 0
      },
      "text/plain": [
       "  0%|          | 0/20 [00:00<?, ?it/s]"
      ]
     },
     "metadata": {},
     "output_type": "display_data"
    },
    {
     "name": "stdout",
     "output_type": "stream",
     "text": [
      "something wrong with key : radius_5\\level_1\n",
      "something wrong with key : radius_5\\level_5\n",
      "something wrong with key : radius_10\\level_1\n",
      "something wrong with key : radius_10\\level_5\n",
      "something wrong with key : radius_15\\level_1\n",
      "something wrong with key : radius_15\\level_5\n",
      "something wrong with key : radius_20\\level_1\n",
      "something wrong with key : radius_20\\level_5\n",
      "something wrong with key : radius_25\\level_1\n",
      "something wrong with key : radius_25\\level_5\n",
      "something wrong with key : radius_30\\level_1\n",
      "something wrong with key : radius_30\\level_5\n",
      "something wrong with key : radius_35\\level_1\n",
      "something wrong with key : radius_35\\level_5\n",
      "something wrong with key : radius_40\\level_1\n",
      "something wrong with key : radius_40\\level_5\n",
      "something wrong with key : radius_45\\level_1\n",
      "something wrong with key : radius_45\\level_5\n",
      "something wrong with key : radius_50\\level_1\n",
      "something wrong with key : radius_50\\level_5\n"
     ]
    }
   ],
   "source": [
    "for key in tqdm(list(data_length.keys()), total = len(data_length)):\n",
    "    n_vols = data_length[key]\n",
    "    dist_dir = os.path.join(target_dir, key)\n",
    "    ifnotexistmake(dist_dir)\n",
    "    i = 0\n",
    "    for path in internal_paths:\n",
    "        if key in path:\n",
    "            vol = np.load(path)\n",
    "            np.save(dist_dir + '\\\\v' + str(i), vol)\n",
    "            i += 1\n",
    "    total_n_vols = i + 1        \n",
    "    if total_n_vols == n_vols:\n",
    "        print(key + ' is a success')\n",
    "    else :\n",
    "        print('something wrong with key : '  + key)"
   ]
  },
  {
   "cell_type": "code",
   "execution_count": null,
   "id": "5cbeb587-2d25-4328-818b-121a26b58aa7",
   "metadata": {},
   "outputs": [],
   "source": []
  }
 ],
 "metadata": {
  "kernelspec": {
   "display_name": "Python 3 (ipykernel)",
   "language": "python",
   "name": "python3"
  },
  "language_info": {
   "codemirror_mode": {
    "name": "ipython",
    "version": 3
   },
   "file_extension": ".py",
   "mimetype": "text/x-python",
   "name": "python",
   "nbconvert_exporter": "python",
   "pygments_lexer": "ipython3",
   "version": "3.9.16"
  }
 },
 "nbformat": 4,
 "nbformat_minor": 5
}
