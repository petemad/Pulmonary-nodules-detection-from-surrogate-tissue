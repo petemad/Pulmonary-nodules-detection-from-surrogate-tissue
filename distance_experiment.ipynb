{
 "cells": [
  {
   "cell_type": "code",
   "execution_count": 1,
   "id": "ee913c2e-1d6c-4d2e-9ccb-e5a875aa681c",
   "metadata": {},
   "outputs": [],
   "source": [
    "import numpy as np\n",
    "import matplotlib.pyplot as plt\n",
    "import tensorflow as tf\n",
    "import pandas as pd\n",
    "from tqdm.notebook import tqdm\n",
    "import matplotlib.pyplot as plt\n",
    "import scikitplot as skplt\n",
    "import sklearn\n",
    "from sklearn.model_selection import train_test_split"
   ]
  },
  {
   "cell_type": "code",
   "execution_count": 2,
   "id": "2b9ed8e3-b0e3-4afe-bc04-6710c9d0a86e",
   "metadata": {},
   "outputs": [],
   "source": [
    "def _get_path(radius, level, i):\n",
    "    return './sameslicethickness/different_distances/radius_' + str(radius) + '/level_' + str(level) + '/volumes/v' + str(i) + '.npy'"
   ]
  },
  {
   "cell_type": "code",
   "execution_count": 3,
   "id": "f87e39a4-2634-4b5b-aa4a-32ec1b926df8",
   "metadata": {},
   "outputs": [],
   "source": [
    "class Normalizer:\n",
    "    def __init__(self, data):\n",
    "        self.min = np.min(data)\n",
    "        self.max = np.max(data)\n",
    "    \n",
    "    def normalize(self, newdata):\n",
    "        return (newdata - self.min)/(self.max - self.min)"
   ]
  },
  {
   "cell_type": "markdown",
   "id": "41e53dea-ae59-4ad5-97d6-7bbfe88ee0bd",
   "metadata": {},
   "source": [
    "# Old"
   ]
  },
  {
   "cell_type": "code",
   "execution_count": 2,
   "id": "372c701b-a90b-40b9-b85d-6b7f5ea266fe",
   "metadata": {},
   "outputs": [],
   "source": [
    "model_path = './models/binary_classifier_with_sigmoid'\n",
    "model = tf.keras.models.load_model(model_path)"
   ]
  },
  {
   "cell_type": "code",
   "execution_count": 63,
   "id": "7432eb35-9204-41af-8f34-435685f11dca",
   "metadata": {},
   "outputs": [],
   "source": [
    "n = 20\n",
    "h,w,d = 64, 64, 28\n",
    "data = []\n",
    "label = []\n",
    "distance = []\n",
    "for radius in [10, 20, 40]:\n",
    "    for level in [1, 5]:\n",
    "        for i in range(n):\n",
    "            try:\n",
    "                data.append(np.load(_get_path(radius, level, i)).reshape(h,w,d,1))\n",
    "            except :\n",
    "                continue\n",
    "            if level < 3:\n",
    "                label.append(0)\n",
    "            else :\n",
    "                label.append(1)\n",
    "            distance.append(radius)"
   ]
  },
  {
   "cell_type": "code",
   "execution_count": 64,
   "id": "0c146335-107f-43a8-bcb5-c04125aa8773",
   "metadata": {},
   "outputs": [],
   "source": [
    "data = np.array(data)\n",
    "label = np.array(label)\n",
    "distance = np.array(distance)"
   ]
  },
  {
   "cell_type": "code",
   "execution_count": 65,
   "id": "24d224ac-0623-4096-a943-091aaa2766e5",
   "metadata": {},
   "outputs": [
    {
     "data": {
      "text/plain": [
       "(120, 64, 64, 28, 1)"
      ]
     },
     "execution_count": 65,
     "metadata": {},
     "output_type": "execute_result"
    }
   ],
   "source": [
    "data.shape"
   ]
  },
  {
   "cell_type": "code",
   "execution_count": 67,
   "id": "518dc3e4-3c09-47ef-b0e2-65da7cb482bd",
   "metadata": {},
   "outputs": [
    {
     "name": "stdout",
     "output_type": "stream",
     "text": [
      "1.0\n",
      "0.0\n"
     ]
    }
   ],
   "source": [
    "scaler = Normalizer(data)\n",
    "test = scaler.normalize(data)\n",
    "print(np.max(test))\n",
    "print(np.min(test))"
   ]
  },
  {
   "cell_type": "code",
   "execution_count": 68,
   "id": "33fd8e18-8f9b-41c5-8a95-9fe63e705ac5",
   "metadata": {},
   "outputs": [],
   "source": [
    "test = tf.data.Dataset.from_tensor_slices((data, label))\n",
    "test = test.batch(4)\n",
    "pred = model.predict(test)"
   ]
  },
  {
   "cell_type": "code",
   "execution_count": 69,
   "id": "959c06dc-5e18-49a4-ac88-555f3e9ffe63",
   "metadata": {},
   "outputs": [
    {
     "name": "stdout",
     "output_type": "stream",
     "text": [
      "30/30 [==============================] - 1s 28ms/step - loss: 7653.4463 - accuracy: 0.3917\n"
     ]
    }
   ],
   "source": [
    "ev = model.evaluate(test)"
   ]
  },
  {
   "cell_type": "code",
   "execution_count": 70,
   "id": "9dfb8a0a-b805-496e-b5f6-a5842afd16d6",
   "metadata": {},
   "outputs": [],
   "source": [
    "prob = np.argmax(pred, axis = 1)"
   ]
  },
  {
   "cell_type": "code",
   "execution_count": 71,
   "id": "883b24f2-cd1e-4c11-9a68-2c3d52a848f0",
   "metadata": {},
   "outputs": [
    {
     "data": {
      "text/plain": [
       "120"
      ]
     },
     "execution_count": 71,
     "metadata": {},
     "output_type": "execute_result"
    }
   ],
   "source": [
    "len(prob)"
   ]
  },
  {
   "cell_type": "code",
   "execution_count": 72,
   "id": "720ea73d-16db-4f02-a65a-5d138adc650a",
   "metadata": {},
   "outputs": [],
   "source": [
    "norm = Normalizer(prob)\n",
    "prob_2 = norm.normalize(prob)"
   ]
  },
  {
   "cell_type": "code",
   "execution_count": 73,
   "id": "c9f090e8-da2e-48bd-a084-424cc420bb04",
   "metadata": {},
   "outputs": [
    {
     "data": {
      "image/png": "[encoded data removed]",
      "text/plain": [
       "<Figure size 2160x720 with 1 Axes>"
      ]
     },
     "metadata": {
      "needs_background": "light"
     },
     "output_type": "display_data"
    }
   ],
   "source": [
    "linspace = np.linspace(0, len(prob), len(prob))\n",
    "plt.figure(figsize=(30,10))\n",
    "plt.plot(linspace, prob, 'bo', label = 'probability') # dots\n",
    "plt.plot(linspace, distance/40, label = 'distance') # green\n",
    "plt.plot(linspace, label, label = 'label') #orange\n",
    "plt.show()"
   ]
  },
  {
   "cell_type": "markdown",
   "id": "74181c09-ac42-4a67-8a16-348bf062e0f9",
   "metadata": {},
   "source": [
    "# Compare different distances\n",
    "In this trial, we are going to train a new model between level 1 vs level 5, using the three different radii."
   ]
  },
  {
   "cell_type": "markdown",
   "id": "55f440fa-d888-4327-8d52-edbaa8084faf",
   "metadata": {},
   "source": [
    "## Training Data loading"
   ]
  },
  {
   "cell_type": "code",
   "execution_count": 4,
   "id": "7bc84a98-d3f7-4579-8243-983aa6149953",
   "metadata": {},
   "outputs": [],
   "source": [
    "def get_binary_training_data(radius, n = 1000, size = (64,64,28), levels=[1, 5]):\n",
    "    h,w,d = size\n",
    "    \n",
    "    data = []\n",
    "    label = []\n",
    "    \n",
    "    for level in levels:\n",
    "        for i in tqdm(range(n)):\n",
    "            try:\n",
    "                data.append(np.load(_get_path(radius, level, i)).reshape(h,w,d,1))\n",
    "            except :\n",
    "                continue\n",
    "            if level < 3:\n",
    "                label.append(0)\n",
    "            else :\n",
    "                label.append(1)\n",
    "    return data, label\n",
    "\n",
    "def data_prep(data, labels, BATCH_SIZE = 32, SHUFFLE_BUFFER_SIZE = 100):\n",
    "    train_ds, valid_ds, y_train, y_valid = train_test_split(data, labels, test_size=0.2, random_state=42)\n",
    "    print(\"number of training examples: \", len(train_ds))\n",
    "    print(\"number of validation examples: \", len(valid_ds))\n",
    "    scaler = Normalizer(train_ds)\n",
    "    train_ds = scaler.normalize(train_ds)\n",
    "    valid_ds = scaler.normalize(valid_ds)\n",
    "    print(\"max of training dataset: \", np.max(train_ds), \" & min: \", np.min(train_ds))\n",
    "    print(\"max of validation dataset: \", np.max(valid_ds), \" & min: \", np.min(valid_ds))\n",
    "    train_dataset = tf.data.Dataset.from_tensor_slices((train_ds, y_train))\n",
    "    validation_dataset = tf.data.Dataset.from_tensor_slices((valid_ds, y_valid))\n",
    "\n",
    "    train_dataset = train_dataset.shuffle(SHUFFLE_BUFFER_SIZE).batch(BATCH_SIZE)\n",
    "    validation_dataset = validation_dataset.batch(BATCH_SIZE)\n",
    "    return train_dataset, validation_dataset"
   ]
  },
  {
   "cell_type": "markdown",
   "id": "6dd3d1ae-45ed-4d06-8191-510a06cce2c9",
   "metadata": {},
   "source": [
    "### Loading radius 30"
   ]
  },
  {
   "cell_type": "code",
   "execution_count": 5,
   "id": "4d270355-ad19-4b99-9979-dd8d4e8b2abf",
   "metadata": {},
   "outputs": [
    {
     "data": {
      "application/vnd.jupyter.widget-view+json": {
       "model_id": "285cd8289c674756a089a1d01bf947e2",
       "version_major": 2,
       "version_minor": 0
      },
      "text/plain": [
       "  0%|          | 0/1000 [00:00<?, ?it/s]"
      ]
     },
     "metadata": {},
     "output_type": "display_data"
    },
    {
     "data": {
      "application/vnd.jupyter.widget-view+json": {
       "model_id": "bd335f07714c488485169d72a04b480c",
       "version_major": 2,
       "version_minor": 0
      },
      "text/plain": [
       "  0%|          | 0/1000 [00:00<?, ?it/s]"
      ]
     },
     "metadata": {},
     "output_type": "display_data"
    },
    {
     "name": "stdout",
     "output_type": "stream",
     "text": [
      "number of training examples:  1465\n",
      "number of validation examples:  367\n",
      "max of training dataset:  1.0  & min:  0.0\n",
      "max of validation dataset:  1.0  & min:  0.026085097284584136\n"
     ]
    }
   ],
   "source": [
    "data_30, label_30 = get_binary_training_data(radius = 30, n = 1000, size = (64,64,28), levels=[1, 5])\n",
    "train_30, val_30 = data_prep(data_30, label_30)"
   ]
  },
  {
   "cell_type": "markdown",
   "id": "90f8ccb7-a0ec-4390-9a21-df36da9ee621",
   "metadata": {},
   "source": [
    "### Loading radius 50"
   ]
  },
  {
   "cell_type": "code",
   "execution_count": 5,
   "id": "7063d6dd-0357-4fdc-8bed-98230890042b",
   "metadata": {},
   "outputs": [
    {
     "data": {
      "application/vnd.jupyter.widget-view+json": {
       "model_id": "647c6a31df4740d28a1b933cfdb3aa96",
       "version_major": 2,
       "version_minor": 0
      },
      "text/plain": [
       "  0%|          | 0/1000 [00:00<?, ?it/s]"
      ]
     },
     "metadata": {},
     "output_type": "display_data"
    },
    {
     "data": {
      "application/vnd.jupyter.widget-view+json": {
       "model_id": "69ae225e439c483a82c014a4fbe6ef9a",
       "version_major": 2,
       "version_minor": 0
      },
      "text/plain": [
       "  0%|          | 0/1000 [00:00<?, ?it/s]"
      ]
     },
     "metadata": {},
     "output_type": "display_data"
    },
    {
     "name": "stdout",
     "output_type": "stream",
     "text": [
      "number of training examples:  1384\n",
      "number of validation examples:  346\n",
      "max of training dataset:  1.0  & min:  0.0\n",
      "max of validation dataset:  1.0  & min:  0.0\n"
     ]
    }
   ],
   "source": [
    "data_50, label_50 = get_binary_training_data(radius = 50, n = 1000, size = (64,64,28), levels=[1, 5])\n",
    "train_50, val_50 = data_prep(data_50, label_50)"
   ]
  },
  {
   "cell_type": "markdown",
   "id": "c071c7f4-7983-4760-842e-3355b907e2eb",
   "metadata": {},
   "source": [
    "### Loading radius 10, 20, 40"
   ]
  },
  {
   "cell_type": "code",
   "execution_count": 4,
   "id": "d438705d-222d-4bff-bce3-5ff5da7e833c",
   "metadata": {},
   "outputs": [
    {
     "data": {
      "application/vnd.jupyter.widget-view+json": {
       "model_id": "a5eb110aa22b41f6bd43f2c59b45496f",
       "version_major": 2,
       "version_minor": 0
      },
      "text/plain": [
       "  0%|          | 0/1000 [00:00<?, ?it/s]"
      ]
     },
     "metadata": {},
     "output_type": "display_data"
    },
    {
     "data": {
      "application/vnd.jupyter.widget-view+json": {
       "model_id": "f2048d9c7a43489fa13f0a572ca3a3d6",
       "version_major": 2,
       "version_minor": 0
      },
      "text/plain": [
       "  0%|          | 0/1000 [00:00<?, ?it/s]"
      ]
     },
     "metadata": {},
     "output_type": "display_data"
    },
    {
     "data": {
      "application/vnd.jupyter.widget-view+json": {
       "model_id": "41b043b9b5a64a159c8d033816fc8860",
       "version_major": 2,
       "version_minor": 0
      },
      "text/plain": [
       "  0%|          | 0/1000 [00:00<?, ?it/s]"
      ]
     },
     "metadata": {},
     "output_type": "display_data"
    },
    {
     "data": {
      "application/vnd.jupyter.widget-view+json": {
       "model_id": "5149f04bb3fd43e8b73bd0ca3315c77b",
       "version_major": 2,
       "version_minor": 0
      },
      "text/plain": [
       "  0%|          | 0/1000 [00:00<?, ?it/s]"
      ]
     },
     "metadata": {},
     "output_type": "display_data"
    },
    {
     "data": {
      "application/vnd.jupyter.widget-view+json": {
       "model_id": "f8b1728f56ef4bbd91d49b0be5431f55",
       "version_major": 2,
       "version_minor": 0
      },
      "text/plain": [
       "  0%|          | 0/1000 [00:00<?, ?it/s]"
      ]
     },
     "metadata": {},
     "output_type": "display_data"
    },
    {
     "data": {
      "application/vnd.jupyter.widget-view+json": {
       "model_id": "e9b9fba15d0f4257bba1b208b4d3e80f",
       "version_major": 2,
       "version_minor": 0
      },
      "text/plain": [
       "  0%|          | 0/1000 [00:00<?, ?it/s]"
      ]
     },
     "metadata": {},
     "output_type": "display_data"
    }
   ],
   "source": [
    "n = 1000\n",
    "h,w,d = 64, 64, 28\n",
    "\n",
    "data_10 = []\n",
    "label_10 = []\n",
    "\n",
    "radius = 10\n",
    "for level in [1, 5]:\n",
    "    for i in tqdm(range(n)):\n",
    "        try:\n",
    "            data_10.append(np.load(_get_path(radius, level, i)).reshape(h,w,d,1))\n",
    "        except :\n",
    "            continue\n",
    "        if level < 3:\n",
    "            label_10.append(0)\n",
    "        else :\n",
    "            label_10.append(1)\n",
    "\n",
    "data_20 = []\n",
    "label_20 = []\n",
    "radius = 20\n",
    "for level in [1, 5]:\n",
    "    for i in tqdm(range(n)):\n",
    "        try:\n",
    "            data_20.append(np.load(_get_path(radius, level, i)).reshape(h,w,d,1))\n",
    "        except :\n",
    "            continue\n",
    "        if level < 3:\n",
    "            label_20.append(0)\n",
    "        else :\n",
    "            label_20.append(1)\n",
    "            \n",
    "data_40 = []\n",
    "label_40 = []\n",
    "radius = 40\n",
    "for level in [1, 5]:\n",
    "    for i in tqdm(range(n)):\n",
    "        try:\n",
    "            data_40.append(np.load(_get_path(radius, level, i)).reshape(h,w,d,1))\n",
    "        except :\n",
    "            continue\n",
    "        if level < 3:\n",
    "            label_40.append(0)\n",
    "        else :\n",
    "            label_40.append(1)"
   ]
  },
  {
   "cell_type": "code",
   "execution_count": 6,
   "id": "95da0f77-de85-4ad1-9f45-01239230b286",
   "metadata": {},
   "outputs": [
    {
     "name": "stdout",
     "output_type": "stream",
     "text": [
      "number of training examples:  1510\n",
      "number of validation examples:  378\n",
      "max of training dataset:  1.0  & min:  0.0\n",
      "max of validation dataset:  1.0  & min:  0.0\n",
      "number of training examples:  1481\n",
      "number of validation examples:  371\n",
      "max of training dataset:  1.0  & min:  0.0\n",
      "max of validation dataset:  1.0  & min:  0.023305537737866155\n",
      "number of training examples:  1395\n",
      "number of validation examples:  349\n",
      "max of training dataset:  1.0  & min:  0.0\n",
      "max of validation dataset:  1.0  & min:  0.0\n"
     ]
    }
   ],
   "source": [
    "train_10, val_10 = data_prep(data_10, label_10)\n",
    "train_20, val_20 = data_prep(data_20, label_20)\n",
    "train_40, val_40 = data_prep(data_40, label_40)"
   ]
  },
  {
   "cell_type": "markdown",
   "id": "c72887ad-6458-4bd2-bb9d-dab6a3e82757",
   "metadata": {},
   "source": [
    "# Training"
   ]
  },
  {
   "cell_type": "code",
   "execution_count": 6,
   "id": "b7620085-097d-47fe-b2b9-740ed58a84b4",
   "metadata": {},
   "outputs": [],
   "source": [
    "def get_cnn_model(h=64,w=64,d=28):\n",
    "    n_classes = 1\n",
    "    model = tf.keras.models.Sequential([\n",
    "        tf.keras.layers.InputLayer(input_shape=(h,w,d, 1)),\n",
    "        tf.keras.layers.Conv3D(16, 5, padding='same', activation='relu'),\n",
    "        tf.keras.layers.Conv3D(16, 5, padding='same', activation='relu'),\n",
    "        tf.keras.layers.Conv3D(32, 3, padding='same', activation='relu'),\n",
    "        tf.keras.layers.BatchNormalization(),\n",
    "        tf.keras.layers.MaxPooling3D(),\n",
    "        tf.keras.layers.Conv3D(32, 3, padding='same', activation='relu'),\n",
    "        tf.keras.layers.Conv3D(32, 3, padding='same', activation='relu'),\n",
    "        tf.keras.layers.Conv3D(64, 1, padding='same', activation='relu'),\n",
    "        tf.keras.layers.BatchNormalization(),\n",
    "        tf.keras.layers.MaxPooling3D(),\n",
    "        tf.keras.layers.Conv3D(64, 1, padding='same', activation='relu'),\n",
    "        tf.keras.layers.Conv3D(64, 1, padding='same', activation='relu'),\n",
    "        tf.keras.layers.Conv3D(128, 1, padding='same', activation='relu'),\n",
    "        tf.keras.layers.BatchNormalization(),\n",
    "        tf.keras.layers.MaxPooling3D(),\n",
    "        tf.keras.layers.Flatten(),\n",
    "        tf.keras.layers.Dense(128, activation='relu'),\n",
    "        tf.keras.layers.Dense(n_classes, activation='sigmoid')\n",
    "    ])\n",
    "    return model"
   ]
  },
  {
   "cell_type": "markdown",
   "id": "6e68bdcf-d49e-44be-9a8b-17c5091ea7a1",
   "metadata": {},
   "source": [
    "## Training radius 10"
   ]
  },
  {
   "cell_type": "code",
   "execution_count": 7,
   "id": "74a9d6e5-81e2-4e7b-9434-25cc8899cc1d",
   "metadata": {},
   "outputs": [],
   "source": [
    "n_classes = 1\n",
    "model_r10 = tf.keras.models.Sequential([\n",
    "    tf.keras.layers.InputLayer(input_shape=(h,w,d, 1)),\n",
    "    tf.keras.layers.Conv3D(16, 5, padding='same', activation='relu'),\n",
    "    tf.keras.layers.Conv3D(16, 5, padding='same', activation='relu'),\n",
    "    tf.keras.layers.Conv3D(32, 3, padding='same', activation='relu'),\n",
    "    tf.keras.layers.BatchNormalization(),\n",
    "    tf.keras.layers.MaxPooling3D(),\n",
    "    tf.keras.layers.Conv3D(32, 3, padding='same', activation='relu'),\n",
    "    tf.keras.layers.Conv3D(32, 3, padding='same', activation='relu'),\n",
    "    tf.keras.layers.Conv3D(64, 1, padding='same', activation='relu'),\n",
    "    tf.keras.layers.BatchNormalization(),\n",
    "    tf.keras.layers.MaxPooling3D(),\n",
    "    tf.keras.layers.Conv3D(64, 1, padding='same', activation='relu'),\n",
    "    tf.keras.layers.Conv3D(64, 1, padding='same', activation='relu'),\n",
    "    tf.keras.layers.Conv3D(128, 1, padding='same', activation='relu'),\n",
    "    tf.keras.layers.BatchNormalization(),\n",
    "    tf.keras.layers.MaxPooling3D(),\n",
    "    tf.keras.layers.Flatten(),\n",
    "    tf.keras.layers.Dense(128, activation='relu'),\n",
    "    tf.keras.layers.Dense(n_classes, activation='sigmoid')\n",
    "])"
   ]
  },
  {
   "cell_type": "code",
   "execution_count": 8,
   "id": "c5493722-bc1e-4d87-a706-bc33f7ddc583",
   "metadata": {
    "collapsed": true,
    "jupyter": {
     "outputs_hidden": true
    },
    "tags": []
   },
   "outputs": [
    {
     "name": "stdout",
     "output_type": "stream",
     "text": [
      "Model: \"sequential\"\n",
      "_________________________________________________________________\n",
      "Layer (type)                 Output Shape              Param #   \n",
      "=================================================================\n",
      "conv3d (Conv3D)              (None, 64, 64, 28, 16)    2016      \n",
      "_________________________________________________________________\n",
      "conv3d_1 (Conv3D)            (None, 64, 64, 28, 16)    32016     \n",
      "_________________________________________________________________\n",
      "conv3d_2 (Conv3D)            (None, 64, 64, 28, 32)    13856     \n",
      "_________________________________________________________________\n",
      "batch_normalization (BatchNo (None, 64, 64, 28, 32)    128       \n",
      "_________________________________________________________________\n",
      "max_pooling3d (MaxPooling3D) (None, 32, 32, 14, 32)    0         \n",
      "_________________________________________________________________\n",
      "conv3d_3 (Conv3D)            (None, 32, 32, 14, 32)    27680     \n",
      "_________________________________________________________________\n",
      "conv3d_4 (Conv3D)            (None, 32, 32, 14, 32)    27680     \n",
      "_________________________________________________________________\n",
      "conv3d_5 (Conv3D)            (None, 32, 32, 14, 64)    2112      \n",
      "_________________________________________________________________\n",
      "batch_normalization_1 (Batch (None, 32, 32, 14, 64)    256       \n",
      "_________________________________________________________________\n",
      "max_pooling3d_1 (MaxPooling3 (None, 16, 16, 7, 64)     0         \n",
      "_________________________________________________________________\n",
      "conv3d_6 (Conv3D)            (None, 16, 16, 7, 64)     4160      \n",
      "_________________________________________________________________\n",
      "conv3d_7 (Conv3D)            (None, 16, 16, 7, 64)     4160      \n",
      "_________________________________________________________________\n",
      "conv3d_8 (Conv3D)            (None, 16, 16, 7, 128)    8320      \n",
      "_________________________________________________________________\n",
      "batch_normalization_2 (Batch (None, 16, 16, 7, 128)    512       \n",
      "_________________________________________________________________\n",
      "max_pooling3d_2 (MaxPooling3 (None, 8, 8, 3, 128)      0         \n",
      "_________________________________________________________________\n",
      "flatten (Flatten)            (None, 24576)             0         \n",
      "_________________________________________________________________\n",
      "dense (Dense)                (None, 128)               3145856   \n",
      "_________________________________________________________________\n",
      "dense_1 (Dense)              (None, 1)                 129       \n",
      "=================================================================\n",
      "Total params: 3,268,881\n",
      "Trainable params: 3,268,433\n",
      "Non-trainable params: 448\n",
      "_________________________________________________________________\n"
     ]
    }
   ],
   "source": [
    "model_r10.compile(optimizer='adam',\n",
    "              loss=tf.keras.losses.BinaryCrossentropy(),\n",
    "              metrics=['accuracy'])\n",
    "model_r10.summary()"
   ]
  },
  {
   "cell_type": "code",
   "execution_count": 9,
   "id": "9f5fea18-cf3b-4be3-a58a-6b4bcbc4825a",
   "metadata": {
    "collapsed": true,
    "jupyter": {
     "outputs_hidden": true
    },
    "tags": []
   },
   "outputs": [
    {
     "name": "stdout",
     "output_type": "stream",
     "text": [
      "Epoch 1/15\n",
      "48/48 [==============================] - 42s 645ms/step - loss: 1.1274 - accuracy: 0.7715 - val_loss: 0.8711 - val_accuracy: 0.5026\n",
      "Epoch 2/15\n",
      "48/48 [==============================] - 29s 600ms/step - loss: 0.1937 - accuracy: 0.9146 - val_loss: 0.7226 - val_accuracy: 0.5873\n",
      "Epoch 3/15\n",
      "48/48 [==============================] - 29s 601ms/step - loss: 0.1117 - accuracy: 0.9497 - val_loss: 0.7138 - val_accuracy: 0.6640\n",
      "Epoch 4/15\n",
      "48/48 [==============================] - 29s 602ms/step - loss: 0.0804 - accuracy: 0.9649 - val_loss: 0.7082 - val_accuracy: 0.7381\n",
      "Epoch 5/15\n",
      "48/48 [==============================] - 29s 601ms/step - loss: 0.0605 - accuracy: 0.9768 - val_loss: 0.7476 - val_accuracy: 0.7857\n",
      "Epoch 6/15\n",
      "48/48 [==============================] - 29s 602ms/step - loss: 0.0480 - accuracy: 0.9808 - val_loss: 0.2681 - val_accuracy: 0.8968\n",
      "Epoch 7/15\n",
      "48/48 [==============================] - 29s 603ms/step - loss: 0.0404 - accuracy: 0.9841 - val_loss: 0.1728 - val_accuracy: 0.9312\n",
      "Epoch 8/15\n",
      "48/48 [==============================] - 29s 604ms/step - loss: 0.0443 - accuracy: 0.9834 - val_loss: 0.2172 - val_accuracy: 0.9127\n",
      "Epoch 9/15\n",
      "48/48 [==============================] - 29s 607ms/step - loss: 0.0403 - accuracy: 0.9815 - val_loss: 0.1006 - val_accuracy: 0.9550\n",
      "Epoch 10/15\n",
      "48/48 [==============================] - 29s 609ms/step - loss: 0.0293 - accuracy: 0.9861 - val_loss: 0.0808 - val_accuracy: 0.9683\n",
      "Epoch 11/15\n",
      "48/48 [==============================] - 29s 609ms/step - loss: 0.0326 - accuracy: 0.9841 - val_loss: 0.1971 - val_accuracy: 0.9550\n",
      "Epoch 12/15\n",
      "48/48 [==============================] - 29s 609ms/step - loss: 0.1057 - accuracy: 0.9629 - val_loss: 7.8814 - val_accuracy: 0.5079\n",
      "Epoch 13/15\n",
      "48/48 [==============================] - 29s 609ms/step - loss: 0.0836 - accuracy: 0.9695 - val_loss: 1.6421 - val_accuracy: 0.7593\n",
      "Epoch 14/15\n",
      "48/48 [==============================] - 29s 609ms/step - loss: 0.0571 - accuracy: 0.9795 - val_loss: 0.9755 - val_accuracy: 0.7698\n",
      "Epoch 15/15\n",
      "48/48 [==============================] - 29s 608ms/step - loss: 0.0789 - accuracy: 0.9715 - val_loss: 0.2767 - val_accuracy: 0.9259\n"
     ]
    }
   ],
   "source": [
    "epochs = 15\n",
    "history = model_r10.fit(\n",
    "  train_10,\n",
    "  validation_data=val_10,\n",
    "  epochs=epochs\n",
    ")"
   ]
  },
  {
   "cell_type": "code",
   "execution_count": 10,
   "id": "ac3de9a1-3fd1-4c3d-a90a-f8d98aae3c9b",
   "metadata": {
    "collapsed": true,
    "jupyter": {
     "outputs_hidden": true
    },
    "tags": []
   },
   "outputs": [
    {
     "data": {
      "image/png": "[encoded data removed]",
      "text/plain": [
       "<Figure size 576x576 with 2 Axes>"
      ]
     },
     "metadata": {
      "needs_background": "light"
     },
     "output_type": "display_data"
    }
   ],
   "source": [
    "acc = history.history['accuracy']\n",
    "val_acc = history.history['val_accuracy']\n",
    "\n",
    "loss = history.history['loss']\n",
    "val_loss = history.history['val_loss']\n",
    "\n",
    "epochs_range = range(epochs)\n",
    "\n",
    "plt.figure(figsize=(8, 8))\n",
    "plt.subplot(1, 2, 1)\n",
    "plt.plot(epochs_range, acc, label='Training Accuracy')\n",
    "plt.plot(epochs_range, val_acc, label='Validation Accuracy')\n",
    "plt.legend(loc='lower right')\n",
    "plt.title('Training and Validation Accuracy')\n",
    "\n",
    "plt.subplot(1, 2, 2)\n",
    "plt.plot(epochs_range, loss, label='Training Loss')\n",
    "plt.plot(epochs_range, val_loss, label='Validation Loss')\n",
    "plt.legend(loc='upper right')\n",
    "plt.title('Training and Validation Loss')\n",
    "plt.show()"
   ]
  },
  {
   "cell_type": "markdown",
   "id": "d7b31def-c35b-4ee4-a6c9-fdbb3f42e27a",
   "metadata": {},
   "source": [
    "## Training radius 20"
   ]
  },
  {
   "cell_type": "code",
   "execution_count": 20,
   "id": "b8b9b668-1996-4256-a1fc-a2c3f270fbb0",
   "metadata": {},
   "outputs": [],
   "source": [
    "n_classes = 1\n",
    "model_r20 = tf.keras.models.Sequential([\n",
    "    tf.keras.layers.InputLayer(input_shape=(h,w,d, 1)),\n",
    "    tf.keras.layers.Conv3D(16, 5, padding='same', activation='relu'),\n",
    "    tf.keras.layers.Conv3D(16, 5, padding='same', activation='relu'),\n",
    "    tf.keras.layers.Conv3D(32, 3, padding='same', activation='relu'),\n",
    "    tf.keras.layers.BatchNormalization(),\n",
    "    tf.keras.layers.MaxPooling3D(),\n",
    "    tf.keras.layers.Conv3D(32, 3, padding='same', activation='relu'),\n",
    "    tf.keras.layers.Conv3D(32, 3, padding='same', activation='relu'),\n",
    "    tf.keras.layers.Conv3D(64, 1, padding='same', activation='relu'),\n",
    "    tf.keras.layers.BatchNormalization(),\n",
    "    tf.keras.layers.MaxPooling3D(),\n",
    "    tf.keras.layers.Conv3D(64, 1, padding='same', activation='relu'),\n",
    "    tf.keras.layers.Conv3D(64, 1, padding='same', activation='relu'),\n",
    "    tf.keras.layers.Conv3D(128, 1, padding='same', activation='relu'),\n",
    "    tf.keras.layers.BatchNormalization(),\n",
    "    tf.keras.layers.MaxPooling3D(),\n",
    "    tf.keras.layers.Flatten(),\n",
    "    tf.keras.layers.Dense(128, activation='relu'),\n",
    "    tf.keras.layers.Dense(n_classes, activation='sigmoid')\n",
    "])"
   ]
  },
  {
   "cell_type": "code",
   "execution_count": 21,
   "id": "63a5c13b-42f9-477f-b421-37fd5049f9ab",
   "metadata": {
    "tags": []
   },
   "outputs": [],
   "source": [
    "model_r20.compile(optimizer='adam',\n",
    "              loss=tf.keras.losses.BinaryCrossentropy(),\n",
    "              metrics=['accuracy'])"
   ]
  },
  {
   "cell_type": "code",
   "execution_count": 22,
   "id": "6d22ef9d-acb2-4829-be21-d7368f7f1adf",
   "metadata": {
    "tags": []
   },
   "outputs": [
    {
     "name": "stdout",
     "output_type": "stream",
     "text": [
      "Epoch 1/15\n",
      "47/47 [==============================] - 32s 647ms/step - loss: 1.2582 - accuracy: 0.6962 - val_loss: 0.7217 - val_accuracy: 0.5364\n",
      "Epoch 2/15\n",
      "47/47 [==============================] - 28s 599ms/step - loss: 0.3269 - accuracy: 0.8575 - val_loss: 1.4107 - val_accuracy: 0.5337\n",
      "Epoch 3/15\n",
      "47/47 [==============================] - 28s 602ms/step - loss: 0.1543 - accuracy: 0.9386 - val_loss: 2.1760 - val_accuracy: 0.5822\n",
      "Epoch 4/15\n",
      "47/47 [==============================] - 28s 601ms/step - loss: 0.1326 - accuracy: 0.9507 - val_loss: 2.0285 - val_accuracy: 0.5930\n",
      "Epoch 5/15\n",
      "47/47 [==============================] - 28s 603ms/step - loss: 0.0822 - accuracy: 0.9723 - val_loss: 2.1370 - val_accuracy: 0.5903\n",
      "Epoch 6/15\n",
      "47/47 [==============================] - 28s 604ms/step - loss: 0.0785 - accuracy: 0.9723 - val_loss: 1.8067 - val_accuracy: 0.6469\n",
      "Epoch 7/15\n",
      "47/47 [==============================] - 28s 605ms/step - loss: 0.1150 - accuracy: 0.9575 - val_loss: 1.3909 - val_accuracy: 0.6712\n",
      "Epoch 8/15\n",
      "47/47 [==============================] - 28s 607ms/step - loss: 0.0998 - accuracy: 0.9642 - val_loss: 0.6265 - val_accuracy: 0.7844\n",
      "Epoch 9/15\n",
      "47/47 [==============================] - 28s 605ms/step - loss: 0.0860 - accuracy: 0.9703 - val_loss: 0.3120 - val_accuracy: 0.8814\n",
      "Epoch 10/15\n",
      "47/47 [==============================] - 29s 607ms/step - loss: 0.0587 - accuracy: 0.9770 - val_loss: 0.1394 - val_accuracy: 0.9488\n",
      "Epoch 11/15\n",
      "47/47 [==============================] - 29s 609ms/step - loss: 0.0413 - accuracy: 0.9838 - val_loss: 0.3464 - val_accuracy: 0.8949\n",
      "Epoch 12/15\n",
      "47/47 [==============================] - 29s 610ms/step - loss: 0.0451 - accuracy: 0.9811 - val_loss: 0.1210 - val_accuracy: 0.9730\n",
      "Epoch 13/15\n",
      "47/47 [==============================] - 29s 609ms/step - loss: 0.0461 - accuracy: 0.9845 - val_loss: 0.1985 - val_accuracy: 0.9191\n",
      "Epoch 14/15\n",
      "47/47 [==============================] - 29s 610ms/step - loss: 0.0538 - accuracy: 0.9811 - val_loss: 0.5221 - val_accuracy: 0.8706\n",
      "Epoch 15/15\n",
      "47/47 [==============================] - 29s 609ms/step - loss: 0.0439 - accuracy: 0.9845 - val_loss: 0.2822 - val_accuracy: 0.9111\n"
     ]
    }
   ],
   "source": [
    "history = model_r20.fit(\n",
    "  train_20,\n",
    "  validation_data=val_20,\n",
    "  epochs=epochs\n",
    ")"
   ]
  },
  {
   "cell_type": "code",
   "execution_count": 23,
   "id": "61e9336e-edec-4a68-aee2-fd5b82c1b42a",
   "metadata": {
    "tags": []
   },
   "outputs": [
    {
     "data": {
      "image/png": "[encoded data removed]",
      "text/plain": [
       "<Figure size 576x576 with 2 Axes>"
      ]
     },
     "metadata": {
      "needs_background": "light"
     },
     "output_type": "display_data"
    }
   ],
   "source": [
    "acc = history.history['accuracy']\n",
    "val_acc = history.history['val_accuracy']\n",
    "\n",
    "loss = history.history['loss']\n",
    "val_loss = history.history['val_loss']\n",
    "\n",
    "epochs_range = range(epochs)\n",
    "\n",
    "plt.figure(figsize=(8, 8))\n",
    "plt.subplot(1, 2, 1)\n",
    "plt.plot(epochs_range, acc, label='Training Accuracy')\n",
    "plt.plot(epochs_range, val_acc, label='Validation Accuracy')\n",
    "plt.legend(loc='lower right')\n",
    "plt.title('Training and Validation Accuracy')\n",
    "\n",
    "plt.subplot(1, 2, 2)\n",
    "plt.plot(epochs_range, loss, label='Training Loss')\n",
    "plt.plot(epochs_range, val_loss, label='Validation Loss')\n",
    "plt.legend(loc='upper right')\n",
    "plt.title('Training and Validation Loss')\n",
    "plt.show()"
   ]
  },
  {
   "cell_type": "markdown",
   "id": "736edfc2-f44a-4fab-86d2-180317b9184e",
   "metadata": {},
   "source": [
    "## Training radius 40"
   ]
  },
  {
   "cell_type": "code",
   "execution_count": 27,
   "id": "fca8db14-b3fe-4409-a39d-ae481d76ffe0",
   "metadata": {},
   "outputs": [],
   "source": [
    "n_classes = 1\n",
    "model_r40 = tf.keras.models.Sequential([\n",
    "    tf.keras.layers.InputLayer(input_shape=(h,w,d, 1)),\n",
    "    tf.keras.layers.Conv3D(16, 5, padding='same', activation='relu'),\n",
    "    tf.keras.layers.Conv3D(16, 5, padding='same', activation='relu'),\n",
    "    tf.keras.layers.Conv3D(32, 3, padding='same', activation='relu'),\n",
    "    tf.keras.layers.BatchNormalization(),\n",
    "    tf.keras.layers.MaxPooling3D(),\n",
    "    tf.keras.layers.Conv3D(32, 3, padding='same', activation='relu'),\n",
    "    tf.keras.layers.Conv3D(32, 3, padding='same', activation='relu'),\n",
    "    tf.keras.layers.Conv3D(64, 1, padding='same', activation='relu'),\n",
    "    tf.keras.layers.BatchNormalization(),\n",
    "    tf.keras.layers.MaxPooling3D(),\n",
    "    tf.keras.layers.Conv3D(64, 1, padding='same', activation='relu'),\n",
    "    tf.keras.layers.Conv3D(64, 1, padding='same', activation='relu'),\n",
    "    tf.keras.layers.Conv3D(128, 1, padding='same', activation='relu'),\n",
    "    tf.keras.layers.BatchNormalization(),\n",
    "    tf.keras.layers.MaxPooling3D(),\n",
    "    tf.keras.layers.Flatten(),\n",
    "    tf.keras.layers.Dense(128, activation='relu'),\n",
    "    tf.keras.layers.Dense(n_classes, activation='sigmoid')\n",
    "])"
   ]
  },
  {
   "cell_type": "code",
   "execution_count": 28,
   "id": "a5435e55-fd6b-444e-95ac-24633391ebcf",
   "metadata": {
    "tags": []
   },
   "outputs": [],
   "source": [
    "model_r40.compile(optimizer='adam',\n",
    "              loss=tf.keras.losses.BinaryCrossentropy(),\n",
    "              metrics=['accuracy'])"
   ]
  },
  {
   "cell_type": "code",
   "execution_count": 29,
   "id": "80a6caa3-6adc-4b35-bb20-2f167209bab9",
   "metadata": {
    "tags": []
   },
   "outputs": [
    {
     "name": "stdout",
     "output_type": "stream",
     "text": [
      "Epoch 1/15\n",
      "44/44 [==============================] - 67s 2s/step - loss: 1.8828 - accuracy: 0.5842 - val_loss: 0.6988 - val_accuracy: 0.5530\n",
      "Epoch 2/15\n",
      "44/44 [==============================] - 27s 610ms/step - loss: 0.5369 - accuracy: 0.7290 - val_loss: 0.6836 - val_accuracy: 0.5845\n",
      "Epoch 3/15\n",
      "44/44 [==============================] - 27s 610ms/step - loss: 0.4207 - accuracy: 0.8050 - val_loss: 2.2792 - val_accuracy: 0.5759\n",
      "Epoch 4/15\n",
      "44/44 [==============================] - 27s 614ms/step - loss: 0.3213 - accuracy: 0.8581 - val_loss: 1.9513 - val_accuracy: 0.5587\n",
      "Epoch 5/15\n",
      "44/44 [==============================] - 27s 614ms/step - loss: 0.2634 - accuracy: 0.8839 - val_loss: 2.3536 - val_accuracy: 0.5186\n",
      "Epoch 6/15\n",
      "44/44 [==============================] - 27s 615ms/step - loss: 0.1744 - accuracy: 0.9376 - val_loss: 3.7367 - val_accuracy: 0.4785\n",
      "Epoch 7/15\n",
      "44/44 [==============================] - 27s 615ms/step - loss: 0.1441 - accuracy: 0.9513 - val_loss: 2.0772 - val_accuracy: 0.5731\n",
      "Epoch 8/15\n",
      "44/44 [==============================] - 27s 615ms/step - loss: 0.1341 - accuracy: 0.9462 - val_loss: 1.2245 - val_accuracy: 0.6246\n",
      "Epoch 9/15\n",
      "44/44 [==============================] - 27s 616ms/step - loss: 0.1294 - accuracy: 0.9520 - val_loss: 0.4129 - val_accuracy: 0.8109\n",
      "Epoch 10/15\n",
      "44/44 [==============================] - 27s 617ms/step - loss: 0.1042 - accuracy: 0.9677 - val_loss: 0.4180 - val_accuracy: 0.8367\n",
      "Epoch 11/15\n",
      "44/44 [==============================] - 27s 619ms/step - loss: 0.0637 - accuracy: 0.9792 - val_loss: 0.1142 - val_accuracy: 0.9685\n",
      "Epoch 12/15\n",
      "44/44 [==============================] - 27s 618ms/step - loss: 0.0820 - accuracy: 0.9728 - val_loss: 0.5561 - val_accuracy: 0.7822\n",
      "Epoch 13/15\n",
      "44/44 [==============================] - 27s 617ms/step - loss: 0.0667 - accuracy: 0.9749 - val_loss: 0.1363 - val_accuracy: 0.9427\n",
      "Epoch 14/15\n",
      "44/44 [==============================] - 27s 617ms/step - loss: 0.0717 - accuracy: 0.9814 - val_loss: 0.1498 - val_accuracy: 0.9427\n",
      "Epoch 15/15\n",
      "44/44 [==============================] - 27s 619ms/step - loss: 0.0554 - accuracy: 0.9828 - val_loss: 0.4971 - val_accuracy: 0.8252\n"
     ]
    }
   ],
   "source": [
    "history = model_r40.fit(\n",
    "  train_40,\n",
    "  validation_data=val_40,\n",
    "  epochs=epochs\n",
    ")"
   ]
  },
  {
   "cell_type": "code",
   "execution_count": 30,
   "id": "b090a985-b831-4f48-b00d-7be3e524b60e",
   "metadata": {},
   "outputs": [
    {
     "data": {
      "image/png": "[encoded data removed]",
      "text/plain": [
       "<Figure size 576x576 with 2 Axes>"
      ]
     },
     "metadata": {
      "needs_background": "light"
     },
     "output_type": "display_data"
    }
   ],
   "source": [
    "acc = history.history['accuracy']\n",
    "val_acc = history.history['val_accuracy']\n",
    "\n",
    "loss = history.history['loss']\n",
    "val_loss = history.history['val_loss']\n",
    "\n",
    "epochs_range = range(epochs)\n",
    "\n",
    "plt.figure(figsize=(8, 8))\n",
    "plt.subplot(1, 2, 1)\n",
    "plt.plot(epochs_range, acc, label='Training Accuracy')\n",
    "plt.plot(epochs_range, val_acc, label='Validation Accuracy')\n",
    "plt.legend(loc='lower right')\n",
    "plt.title('Training and Validation Accuracy')\n",
    "\n",
    "plt.subplot(1, 2, 2)\n",
    "plt.plot(epochs_range, loss, label='Training Loss')\n",
    "plt.plot(epochs_range, val_loss, label='Validation Loss')\n",
    "plt.legend(loc='upper right')\n",
    "plt.title('Training and Validation Loss')\n",
    "plt.show()"
   ]
  },
  {
   "cell_type": "markdown",
   "id": "c300310d-9134-4bd3-8783-c5a48e96273c",
   "metadata": {},
   "source": [
    "## Training radius 10, 20, 40"
   ]
  },
  {
   "cell_type": "code",
   "execution_count": 7,
   "id": "89d559eb-b16c-41aa-b367-e6b130619420",
   "metadata": {},
   "outputs": [],
   "source": [
    "n_classes = 1\n",
    "model_rAll = tf.keras.models.Sequential([\n",
    "    tf.keras.layers.InputLayer(input_shape=(h,w,d, 1)),\n",
    "    tf.keras.layers.Conv3D(16, 5, padding='same', activation='relu'),\n",
    "    tf.keras.layers.Conv3D(16, 5, padding='same', activation='relu'),\n",
    "    tf.keras.layers.Conv3D(32, 3, padding='same', activation='relu'),\n",
    "    tf.keras.layers.BatchNormalization(),\n",
    "    tf.keras.layers.MaxPooling3D(),\n",
    "    tf.keras.layers.Conv3D(32, 3, padding='same', activation='relu'),\n",
    "    tf.keras.layers.Conv3D(32, 3, padding='same', activation='relu'),\n",
    "    tf.keras.layers.Conv3D(64, 1, padding='same', activation='relu'),\n",
    "    tf.keras.layers.BatchNormalization(),\n",
    "    tf.keras.layers.MaxPooling3D(),\n",
    "    tf.keras.layers.Conv3D(64, 1, padding='same', activation='relu'),\n",
    "    tf.keras.layers.Conv3D(64, 1, padding='same', activation='relu'),\n",
    "    tf.keras.layers.Conv3D(128, 1, padding='same', activation='relu'),\n",
    "    tf.keras.layers.BatchNormalization(),\n",
    "    tf.keras.layers.MaxPooling3D(),\n",
    "    tf.keras.layers.Flatten(),\n",
    "    tf.keras.layers.Dense(128, activation='relu'),\n",
    "    tf.keras.layers.Dense(n_classes, activation='sigmoid')\n",
    "])"
   ]
  },
  {
   "cell_type": "code",
   "execution_count": 8,
   "id": "e28871cd-6705-4895-afa5-406b50a280d1",
   "metadata": {
    "tags": []
   },
   "outputs": [],
   "source": [
    "model_rAll.compile(optimizer='adam',\n",
    "              loss=tf.keras.losses.BinaryCrossentropy(),\n",
    "              metrics=['accuracy'])"
   ]
  },
  {
   "cell_type": "code",
   "execution_count": 9,
   "id": "41edbe72-df40-43f2-ab0f-290efd870a01",
   "metadata": {},
   "outputs": [],
   "source": [
    "train_data = train_40.concatenate(train_20)\n",
    "train_data = train_data.concatenate(train_10)\n",
    "train_data = train_data.shuffle(200)\n",
    "\n",
    "val_data = val_40.concatenate(val_20)\n",
    "val_data = val_data.concatenate(val_10)\n",
    "val_data = val_data.shuffle(200)"
   ]
  },
  {
   "cell_type": "code",
   "execution_count": 10,
   "id": "1f15f249-2522-44ee-bbf1-d6d10c1b6e48",
   "metadata": {
    "tags": []
   },
   "outputs": [
    {
     "name": "stdout",
     "output_type": "stream",
     "text": [
      "Epoch 1/6\n",
      "139/139 [==============================] - 106s 655ms/step - loss: 1.0226 - accuracy: 0.7020 - val_loss: 2.3806 - val_accuracy: 0.5228\n",
      "Epoch 2/6\n",
      "139/139 [==============================] - 85s 600ms/step - loss: 0.3932 - accuracy: 0.8174 - val_loss: 1.3091 - val_accuracy: 0.5665\n",
      "Epoch 3/6\n",
      "139/139 [==============================] - 85s 602ms/step - loss: 0.2722 - accuracy: 0.8782 - val_loss: 0.9462 - val_accuracy: 0.5974\n",
      "Epoch 4/6\n",
      "139/139 [==============================] - 86s 604ms/step - loss: 0.1994 - accuracy: 0.9156 - val_loss: 1.3983 - val_accuracy: 0.6703\n",
      "Epoch 5/6\n",
      "139/139 [==============================] - 86s 605ms/step - loss: 0.1480 - accuracy: 0.9346 - val_loss: 1.0144 - val_accuracy: 0.6548\n",
      "Epoch 6/6\n",
      "139/139 [==============================] - 86s 605ms/step - loss: 0.1417 - accuracy: 0.9398 - val_loss: 1.4345 - val_accuracy: 0.6029\n"
     ]
    }
   ],
   "source": [
    "epochs = 6\n",
    "history = model_rAll.fit(\n",
    "  train_data,\n",
    "  validation_data=val_data,\n",
    "  epochs=epochs\n",
    ")"
   ]
  },
  {
   "cell_type": "code",
   "execution_count": 11,
   "id": "8c79675d-007b-48ef-8e93-cd7d2162e5d6",
   "metadata": {},
   "outputs": [
    {
     "name": "stdout",
     "output_type": "stream",
     "text": [
      "INFO:tensorflow:Assets written to: ./models/model_rAll\\assets\n"
     ]
    }
   ],
   "source": [
    "model_rAll.save('./models/model_rAll')"
   ]
  },
  {
   "cell_type": "code",
   "execution_count": 12,
   "id": "d17739dc-69e1-4372-932d-340fd37fd8da",
   "metadata": {},
   "outputs": [
    {
     "data": {
      "image/png": "[encoded data removed]",
      "text/plain": [
       "<Figure size 576x576 with 2 Axes>"
      ]
     },
     "metadata": {
      "needs_background": "light"
     },
     "output_type": "display_data"
    }
   ],
   "source": [
    "acc = history.history['accuracy']\n",
    "val_acc = history.history['val_accuracy']\n",
    "\n",
    "loss = history.history['loss']\n",
    "val_loss = history.history['val_loss']\n",
    "\n",
    "epochs_range = range(epochs)\n",
    "\n",
    "plt.figure(figsize=(8, 8))\n",
    "plt.subplot(1, 2, 1)\n",
    "plt.plot(epochs_range, acc, label='Training Accuracy')\n",
    "plt.plot(epochs_range, val_acc, label='Validation Accuracy')\n",
    "plt.legend(loc='lower right')\n",
    "plt.title('Training and Validation Accuracy')\n",
    "\n",
    "plt.subplot(1, 2, 2)\n",
    "plt.plot(epochs_range, loss, label='Training Loss')\n",
    "plt.plot(epochs_range, val_loss, label='Validation Loss')\n",
    "plt.legend(loc='upper right')\n",
    "plt.title('Training and Validation Loss')\n",
    "plt.show()"
   ]
  },
  {
   "cell_type": "markdown",
   "id": "c12bd2d8-0122-49a4-ba0a-4caa7b09cbce",
   "metadata": {},
   "source": [
    "## Training radius 30"
   ]
  },
  {
   "cell_type": "code",
   "execution_count": 7,
   "id": "ad868ea6-4c8f-4748-bb39-de8edd100100",
   "metadata": {
    "tags": []
   },
   "outputs": [],
   "source": [
    "model_r30 = get_cnn_model()\n",
    "model_r30.compile(optimizer='adam',\n",
    "              loss=tf.keras.losses.BinaryCrossentropy(),\n",
    "              metrics=['accuracy'])"
   ]
  },
  {
   "cell_type": "code",
   "execution_count": 8,
   "id": "a72b19e2-9a54-43b6-96c4-cfa0e05d7adf",
   "metadata": {
    "tags": []
   },
   "outputs": [
    {
     "name": "stdout",
     "output_type": "stream",
     "text": [
      "Epoch 1/15\n",
      "46/46 [==============================] - 46s 688ms/step - loss: 1.9000 - accuracy: 0.6765 - val_loss: 0.9056 - val_accuracy: 0.5831\n",
      "Epoch 2/15\n",
      "46/46 [==============================] - 28s 608ms/step - loss: 0.4184 - accuracy: 0.8273 - val_loss: 1.6385 - val_accuracy: 0.5722\n",
      "Epoch 3/15\n",
      "46/46 [==============================] - 28s 608ms/step - loss: 0.2116 - accuracy: 0.9099 - val_loss: 2.8858 - val_accuracy: 0.5422\n",
      "Epoch 4/15\n",
      "46/46 [==============================] - 28s 608ms/step - loss: 0.1935 - accuracy: 0.9283 - val_loss: 4.0449 - val_accuracy: 0.5232\n",
      "Epoch 5/15\n",
      "46/46 [==============================] - 28s 609ms/step - loss: 0.1987 - accuracy: 0.9249 - val_loss: 1.5862 - val_accuracy: 0.5967\n",
      "Epoch 6/15\n",
      "46/46 [==============================] - 28s 609ms/step - loss: 0.1293 - accuracy: 0.9495 - val_loss: 0.9699 - val_accuracy: 0.7003\n",
      "Epoch 7/15\n",
      "46/46 [==============================] - 28s 611ms/step - loss: 0.0735 - accuracy: 0.9727 - val_loss: 0.5281 - val_accuracy: 0.8038\n",
      "Epoch 8/15\n",
      "46/46 [==============================] - 28s 612ms/step - loss: 0.0580 - accuracy: 0.9843 - val_loss: 0.2366 - val_accuracy: 0.8883\n",
      "Epoch 9/15\n",
      "46/46 [==============================] - 28s 610ms/step - loss: 0.0411 - accuracy: 0.9877 - val_loss: 0.2210 - val_accuracy: 0.9319\n",
      "Epoch 10/15\n",
      "46/46 [==============================] - 28s 611ms/step - loss: 0.0369 - accuracy: 0.9891 - val_loss: 0.2168 - val_accuracy: 0.9237\n",
      "Epoch 11/15\n",
      "46/46 [==============================] - 28s 613ms/step - loss: 0.0228 - accuracy: 0.9918 - val_loss: 0.1887 - val_accuracy: 0.9428\n",
      "Epoch 12/15\n",
      "46/46 [==============================] - 28s 613ms/step - loss: 0.0216 - accuracy: 0.9925 - val_loss: 0.1370 - val_accuracy: 0.9782\n",
      "Epoch 13/15\n",
      "46/46 [==============================] - 28s 615ms/step - loss: 0.0201 - accuracy: 0.9918 - val_loss: 0.0865 - val_accuracy: 0.9809\n",
      "Epoch 14/15\n",
      "46/46 [==============================] - 28s 616ms/step - loss: 0.0215 - accuracy: 0.9918 - val_loss: 0.0796 - val_accuracy: 0.9728\n",
      "Epoch 15/15\n",
      "46/46 [==============================] - 28s 614ms/step - loss: 0.0278 - accuracy: 0.9925 - val_loss: 0.0822 - val_accuracy: 0.9782\n",
      "INFO:tensorflow:Assets written to: ./models/model_r30\\assets\n"
     ]
    }
   ],
   "source": [
    "epochs = 15\n",
    "history = model_r30.fit(\n",
    "  train_30,\n",
    "  validation_data=val_30,\n",
    "  epochs=epochs\n",
    ")\n",
    "model_r30.save('./models/model_r30')"
   ]
  },
  {
   "cell_type": "code",
   "execution_count": 9,
   "id": "31396318-d249-4ee2-a502-8f156ff1c7cc",
   "metadata": {
    "tags": []
   },
   "outputs": [
    {
     "data": {
      "image/png": "[encoded data removed]",
      "text/plain": [
       "<Figure size 576x576 with 2 Axes>"
      ]
     },
     "metadata": {
      "needs_background": "light"
     },
     "output_type": "display_data"
    }
   ],
   "source": [
    "acc = history.history['accuracy']\n",
    "val_acc = history.history['val_accuracy']\n",
    "\n",
    "loss = history.history['loss']\n",
    "val_loss = history.history['val_loss']\n",
    "\n",
    "epochs_range = range(epochs)\n",
    "\n",
    "plt.figure(figsize=(8, 8))\n",
    "plt.subplot(1, 2, 1)\n",
    "plt.plot(epochs_range, acc, label='Training Accuracy')\n",
    "plt.plot(epochs_range, val_acc, label='Validation Accuracy')\n",
    "plt.legend(loc='lower right')\n",
    "plt.title('Training and Validation Accuracy')\n",
    "\n",
    "plt.subplot(1, 2, 2)\n",
    "plt.plot(epochs_range, loss, label='Training Loss')\n",
    "plt.plot(epochs_range, val_loss, label='Validation Loss')\n",
    "plt.legend(loc='upper right')\n",
    "plt.title('Training and Validation Loss')\n",
    "plt.show()"
   ]
  },
  {
   "cell_type": "markdown",
   "id": "eb0e3d2e-2174-485a-8e0f-d570c08954f5",
   "metadata": {},
   "source": [
    "## Training radius 50"
   ]
  },
  {
   "cell_type": "code",
   "execution_count": 7,
   "id": "02db6ed7-dec3-4712-aec4-90a39b046d5c",
   "metadata": {
    "tags": []
   },
   "outputs": [],
   "source": [
    "model_r50 = get_cnn_model()\n",
    "model_r50.compile(optimizer='adam',\n",
    "              loss=tf.keras.losses.BinaryCrossentropy(),\n",
    "              metrics=['accuracy'])"
   ]
  },
  {
   "cell_type": "code",
   "execution_count": 8,
   "id": "6ceb237a-e7fd-42cf-8701-68e9223670e5",
   "metadata": {
    "tags": []
   },
   "outputs": [
    {
     "name": "stdout",
     "output_type": "stream",
     "text": [
      "Epoch 1/15\n",
      "44/44 [==============================] - 37s 664ms/step - loss: 1.5138 - accuracy: 0.6315 - val_loss: 0.7030 - val_accuracy: 0.5607\n",
      "Epoch 2/15\n",
      "44/44 [==============================] - 27s 603ms/step - loss: 0.5268 - accuracy: 0.7688 - val_loss: 0.9454 - val_accuracy: 0.5347\n",
      "Epoch 3/15\n",
      "44/44 [==============================] - 27s 604ms/step - loss: 0.3656 - accuracy: 0.8410 - val_loss: 0.7632 - val_accuracy: 0.5983\n",
      "Epoch 4/15\n",
      "44/44 [==============================] - 27s 605ms/step - loss: 0.2437 - accuracy: 0.8967 - val_loss: 0.9075 - val_accuracy: 0.6243\n",
      "Epoch 5/15\n",
      "44/44 [==============================] - 27s 607ms/step - loss: 0.1738 - accuracy: 0.9256 - val_loss: 3.0622 - val_accuracy: 0.5145\n",
      "Epoch 6/15\n",
      "44/44 [==============================] - 27s 609ms/step - loss: 0.1246 - accuracy: 0.9509 - val_loss: 4.1982 - val_accuracy: 0.5260\n",
      "Epoch 7/15\n",
      "44/44 [==============================] - 27s 610ms/step - loss: 0.1048 - accuracy: 0.9610 - val_loss: 0.8120 - val_accuracy: 0.7110\n",
      "Epoch 8/15\n",
      "44/44 [==============================] - 27s 609ms/step - loss: 0.0907 - accuracy: 0.9660 - val_loss: 0.8163 - val_accuracy: 0.7283\n",
      "Epoch 9/15\n",
      "44/44 [==============================] - 27s 610ms/step - loss: 0.0791 - accuracy: 0.9718 - val_loss: 0.6754 - val_accuracy: 0.7630\n",
      "Epoch 10/15\n",
      "44/44 [==============================] - 27s 609ms/step - loss: 0.0842 - accuracy: 0.9675 - val_loss: 0.5307 - val_accuracy: 0.8035\n",
      "Epoch 11/15\n",
      "44/44 [==============================] - 27s 613ms/step - loss: 0.0795 - accuracy: 0.9718 - val_loss: 0.2203 - val_accuracy: 0.9162\n",
      "Epoch 12/15\n",
      "44/44 [==============================] - 27s 611ms/step - loss: 0.0721 - accuracy: 0.9725 - val_loss: 0.2725 - val_accuracy: 0.8960\n",
      "Epoch 13/15\n",
      "44/44 [==============================] - 27s 611ms/step - loss: 0.0615 - accuracy: 0.9776 - val_loss: 0.7987 - val_accuracy: 0.7399\n",
      "Epoch 14/15\n",
      "44/44 [==============================] - 27s 613ms/step - loss: 0.0468 - accuracy: 0.9841 - val_loss: 0.1635 - val_accuracy: 0.9595\n",
      "Epoch 15/15\n",
      "44/44 [==============================] - 27s 613ms/step - loss: 0.0521 - accuracy: 0.9819 - val_loss: 0.1879 - val_accuracy: 0.9306\n"
     ]
    },
    {
     "ename": "NameError",
     "evalue": "name 'model_r30' is not defined",
     "output_type": "error",
     "traceback": [
      "\u001b[1;31m---------------------------------------------------------------------------\u001b[0m",
      "\u001b[1;31mNameError\u001b[0m                                 Traceback (most recent call last)",
      "\u001b[1;32m<ipython-input-8-77aea019d374>\u001b[0m in \u001b[0;36m<module>\u001b[1;34m\u001b[0m\n\u001b[0;32m      5\u001b[0m   \u001b[0mepochs\u001b[0m\u001b[1;33m=\u001b[0m\u001b[0mepochs\u001b[0m\u001b[1;33m\u001b[0m\u001b[1;33m\u001b[0m\u001b[0m\n\u001b[0;32m      6\u001b[0m )\n\u001b[1;32m----> 7\u001b[1;33m \u001b[0mmodel_r30\u001b[0m\u001b[1;33m.\u001b[0m\u001b[0msave\u001b[0m\u001b[1;33m(\u001b[0m\u001b[1;34m'./models/model_r50'\u001b[0m\u001b[1;33m)\u001b[0m\u001b[1;33m\u001b[0m\u001b[1;33m\u001b[0m\u001b[0m\n\u001b[0m",
      "\u001b[1;31mNameError\u001b[0m: name 'model_r30' is not defined"
     ]
    }
   ],
   "source": [
    "epochs = 15\n",
    "history = model_r50.fit(\n",
    "  train_50,\n",
    "  validation_data=val_50,\n",
    "  epochs=epochs\n",
    ")\n",
    "model_r50.save('./models/model_r50')"
   ]
  },
  {
   "cell_type": "code",
   "execution_count": 10,
   "id": "23b9482a-592b-42bf-a03e-c1d78a330e24",
   "metadata": {
    "tags": []
   },
   "outputs": [
    {
     "data": {
      "image/png": "[encoded data removed]",
      "text/plain": [
       "<Figure size 576x576 with 2 Axes>"
      ]
     },
     "metadata": {
      "needs_background": "light"
     },
     "output_type": "display_data"
    }
   ],
   "source": [
    "acc = history.history['accuracy']\n",
    "val_acc = history.history['val_accuracy']\n",
    "\n",
    "loss = history.history['loss']\n",
    "val_loss = history.history['val_loss']\n",
    "\n",
    "epochs_range = range(epochs)\n",
    "\n",
    "plt.figure(figsize=(8, 8))\n",
    "plt.subplot(1, 2, 1)\n",
    "plt.plot(epochs_range, acc, label='Training Accuracy')\n",
    "plt.plot(epochs_range, val_acc, label='Validation Accuracy')\n",
    "plt.legend(loc='lower right')\n",
    "plt.title('Training and Validation Accuracy')\n",
    "\n",
    "plt.subplot(1, 2, 2)\n",
    "plt.plot(epochs_range, loss, label='Training Loss')\n",
    "plt.plot(epochs_range, val_loss, label='Validation Loss')\n",
    "plt.legend(loc='upper right')\n",
    "plt.title('Training and Validation Loss')\n",
    "plt.show()"
   ]
  },
  {
   "cell_type": "markdown",
   "id": "45ee1210-343b-4baf-9aaf-49abb4f5b805",
   "metadata": {},
   "source": [
    "# Testing "
   ]
  },
  {
   "cell_type": "code",
   "execution_count": 4,
   "id": "e4f2204e-a242-4e5b-b608-1673755aca5b",
   "metadata": {},
   "outputs": [],
   "source": [
    "def get_binary_testing_data(radius, n1 = 1000, n2=2000, size = (64,64,28), levels=[1, 5]):\n",
    "    h,w,d = size\n",
    "    \n",
    "    data = []\n",
    "    label = []\n",
    "    \n",
    "    for level in levels:\n",
    "        for i in tqdm(range(n1, n2)):\n",
    "            try:\n",
    "                data.append(np.load(_get_path(radius, level, i)).reshape(h,w,d,1))\n",
    "            except :\n",
    "                continue\n",
    "            if level < 3:\n",
    "                label.append(0)\n",
    "            elif level > 3:\n",
    "                label.append(1)\n",
    "    return data, label"
   ]
  },
  {
   "cell_type": "code",
   "execution_count": 5,
   "id": "33db6dc4-1ffc-44c5-91cc-744342d99faf",
   "metadata": {},
   "outputs": [],
   "source": [
    "def test_data_prep(data, labels, BATCH_SIZE = 32):\n",
    "    print('data length = ', len(labels))\n",
    "    scaler = Normalizer(data)\n",
    "    normalized = scaler.normalize(data)\n",
    "    print(\"max of training dataset: \", np.max(normalized), \" & min: \", np.min(normalized))\n",
    "    data = tf.data.Dataset.from_tensor_slices((normalized, labels))\n",
    "    test_data = data.batch(BATCH_SIZE)\n",
    "    return test_data"
   ]
  },
  {
   "cell_type": "code",
   "execution_count": 7,
   "id": "75719fa1-5e68-4fb0-8599-d901c6db3baa",
   "metadata": {},
   "outputs": [
    {
     "data": {
      "application/vnd.jupyter.widget-view+json": {
       "model_id": "e9de81e0089e4d11ab98e27ce6290813",
       "version_major": 2,
       "version_minor": 0
      },
      "text/plain": [
       "  0%|          | 0/500 [00:00<?, ?it/s]"
      ]
     },
     "metadata": {},
     "output_type": "display_data"
    },
    {
     "data": {
      "application/vnd.jupyter.widget-view+json": {
       "model_id": "1c3829fa796945e3a18ea4f3ec782467",
       "version_major": 2,
       "version_minor": 0
      },
      "text/plain": [
       "  0%|          | 0/500 [00:00<?, ?it/s]"
      ]
     },
     "metadata": {},
     "output_type": "display_data"
    },
    {
     "name": "stdout",
     "output_type": "stream",
     "text": [
      "data length =  1000\n",
      "max of training dataset:  1.0  & min:  0.0\n"
     ]
    },
    {
     "data": {
      "application/vnd.jupyter.widget-view+json": {
       "model_id": "e8c41997099c4e76a60111be31036cb7",
       "version_major": 2,
       "version_minor": 0
      },
      "text/plain": [
       "  0%|          | 0/500 [00:00<?, ?it/s]"
      ]
     },
     "metadata": {},
     "output_type": "display_data"
    },
    {
     "data": {
      "application/vnd.jupyter.widget-view+json": {
       "model_id": "33834dc35b5f43a9a8759a01b97496f7",
       "version_major": 2,
       "version_minor": 0
      },
      "text/plain": [
       "  0%|          | 0/500 [00:00<?, ?it/s]"
      ]
     },
     "metadata": {},
     "output_type": "display_data"
    },
    {
     "name": "stdout",
     "output_type": "stream",
     "text": [
      "data length =  1000\n",
      "max of training dataset:  1.0  & min:  0.0\n"
     ]
    },
    {
     "data": {
      "application/vnd.jupyter.widget-view+json": {
       "model_id": "b9741556e3714d56904b7d609f92897c",
       "version_major": 2,
       "version_minor": 0
      },
      "text/plain": [
       "  0%|          | 0/500 [00:00<?, ?it/s]"
      ]
     },
     "metadata": {},
     "output_type": "display_data"
    },
    {
     "data": {
      "application/vnd.jupyter.widget-view+json": {
       "model_id": "685366d70ed9438e8aaa730100798e56",
       "version_major": 2,
       "version_minor": 0
      },
      "text/plain": [
       "  0%|          | 0/500 [00:00<?, ?it/s]"
      ]
     },
     "metadata": {},
     "output_type": "display_data"
    },
    {
     "name": "stdout",
     "output_type": "stream",
     "text": [
      "data length =  1000\n",
      "max of training dataset:  1.0  & min:  0.0\n"
     ]
    },
    {
     "data": {
      "application/vnd.jupyter.widget-view+json": {
       "model_id": "8f774f32ba7248aab224f5c76c0e24fe",
       "version_major": 2,
       "version_minor": 0
      },
      "text/plain": [
       "  0%|          | 0/500 [00:00<?, ?it/s]"
      ]
     },
     "metadata": {},
     "output_type": "display_data"
    },
    {
     "data": {
      "application/vnd.jupyter.widget-view+json": {
       "model_id": "030a341b16824e228939ef3c2c06d2a8",
       "version_major": 2,
       "version_minor": 0
      },
      "text/plain": [
       "  0%|          | 0/500 [00:00<?, ?it/s]"
      ]
     },
     "metadata": {},
     "output_type": "display_data"
    },
    {
     "name": "stdout",
     "output_type": "stream",
     "text": [
      "data length =  980\n",
      "max of training dataset:  1.0  & min:  0.0\n"
     ]
    },
    {
     "data": {
      "application/vnd.jupyter.widget-view+json": {
       "model_id": "fb68f3c1eee84885aa2ab863cb31ebbc",
       "version_major": 2,
       "version_minor": 0
      },
      "text/plain": [
       "  0%|          | 0/500 [00:00<?, ?it/s]"
      ]
     },
     "metadata": {},
     "output_type": "display_data"
    },
    {
     "data": {
      "application/vnd.jupyter.widget-view+json": {
       "model_id": "35db6ee5e4674ef983e50871b7a100ae",
       "version_major": 2,
       "version_minor": 0
      },
      "text/plain": [
       "  0%|          | 0/500 [00:00<?, ?it/s]"
      ]
     },
     "metadata": {},
     "output_type": "display_data"
    },
    {
     "name": "stdout",
     "output_type": "stream",
     "text": [
      "data length =  976\n",
      "max of training dataset:  1.0  & min:  0.0\n"
     ]
    },
    {
     "data": {
      "application/vnd.jupyter.widget-view+json": {
       "model_id": "67e425bb567049f888461208bfa9dd18",
       "version_major": 2,
       "version_minor": 0
      },
      "text/plain": [
       "  0%|          | 0/500 [00:00<?, ?it/s]"
      ]
     },
     "metadata": {},
     "output_type": "display_data"
    },
    {
     "data": {
      "application/vnd.jupyter.widget-view+json": {
       "model_id": "b68f3e672c0a4406b640cf930fc34c63",
       "version_major": 2,
       "version_minor": 0
      },
      "text/plain": [
       "  0%|          | 0/500 [00:00<?, ?it/s]"
      ]
     },
     "metadata": {},
     "output_type": "display_data"
    },
    {
     "name": "stdout",
     "output_type": "stream",
     "text": [
      "data length =  972\n",
      "max of training dataset:  1.0  & min:  0.0\n"
     ]
    },
    {
     "data": {
      "application/vnd.jupyter.widget-view+json": {
       "model_id": "9eb58a1e3e384107af769e39079ac4b6",
       "version_major": 2,
       "version_minor": 0
      },
      "text/plain": [
       "  0%|          | 0/500 [00:00<?, ?it/s]"
      ]
     },
     "metadata": {},
     "output_type": "display_data"
    },
    {
     "data": {
      "application/vnd.jupyter.widget-view+json": {
       "model_id": "fff922c8088f4edf9871367e5435b0a3",
       "version_major": 2,
       "version_minor": 0
      },
      "text/plain": [
       "  0%|          | 0/500 [00:00<?, ?it/s]"
      ]
     },
     "metadata": {},
     "output_type": "display_data"
    },
    {
     "name": "stdout",
     "output_type": "stream",
     "text": [
      "data length =  952\n",
      "max of training dataset:  1.0  & min:  0.0\n"
     ]
    },
    {
     "data": {
      "application/vnd.jupyter.widget-view+json": {
       "model_id": "6796c80fa20240289d59a8f1e4237f78",
       "version_major": 2,
       "version_minor": 0
      },
      "text/plain": [
       "  0%|          | 0/500 [00:00<?, ?it/s]"
      ]
     },
     "metadata": {},
     "output_type": "display_data"
    },
    {
     "data": {
      "application/vnd.jupyter.widget-view+json": {
       "model_id": "e3a7931c3fb94c648ba1a0a3158adf26",
       "version_major": 2,
       "version_minor": 0
      },
      "text/plain": [
       "  0%|          | 0/500 [00:00<?, ?it/s]"
      ]
     },
     "metadata": {},
     "output_type": "display_data"
    },
    {
     "name": "stdout",
     "output_type": "stream",
     "text": [
      "data length =  920\n",
      "max of training dataset:  1.0  & min:  0.0\n"
     ]
    },
    {
     "data": {
      "application/vnd.jupyter.widget-view+json": {
       "model_id": "a98b75c0b0a849eab44edbbd397ca850",
       "version_major": 2,
       "version_minor": 0
      },
      "text/plain": [
       "  0%|          | 0/500 [00:00<?, ?it/s]"
      ]
     },
     "metadata": {},
     "output_type": "display_data"
    },
    {
     "data": {
      "application/vnd.jupyter.widget-view+json": {
       "model_id": "eb4a4de9968f46f89b0719648ff3d5ea",
       "version_major": 2,
       "version_minor": 0
      },
      "text/plain": [
       "  0%|          | 0/500 [00:00<?, ?it/s]"
      ]
     },
     "metadata": {},
     "output_type": "display_data"
    },
    {
     "name": "stdout",
     "output_type": "stream",
     "text": [
      "data length =  914\n",
      "max of training dataset:  1.0  & min:  0.0\n"
     ]
    },
    {
     "data": {
      "application/vnd.jupyter.widget-view+json": {
       "model_id": "c74cd09bda7643d3a646d21d09e9e0d7",
       "version_major": 2,
       "version_minor": 0
      },
      "text/plain": [
       "  0%|          | 0/500 [00:00<?, ?it/s]"
      ]
     },
     "metadata": {},
     "output_type": "display_data"
    },
    {
     "data": {
      "application/vnd.jupyter.widget-view+json": {
       "model_id": "ec7633bf59084223a98892d339b86e71",
       "version_major": 2,
       "version_minor": 0
      },
      "text/plain": [
       "  0%|          | 0/500 [00:00<?, ?it/s]"
      ]
     },
     "metadata": {},
     "output_type": "display_data"
    },
    {
     "name": "stdout",
     "output_type": "stream",
     "text": [
      "data length =  914\n",
      "max of training dataset:  1.0  & min:  0.0\n"
     ]
    }
   ],
   "source": [
    "radii = [5, 10, 15, 20, 25, 30, 35, 40, 45, 50]\n",
    "test = []\n",
    "for r in radii:\n",
    "    t, l = get_binary_testing_data(radius = r, n1 = 0, n2 = 500)\n",
    "    test.append(test_data_prep(t, l))"
   ]
  },
  {
   "cell_type": "code",
   "execution_count": 8,
   "id": "1faf8f4c-3551-44e8-84d2-3ce3847bd509",
   "metadata": {},
   "outputs": [],
   "source": [
    "m10 = tf.keras.models.load_model(r'A:\\After Graduation\\CUFE Masters\\Thesis\\Pulmonary Nodules\\data\\code\\models\\model_r10')\n",
    "m20 = tf.keras.models.load_model(r'A:\\After Graduation\\CUFE Masters\\Thesis\\Pulmonary Nodules\\data\\code\\models\\model_r20')\n",
    "m30 = tf.keras.models.load_model(r'A:\\After Graduation\\CUFE Masters\\Thesis\\Pulmonary Nodules\\data\\code\\models\\model_r30')\n",
    "m40 = tf.keras.models.load_model(r'A:\\After Graduation\\CUFE Masters\\Thesis\\Pulmonary Nodules\\data\\code\\models\\model_r40')\n",
    "m50 = tf.keras.models.load_model(r'A:\\After Graduation\\CUFE Masters\\Thesis\\Pulmonary Nodules\\data\\code\\models\\model_r50')\n",
    "models = [m10, m20, m30, m40, m50]"
   ]
  },
  {
   "cell_type": "code",
   "execution_count": 9,
   "id": "ae646c1c-9913-4ed0-9e11-f1af62b7f9d5",
   "metadata": {},
   "outputs": [
    {
     "data": {
      "application/vnd.jupyter.widget-view+json": {
       "model_id": "169bc9fbdaa144c59b467dbb7c7573bd",
       "version_major": 2,
       "version_minor": 0
      },
      "text/plain": [
       "  0%|          | 0/10 [00:00<?, ?it/s]"
      ]
     },
     "metadata": {},
     "output_type": "display_data"
    },
    {
     "name": "stdout",
     "output_type": "stream",
     "text": [
      "32/32 [==============================] - 14s 164ms/step - loss: 0.2003 - accuracy: 0.9100\n",
      "32/32 [==============================] - 7s 152ms/step - loss: 0.9128 - accuracy: 0.7520\n",
      "32/32 [==============================] - 5s 152ms/step - loss: 0.8255 - accuracy: 0.6460\n",
      "32/32 [==============================] - 5s 153ms/step - loss: 1.5954 - accuracy: 0.4760\n",
      "32/32 [==============================] - 5s 152ms/step - loss: 2.5600 - accuracy: 0.4320\n",
      "32/32 [==============================] - 5s 152ms/step - loss: 0.1673 - accuracy: 0.9580\n",
      "32/32 [==============================] - 5s 153ms/step - loss: 1.4556 - accuracy: 0.6720\n",
      "32/32 [==============================] - 5s 152ms/step - loss: 0.7729 - accuracy: 0.6920\n",
      "32/32 [==============================] - 5s 152ms/step - loss: 1.4758 - accuracy: 0.5260\n",
      "32/32 [==============================] - 5s 152ms/step - loss: 2.8135 - accuracy: 0.4940\n",
      "32/32 [==============================] - 5s 153ms/step - loss: 0.9648 - accuracy: 0.7990\n",
      "32/32 [==============================] - 5s 153ms/step - loss: 1.2740 - accuracy: 0.7960\n",
      "32/32 [==============================] - 5s 153ms/step - loss: 0.9313 - accuracy: 0.7240\n",
      "32/32 [==============================] - 5s 152ms/step - loss: 1.4347 - accuracy: 0.5110\n",
      "32/32 [==============================] - 5s 153ms/step - loss: 2.2457 - accuracy: 0.6120\n",
      "31/31 [==============================] - 6s 178ms/step - loss: 1.9119 - accuracy: 0.6847\n",
      "31/31 [==============================] - 6s 155ms/step - loss: 0.0868 - accuracy: 0.9684\n",
      "31/31 [==============================] - 5s 155ms/step - loss: 0.8522 - accuracy: 0.7469\n",
      "31/31 [==============================] - 5s 155ms/step - loss: 1.7487 - accuracy: 0.4878\n",
      "31/31 [==============================] - 5s 155ms/step - loss: 2.2078 - accuracy: 0.5327\n",
      "31/31 [==============================] - 6s 173ms/step - loss: 2.6994 - accuracy: 0.5902\n",
      "31/31 [==============================] - 6s 154ms/step - loss: 0.7482 - accuracy: 0.8279\n",
      "31/31 [==============================] - 5s 154ms/step - loss: 0.2369 - accuracy: 0.9160\n",
      "31/31 [==============================] - 5s 154ms/step - loss: 1.6402 - accuracy: 0.4447\n",
      "31/31 [==============================] - 5s 155ms/step - loss: 2.1389 - accuracy: 0.5266\n",
      "31/31 [==============================] - 6s 170ms/step - loss: 3.3039 - accuracy: 0.5761\n",
      "31/31 [==============================] - 6s 153ms/step - loss: 1.6651 - accuracy: 0.6955\n",
      "31/31 [==============================] - 5s 154ms/step - loss: 0.0175 - accuracy: 1.0000\n",
      "31/31 [==============================] - 5s 154ms/step - loss: 1.6473 - accuracy: 0.4691\n",
      "31/31 [==============================] - 5s 153ms/step - loss: 2.0084 - accuracy: 0.5556\n",
      "30/30 [==============================] - 6s 184ms/step - loss: 10.2072 - accuracy: 0.5063\n",
      "30/30 [==============================] - 5s 154ms/step - loss: 3.2431 - accuracy: 0.5609\n",
      "30/30 [==============================] - 5s 155ms/step - loss: 2.2399 - accuracy: 0.5147\n",
      "30/30 [==============================] - 5s 155ms/step - loss: 0.8167 - accuracy: 0.7532\n",
      "30/30 [==============================] - 5s 155ms/step - loss: 2.3049 - accuracy: 0.4958\n",
      "29/29 [==============================] - 5s 156ms/step - loss: 10.6839 - accuracy: 0.4957\n",
      "29/29 [==============================] - 5s 156ms/step - loss: 3.6662 - accuracy: 0.5348\n",
      "29/29 [==============================] - 5s 156ms/step - loss: 2.3851 - accuracy: 0.5217\n",
      "29/29 [==============================] - 5s 156ms/step - loss: 0.3377 - accuracy: 0.8533\n",
      "29/29 [==============================] - 5s 156ms/step - loss: 2.4887 - accuracy: 0.5141\n",
      "29/29 [==============================] - 6s 179ms/step - loss: 3.0562 - accuracy: 0.4683\n",
      "29/29 [==============================] - 5s 157ms/step - loss: 2.3175 - accuracy: 0.4639\n",
      "29/29 [==============================] - 5s 155ms/step - loss: 2.0708 - accuracy: 0.4234\n",
      "29/29 [==============================] - 5s 155ms/step - loss: 1.2578 - accuracy: 0.5186\n",
      "29/29 [==============================] - 5s 157ms/step - loss: 0.4480 - accuracy: 0.8578\n",
      "29/29 [==============================] - 5s 156ms/step - loss: 2.9374 - accuracy: 0.4606\n",
      "29/29 [==============================] - 5s 156ms/step - loss: 2.5062 - accuracy: 0.4661\n",
      "29/29 [==============================] - 5s 155ms/step - loss: 2.1977 - accuracy: 0.4551\n",
      "29/29 [==============================] - 5s 156ms/step - loss: 1.3214 - accuracy: 0.5175\n",
      "29/29 [==============================] - 5s 156ms/step - loss: 0.0595 - accuracy: 0.9683\n"
     ]
    }
   ],
   "source": [
    "results = {'m10': [], 'm20': [], 'm30': [], 'm40': [], 'm50': []}\n",
    "for test_data in tqdm(test):\n",
    "    for m in range(1, len(models) + 1):\n",
    "        model_no = str(m * 10)\n",
    "        model_name = 'm' + model_no\n",
    "        r = models[m-1].evaluate(test_data)\n",
    "        results[model_name].append(r[1])"
   ]
  },
  {
   "cell_type": "code",
   "execution_count": 10,
   "id": "c2b6ddbc-73a2-44d3-81f4-cbef22eda980",
   "metadata": {},
   "outputs": [],
   "source": [
    "pd.DataFrame(results).to_csv('./sameslicethickness/different_distances/m10-to-m50-results-0500sample.csv')"
   ]
  },
  {
   "cell_type": "markdown",
   "id": "a6153dbd-df93-403a-afc9-e0278adbc0ff",
   "metadata": {},
   "source": [
    "## Load Testing Data 10, 20, 40"
   ]
  },
  {
   "cell_type": "code",
   "execution_count": 13,
   "id": "857ba65a-c839-4e3e-b0d6-cce098715264",
   "metadata": {},
   "outputs": [
    {
     "data": {
      "application/vnd.jupyter.widget-view+json": {
       "model_id": "d21c1c53c8564ea19a649388164fe6e6",
       "version_major": 2,
       "version_minor": 0
      },
      "text/plain": [
       "  0%|          | 0/1000 [00:00<?, ?it/s]"
      ]
     },
     "metadata": {},
     "output_type": "display_data"
    },
    {
     "data": {
      "application/vnd.jupyter.widget-view+json": {
       "model_id": "0f5bc7bd2a8944aeb4226cbbb3a6e7c3",
       "version_major": 2,
       "version_minor": 0
      },
      "text/plain": [
       "  0%|          | 0/1000 [00:00<?, ?it/s]"
      ]
     },
     "metadata": {},
     "output_type": "display_data"
    },
    {
     "data": {
      "application/vnd.jupyter.widget-view+json": {
       "model_id": "9ab36f0df96d4dacb9faee4f87f5a2e9",
       "version_major": 2,
       "version_minor": 0
      },
      "text/plain": [
       "  0%|          | 0/1000 [00:00<?, ?it/s]"
      ]
     },
     "metadata": {},
     "output_type": "display_data"
    },
    {
     "data": {
      "application/vnd.jupyter.widget-view+json": {
       "model_id": "4e83140fac704e4e9d2f22a9735d5370",
       "version_major": 2,
       "version_minor": 0
      },
      "text/plain": [
       "  0%|          | 0/1000 [00:00<?, ?it/s]"
      ]
     },
     "metadata": {},
     "output_type": "display_data"
    },
    {
     "data": {
      "application/vnd.jupyter.widget-view+json": {
       "model_id": "13f67ca141da42b28378737ea25ab99b",
       "version_major": 2,
       "version_minor": 0
      },
      "text/plain": [
       "  0%|          | 0/1000 [00:00<?, ?it/s]"
      ]
     },
     "metadata": {},
     "output_type": "display_data"
    },
    {
     "data": {
      "application/vnd.jupyter.widget-view+json": {
       "model_id": "0c94ea21b6574a6f9e9592661e658c93",
       "version_major": 2,
       "version_minor": 0
      },
      "text/plain": [
       "  0%|          | 0/1000 [00:00<?, ?it/s]"
      ]
     },
     "metadata": {},
     "output_type": "display_data"
    }
   ],
   "source": [
    "n = 1000\n",
    "n2 = 2000\n",
    "h,w,d = 64, 64, 28\n",
    "\n",
    "test_10 = []\n",
    "test_label_10 = []\n",
    "\n",
    "radius = 10\n",
    "for level in [1, 5]:\n",
    "    for i in tqdm(range(n, n2)):\n",
    "        try:\n",
    "            test_10.append(np.load(_get_path(radius, level, i)).reshape(h,w,d,1))\n",
    "        except :\n",
    "            continue\n",
    "        if level < 3:\n",
    "            test_label_10.append(0)\n",
    "        else :\n",
    "            test_label_10.append(1)\n",
    "\n",
    "test_20 = []\n",
    "test_label_20 = []\n",
    "radius = 20\n",
    "for level in [1, 5]:\n",
    "    for i in tqdm(range(n, n2)):\n",
    "        try:\n",
    "            test_20.append(np.load(_get_path(radius, level, i)).reshape(h,w,d,1))\n",
    "        except :\n",
    "            continue\n",
    "        if level < 3:\n",
    "            test_label_20.append(0)\n",
    "        else :\n",
    "            test_label_20.append(1)\n",
    "            \n",
    "test_40 = []\n",
    "test_label_40 = []\n",
    "radius = 40\n",
    "for level in [1, 5]:\n",
    "    for i in tqdm(range(n, n2)):\n",
    "        try:\n",
    "            test_40.append(np.load(_get_path(radius, level, i)).reshape(h,w,d,1))\n",
    "        except :\n",
    "            continue\n",
    "        if level < 3:\n",
    "            test_label_40.append(0)\n",
    "        else :\n",
    "            test_label_40.append(1)"
   ]
  },
  {
   "cell_type": "code",
   "execution_count": 14,
   "id": "082437dd-3977-4d41-8e64-3def0a22a4ec",
   "metadata": {
    "tags": []
   },
   "outputs": [
    {
     "name": "stdout",
     "output_type": "stream",
     "text": [
      "max of training dataset:  1.0  & min:  0.0\n",
      "max of training dataset:  1.0  & min:  0.0\n",
      "max of training dataset:  1.0  & min:  0.0\n"
     ]
    }
   ],
   "source": [
    "def test_data_prep(data, labels, BATCH_SIZE = 32):\n",
    "    scaler = Normalizer(data)\n",
    "    normalized = scaler.normalize(data)\n",
    "    print(\"max of training dataset: \", np.max(normalized), \" & min: \", np.min(normalized))\n",
    "    data = tf.data.Dataset.from_tensor_slices((normalized, labels))\n",
    "    test_data = data.batch(BATCH_SIZE)\n",
    "    return test_data\n",
    "\n",
    "test_10 = test_data_prep(data_10, label_10)\n",
    "test_20 = test_data_prep(data_20, label_20)\n",
    "test_40 = test_data_prep(data_40, label_40)"
   ]
  },
  {
   "cell_type": "markdown",
   "id": "486930c9-d44b-4603-ad89-2ccc57993321",
   "metadata": {},
   "source": [
    "## Results"
   ]
  },
  {
   "cell_type": "markdown",
   "id": "431b7a7e-cbe6-45e3-ad6d-c3ad3ae24e72",
   "metadata": {},
   "source": [
    "### Model trained on radius 10 results"
   ]
  },
  {
   "cell_type": "code",
   "execution_count": 15,
   "id": "8f48e651-24a0-41f6-a53f-02d4ed7620ff",
   "metadata": {
    "collapsed": true,
    "jupyter": {
     "outputs_hidden": true
    },
    "tags": []
   },
   "outputs": [
    {
     "ename": "NameError",
     "evalue": "name 'model_r10' is not defined",
     "output_type": "error",
     "traceback": [
      "\u001b[1;31m---------------------------------------------------------------------------\u001b[0m",
      "\u001b[1;31mNameError\u001b[0m                                 Traceback (most recent call last)",
      "\u001b[1;32m<ipython-input-15-9b29dfc195ca>\u001b[0m in \u001b[0;36m<module>\u001b[1;34m\u001b[0m\n\u001b[1;32m----> 1\u001b[1;33m \u001b[0mmodel_r10\u001b[0m\u001b[1;33m.\u001b[0m\u001b[0mevaluate\u001b[0m\u001b[1;33m(\u001b[0m\u001b[0mtest_10\u001b[0m\u001b[1;33m)\u001b[0m\u001b[1;33m\u001b[0m\u001b[1;33m\u001b[0m\u001b[0m\n\u001b[0m\u001b[0;32m      2\u001b[0m \u001b[0mmodel_r10\u001b[0m\u001b[1;33m.\u001b[0m\u001b[0mevaluate\u001b[0m\u001b[1;33m(\u001b[0m\u001b[0mtest_20\u001b[0m\u001b[1;33m)\u001b[0m\u001b[1;33m\u001b[0m\u001b[1;33m\u001b[0m\u001b[0m\n\u001b[0;32m      3\u001b[0m \u001b[0mmodel_r10\u001b[0m\u001b[1;33m.\u001b[0m\u001b[0mevaluate\u001b[0m\u001b[1;33m(\u001b[0m\u001b[0mtest_40\u001b[0m\u001b[1;33m)\u001b[0m\u001b[1;33m\u001b[0m\u001b[1;33m\u001b[0m\u001b[0m\n",
      "\u001b[1;31mNameError\u001b[0m: name 'model_r10' is not defined"
     ]
    }
   ],
   "source": [
    "model_r10.evaluate(test_10)\n",
    "model_r10.evaluate(test_20)\n",
    "model_r10.evaluate(test_40)"
   ]
  },
  {
   "cell_type": "markdown",
   "id": "b1f683e2-c7bd-4097-a165-e0edbde0e75e",
   "metadata": {},
   "source": [
    "### Model trained on radius 20 results"
   ]
  },
  {
   "cell_type": "code",
   "execution_count": 26,
   "id": "4b2a5a1f-5c79-4bfb-8199-fed42f5ecd5d",
   "metadata": {},
   "outputs": [
    {
     "name": "stdout",
     "output_type": "stream",
     "text": [
      "59/59 [==============================] - 10s 154ms/step - loss: 1.4986 - accuracy: 0.6653\n",
      "58/58 [==============================] - 10s 154ms/step - loss: 0.1478 - accuracy: 0.9541\n",
      "55/55 [==============================] - 9s 153ms/step - loss: 3.9234 - accuracy: 0.5247\n"
     ]
    },
    {
     "data": {
      "text/plain": [
       "[3.9234087467193604, 0.5246559381484985]"
      ]
     },
     "execution_count": 26,
     "metadata": {},
     "output_type": "execute_result"
    }
   ],
   "source": [
    "model_r20.evaluate(test_10)\n",
    "model_r20.evaluate(test_20)\n",
    "model_r20.evaluate(test_40)"
   ]
  },
  {
   "cell_type": "markdown",
   "id": "b456c433-5bff-4e32-ad71-0ec94fed8315",
   "metadata": {},
   "source": [
    "### Model trained on radius 40 results"
   ]
  },
  {
   "cell_type": "code",
   "execution_count": 32,
   "id": "bb858910-6924-495c-885a-a2b3e919d69b",
   "metadata": {},
   "outputs": [
    {
     "name": "stdout",
     "output_type": "stream",
     "text": [
      "59/59 [==============================] - 10s 153ms/step - loss: 1.5921 - accuracy: 0.5042\n",
      "58/58 [==============================] - 10s 153ms/step - loss: 1.8316 - accuracy: 0.4649\n",
      "55/55 [==============================] - 9s 152ms/step - loss: 0.4920 - accuracy: 0.8257\n"
     ]
    },
    {
     "data": {
      "text/plain": [
       "[0.491988867521286, 0.8256880640983582]"
      ]
     },
     "execution_count": 32,
     "metadata": {},
     "output_type": "execute_result"
    }
   ],
   "source": [
    "model_r40.evaluate(test_10)\n",
    "model_r40.evaluate(test_20)\n",
    "model_r40.evaluate(test_40)"
   ]
  },
  {
   "cell_type": "code",
   "execution_count": 16,
   "id": "099d2dae-b55f-49a0-b921-d528819fcfb7",
   "metadata": {},
   "outputs": [
    {
     "name": "stdout",
     "output_type": "stream",
     "text": [
      "59/59 [==============================] - 10s 156ms/step - loss: 1.2862 - accuracy: 0.6811\n",
      "58/58 [==============================] - 11s 174ms/step - loss: 1.4502 - accuracy: 0.6533\n",
      "55/55 [==============================] - 10s 166ms/step - loss: 1.2667 - accuracy: 0.5092\n"
     ]
    },
    {
     "data": {
      "text/plain": [
       "[1.2666913270950317, 0.5091742873191833]"
      ]
     },
     "execution_count": 16,
     "metadata": {},
     "output_type": "execute_result"
    }
   ],
   "source": [
    "model_rAll.evaluate(test_10)\n",
    "model_rAll.evaluate(test_20)\n",
    "model_rAll.evaluate(test_40)"
   ]
  },
  {
   "cell_type": "markdown",
   "id": "6390a364-ae2e-42a5-b163-a21a2866763a",
   "metadata": {},
   "source": [
    "## Loading malignant data only"
   ]
  },
  {
   "cell_type": "code",
   "execution_count": 17,
   "id": "89057a2a-9ed8-46c4-9d36-1249567cb3f5",
   "metadata": {},
   "outputs": [
    {
     "data": {
      "application/vnd.jupyter.widget-view+json": {
       "model_id": "e62c0b3211ec4167a7bfbe4d5a04b757",
       "version_major": 2,
       "version_minor": 0
      },
      "text/plain": [
       "  0%|          | 0/1000 [00:00<?, ?it/s]"
      ]
     },
     "metadata": {},
     "output_type": "display_data"
    },
    {
     "data": {
      "application/vnd.jupyter.widget-view+json": {
       "model_id": "acd6074c8fd347b7be00572579ae303e",
       "version_major": 2,
       "version_minor": 0
      },
      "text/plain": [
       "  0%|          | 0/1000 [00:00<?, ?it/s]"
      ]
     },
     "metadata": {},
     "output_type": "display_data"
    },
    {
     "data": {
      "application/vnd.jupyter.widget-view+json": {
       "model_id": "2b9419af29f24585864767b9df63b0ef",
       "version_major": 2,
       "version_minor": 0
      },
      "text/plain": [
       "  0%|          | 0/1000 [00:00<?, ?it/s]"
      ]
     },
     "metadata": {},
     "output_type": "display_data"
    }
   ],
   "source": [
    "mal_10 = []\n",
    "mal_label_10 = []\n",
    "radius = 10\n",
    "level = 5\n",
    "for i in tqdm(range(n, n2)):\n",
    "    try:\n",
    "        mal_10.append(np.load(_get_path(radius, level, i)).reshape(h,w,d,1))\n",
    "    except :\n",
    "        continue\n",
    "    if level < 3:\n",
    "        mal_label_10.append(0)\n",
    "    else :\n",
    "        mal_label_10.append(1)\n",
    "        \n",
    "mal_20 = []\n",
    "mal_label_20 = []\n",
    "radius = 20\n",
    "level = 5\n",
    "for i in tqdm(range(n, n2)):\n",
    "    try:\n",
    "        mal_20.append(np.load(_get_path(radius, level, i)).reshape(h,w,d,1))\n",
    "    except :\n",
    "        continue\n",
    "    if level < 3:\n",
    "        mal_label_20.append(0)\n",
    "    else :\n",
    "        mal_label_20.append(1)\n",
    "        \n",
    "mal_40 = []\n",
    "mal_label_40 = []\n",
    "radius = 40\n",
    "level = 5\n",
    "for i in tqdm(range(n, n2)):\n",
    "    try:\n",
    "        mal_40.append(np.load(_get_path(radius, level, i)).reshape(h,w,d,1))\n",
    "    except :\n",
    "        continue\n",
    "    if level < 3:\n",
    "        mal_label_40.append(0)\n",
    "    else :\n",
    "        mal_label_40.append(1)"
   ]
  },
  {
   "cell_type": "code",
   "execution_count": 18,
   "id": "decce267-74f9-4b91-b2be-bc63370631f3",
   "metadata": {},
   "outputs": [
    {
     "name": "stdout",
     "output_type": "stream",
     "text": [
      "max of training dataset:  1.0  & min:  0.0\n",
      "max of training dataset:  1.0  & min:  0.0\n",
      "max of training dataset:  1.0  & min:  0.0\n"
     ]
    }
   ],
   "source": [
    "maltest_10 = test_data_prep(mal_10, mal_label_10)\n",
    "maltest_20 = test_data_prep(mal_20, mal_label_20)\n",
    "maltest_40 = test_data_prep(mal_40, mal_label_40)"
   ]
  },
  {
   "cell_type": "code",
   "execution_count": 20,
   "id": "8b94d2a3-3694-4fa6-a1cb-8e3ab249efcb",
   "metadata": {},
   "outputs": [
    {
     "name": "stdout",
     "output_type": "stream",
     "text": [
      "8/8 [==============================] - 2s 144ms/step - loss: 19.6851 - accuracy: 0.0500\n",
      "8/8 [==============================] - 2s 205ms/step - loss: 21.8930 - accuracy: 0.1314\n",
      "8/8 [==============================] - 1s 143ms/step - loss: 2.3331 - accuracy: 0.2712\n"
     ]
    },
    {
     "data": {
      "text/plain": [
       "[2.3331305980682373, 0.2711864411830902]"
      ]
     },
     "execution_count": 20,
     "metadata": {},
     "output_type": "execute_result"
    }
   ],
   "source": [
    "model_rAll.evaluate(maltest_10)\n",
    "model_rAll.evaluate(maltest_20)\n",
    "model_rAll.evaluate(maltest_40)"
   ]
  },
  {
   "cell_type": "markdown",
   "id": "569269c6-8298-464f-bbfe-0c749d168cc3",
   "metadata": {},
   "source": [
    "# Results in Figures"
   ]
  },
  {
   "cell_type": "code",
   "execution_count": 65,
   "id": "2ca980b7-88a1-4dfd-85b8-247e5e825bd5",
   "metadata": {},
   "outputs": [],
   "source": [
    "model_r10 = tf.keras.models.load_model(r'A:\\After Graduation\\CUFE Masters\\Thesis\\Pulmonary Nodules\\data\\code\\models\\model_r10')\n",
    "model_r20 = tf.keras.models.load_model(r'A:\\After Graduation\\CUFE Masters\\Thesis\\Pulmonary Nodules\\data\\code\\models\\model_r20')\n",
    "model_r40 = tf.keras.models.load_model(r'A:\\After Graduation\\CUFE Masters\\Thesis\\Pulmonary Nodules\\data\\code\\models\\model_r40')"
   ]
  },
  {
   "cell_type": "code",
   "execution_count": 50,
   "id": "ed93865b-db42-4007-bc7a-310bfca256a2",
   "metadata": {},
   "outputs": [],
   "source": [
    "def predict_for_roc(model, test):\n",
    "    pred = model.predict(test).ravel()\n",
    "    complement = 1 - pred\n",
    "    return np.array([complement, pred]).T\n",
    "roc_pred_r10 = predict_for_roc(model_r10, test_10)"
   ]
  },
  {
   "cell_type": "code",
   "execution_count": 64,
   "id": "0415fbe6-fd72-4a96-acaf-429a051e67f8",
   "metadata": {},
   "outputs": [
    {
     "data": {
      "image/png": "[encoded data removed]",
      "text/plain": [
       "<Figure size 720x720 with 1 Axes>"
      ]
     },
     "metadata": {
      "needs_background": "light"
     },
     "output_type": "display_data"
    }
   ],
   "source": [
    "skplt.metrics.plot_roc(np.array(label_10), roc_pred_r10, \n",
    "                       title = \"Radius 10 ROC Curves\", \n",
    "                       plot_micro=False, plot_macro=False, \n",
    "                       figsize=(10,10), cmap='plasma')\n",
    "plt.savefig('./figs/roc_r10.jpg')\n",
    "plt.show()"
   ]
  },
  {
   "cell_type": "code",
   "execution_count": 69,
   "id": "da82e3bf-60be-4017-b966-6948614872c0",
   "metadata": {},
   "outputs": [
    {
     "data": {
      "image/png": "[encoded data removed]",
      "text/plain": [
       "<Figure size 720x720 with 1 Axes>"
      ]
     },
     "metadata": {
      "needs_background": "light"
     },
     "output_type": "display_data"
    }
   ],
   "source": [
    "roc_pred_r20 = predict_for_roc(model_r20, test_20)\n",
    "skplt.metrics.plot_roc(np.array(label_20), roc_pred_r20, \n",
    "                       title = \"Radius 20 ROC Curves\", \n",
    "                       plot_micro=True, plot_macro=True, \n",
    "                       figsize=(10,10))\n",
    "plt.savefig('./figs/roc_r20_micromacro.jpg')\n",
    "plt.show()"
   ]
  },
  {
   "cell_type": "code",
   "execution_count": 71,
   "id": "a52729a0-ea2a-42f7-930c-2445ff79ccc1",
   "metadata": {},
   "outputs": [
    {
     "data": {
      "image/png": "[encoded data removed]",
      "text/plain": [
       "<Figure size 720x720 with 1 Axes>"
      ]
     },
     "metadata": {
      "needs_background": "light"
     },
     "output_type": "display_data"
    }
   ],
   "source": [
    "roc_pred_r40 = predict_for_roc(model_r40, test_40)\n",
    "skplt.metrics.plot_roc(np.array(label_40), roc_pred_r40, \n",
    "                       title = \"Radius 40 ROC Curves\", \n",
    "                       plot_micro=False, plot_macro=False, \n",
    "                       figsize=(10,10), cmap='plasma')\n",
    "plt.savefig('./figs/roc_r40.jpg')\n",
    "plt.show()"
   ]
  },
  {
   "cell_type": "code",
   "execution_count": null,
   "id": "ccb9406c-9a9e-4ca0-8d86-4c5bc51923f1",
   "metadata": {},
   "outputs": [],
   "source": []
  }
 ],
 "metadata": {
  "kernelspec": {
   "display_name": "Python 3",
   "language": "python",
   "name": "python3"
  },
  "language_info": {
   "codemirror_mode": {
    "name": "ipython",
    "version": 3
   },
   "file_extension": ".py",
   "mimetype": "text/x-python",
   "name": "python",
   "nbconvert_exporter": "python",
   "pygments_lexer": "ipython3",
   "version": "3.9.5"
  }
 },
 "nbformat": 4,
 "nbformat_minor": 5
}
