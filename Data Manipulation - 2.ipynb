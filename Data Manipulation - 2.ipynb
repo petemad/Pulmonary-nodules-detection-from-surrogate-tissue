{
 "cells": [
  {
   "cell_type": "code",
   "execution_count": 1,
   "id": "c9157736-ae46-4782-b2ad-cf99b1c3c2e4",
   "metadata": {},
   "outputs": [],
   "source": [
    "import numpy as np\n",
    "import matplotlib.pyplot as plt\n",
    "import tensorflow as tf\n",
    "import pandas as pd\n",
    "from tqdm.notebook import tqdm\n",
    "import matplotlib.pyplot as plt\n",
    "import scikitplot as skplt\n",
    "import sklearn\n",
    "from sklearn.model_selection import train_test_split\n",
    "import os"
   ]
  },
  {
   "cell_type": "code",
   "execution_count": null,
   "id": "639a3013-2a10-45da-899f-c5b471d97371",
   "metadata": {},
   "outputs": [],
   "source": []
  },
  {
   "cell_type": "code",
   "execution_count": 2,
   "id": "5ebd560f-3f23-4dd2-a47f-75ec0fe9c60a",
   "metadata": {},
   "outputs": [],
   "source": [
    "data_length = {\n",
    "    'radius_5\\\\level_1' : 3216,\n",
    "    'radius_5\\\\level_5' : 2496,\n",
    "    'radius_10\\\\level_1' : 3206,\n",
    "    'radius_10\\\\level_5' : 2488,\n",
    "    'radius_15\\\\level_1' : 3206,\n",
    "    'radius_15\\\\level_5' : 2484,\n",
    "    'radius_20\\\\level_1' : 3164,\n",
    "    'radius_20\\\\level_5' : 2444,\n",
    "    'radius_25\\\\level_1' : 3153,\n",
    "    'radius_25\\\\level_5' : 2424,\n",
    "    'radius_30\\\\level_1' : 3126,\n",
    "    'radius_30\\\\level_5' : 2400,\n",
    "    'radius_35\\\\level_1' : 3098,\n",
    "    'radius_35\\\\level_5' : 2376,\n",
    "    'radius_40\\\\level_1' : 3005,\n",
    "    'radius_40\\\\level_5' : 2318,\n",
    "    'radius_45\\\\level_1' : 2980,\n",
    "    'radius_45\\\\level_5' : 2290,\n",
    "    'radius_50\\\\level_1' : 2956,\n",
    "    'radius_50\\\\level_5' : 2270\n",
    "}\n",
    "def get_radius(key):\n",
    "    return float(key.split('\\\\')[0].split('_')[-1])\n",
    "def get_level(key):\n",
    "    return float(key.split('\\\\')[-1].split('_')[-1])\n",
    "def get_volume_info(df, vn, key):\n",
    "    return df.loc[df['volume'] == 'v' + str(vn)].loc[df['radius'] == get_radius(key)].loc[df['malginancy score'] == get_level(key)]\n",
    "def get_vn(path):\n",
    "    return path.split('v')[-1].split('.')[0]\n",
    "def add_to_excel(write, info, i):\n",
    "    v = 'v' + str(i)\n",
    "    pid = info['pid'].iloc[0]\n",
    "    ms = info['malginancy score'].iloc[0]\n",
    "    nc = info['nodule centroid'].iloc[0]\n",
    "    vc = info['volume centroid'].iloc[0]\n",
    "    r = info['radius'].iloc[0]\n",
    "    nd = info['N-diameter'].iloc[0]\n",
    "    nv = info['N-volume'].iloc[0]\n",
    "    \n",
    "    write['volume'].append(v)\n",
    "    write['pid'].append(pid)\n",
    "    write['malignancy_score'].append(ms)\n",
    "    write['nodule_centroid'].append(nc)\n",
    "    write['volume_centroid'].append(vc)\n",
    "    write['radius'].append(r)\n",
    "    write['nodule_diameter'].append(nd)\n",
    "    write['nodule_volume'].append(nv)\n",
    "    return write"
   ]
  },
  {
   "cell_type": "code",
   "execution_count": 3,
   "id": "9c69a9f2-9bb8-44b6-acab-d37d72504d76",
   "metadata": {},
   "outputs": [],
   "source": [
    "def absoluteFilePaths(directory):\n",
    "    paths = []\n",
    "    for dirpath,_,filenames in tqdm(os.walk(directory), total = 10):\n",
    "        for f in filenames:\n",
    "            paths.append(os.path.abspath(os.path.join(dirpath, f)))\n",
    "    return paths\n",
    "\n",
    "def ifnotexistmake(path_to_save):\n",
    "    if not os.path.exists(path_to_save):\n",
    "        os.makedirs(path_to_save)\n",
    "        \n",
    "def get_key(path, dictrionary):\n",
    "    for key in list(dictionary.keys()):\n",
    "        if key in path:\n",
    "            return key"
   ]
  },
  {
   "cell_type": "code",
   "execution_count": 4,
   "id": "d9ad102a-d017-486f-8bb2-bb97b3f1a43f",
   "metadata": {},
   "outputs": [
    {
     "data": {
      "application/vnd.jupyter.widget-view+json": {
       "model_id": "b585bbeb60e240e3a4b1b1e09ffbd6ba",
       "version_major": 2,
       "version_minor": 0
      },
      "text/plain": [
       "  0%|          | 0/10 [00:00<?, ?it/s]"
      ]
     },
     "metadata": {},
     "output_type": "display_data"
    }
   ],
   "source": [
    "main_dir = './sameslicethickness/different_distances/size_encoded'\n",
    "internal_paths = absoluteFilePaths(main_dir)\n",
    "del internal_paths[0:2]"
   ]
  },
  {
   "cell_type": "code",
   "execution_count": 5,
   "id": "aa7c37f1-62c5-43c2-b219-67362065cb10",
   "metadata": {},
   "outputs": [
    {
     "data": {
      "text/plain": [
       "'A:\\\\After Graduation\\\\CUFE Masters\\\\Thesis\\\\Pulmonary Nodules\\\\data\\\\code\\\\sameslicethickness\\\\different_distances\\\\size_encoded\\\\radius_10\\\\level_1\\\\volumes\\\\v0.npy'"
      ]
     },
     "execution_count": 5,
     "metadata": {},
     "output_type": "execute_result"
    }
   ],
   "source": [
    "internal_paths[0]"
   ]
  },
  {
   "cell_type": "code",
   "execution_count": 6,
   "id": "aa8a1466-f408-4159-af8e-13e1c1af7c6d",
   "metadata": {},
   "outputs": [],
   "source": [
    "target_dir = './sameslicethickness/different_distances/size_encoded/arranged'"
   ]
  },
  {
   "cell_type": "code",
   "execution_count": 7,
   "id": "853be3cd-a0f3-41e8-92bb-e55edeee8aca",
   "metadata": {},
   "outputs": [],
   "source": [
    "orig_excel = pd.read_csv(r'A:\\After Graduation\\CUFE Masters\\Thesis\\Pulmonary Nodules\\data\\code\\sameslicethickness\\different_distances\\size_encoded/Volume-DistanceToNodule.csv')"
   ]
  },
  {
   "cell_type": "code",
   "execution_count": 8,
   "id": "75596f15-69a5-45b2-b2a1-5e58bb967ba4",
   "metadata": {},
   "outputs": [],
   "source": [
    "data_dict = {\n",
    "    'volume' : [],\n",
    "    'pid' : [],\n",
    "    'malignancy_score':[],\n",
    "    'nodule_centroid':[],\n",
    "    'volume_centroid':[],\n",
    "    'radius':[],\n",
    "    'nodule_diameter':[],\n",
    "    'nodule_volume':[]\n",
    "}"
   ]
  },
  {
   "cell_type": "code",
   "execution_count": 9,
   "id": "13fe62dd-11a2-40e4-b4d9-e407c31183f8",
   "metadata": {
    "tags": []
   },
   "outputs": [
    {
     "data": {
      "application/vnd.jupyter.widget-view+json": {
       "model_id": "a14b744d29e64aae862cdfa7732b2b61",
       "version_major": 2,
       "version_minor": 0
      },
      "text/plain": [
       "  0%|          | 0/20 [00:00<?, ?it/s]"
      ]
     },
     "metadata": {},
     "output_type": "display_data"
    },
    {
     "name": "stdout",
     "output_type": "stream",
     "text": [
      "Done\n"
     ]
    }
   ],
   "source": [
    "for key in tqdm(list(data_length.keys()), total = len(data_length)):\n",
    "    n_vols = data_length[key]\n",
    "    dist_dir = os.path.join(target_dir, key)\n",
    "    ifnotexistmake(dist_dir)\n",
    "    i = 0\n",
    "    for path in internal_paths:\n",
    "        if key in path:\n",
    "            vol = np.load(path)\n",
    "            info = get_volume_info(orig_excel, get_vn(path), key)\n",
    "            np.save(dist_dir + '\\\\v' + str(i), vol)\n",
    "            data_dict = add_to_excel(data_dict, info, i)\n",
    "            i += 1\n",
    "        \n",
    "\n",
    "new_excel = pd.DataFrame(data_dict)\n",
    "print('Done')"
   ]
  },
  {
   "cell_type": "code",
   "execution_count": 10,
   "id": "ba9e4ae6-87b4-436f-a189-4db5a754b581",
   "metadata": {},
   "outputs": [],
   "source": [
    "new_excel.to_csv('./sameslicethickness/different_distances/size_encoded/arranged/arranged_info.csv')"
   ]
  },
  {
   "cell_type": "code",
   "execution_count": 11,
   "id": "1c519e05-92c9-4e10-be85-bf3ef3b5b0c5",
   "metadata": {},
   "outputs": [
    {
     "data": {
      "text/html": [
       "<div>\n",
       "<style scoped>\n",
       "    .dataframe tbody tr th:only-of-type {\n",
       "        vertical-align: middle;\n",
       "    }\n",
       "\n",
       "    .dataframe tbody tr th {\n",
       "        vertical-align: top;\n",
       "    }\n",
       "\n",
       "    .dataframe thead th {\n",
       "        text-align: right;\n",
       "    }\n",
       "</style>\n",
       "<table border=\"1\" class=\"dataframe\">\n",
       "  <thead>\n",
       "    <tr style=\"text-align: right;\">\n",
       "      <th></th>\n",
       "      <th>volume</th>\n",
       "      <th>pid</th>\n",
       "      <th>malignancy_score</th>\n",
       "      <th>nodule_centroid</th>\n",
       "      <th>volume_centroid</th>\n",
       "      <th>radius</th>\n",
       "      <th>nodule_diameter</th>\n",
       "      <th>nodule_volume</th>\n",
       "    </tr>\n",
       "  </thead>\n",
       "  <tbody>\n",
       "    <tr>\n",
       "      <th>0</th>\n",
       "      <td>v0</td>\n",
       "      <td>LIDC-IDRI-0004</td>\n",
       "      <td>1.0</td>\n",
       "      <td>[322.85714286 142.69047619  76.        ]</td>\n",
       "      <td>[322. 142.  81.]</td>\n",
       "      <td>5.0</td>\n",
       "      <td>5.515928</td>\n",
       "      <td>40.989858</td>\n",
       "    </tr>\n",
       "    <tr>\n",
       "      <th>1</th>\n",
       "      <td>v1</td>\n",
       "      <td>LIDC-IDRI-0004</td>\n",
       "      <td>1.0</td>\n",
       "      <td>[322.85714286 142.69047619  76.        ]</td>\n",
       "      <td>[322. 142.  81.]</td>\n",
       "      <td>5.0</td>\n",
       "      <td>5.515928</td>\n",
       "      <td>40.989858</td>\n",
       "    </tr>\n",
       "    <tr>\n",
       "      <th>2</th>\n",
       "      <td>v2</td>\n",
       "      <td>LIDC-IDRI-0004</td>\n",
       "      <td>1.0</td>\n",
       "      <td>[322.85714286 142.69047619  76.        ]</td>\n",
       "      <td>[322. 142.  71.]</td>\n",
       "      <td>5.0</td>\n",
       "      <td>5.515928</td>\n",
       "      <td>40.989858</td>\n",
       "    </tr>\n",
       "    <tr>\n",
       "      <th>3</th>\n",
       "      <td>v3</td>\n",
       "      <td>LIDC-IDRI-0039</td>\n",
       "      <td>1.0</td>\n",
       "      <td>[298.7826087  252.2173913  132.97826087]</td>\n",
       "      <td>[303. 252. 132.]</td>\n",
       "      <td>5.0</td>\n",
       "      <td>5.163405</td>\n",
       "      <td>49.572333</td>\n",
       "    </tr>\n",
       "    <tr>\n",
       "      <th>4</th>\n",
       "      <td>v4</td>\n",
       "      <td>LIDC-IDRI-0039</td>\n",
       "      <td>1.0</td>\n",
       "      <td>[298.7826087  252.2173913  132.97826087]</td>\n",
       "      <td>[298. 257. 132.]</td>\n",
       "      <td>5.0</td>\n",
       "      <td>5.163405</td>\n",
       "      <td>49.572333</td>\n",
       "    </tr>\n",
       "  </tbody>\n",
       "</table>\n",
       "</div>"
      ],
      "text/plain": [
       "  volume             pid  malignancy_score  \\\n",
       "0     v0  LIDC-IDRI-0004               1.0   \n",
       "1     v1  LIDC-IDRI-0004               1.0   \n",
       "2     v2  LIDC-IDRI-0004               1.0   \n",
       "3     v3  LIDC-IDRI-0039               1.0   \n",
       "4     v4  LIDC-IDRI-0039               1.0   \n",
       "\n",
       "                            nodule_centroid   volume_centroid  radius  \\\n",
       "0  [322.85714286 142.69047619  76.        ]  [322. 142.  81.]     5.0   \n",
       "1  [322.85714286 142.69047619  76.        ]  [322. 142.  81.]     5.0   \n",
       "2  [322.85714286 142.69047619  76.        ]  [322. 142.  71.]     5.0   \n",
       "3  [298.7826087  252.2173913  132.97826087]  [303. 252. 132.]     5.0   \n",
       "4  [298.7826087  252.2173913  132.97826087]  [298. 257. 132.]     5.0   \n",
       "\n",
       "   nodule_diameter  nodule_volume  \n",
       "0         5.515928      40.989858  \n",
       "1         5.515928      40.989858  \n",
       "2         5.515928      40.989858  \n",
       "3         5.163405      49.572333  \n",
       "4         5.163405      49.572333  "
      ]
     },
     "execution_count": 11,
     "metadata": {},
     "output_type": "execute_result"
    }
   ],
   "source": [
    "new_excel.head()"
   ]
  }
 ],
 "metadata": {
  "kernelspec": {
   "display_name": "Python 3 (ipykernel)",
   "language": "python",
   "name": "python3"
  },
  "language_info": {
   "codemirror_mode": {
    "name": "ipython",
    "version": 3
   },
   "file_extension": ".py",
   "mimetype": "text/x-python",
   "name": "python",
   "nbconvert_exporter": "python",
   "pygments_lexer": "ipython3",
   "version": "3.9.16"
  }
 },
 "nbformat": 4,
 "nbformat_minor": 5
}
