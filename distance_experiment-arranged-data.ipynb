{
 "cells": [
  {
   "cell_type": "code",
   "execution_count": 1,
   "id": "ee913c2e-1d6c-4d2e-9ccb-e5a875aa681c",
   "metadata": {},
   "outputs": [],
   "source": [
    "import numpy as np\n",
    "import matplotlib.pyplot as plt\n",
    "import tensorflow as tf\n",
    "import pandas as pd\n",
    "from tqdm.notebook import tqdm\n",
    "import matplotlib.pyplot as plt\n",
    "import scikitplot as skplt\n",
    "import sklearn\n",
    "from sklearn.model_selection import train_test_split"
   ]
  },
  {
   "cell_type": "code",
   "execution_count": 2,
   "id": "2b9ed8e3-b0e3-4afe-bc04-6710c9d0a86e",
   "metadata": {},
   "outputs": [],
   "source": [
    "def _get_path(radius, level, i):\n",
    "    return r'A:\\MSc\\Pulmonary Nodules\\sameslicethickness\\arranged/radius_' + str(radius) + '/level_' + str(level) + '/v' + str(i) + '.npy'"
   ]
  },
  {
   "cell_type": "code",
   "execution_count": 3,
   "id": "f87e39a4-2634-4b5b-aa4a-32ec1b926df8",
   "metadata": {},
   "outputs": [],
   "source": [
    "class Normalizer:\n",
    "    def __init__(self, data):\n",
    "        self.min = np.min(data)\n",
    "        self.max = np.max(data)\n",
    "    \n",
    "    def normalize(self, newdata):\n",
    "        return (newdata - self.min)/(self.max - self.min)"
   ]
  },
  {
   "cell_type": "markdown",
   "id": "74181c09-ac42-4a67-8a16-348bf062e0f9",
   "metadata": {},
   "source": [
    "# Compare different distances\n",
    "In this trial, we are going to train a new model between level 1 vs level 5, using the three different radii."
   ]
  },
  {
   "cell_type": "markdown",
   "id": "55f440fa-d888-4327-8d52-edbaa8084faf",
   "metadata": {},
   "source": [
    "## Training Data loading"
   ]
  },
  {
   "cell_type": "code",
   "execution_count": 4,
   "id": "7bc84a98-d3f7-4579-8243-983aa6149953",
   "metadata": {},
   "outputs": [],
   "source": [
    "def get_binary_training_data(radius, n = 1000, size = (64,64,28), levels=[1, 5]):\n",
    "    h,w,d = size\n",
    "    \n",
    "    data = []\n",
    "    label = []\n",
    "    \n",
    "    for level in levels:\n",
    "        for i in tqdm(range(n)):\n",
    "            try:\n",
    "                data.append(np.load(_get_path(radius, level, i)).reshape(h,w,d,1))\n",
    "            except :\n",
    "                continue\n",
    "            if level < 3:\n",
    "                label.append(0)\n",
    "            else :\n",
    "                label.append(1)\n",
    "    return data, label\n",
    "\n",
    "def data_prep(data, labels, BATCH_SIZE = 32, SHUFFLE_BUFFER_SIZE = 100):\n",
    "    train_ds, valid_ds, y_train, y_valid = train_test_split(data, labels, test_size=0.2, random_state=42)\n",
    "    print(\"number of training examples: \", len(train_ds))\n",
    "    print(\"number of validation examples: \", len(valid_ds))\n",
    "    scaler = Normalizer(train_ds)\n",
    "    train_ds = scaler.normalize(train_ds)\n",
    "    valid_ds = scaler.normalize(valid_ds)\n",
    "    print(\"max of training dataset: \", np.max(train_ds), \" & min: \", np.min(train_ds))\n",
    "    print(\"max of validation dataset: \", np.max(valid_ds), \" & min: \", np.min(valid_ds))\n",
    "    train_dataset = tf.data.Dataset.from_tensor_slices((train_ds, y_train))\n",
    "    validation_dataset = tf.data.Dataset.from_tensor_slices((valid_ds, y_valid))\n",
    "\n",
    "    train_dataset = train_dataset.shuffle(SHUFFLE_BUFFER_SIZE).batch(BATCH_SIZE)\n",
    "    validation_dataset = validation_dataset.batch(BATCH_SIZE)\n",
    "    return train_dataset, validation_dataset"
   ]
  },
  {
   "cell_type": "markdown",
   "id": "90f8ccb7-a0ec-4390-9a21-df36da9ee621",
   "metadata": {},
   "source": [
    "### Loading data"
   ]
  },
  {
   "cell_type": "code",
   "execution_count": 5,
   "id": "7063d6dd-0357-4fdc-8bed-98230890042b",
   "metadata": {},
   "outputs": [
    {
     "data": {
      "application/vnd.jupyter.widget-view+json": {
       "model_id": "6208e479d33a4436845a2cb8db7f6f1c",
       "version_major": 2,
       "version_minor": 0
      },
      "text/plain": [
       "  0%|          | 0/2000 [00:00<?, ?it/s]"
      ]
     },
     "metadata": {},
     "output_type": "display_data"
    },
    {
     "data": {
      "application/vnd.jupyter.widget-view+json": {
       "model_id": "b36ab7bfe7ee4e8d856ce702391cd82e",
       "version_major": 2,
       "version_minor": 0
      },
      "text/plain": [
       "  0%|          | 0/2000 [00:00<?, ?it/s]"
      ]
     },
     "metadata": {},
     "output_type": "display_data"
    },
    {
     "name": "stdout",
     "output_type": "stream",
     "text": [
      "number of training examples:  3200\n",
      "number of validation examples:  800\n",
      "max of training dataset:  1.0  & min:  0.0\n",
      "max of validation dataset:  1.0  & min:  0.0\n"
     ]
    }
   ],
   "source": [
    "# data_10, label_10 = get_binary_training_data(radius = 10, n = 2000, size = (64,64,28), levels=[1, 5])\n",
    "# train_10, val_10 = data_prep(data_10, label_10, BATCH_SIZE = 16, SHUFFLE_BUFFER_SIZE = 500)"
   ]
  },
  {
   "cell_type": "code",
   "execution_count": 5,
   "id": "6e79f22b-a822-49fb-8b94-dae0fbf28f1c",
   "metadata": {},
   "outputs": [
    {
     "data": {
      "application/vnd.jupyter.widget-view+json": {
       "model_id": "a57e3903f17745eca1f97c61903a944c",
       "version_major": 2,
       "version_minor": 0
      },
      "text/plain": [
       "  0%|          | 0/2000 [00:00<?, ?it/s]"
      ]
     },
     "metadata": {},
     "output_type": "display_data"
    },
    {
     "data": {
      "application/vnd.jupyter.widget-view+json": {
       "model_id": "ccaa3f34b32341b38c3d12e72727188b",
       "version_major": 2,
       "version_minor": 0
      },
      "text/plain": [
       "  0%|          | 0/2000 [00:00<?, ?it/s]"
      ]
     },
     "metadata": {},
     "output_type": "display_data"
    },
    {
     "name": "stdout",
     "output_type": "stream",
     "text": [
      "number of training examples:  3200\n",
      "number of validation examples:  800\n",
      "max of training dataset:  1.0  & min:  0.0\n",
      "max of validation dataset:  1.0  & min:  0.0\n"
     ]
    }
   ],
   "source": [
    "# data_20, label_20 = get_binary_training_data(radius = 20, n = 2000, size = (64,64,28), levels=[1, 5])\n",
    "# train_20, val_20 = data_prep(data_20, label_20, BATCH_SIZE = 16, SHUFFLE_BUFFER_SIZE = 500)"
   ]
  },
  {
   "cell_type": "code",
   "execution_count": 5,
   "id": "4a5c2b23-bd61-42fd-829d-39b652ab35bc",
   "metadata": {},
   "outputs": [
    {
     "data": {
      "application/vnd.jupyter.widget-view+json": {
       "model_id": "30ce49a37e904aa88597ddd68a3806a3",
       "version_major": 2,
       "version_minor": 0
      },
      "text/plain": [
       "  0%|          | 0/2000 [00:00<?, ?it/s]"
      ]
     },
     "metadata": {},
     "output_type": "display_data"
    },
    {
     "data": {
      "application/vnd.jupyter.widget-view+json": {
       "model_id": "604092bcd924485c9ecb176292596d37",
       "version_major": 2,
       "version_minor": 0
      },
      "text/plain": [
       "  0%|          | 0/2000 [00:00<?, ?it/s]"
      ]
     },
     "metadata": {},
     "output_type": "display_data"
    },
    {
     "name": "stdout",
     "output_type": "stream",
     "text": [
      "number of training examples:  3200\n",
      "number of validation examples:  800\n",
      "max of training dataset:  1.0  & min:  0.0\n",
      "max of validation dataset:  1.0  & min:  0.0\n"
     ]
    }
   ],
   "source": [
    "# data_30, label_30 = get_binary_training_data(radius = 30, n = 2000, size = (64,64,28), levels=[1, 5])\n",
    "# train_30, val_30 = data_prep(data_30, label_30, BATCH_SIZE = 16, SHUFFLE_BUFFER_SIZE = 500)"
   ]
  },
  {
   "cell_type": "code",
   "execution_count": 5,
   "id": "bdfbc8bb-1ef7-487b-ae7e-6b88abb887d8",
   "metadata": {},
   "outputs": [
    {
     "data": {
      "application/vnd.jupyter.widget-view+json": {
       "model_id": "7536f824967b4d89ab03c9e334e9bd67",
       "version_major": 2,
       "version_minor": 0
      },
      "text/plain": [
       "  0%|          | 0/2000 [00:00<?, ?it/s]"
      ]
     },
     "metadata": {},
     "output_type": "display_data"
    },
    {
     "data": {
      "application/vnd.jupyter.widget-view+json": {
       "model_id": "edc42179d2cf491eb1b4dcc474c26b12",
       "version_major": 2,
       "version_minor": 0
      },
      "text/plain": [
       "  0%|          | 0/2000 [00:00<?, ?it/s]"
      ]
     },
     "metadata": {},
     "output_type": "display_data"
    },
    {
     "name": "stdout",
     "output_type": "stream",
     "text": [
      "number of training examples:  3200\n",
      "number of validation examples:  800\n",
      "max of training dataset:  1.0  & min:  0.0\n",
      "max of validation dataset:  1.0  & min:  0.0\n"
     ]
    }
   ],
   "source": [
    "# data_40, label_40 = get_binary_training_data(radius = 40, n = 2000, size = (64,64,28), levels=[1, 5])\n",
    "# train_40, val_40 = data_prep(data_40, label_40, BATCH_SIZE = 16, SHUFFLE_BUFFER_SIZE = 500)"
   ]
  },
  {
   "cell_type": "code",
   "execution_count": 5,
   "id": "08fd9497-7a99-42dc-b393-38bea73fee26",
   "metadata": {},
   "outputs": [
    {
     "data": {
      "application/vnd.jupyter.widget-view+json": {
       "model_id": "69c0cbacd8c8436a99d9985d8d130c39",
       "version_major": 2,
       "version_minor": 0
      },
      "text/plain": [
       "  0%|          | 0/2000 [00:00<?, ?it/s]"
      ]
     },
     "metadata": {},
     "output_type": "display_data"
    },
    {
     "data": {
      "application/vnd.jupyter.widget-view+json": {
       "model_id": "bee7a9f4283f466a9197d3f452b54ab9",
       "version_major": 2,
       "version_minor": 0
      },
      "text/plain": [
       "  0%|          | 0/2000 [00:00<?, ?it/s]"
      ]
     },
     "metadata": {},
     "output_type": "display_data"
    },
    {
     "name": "stdout",
     "output_type": "stream",
     "text": [
      "number of training examples:  3200\n",
      "number of validation examples:  800\n",
      "max of training dataset:  1.0  & min:  0.0\n",
      "max of validation dataset:  1.0  & min:  0.0\n"
     ]
    }
   ],
   "source": [
    "data_50, label_50 = get_binary_training_data(radius = 50, n = 2000, size = (64,64,28), levels=[1, 5])\n",
    "train_50, val_50 = data_prep(data_50, label_50, BATCH_SIZE = 16, SHUFFLE_BUFFER_SIZE = 500)"
   ]
  },
  {
   "cell_type": "markdown",
   "id": "c72887ad-6458-4bd2-bb9d-dab6a3e82757",
   "metadata": {},
   "source": [
    "# Training"
   ]
  },
  {
   "cell_type": "code",
   "execution_count": 6,
   "id": "b7620085-097d-47fe-b2b9-740ed58a84b4",
   "metadata": {},
   "outputs": [],
   "source": [
    "def get_cnn_model(h=64,w=64,d=28):\n",
    "    n_classes = 1\n",
    "    model = tf.keras.models.Sequential([\n",
    "        tf.keras.layers.InputLayer(input_shape=(h,w,d, 1)),\n",
    "        tf.keras.layers.Conv3D(16, 5, padding='same', activation='relu'),\n",
    "        tf.keras.layers.Conv3D(16, 5, padding='same', activation='relu'),\n",
    "        tf.keras.layers.Conv3D(32, 3, padding='same', activation='relu'),\n",
    "        tf.keras.layers.BatchNormalization(),\n",
    "        tf.keras.layers.MaxPooling3D(),\n",
    "        tf.keras.layers.Conv3D(32, 3, padding='same', activation='relu'),\n",
    "        tf.keras.layers.Conv3D(32, 3, padding='same', activation='relu'),\n",
    "        tf.keras.layers.Conv3D(64, 1, padding='same', activation='relu'),\n",
    "        tf.keras.layers.BatchNormalization(),\n",
    "        tf.keras.layers.MaxPooling3D(),\n",
    "        tf.keras.layers.Conv3D(64, 1, padding='same', activation='relu'),\n",
    "        tf.keras.layers.Conv3D(64, 1, padding='same', activation='relu'),\n",
    "        tf.keras.layers.Conv3D(128, 1, padding='same', activation='relu'),\n",
    "        tf.keras.layers.BatchNormalization(),\n",
    "        tf.keras.layers.MaxPooling3D(),\n",
    "        tf.keras.layers.Flatten(),\n",
    "        tf.keras.layers.Dense(128, activation='relu'),\n",
    "        tf.keras.layers.Dense(n_classes, activation='sigmoid')\n",
    "    ])\n",
    "    return model"
   ]
  },
  {
   "cell_type": "markdown",
   "id": "6e68bdcf-d49e-44be-9a8b-17c5091ea7a1",
   "metadata": {
    "jp-MarkdownHeadingCollapsed": true,
    "tags": []
   },
   "source": [
    "## Training radius 10"
   ]
  },
  {
   "cell_type": "code",
   "execution_count": null,
   "id": "74a9d6e5-81e2-4e7b-9434-25cc8899cc1d",
   "metadata": {},
   "outputs": [],
   "source": [
    "n_classes = 1\n",
    "model_r10 = get_cnn_model(h=64,w=64,d=28)\n",
    "checkpoint_filepath = r'A:\\MSc\\Pulmonary Nodules\\models_checkpoints'\n",
    "model_checkpoint_callback = tf.keras.callbacks.ModelCheckpoint(\n",
    "    filepath=checkpoint_filepath,\n",
    "    monitor='val_accuracy',\n",
    "    mode='max',\n",
    "    save_best_only=True)\n",
    "\n",
    "model_r10.compile(optimizer='adam',\n",
    "              loss=tf.keras.losses.BinaryCrossentropy(),\n",
    "              metrics=['accuracy'])"
   ]
  },
  {
   "cell_type": "code",
   "execution_count": 8,
   "id": "9f5fea18-cf3b-4be3-a58a-6b4bcbc4825a",
   "metadata": {
    "collapsed": true,
    "jupyter": {
     "outputs_hidden": true
    },
    "tags": []
   },
   "outputs": [
    {
     "name": "stdout",
     "output_type": "stream",
     "text": [
      "Epoch 1/50\n",
      "200/200 [==============================] - ETA: 0s - loss: 0.8096 - accuracy: 0.7197"
     ]
    },
    {
     "name": "stderr",
     "output_type": "stream",
     "text": [
      "WARNING:absl:Found untraced functions such as _jit_compiled_convolution_op, _jit_compiled_convolution_op, _jit_compiled_convolution_op, _jit_compiled_convolution_op, _jit_compiled_convolution_op while saving (showing 5 of 9). These functions will not be directly callable after loading.\n"
     ]
    },
    {
     "name": "stdout",
     "output_type": "stream",
     "text": [
      "INFO:tensorflow:Assets written to: A:\\MSc\\Pulmonary Nodules\\models_checkpoints\\assets\n"
     ]
    },
    {
     "name": "stderr",
     "output_type": "stream",
     "text": [
      "INFO:tensorflow:Assets written to: A:\\MSc\\Pulmonary Nodules\\models_checkpoints\\assets\n"
     ]
    },
    {
     "name": "stdout",
     "output_type": "stream",
     "text": [
      "200/200 [==============================] - 82s 365ms/step - loss: 0.8096 - accuracy: 0.7197 - val_loss: 2.1402 - val_accuracy: 0.5063\n",
      "Epoch 2/50\n",
      "200/200 [==============================] - ETA: 0s - loss: 0.2795 - accuracy: 0.8759"
     ]
    },
    {
     "name": "stderr",
     "output_type": "stream",
     "text": [
      "WARNING:absl:Found untraced functions such as _jit_compiled_convolution_op, _jit_compiled_convolution_op, _jit_compiled_convolution_op, _jit_compiled_convolution_op, _jit_compiled_convolution_op while saving (showing 5 of 9). These functions will not be directly callable after loading.\n"
     ]
    },
    {
     "name": "stdout",
     "output_type": "stream",
     "text": [
      "INFO:tensorflow:Assets written to: A:\\MSc\\Pulmonary Nodules\\models_checkpoints\\assets\n"
     ]
    },
    {
     "name": "stderr",
     "output_type": "stream",
     "text": [
      "INFO:tensorflow:Assets written to: A:\\MSc\\Pulmonary Nodules\\models_checkpoints\\assets\n"
     ]
    },
    {
     "name": "stdout",
     "output_type": "stream",
     "text": [
      "200/200 [==============================] - 73s 366ms/step - loss: 0.2795 - accuracy: 0.8759 - val_loss: 0.5689 - val_accuracy: 0.7325\n",
      "Epoch 3/50\n",
      "200/200 [==============================] - ETA: 0s - loss: 0.1399 - accuracy: 0.9466"
     ]
    },
    {
     "name": "stderr",
     "output_type": "stream",
     "text": [
      "WARNING:absl:Found untraced functions such as _jit_compiled_convolution_op, _jit_compiled_convolution_op, _jit_compiled_convolution_op, _jit_compiled_convolution_op, _jit_compiled_convolution_op while saving (showing 5 of 9). These functions will not be directly callable after loading.\n"
     ]
    },
    {
     "name": "stdout",
     "output_type": "stream",
     "text": [
      "INFO:tensorflow:Assets written to: A:\\MSc\\Pulmonary Nodules\\models_checkpoints\\assets\n"
     ]
    },
    {
     "name": "stderr",
     "output_type": "stream",
     "text": [
      "INFO:tensorflow:Assets written to: A:\\MSc\\Pulmonary Nodules\\models_checkpoints\\assets\n"
     ]
    },
    {
     "name": "stdout",
     "output_type": "stream",
     "text": [
      "200/200 [==============================] - 73s 364ms/step - loss: 0.1399 - accuracy: 0.9466 - val_loss: 0.2732 - val_accuracy: 0.8763\n",
      "Epoch 4/50\n",
      "200/200 [==============================] - 71s 357ms/step - loss: 0.0848 - accuracy: 0.9666 - val_loss: 0.4728 - val_accuracy: 0.8625\n",
      "Epoch 5/50\n",
      "200/200 [==============================] - ETA: 0s - loss: 0.0470 - accuracy: 0.9806"
     ]
    },
    {
     "name": "stderr",
     "output_type": "stream",
     "text": [
      "WARNING:absl:Found untraced functions such as _jit_compiled_convolution_op, _jit_compiled_convolution_op, _jit_compiled_convolution_op, _jit_compiled_convolution_op, _jit_compiled_convolution_op while saving (showing 5 of 9). These functions will not be directly callable after loading.\n"
     ]
    },
    {
     "name": "stdout",
     "output_type": "stream",
     "text": [
      "INFO:tensorflow:Assets written to: A:\\MSc\\Pulmonary Nodules\\models_checkpoints\\assets\n"
     ]
    },
    {
     "name": "stderr",
     "output_type": "stream",
     "text": [
      "INFO:tensorflow:Assets written to: A:\\MSc\\Pulmonary Nodules\\models_checkpoints\\assets\n"
     ]
    },
    {
     "name": "stdout",
     "output_type": "stream",
     "text": [
      "200/200 [==============================] - 73s 366ms/step - loss: 0.0470 - accuracy: 0.9806 - val_loss: 0.2162 - val_accuracy: 0.9175\n",
      "Epoch 6/50\n",
      "200/200 [==============================] - 72s 358ms/step - loss: 0.0549 - accuracy: 0.9791 - val_loss: 2.2252 - val_accuracy: 0.5738\n",
      "Epoch 7/50\n",
      "200/200 [==============================] - 71s 357ms/step - loss: 0.0975 - accuracy: 0.9684 - val_loss: 2.8521 - val_accuracy: 0.6037\n",
      "Epoch 8/50\n",
      "200/200 [==============================] - 72s 358ms/step - loss: 0.0749 - accuracy: 0.9734 - val_loss: 2.4825 - val_accuracy: 0.6250\n",
      "Epoch 9/50\n",
      "200/200 [==============================] - ETA: 0s - loss: 0.0309 - accuracy: 0.9900"
     ]
    },
    {
     "name": "stderr",
     "output_type": "stream",
     "text": [
      "WARNING:absl:Found untraced functions such as _jit_compiled_convolution_op, _jit_compiled_convolution_op, _jit_compiled_convolution_op, _jit_compiled_convolution_op, _jit_compiled_convolution_op while saving (showing 5 of 9). These functions will not be directly callable after loading.\n"
     ]
    },
    {
     "name": "stdout",
     "output_type": "stream",
     "text": [
      "INFO:tensorflow:Assets written to: A:\\MSc\\Pulmonary Nodules\\models_checkpoints\\assets\n"
     ]
    },
    {
     "name": "stderr",
     "output_type": "stream",
     "text": [
      "INFO:tensorflow:Assets written to: A:\\MSc\\Pulmonary Nodules\\models_checkpoints\\assets\n"
     ]
    },
    {
     "name": "stdout",
     "output_type": "stream",
     "text": [
      "200/200 [==============================] - 73s 365ms/step - loss: 0.0309 - accuracy: 0.9900 - val_loss: 0.0657 - val_accuracy: 0.9787\n",
      "Epoch 10/50\n",
      "200/200 [==============================] - 72s 358ms/step - loss: 0.0113 - accuracy: 0.9962 - val_loss: 0.1198 - val_accuracy: 0.9700\n",
      "Epoch 11/50\n",
      "200/200 [==============================] - 71s 358ms/step - loss: 0.0175 - accuracy: 0.9953 - val_loss: 0.1501 - val_accuracy: 0.9475\n",
      "Epoch 12/50\n",
      "200/200 [==============================] - 72s 358ms/step - loss: 0.0132 - accuracy: 0.9941 - val_loss: 0.0812 - val_accuracy: 0.9688\n",
      "Epoch 13/50\n",
      "200/200 [==============================] - 71s 358ms/step - loss: 0.0063 - accuracy: 0.9975 - val_loss: 0.0812 - val_accuracy: 0.9787\n",
      "Epoch 14/50\n",
      "200/200 [==============================] - 71s 357ms/step - loss: 0.0036 - accuracy: 0.9994 - val_loss: 0.2415 - val_accuracy: 0.9112\n",
      "Epoch 15/50\n",
      "200/200 [==============================] - ETA: 0s - loss: 0.0025 - accuracy: 0.9997"
     ]
    },
    {
     "name": "stderr",
     "output_type": "stream",
     "text": [
      "WARNING:absl:Found untraced functions such as _jit_compiled_convolution_op, _jit_compiled_convolution_op, _jit_compiled_convolution_op, _jit_compiled_convolution_op, _jit_compiled_convolution_op while saving (showing 5 of 9). These functions will not be directly callable after loading.\n"
     ]
    },
    {
     "name": "stdout",
     "output_type": "stream",
     "text": [
      "INFO:tensorflow:Assets written to: A:\\MSc\\Pulmonary Nodules\\models_checkpoints\\assets\n"
     ]
    },
    {
     "name": "stderr",
     "output_type": "stream",
     "text": [
      "INFO:tensorflow:Assets written to: A:\\MSc\\Pulmonary Nodules\\models_checkpoints\\assets\n"
     ]
    },
    {
     "name": "stdout",
     "output_type": "stream",
     "text": [
      "200/200 [==============================] - 73s 364ms/step - loss: 0.0025 - accuracy: 0.9997 - val_loss: 0.1109 - val_accuracy: 0.9812\n",
      "Epoch 16/50\n",
      "200/200 [==============================] - ETA: 0s - loss: 0.0019 - accuracy: 0.9994"
     ]
    },
    {
     "name": "stderr",
     "output_type": "stream",
     "text": [
      "WARNING:absl:Found untraced functions such as _jit_compiled_convolution_op, _jit_compiled_convolution_op, _jit_compiled_convolution_op, _jit_compiled_convolution_op, _jit_compiled_convolution_op while saving (showing 5 of 9). These functions will not be directly callable after loading.\n"
     ]
    },
    {
     "name": "stdout",
     "output_type": "stream",
     "text": [
      "INFO:tensorflow:Assets written to: A:\\MSc\\Pulmonary Nodules\\models_checkpoints\\assets\n"
     ]
    },
    {
     "name": "stderr",
     "output_type": "stream",
     "text": [
      "INFO:tensorflow:Assets written to: A:\\MSc\\Pulmonary Nodules\\models_checkpoints\\assets\n"
     ]
    },
    {
     "name": "stdout",
     "output_type": "stream",
     "text": [
      "200/200 [==============================] - 73s 365ms/step - loss: 0.0019 - accuracy: 0.9994 - val_loss: 0.0603 - val_accuracy: 0.9837\n",
      "Epoch 17/50\n",
      "200/200 [==============================] - 71s 357ms/step - loss: 0.0030 - accuracy: 0.9981 - val_loss: 0.0634 - val_accuracy: 0.9800\n",
      "Epoch 18/50\n",
      "200/200 [==============================] - 71s 357ms/step - loss: 0.0021 - accuracy: 0.9991 - val_loss: 0.0990 - val_accuracy: 0.9825\n",
      "Epoch 19/50\n",
      "200/200 [==============================] - 71s 357ms/step - loss: 0.0039 - accuracy: 0.9991 - val_loss: 0.2349 - val_accuracy: 0.9450\n",
      "Epoch 20/50\n",
      "200/200 [==============================] - 71s 356ms/step - loss: 0.0715 - accuracy: 0.9787 - val_loss: 53.0083 - val_accuracy: 0.4725\n",
      "Epoch 21/50\n",
      "200/200 [==============================] - 71s 357ms/step - loss: 0.1755 - accuracy: 0.9444 - val_loss: 3.6439 - val_accuracy: 0.4812\n",
      "Epoch 22/50\n",
      "200/200 [==============================] - 71s 357ms/step - loss: 0.0302 - accuracy: 0.9903 - val_loss: 0.1347 - val_accuracy: 0.9725\n",
      "Epoch 23/50\n",
      "200/200 [==============================] - 71s 357ms/step - loss: 0.0107 - accuracy: 0.9966 - val_loss: 0.2796 - val_accuracy: 0.9125\n",
      "Epoch 24/50\n",
      "200/200 [==============================] - 3943s 20s/step - loss: 0.0021 - accuracy: 0.9994 - val_loss: 0.1068 - val_accuracy: 0.9837\n",
      "Epoch 25/50\n",
      "200/200 [==============================] - 3031s 15s/step - loss: 0.0010 - accuracy: 0.9997 - val_loss: 0.1062 - val_accuracy: 0.9812\n",
      "Epoch 26/50\n",
      "200/200 [==============================] - 72s 361ms/step - loss: 0.0027 - accuracy: 0.9994 - val_loss: 0.1369 - val_accuracy: 0.9812\n",
      "Epoch 27/50\n",
      "200/200 [==============================] - 689s 3s/step - loss: 4.7463e-04 - accuracy: 1.0000 - val_loss: 0.1229 - val_accuracy: 0.9837\n",
      "Epoch 28/50\n",
      "200/200 [==============================] - 71s 354ms/step - loss: 2.4902e-04 - accuracy: 1.0000 - val_loss: 0.1300 - val_accuracy: 0.9812\n",
      "Epoch 29/50\n",
      "200/200 [==============================] - 72s 361ms/step - loss: 1.3183e-04 - accuracy: 1.0000 - val_loss: 0.1286 - val_accuracy: 0.9812\n",
      "Epoch 30/50\n",
      "200/200 [==============================] - 72s 360ms/step - loss: 9.8741e-05 - accuracy: 1.0000 - val_loss: 0.1333 - val_accuracy: 0.9812\n",
      "Epoch 31/50\n",
      "200/200 [==============================] - 72s 358ms/step - loss: 7.4464e-05 - accuracy: 1.0000 - val_loss: 0.1342 - val_accuracy: 0.9812\n",
      "Epoch 32/50\n",
      "200/200 [==============================] - 1935s 10s/step - loss: 6.3291e-05 - accuracy: 1.0000 - val_loss: 0.1334 - val_accuracy: 0.9812\n",
      "Epoch 33/50\n",
      " 77/200 [==========>...................] - ETA: 40s - loss: 5.1699e-05 - accuracy: 1.0000"
     ]
    },
    {
     "ename": "ResourceExhaustedError",
     "evalue": "Graph execution error:\n\nDetected at node 'gradient_tape/sequential/batch_normalization/FusedBatchNormGradV3' defined at (most recent call last):\n    File \"C:\\Users\\peter\\anaconda3\\envs\\tf\\lib\\runpy.py\", line 197, in _run_module_as_main\n      return _run_code(code, main_globals, None,\n    File \"C:\\Users\\peter\\anaconda3\\envs\\tf\\lib\\runpy.py\", line 87, in _run_code\n      exec(code, run_globals)\n    File \"C:\\Users\\peter\\anaconda3\\envs\\tf\\lib\\site-packages\\ipykernel_launcher.py\", line 17, in <module>\n      app.launch_new_instance()\n    File \"C:\\Users\\peter\\anaconda3\\envs\\tf\\lib\\site-packages\\traitlets\\config\\application.py\", line 992, in launch_instance\n      app.start()\n    File \"C:\\Users\\peter\\anaconda3\\envs\\tf\\lib\\site-packages\\ipykernel\\kernelapp.py\", line 711, in start\n      self.io_loop.start()\n    File \"C:\\Users\\peter\\anaconda3\\envs\\tf\\lib\\site-packages\\tornado\\platform\\asyncio.py\", line 215, in start\n      self.asyncio_loop.run_forever()\n    File \"C:\\Users\\peter\\anaconda3\\envs\\tf\\lib\\asyncio\\base_events.py\", line 601, in run_forever\n      self._run_once()\n    File \"C:\\Users\\peter\\anaconda3\\envs\\tf\\lib\\asyncio\\base_events.py\", line 1905, in _run_once\n      handle._run()\n    File \"C:\\Users\\peter\\anaconda3\\envs\\tf\\lib\\asyncio\\events.py\", line 80, in _run\n      self._context.run(self._callback, *self._args)\n    File \"C:\\Users\\peter\\anaconda3\\envs\\tf\\lib\\site-packages\\ipykernel\\kernelbase.py\", line 510, in dispatch_queue\n      await self.process_one()\n    File \"C:\\Users\\peter\\anaconda3\\envs\\tf\\lib\\site-packages\\ipykernel\\kernelbase.py\", line 499, in process_one\n      await dispatch(*args)\n    File \"C:\\Users\\peter\\anaconda3\\envs\\tf\\lib\\site-packages\\ipykernel\\kernelbase.py\", line 406, in dispatch_shell\n      await result\n    File \"C:\\Users\\peter\\anaconda3\\envs\\tf\\lib\\site-packages\\ipykernel\\kernelbase.py\", line 729, in execute_request\n      reply_content = await reply_content\n    File \"C:\\Users\\peter\\anaconda3\\envs\\tf\\lib\\site-packages\\ipykernel\\ipkernel.py\", line 411, in do_execute\n      res = shell.run_cell(\n    File \"C:\\Users\\peter\\anaconda3\\envs\\tf\\lib\\site-packages\\ipykernel\\zmqshell.py\", line 531, in run_cell\n      return super().run_cell(*args, **kwargs)\n    File \"C:\\Users\\peter\\anaconda3\\envs\\tf\\lib\\site-packages\\IPython\\core\\interactiveshell.py\", line 2961, in run_cell\n      result = self._run_cell(\n    File \"C:\\Users\\peter\\anaconda3\\envs\\tf\\lib\\site-packages\\IPython\\core\\interactiveshell.py\", line 3016, in _run_cell\n      result = runner(coro)\n    File \"C:\\Users\\peter\\anaconda3\\envs\\tf\\lib\\site-packages\\IPython\\core\\async_helpers.py\", line 129, in _pseudo_sync_runner\n      coro.send(None)\n    File \"C:\\Users\\peter\\anaconda3\\envs\\tf\\lib\\site-packages\\IPython\\core\\interactiveshell.py\", line 3221, in run_cell_async\n      has_raised = await self.run_ast_nodes(code_ast.body, cell_name,\n    File \"C:\\Users\\peter\\anaconda3\\envs\\tf\\lib\\site-packages\\IPython\\core\\interactiveshell.py\", line 3400, in run_ast_nodes\n      if await self.run_code(code, result, async_=asy):\n    File \"C:\\Users\\peter\\anaconda3\\envs\\tf\\lib\\site-packages\\IPython\\core\\interactiveshell.py\", line 3460, in run_code\n      exec(code_obj, self.user_global_ns, self.user_ns)\n    File \"C:\\Users\\peter\\AppData\\Local\\Temp\\ipykernel_25664\\317735821.py\", line 2, in <module>\n      history = model_r10.fit(\n    File \"C:\\Users\\peter\\anaconda3\\envs\\tf\\lib\\site-packages\\keras\\utils\\traceback_utils.py\", line 65, in error_handler\n      return fn(*args, **kwargs)\n    File \"C:\\Users\\peter\\anaconda3\\envs\\tf\\lib\\site-packages\\keras\\engine\\training.py\", line 1564, in fit\n      tmp_logs = self.train_function(iterator)\n    File \"C:\\Users\\peter\\anaconda3\\envs\\tf\\lib\\site-packages\\keras\\engine\\training.py\", line 1160, in train_function\n      return step_function(self, iterator)\n    File \"C:\\Users\\peter\\anaconda3\\envs\\tf\\lib\\site-packages\\keras\\engine\\training.py\", line 1146, in step_function\n      outputs = model.distribute_strategy.run(run_step, args=(data,))\n    File \"C:\\Users\\peter\\anaconda3\\envs\\tf\\lib\\site-packages\\keras\\engine\\training.py\", line 1135, in run_step\n      outputs = model.train_step(data)\n    File \"C:\\Users\\peter\\anaconda3\\envs\\tf\\lib\\site-packages\\keras\\engine\\training.py\", line 997, in train_step\n      self.optimizer.minimize(loss, self.trainable_variables, tape=tape)\n    File \"C:\\Users\\peter\\anaconda3\\envs\\tf\\lib\\site-packages\\keras\\optimizers\\optimizer_v2\\optimizer_v2.py\", line 576, in minimize\n      grads_and_vars = self._compute_gradients(\n    File \"C:\\Users\\peter\\anaconda3\\envs\\tf\\lib\\site-packages\\keras\\optimizers\\optimizer_v2\\optimizer_v2.py\", line 634, in _compute_gradients\n      grads_and_vars = self._get_gradients(\n    File \"C:\\Users\\peter\\anaconda3\\envs\\tf\\lib\\site-packages\\keras\\optimizers\\optimizer_v2\\optimizer_v2.py\", line 510, in _get_gradients\n      grads = tape.gradient(loss, var_list, grad_loss)\nNode: 'gradient_tape/sequential/batch_normalization/FusedBatchNormGradV3'\nOOM when allocating tensor with shape[16,32,64,1792] and type float on /job:localhost/replica:0/task:0/device:GPU:0 by allocator GPU_0_bfc\n\t [[{{node gradient_tape/sequential/batch_normalization/FusedBatchNormGradV3}}]]\nHint: If you want to see a list of allocated tensors when OOM happens, add report_tensor_allocations_upon_oom to RunOptions for current allocation info. This isn't available when running in Eager mode.\n [Op:__inference_train_function_1960]",
     "output_type": "error",
     "traceback": [
      "\u001b[1;31m---------------------------------------------------------------------------\u001b[0m",
      "\u001b[1;31mResourceExhaustedError\u001b[0m                    Traceback (most recent call last)",
      "Cell \u001b[1;32mIn[8], line 2\u001b[0m\n\u001b[0;32m      1\u001b[0m epochs \u001b[38;5;241m=\u001b[39m \u001b[38;5;241m50\u001b[39m\n\u001b[1;32m----> 2\u001b[0m history \u001b[38;5;241m=\u001b[39m \u001b[43mmodel_r10\u001b[49m\u001b[38;5;241;43m.\u001b[39;49m\u001b[43mfit\u001b[49m\u001b[43m(\u001b[49m\n\u001b[0;32m      3\u001b[0m \u001b[43m  \u001b[49m\u001b[43mtrain_10\u001b[49m\u001b[43m,\u001b[49m\n\u001b[0;32m      4\u001b[0m \u001b[43m  \u001b[49m\u001b[43mvalidation_data\u001b[49m\u001b[38;5;241;43m=\u001b[39;49m\u001b[43mval_10\u001b[49m\u001b[43m,\u001b[49m\n\u001b[0;32m      5\u001b[0m \u001b[43m  \u001b[49m\u001b[43mepochs\u001b[49m\u001b[38;5;241;43m=\u001b[39;49m\u001b[43mepochs\u001b[49m\u001b[43m,\u001b[49m\n\u001b[0;32m      6\u001b[0m \u001b[43m  \u001b[49m\u001b[43mcallbacks\u001b[49m\u001b[38;5;241;43m=\u001b[39;49m\u001b[43m[\u001b[49m\u001b[43mmodel_checkpoint_callback\u001b[49m\u001b[43m]\u001b[49m\n\u001b[0;32m      7\u001b[0m \u001b[43m)\u001b[49m\n\u001b[0;32m      8\u001b[0m model_r10\u001b[38;5;241m.\u001b[39msave(\u001b[38;5;124mr\u001b[39m\u001b[38;5;124m'\u001b[39m\u001b[38;5;124mA:\u001b[39m\u001b[38;5;124m\\\u001b[39m\u001b[38;5;124mMSc\u001b[39m\u001b[38;5;124m\\\u001b[39m\u001b[38;5;124mPulmonary Nodules\u001b[39m\u001b[38;5;124m\\\u001b[39m\u001b[38;5;124mmodels\u001b[39m\u001b[38;5;124m\\\u001b[39m\u001b[38;5;124marranged_model_r10\u001b[39m\u001b[38;5;124m'\u001b[39m)\n",
      "File \u001b[1;32m~\\anaconda3\\envs\\tf\\lib\\site-packages\\keras\\utils\\traceback_utils.py:70\u001b[0m, in \u001b[0;36mfilter_traceback.<locals>.error_handler\u001b[1;34m(*args, **kwargs)\u001b[0m\n\u001b[0;32m     67\u001b[0m     filtered_tb \u001b[38;5;241m=\u001b[39m _process_traceback_frames(e\u001b[38;5;241m.\u001b[39m__traceback__)\n\u001b[0;32m     68\u001b[0m     \u001b[38;5;66;03m# To get the full stack trace, call:\u001b[39;00m\n\u001b[0;32m     69\u001b[0m     \u001b[38;5;66;03m# `tf.debugging.disable_traceback_filtering()`\u001b[39;00m\n\u001b[1;32m---> 70\u001b[0m     \u001b[38;5;28;01mraise\u001b[39;00m e\u001b[38;5;241m.\u001b[39mwith_traceback(filtered_tb) \u001b[38;5;28;01mfrom\u001b[39;00m \u001b[38;5;28mNone\u001b[39m\n\u001b[0;32m     71\u001b[0m \u001b[38;5;28;01mfinally\u001b[39;00m:\n\u001b[0;32m     72\u001b[0m     \u001b[38;5;28;01mdel\u001b[39;00m filtered_tb\n",
      "File \u001b[1;32m~\\anaconda3\\envs\\tf\\lib\\site-packages\\tensorflow\\python\\eager\\execute.py:54\u001b[0m, in \u001b[0;36mquick_execute\u001b[1;34m(op_name, num_outputs, inputs, attrs, ctx, name)\u001b[0m\n\u001b[0;32m     52\u001b[0m \u001b[38;5;28;01mtry\u001b[39;00m:\n\u001b[0;32m     53\u001b[0m   ctx\u001b[38;5;241m.\u001b[39mensure_initialized()\n\u001b[1;32m---> 54\u001b[0m   tensors \u001b[38;5;241m=\u001b[39m pywrap_tfe\u001b[38;5;241m.\u001b[39mTFE_Py_Execute(ctx\u001b[38;5;241m.\u001b[39m_handle, device_name, op_name,\n\u001b[0;32m     55\u001b[0m                                       inputs, attrs, num_outputs)\n\u001b[0;32m     56\u001b[0m \u001b[38;5;28;01mexcept\u001b[39;00m core\u001b[38;5;241m.\u001b[39m_NotOkStatusException \u001b[38;5;28;01mas\u001b[39;00m e:\n\u001b[0;32m     57\u001b[0m   \u001b[38;5;28;01mif\u001b[39;00m name \u001b[38;5;129;01mis\u001b[39;00m \u001b[38;5;129;01mnot\u001b[39;00m \u001b[38;5;28;01mNone\u001b[39;00m:\n",
      "\u001b[1;31mResourceExhaustedError\u001b[0m: Graph execution error:\n\nDetected at node 'gradient_tape/sequential/batch_normalization/FusedBatchNormGradV3' defined at (most recent call last):\n    File \"C:\\Users\\peter\\anaconda3\\envs\\tf\\lib\\runpy.py\", line 197, in _run_module_as_main\n      return _run_code(code, main_globals, None,\n    File \"C:\\Users\\peter\\anaconda3\\envs\\tf\\lib\\runpy.py\", line 87, in _run_code\n      exec(code, run_globals)\n    File \"C:\\Users\\peter\\anaconda3\\envs\\tf\\lib\\site-packages\\ipykernel_launcher.py\", line 17, in <module>\n      app.launch_new_instance()\n    File \"C:\\Users\\peter\\anaconda3\\envs\\tf\\lib\\site-packages\\traitlets\\config\\application.py\", line 992, in launch_instance\n      app.start()\n    File \"C:\\Users\\peter\\anaconda3\\envs\\tf\\lib\\site-packages\\ipykernel\\kernelapp.py\", line 711, in start\n      self.io_loop.start()\n    File \"C:\\Users\\peter\\anaconda3\\envs\\tf\\lib\\site-packages\\tornado\\platform\\asyncio.py\", line 215, in start\n      self.asyncio_loop.run_forever()\n    File \"C:\\Users\\peter\\anaconda3\\envs\\tf\\lib\\asyncio\\base_events.py\", line 601, in run_forever\n      self._run_once()\n    File \"C:\\Users\\peter\\anaconda3\\envs\\tf\\lib\\asyncio\\base_events.py\", line 1905, in _run_once\n      handle._run()\n    File \"C:\\Users\\peter\\anaconda3\\envs\\tf\\lib\\asyncio\\events.py\", line 80, in _run\n      self._context.run(self._callback, *self._args)\n    File \"C:\\Users\\peter\\anaconda3\\envs\\tf\\lib\\site-packages\\ipykernel\\kernelbase.py\", line 510, in dispatch_queue\n      await self.process_one()\n    File \"C:\\Users\\peter\\anaconda3\\envs\\tf\\lib\\site-packages\\ipykernel\\kernelbase.py\", line 499, in process_one\n      await dispatch(*args)\n    File \"C:\\Users\\peter\\anaconda3\\envs\\tf\\lib\\site-packages\\ipykernel\\kernelbase.py\", line 406, in dispatch_shell\n      await result\n    File \"C:\\Users\\peter\\anaconda3\\envs\\tf\\lib\\site-packages\\ipykernel\\kernelbase.py\", line 729, in execute_request\n      reply_content = await reply_content\n    File \"C:\\Users\\peter\\anaconda3\\envs\\tf\\lib\\site-packages\\ipykernel\\ipkernel.py\", line 411, in do_execute\n      res = shell.run_cell(\n    File \"C:\\Users\\peter\\anaconda3\\envs\\tf\\lib\\site-packages\\ipykernel\\zmqshell.py\", line 531, in run_cell\n      return super().run_cell(*args, **kwargs)\n    File \"C:\\Users\\peter\\anaconda3\\envs\\tf\\lib\\site-packages\\IPython\\core\\interactiveshell.py\", line 2961, in run_cell\n      result = self._run_cell(\n    File \"C:\\Users\\peter\\anaconda3\\envs\\tf\\lib\\site-packages\\IPython\\core\\interactiveshell.py\", line 3016, in _run_cell\n      result = runner(coro)\n    File \"C:\\Users\\peter\\anaconda3\\envs\\tf\\lib\\site-packages\\IPython\\core\\async_helpers.py\", line 129, in _pseudo_sync_runner\n      coro.send(None)\n    File \"C:\\Users\\peter\\anaconda3\\envs\\tf\\lib\\site-packages\\IPython\\core\\interactiveshell.py\", line 3221, in run_cell_async\n      has_raised = await self.run_ast_nodes(code_ast.body, cell_name,\n    File \"C:\\Users\\peter\\anaconda3\\envs\\tf\\lib\\site-packages\\IPython\\core\\interactiveshell.py\", line 3400, in run_ast_nodes\n      if await self.run_code(code, result, async_=asy):\n    File \"C:\\Users\\peter\\anaconda3\\envs\\tf\\lib\\site-packages\\IPython\\core\\interactiveshell.py\", line 3460, in run_code\n      exec(code_obj, self.user_global_ns, self.user_ns)\n    File \"C:\\Users\\peter\\AppData\\Local\\Temp\\ipykernel_25664\\317735821.py\", line 2, in <module>\n      history = model_r10.fit(\n    File \"C:\\Users\\peter\\anaconda3\\envs\\tf\\lib\\site-packages\\keras\\utils\\traceback_utils.py\", line 65, in error_handler\n      return fn(*args, **kwargs)\n    File \"C:\\Users\\peter\\anaconda3\\envs\\tf\\lib\\site-packages\\keras\\engine\\training.py\", line 1564, in fit\n      tmp_logs = self.train_function(iterator)\n    File \"C:\\Users\\peter\\anaconda3\\envs\\tf\\lib\\site-packages\\keras\\engine\\training.py\", line 1160, in train_function\n      return step_function(self, iterator)\n    File \"C:\\Users\\peter\\anaconda3\\envs\\tf\\lib\\site-packages\\keras\\engine\\training.py\", line 1146, in step_function\n      outputs = model.distribute_strategy.run(run_step, args=(data,))\n    File \"C:\\Users\\peter\\anaconda3\\envs\\tf\\lib\\site-packages\\keras\\engine\\training.py\", line 1135, in run_step\n      outputs = model.train_step(data)\n    File \"C:\\Users\\peter\\anaconda3\\envs\\tf\\lib\\site-packages\\keras\\engine\\training.py\", line 997, in train_step\n      self.optimizer.minimize(loss, self.trainable_variables, tape=tape)\n    File \"C:\\Users\\peter\\anaconda3\\envs\\tf\\lib\\site-packages\\keras\\optimizers\\optimizer_v2\\optimizer_v2.py\", line 576, in minimize\n      grads_and_vars = self._compute_gradients(\n    File \"C:\\Users\\peter\\anaconda3\\envs\\tf\\lib\\site-packages\\keras\\optimizers\\optimizer_v2\\optimizer_v2.py\", line 634, in _compute_gradients\n      grads_and_vars = self._get_gradients(\n    File \"C:\\Users\\peter\\anaconda3\\envs\\tf\\lib\\site-packages\\keras\\optimizers\\optimizer_v2\\optimizer_v2.py\", line 510, in _get_gradients\n      grads = tape.gradient(loss, var_list, grad_loss)\nNode: 'gradient_tape/sequential/batch_normalization/FusedBatchNormGradV3'\nOOM when allocating tensor with shape[16,32,64,1792] and type float on /job:localhost/replica:0/task:0/device:GPU:0 by allocator GPU_0_bfc\n\t [[{{node gradient_tape/sequential/batch_normalization/FusedBatchNormGradV3}}]]\nHint: If you want to see a list of allocated tensors when OOM happens, add report_tensor_allocations_upon_oom to RunOptions for current allocation info. This isn't available when running in Eager mode.\n [Op:__inference_train_function_1960]"
     ]
    }
   ],
   "source": [
    "epochs = 50\n",
    "history = model_r10.fit(\n",
    "  train_10,\n",
    "  validation_data=val_10,\n",
    "  epochs=epochs,\n",
    "  callbacks=[model_checkpoint_callback]\n",
    ")\n",
    "model_r10.save(r'A:\\MSc\\Pulmonary Nodules\\models\\arranged_model_r10')"
   ]
  },
  {
   "cell_type": "code",
   "execution_count": 18,
   "id": "77c7e73f-b557-4abf-ab18-02857b69dd91",
   "metadata": {},
   "outputs": [],
   "source": [
    "m10 = tf.keras.models.load_model(r'A:\\MSc\\Pulmonary Nodules\\MY BEST MODELS\\R10')"
   ]
  },
  {
   "cell_type": "code",
   "execution_count": null,
   "id": "ac3de9a1-3fd1-4c3d-a90a-f8d98aae3c9b",
   "metadata": {
    "tags": []
   },
   "outputs": [],
   "source": [
    "acc = history.history['accuracy']\n",
    "val_acc = history.history['val_accuracy']\n",
    "\n",
    "loss = history.history['loss']\n",
    "val_loss = history.history['val_loss']\n",
    "\n",
    "epochs_range = range(epochs)\n",
    "\n",
    "plt.figure(figsize=(8, 8))\n",
    "plt.subplot(1, 2, 1)\n",
    "plt.plot(epochs_range, acc, label='Training Accuracy')\n",
    "plt.plot(epochs_range, val_acc, label='Validation Accuracy')\n",
    "plt.legend(loc='lower right')\n",
    "plt.title('Training and Validation Accuracy')\n",
    "\n",
    "plt.subplot(1, 2, 2)\n",
    "plt.plot(epochs_range, loss, label='Training Loss')\n",
    "plt.plot(epochs_range, val_loss, label='Validation Loss')\n",
    "plt.legend(loc='upper right')\n",
    "plt.title('Training and Validation Loss')\n",
    "plt.show()"
   ]
  },
  {
   "cell_type": "code",
   "execution_count": 13,
   "id": "17a6780e-65f3-4bc3-92f3-615318a6a48d",
   "metadata": {},
   "outputs": [],
   "source": [
    "def test_data_prep(data, labels, BATCH_SIZE = 16):\n",
    "    print('data length = ', len(labels))\n",
    "    scaler = Normalizer(data)\n",
    "    normalized = scaler.normalize(data)\n",
    "    print(\"max of training dataset: \", np.max(normalized), \" & min: \", np.min(normalized))\n",
    "    data = tf.data.Dataset.from_tensor_slices((normalized, labels))\n",
    "    test_data = data.batch(BATCH_SIZE)\n",
    "    return test_data, normalized, labels\n",
    "\n",
    "def accuracy_predict(preds, y):\n",
    "    from sklearn.metrics import accuracy_score\n",
    "    yf = preds.copy()\n",
    "    yf[preds <= 0.5] = 0\n",
    "    yf[preds > 0.5] = 1\n",
    "    return accuracy_score(yf, y)"
   ]
  },
  {
   "cell_type": "code",
   "execution_count": 15,
   "id": "2761b2dd-bfae-474c-aa17-93af914f9370",
   "metadata": {},
   "outputs": [
    {
     "data": {
      "application/vnd.jupyter.widget-view+json": {
       "model_id": "d72cf63918e74208bf39891fe9058b7f",
       "version_major": 2,
       "version_minor": 0
      },
      "text/plain": [
       "  0%|          | 0/500 [00:00<?, ?it/s]"
      ]
     },
     "metadata": {},
     "output_type": "display_data"
    },
    {
     "data": {
      "application/vnd.jupyter.widget-view+json": {
       "model_id": "ad338f39e55448578e81861a14afc06f",
       "version_major": 2,
       "version_minor": 0
      },
      "text/plain": [
       "  0%|          | 0/500 [00:00<?, ?it/s]"
      ]
     },
     "metadata": {},
     "output_type": "display_data"
    },
    {
     "name": "stdout",
     "output_type": "stream",
     "text": [
      "data length =  988\n",
      "max of training dataset:  1.0  & min:  0.0\n"
     ]
    }
   ],
   "source": [
    "x_10, y_10 = get_binary_testing_data(10, n1 = 2000, n2=2500, size = (64,64,28), levels=[1, 5])\n",
    "test_data_10, normalized, labels = test_data_prep(x_10, y_10, BATCH_SIZE = 16)"
   ]
  },
  {
   "cell_type": "code",
   "execution_count": 19,
   "id": "d5b8f57f-854d-41be-b870-fd1194b2ed81",
   "metadata": {},
   "outputs": [
    {
     "name": "stdout",
     "output_type": "stream",
     "text": [
      "62/62 [==============================] - 7s 107ms/step - loss: 1.7054 - accuracy: 0.7136\n"
     ]
    },
    {
     "data": {
      "text/plain": [
       "[1.705418348312378, 0.7135627269744873]"
      ]
     },
     "execution_count": 19,
     "metadata": {},
     "output_type": "execute_result"
    }
   ],
   "source": [
    "m10.evaluate(test_data_10)"
   ]
  },
  {
   "cell_type": "code",
   "execution_count": 20,
   "id": "2fa22abe-1d75-40e9-af8b-698d226c1b58",
   "metadata": {
    "tags": []
   },
   "outputs": [
    {
     "name": "stdout",
     "output_type": "stream",
     "text": [
      "31/31 [==============================] - 6s 210ms/step\n"
     ]
    },
    {
     "data": {
      "text/plain": [
       "0.7135627530364372"
      ]
     },
     "execution_count": 20,
     "metadata": {},
     "output_type": "execute_result"
    }
   ],
   "source": [
    "preds = m10.predict(normalized)\n",
    "accuracy_predict(preds, labels)"
   ]
  },
  {
   "cell_type": "markdown",
   "id": "d7b31def-c35b-4ee4-a6c9-fdbb3f42e27a",
   "metadata": {
    "jp-MarkdownHeadingCollapsed": true,
    "tags": []
   },
   "source": [
    "## Training radius 20"
   ]
  },
  {
   "cell_type": "code",
   "execution_count": 7,
   "id": "b8b9b668-1996-4256-a1fc-a2c3f270fbb0",
   "metadata": {},
   "outputs": [],
   "source": [
    "n_classes = 1\n",
    "model_r20 = get_cnn_model(h=64,w=64,d=28)\n",
    "checkpoint_filepath = r'A:\\MSc\\Pulmonary Nodules\\models_checkpoints'\n",
    "model_checkpoint_callback = tf.keras.callbacks.ModelCheckpoint(\n",
    "    filepath=checkpoint_filepath,\n",
    "    monitor='val_accuracy',\n",
    "    mode='max',\n",
    "    save_best_only=True)\n",
    "\n",
    "model_r20.compile(optimizer='adam',\n",
    "              loss=tf.keras.losses.BinaryCrossentropy(),\n",
    "              metrics=['accuracy'])"
   ]
  },
  {
   "cell_type": "code",
   "execution_count": 8,
   "id": "6d22ef9d-acb2-4829-be21-d7368f7f1adf",
   "metadata": {
    "tags": []
   },
   "outputs": [
    {
     "name": "stdout",
     "output_type": "stream",
     "text": [
      "Epoch 1/20\n",
      "200/200 [==============================] - ETA: 0s - loss: 0.9830 - accuracy: 0.5537"
     ]
    },
    {
     "name": "stderr",
     "output_type": "stream",
     "text": [
      "WARNING:absl:Found untraced functions such as _jit_compiled_convolution_op, _jit_compiled_convolution_op, _jit_compiled_convolution_op, _jit_compiled_convolution_op, _jit_compiled_convolution_op while saving (showing 5 of 9). These functions will not be directly callable after loading.\n"
     ]
    },
    {
     "name": "stdout",
     "output_type": "stream",
     "text": [
      "INFO:tensorflow:Assets written to: A:\\MSc\\Pulmonary Nodules\\models_checkpoints\\assets\n"
     ]
    },
    {
     "name": "stderr",
     "output_type": "stream",
     "text": [
      "INFO:tensorflow:Assets written to: A:\\MSc\\Pulmonary Nodules\\models_checkpoints\\assets\n"
     ]
    },
    {
     "name": "stdout",
     "output_type": "stream",
     "text": [
      "200/200 [==============================] - 82s 364ms/step - loss: 0.9830 - accuracy: 0.5537 - val_loss: 9.6113 - val_accuracy: 0.5450\n",
      "Epoch 2/20\n",
      "200/200 [==============================] - ETA: 0s - loss: 0.5937 - accuracy: 0.6647"
     ]
    },
    {
     "name": "stderr",
     "output_type": "stream",
     "text": [
      "WARNING:absl:Found untraced functions such as _jit_compiled_convolution_op, _jit_compiled_convolution_op, _jit_compiled_convolution_op, _jit_compiled_convolution_op, _jit_compiled_convolution_op while saving (showing 5 of 9). These functions will not be directly callable after loading.\n"
     ]
    },
    {
     "name": "stdout",
     "output_type": "stream",
     "text": [
      "INFO:tensorflow:Assets written to: A:\\MSc\\Pulmonary Nodules\\models_checkpoints\\assets\n"
     ]
    },
    {
     "name": "stderr",
     "output_type": "stream",
     "text": [
      "INFO:tensorflow:Assets written to: A:\\MSc\\Pulmonary Nodules\\models_checkpoints\\assets\n"
     ]
    },
    {
     "name": "stdout",
     "output_type": "stream",
     "text": [
      "200/200 [==============================] - 73s 364ms/step - loss: 0.5937 - accuracy: 0.6647 - val_loss: 0.6941 - val_accuracy: 0.6062\n",
      "Epoch 3/20\n",
      "200/200 [==============================] - ETA: 0s - loss: 0.4726 - accuracy: 0.7584"
     ]
    },
    {
     "name": "stderr",
     "output_type": "stream",
     "text": [
      "WARNING:absl:Found untraced functions such as _jit_compiled_convolution_op, _jit_compiled_convolution_op, _jit_compiled_convolution_op, _jit_compiled_convolution_op, _jit_compiled_convolution_op while saving (showing 5 of 9). These functions will not be directly callable after loading.\n"
     ]
    },
    {
     "name": "stdout",
     "output_type": "stream",
     "text": [
      "INFO:tensorflow:Assets written to: A:\\MSc\\Pulmonary Nodules\\models_checkpoints\\assets\n"
     ]
    },
    {
     "name": "stderr",
     "output_type": "stream",
     "text": [
      "INFO:tensorflow:Assets written to: A:\\MSc\\Pulmonary Nodules\\models_checkpoints\\assets\n"
     ]
    },
    {
     "name": "stdout",
     "output_type": "stream",
     "text": [
      "200/200 [==============================] - 73s 363ms/step - loss: 0.4726 - accuracy: 0.7584 - val_loss: 1.0601 - val_accuracy: 0.6237\n",
      "Epoch 4/20\n",
      "200/200 [==============================] - ETA: 0s - loss: 0.3267 - accuracy: 0.8375"
     ]
    },
    {
     "name": "stderr",
     "output_type": "stream",
     "text": [
      "WARNING:absl:Found untraced functions such as _jit_compiled_convolution_op, _jit_compiled_convolution_op, _jit_compiled_convolution_op, _jit_compiled_convolution_op, _jit_compiled_convolution_op while saving (showing 5 of 9). These functions will not be directly callable after loading.\n"
     ]
    },
    {
     "name": "stdout",
     "output_type": "stream",
     "text": [
      "INFO:tensorflow:Assets written to: A:\\MSc\\Pulmonary Nodules\\models_checkpoints\\assets\n"
     ]
    },
    {
     "name": "stderr",
     "output_type": "stream",
     "text": [
      "INFO:tensorflow:Assets written to: A:\\MSc\\Pulmonary Nodules\\models_checkpoints\\assets\n"
     ]
    },
    {
     "name": "stdout",
     "output_type": "stream",
     "text": [
      "200/200 [==============================] - 73s 363ms/step - loss: 0.3267 - accuracy: 0.8375 - val_loss: 0.4216 - val_accuracy: 0.7975\n",
      "Epoch 5/20\n",
      "200/200 [==============================] - ETA: 0s - loss: 0.2239 - accuracy: 0.8947"
     ]
    },
    {
     "name": "stderr",
     "output_type": "stream",
     "text": [
      "WARNING:absl:Found untraced functions such as _jit_compiled_convolution_op, _jit_compiled_convolution_op, _jit_compiled_convolution_op, _jit_compiled_convolution_op, _jit_compiled_convolution_op while saving (showing 5 of 9). These functions will not be directly callable after loading.\n"
     ]
    },
    {
     "name": "stdout",
     "output_type": "stream",
     "text": [
      "INFO:tensorflow:Assets written to: A:\\MSc\\Pulmonary Nodules\\models_checkpoints\\assets\n"
     ]
    },
    {
     "name": "stderr",
     "output_type": "stream",
     "text": [
      "INFO:tensorflow:Assets written to: A:\\MSc\\Pulmonary Nodules\\models_checkpoints\\assets\n"
     ]
    },
    {
     "name": "stdout",
     "output_type": "stream",
     "text": [
      "200/200 [==============================] - 73s 364ms/step - loss: 0.2239 - accuracy: 0.8947 - val_loss: 0.2722 - val_accuracy: 0.8925\n",
      "Epoch 6/20\n",
      "200/200 [==============================] - 71s 356ms/step - loss: 0.1659 - accuracy: 0.9253 - val_loss: 0.3217 - val_accuracy: 0.8450\n",
      "Epoch 7/20\n",
      "200/200 [==============================] - 71s 356ms/step - loss: 0.0867 - accuracy: 0.9556 - val_loss: 0.5158 - val_accuracy: 0.8325\n",
      "Epoch 8/20\n",
      "200/200 [==============================] - 71s 356ms/step - loss: 0.1522 - accuracy: 0.9344 - val_loss: 1.7365 - val_accuracy: 0.6075\n",
      "Epoch 9/20\n",
      "200/200 [==============================] - 71s 357ms/step - loss: 0.0889 - accuracy: 0.9619 - val_loss: 0.6065 - val_accuracy: 0.7663\n",
      "Epoch 10/20\n",
      "200/200 [==============================] - 71s 357ms/step - loss: 0.0523 - accuracy: 0.9725 - val_loss: 1.4702 - val_accuracy: 0.7150\n",
      "Epoch 11/20\n",
      "200/200 [==============================] - 71s 358ms/step - loss: 0.0545 - accuracy: 0.9741 - val_loss: 0.4274 - val_accuracy: 0.8675\n",
      "Epoch 12/20\n",
      "200/200 [==============================] - 72s 358ms/step - loss: 0.0576 - accuracy: 0.9762 - val_loss: 0.7809 - val_accuracy: 0.7700\n",
      "Epoch 13/20\n",
      "200/200 [==============================] - 72s 359ms/step - loss: 0.0418 - accuracy: 0.9787 - val_loss: 0.3871 - val_accuracy: 0.8725\n",
      "Epoch 14/20\n",
      "200/200 [==============================] - 72s 358ms/step - loss: 0.0289 - accuracy: 0.9869 - val_loss: 1.0298 - val_accuracy: 0.7375\n",
      "Epoch 15/20\n",
      "200/200 [==============================] - ETA: 0s - loss: 0.0189 - accuracy: 0.9925"
     ]
    },
    {
     "name": "stderr",
     "output_type": "stream",
     "text": [
      "WARNING:absl:Found untraced functions such as _jit_compiled_convolution_op, _jit_compiled_convolution_op, _jit_compiled_convolution_op, _jit_compiled_convolution_op, _jit_compiled_convolution_op while saving (showing 5 of 9). These functions will not be directly callable after loading.\n"
     ]
    },
    {
     "name": "stdout",
     "output_type": "stream",
     "text": [
      "INFO:tensorflow:Assets written to: A:\\MSc\\Pulmonary Nodules\\models_checkpoints\\assets\n"
     ]
    },
    {
     "name": "stderr",
     "output_type": "stream",
     "text": [
      "INFO:tensorflow:Assets written to: A:\\MSc\\Pulmonary Nodules\\models_checkpoints\\assets\n"
     ]
    },
    {
     "name": "stdout",
     "output_type": "stream",
     "text": [
      "200/200 [==============================] - 73s 366ms/step - loss: 0.0189 - accuracy: 0.9925 - val_loss: 0.1662 - val_accuracy: 0.9725\n",
      "Epoch 16/20\n",
      "200/200 [==============================] - 72s 358ms/step - loss: 0.0222 - accuracy: 0.9906 - val_loss: 0.2686 - val_accuracy: 0.9350\n",
      "Epoch 17/20\n",
      "200/200 [==============================] - 72s 358ms/step - loss: 0.0583 - accuracy: 0.9791 - val_loss: 3.3737 - val_accuracy: 0.6250\n",
      "Epoch 18/20\n",
      "200/200 [==============================] - 72s 359ms/step - loss: 0.1172 - accuracy: 0.9631 - val_loss: 0.6116 - val_accuracy: 0.8425\n",
      "Epoch 19/20\n",
      "200/200 [==============================] - 72s 360ms/step - loss: 0.0359 - accuracy: 0.9894 - val_loss: 1.8936 - val_accuracy: 0.5663\n",
      "Epoch 20/20\n",
      "200/200 [==============================] - 72s 359ms/step - loss: 0.0148 - accuracy: 0.9922 - val_loss: 0.1716 - val_accuracy: 0.9688\n"
     ]
    },
    {
     "name": "stderr",
     "output_type": "stream",
     "text": [
      "WARNING:absl:Found untraced functions such as _jit_compiled_convolution_op, _jit_compiled_convolution_op, _jit_compiled_convolution_op, _jit_compiled_convolution_op, _jit_compiled_convolution_op while saving (showing 5 of 9). These functions will not be directly callable after loading.\n"
     ]
    },
    {
     "name": "stdout",
     "output_type": "stream",
     "text": [
      "INFO:tensorflow:Assets written to: A:\\MSc\\Pulmonary Nodules\\models\\arranged_model_r20\\assets\n"
     ]
    },
    {
     "name": "stderr",
     "output_type": "stream",
     "text": [
      "INFO:tensorflow:Assets written to: A:\\MSc\\Pulmonary Nodules\\models\\arranged_model_r20\\assets\n"
     ]
    }
   ],
   "source": [
    "epochs = 20\n",
    "history = model_r20.fit(\n",
    "  train_20,\n",
    "  validation_data=val_20,\n",
    "  epochs=epochs,\n",
    "  callbacks=[model_checkpoint_callback]\n",
    ")\n",
    "\n",
    "model_r20.save(r'A:\\MSc\\Pulmonary Nodules\\models\\arranged_model_r20')"
   ]
  },
  {
   "cell_type": "code",
   "execution_count": 9,
   "id": "61e9336e-edec-4a68-aee2-fd5b82c1b42a",
   "metadata": {
    "tags": []
   },
   "outputs": [
    {
     "data": {
      "image/png": "[encoded data removed]",
      "text/plain": [
       "<Figure size 800x800 with 2 Axes>"
      ]
     },
     "metadata": {},
     "output_type": "display_data"
    }
   ],
   "source": [
    "acc = history.history['accuracy']\n",
    "val_acc = history.history['val_accuracy']\n",
    "\n",
    "loss = history.history['loss']\n",
    "val_loss = history.history['val_loss']\n",
    "\n",
    "epochs_range = range(epochs)\n",
    "\n",
    "plt.figure(figsize=(8, 8))\n",
    "plt.subplot(1, 2, 1)\n",
    "plt.plot(epochs_range, acc, label='Training Accuracy')\n",
    "plt.plot(epochs_range, val_acc, label='Validation Accuracy')\n",
    "plt.legend(loc='lower right')\n",
    "plt.title('Training and Validation Accuracy')\n",
    "\n",
    "plt.subplot(1, 2, 2)\n",
    "plt.plot(epochs_range, loss, label='Training Loss')\n",
    "plt.plot(epochs_range, val_loss, label='Validation Loss')\n",
    "plt.legend(loc='upper right')\n",
    "plt.title('Training and Validation Loss')\n",
    "plt.show()"
   ]
  },
  {
   "cell_type": "markdown",
   "id": "25917661-beb3-426f-b346-82e44e2aaf06",
   "metadata": {
    "jp-MarkdownHeadingCollapsed": true,
    "tags": []
   },
   "source": [
    "## Training radius 30"
   ]
  },
  {
   "cell_type": "code",
   "execution_count": 7,
   "id": "68e68915-f595-4ae8-8d18-2f09dc675a44",
   "metadata": {},
   "outputs": [],
   "source": [
    "n_classes = 1\n",
    "model_r30 = get_cnn_model(h=64,w=64,d=28)\n",
    "checkpoint_filepath = r'A:\\MSc\\Pulmonary Nodules\\models_checkpoints'\n",
    "model_checkpoint_callback = tf.keras.callbacks.ModelCheckpoint(\n",
    "    filepath=checkpoint_filepath,\n",
    "    monitor='val_accuracy',\n",
    "    mode='max',\n",
    "    save_best_only=True)\n",
    "\n",
    "model_r30.compile(optimizer='adam',\n",
    "              loss=tf.keras.losses.BinaryCrossentropy(),\n",
    "              metrics=['accuracy'])"
   ]
  },
  {
   "cell_type": "code",
   "execution_count": 8,
   "id": "c56c3a85-f7e6-4fa6-bf84-9d71bc9d67c9",
   "metadata": {
    "tags": []
   },
   "outputs": [
    {
     "name": "stdout",
     "output_type": "stream",
     "text": [
      "Epoch 1/30\n",
      "200/200 [==============================] - ETA: 0s - loss: 0.8783 - accuracy: 0.5184"
     ]
    },
    {
     "name": "stderr",
     "output_type": "stream",
     "text": [
      "WARNING:absl:Found untraced functions such as _jit_compiled_convolution_op, _jit_compiled_convolution_op, _jit_compiled_convolution_op, _jit_compiled_convolution_op, _jit_compiled_convolution_op while saving (showing 5 of 9). These functions will not be directly callable after loading.\n"
     ]
    },
    {
     "name": "stdout",
     "output_type": "stream",
     "text": [
      "INFO:tensorflow:Assets written to: A:\\MSc\\Pulmonary Nodules\\models_checkpoints\\assets\n"
     ]
    },
    {
     "name": "stderr",
     "output_type": "stream",
     "text": [
      "INFO:tensorflow:Assets written to: A:\\MSc\\Pulmonary Nodules\\models_checkpoints\\assets\n"
     ]
    },
    {
     "name": "stdout",
     "output_type": "stream",
     "text": [
      "200/200 [==============================] - 82s 363ms/step - loss: 0.8783 - accuracy: 0.5184 - val_loss: 3.8693 - val_accuracy: 0.4787\n",
      "Epoch 2/30\n",
      "200/200 [==============================] - ETA: 0s - loss: 0.6727 - accuracy: 0.5516"
     ]
    },
    {
     "name": "stderr",
     "output_type": "stream",
     "text": [
      "WARNING:absl:Found untraced functions such as _jit_compiled_convolution_op, _jit_compiled_convolution_op, _jit_compiled_convolution_op, _jit_compiled_convolution_op, _jit_compiled_convolution_op while saving (showing 5 of 9). These functions will not be directly callable after loading.\n"
     ]
    },
    {
     "name": "stdout",
     "output_type": "stream",
     "text": [
      "INFO:tensorflow:Assets written to: A:\\MSc\\Pulmonary Nodules\\models_checkpoints\\assets\n"
     ]
    },
    {
     "name": "stderr",
     "output_type": "stream",
     "text": [
      "INFO:tensorflow:Assets written to: A:\\MSc\\Pulmonary Nodules\\models_checkpoints\\assets\n"
     ]
    },
    {
     "name": "stdout",
     "output_type": "stream",
     "text": [
      "200/200 [==============================] - 73s 366ms/step - loss: 0.6727 - accuracy: 0.5516 - val_loss: 0.6938 - val_accuracy: 0.5688\n",
      "Epoch 3/30\n",
      "200/200 [==============================] - 72s 359ms/step - loss: 0.5996 - accuracy: 0.6544 - val_loss: 2.1229 - val_accuracy: 0.4737\n",
      "Epoch 4/30\n",
      "200/200 [==============================] - ETA: 0s - loss: 0.4472 - accuracy: 0.7784"
     ]
    },
    {
     "name": "stderr",
     "output_type": "stream",
     "text": [
      "WARNING:absl:Found untraced functions such as _jit_compiled_convolution_op, _jit_compiled_convolution_op, _jit_compiled_convolution_op, _jit_compiled_convolution_op, _jit_compiled_convolution_op while saving (showing 5 of 9). These functions will not be directly callable after loading.\n"
     ]
    },
    {
     "name": "stdout",
     "output_type": "stream",
     "text": [
      "INFO:tensorflow:Assets written to: A:\\MSc\\Pulmonary Nodules\\models_checkpoints\\assets\n"
     ]
    },
    {
     "name": "stderr",
     "output_type": "stream",
     "text": [
      "INFO:tensorflow:Assets written to: A:\\MSc\\Pulmonary Nodules\\models_checkpoints\\assets\n"
     ]
    },
    {
     "name": "stdout",
     "output_type": "stream",
     "text": [
      "200/200 [==============================] - 73s 367ms/step - loss: 0.4472 - accuracy: 0.7784 - val_loss: 0.7525 - val_accuracy: 0.6087\n",
      "Epoch 5/30\n",
      "200/200 [==============================] - 72s 360ms/step - loss: 0.3254 - accuracy: 0.8572 - val_loss: 1.5211 - val_accuracy: 0.5362\n",
      "Epoch 6/30\n",
      "200/200 [==============================] - ETA: 0s - loss: 0.2245 - accuracy: 0.9072"
     ]
    },
    {
     "name": "stderr",
     "output_type": "stream",
     "text": [
      "WARNING:absl:Found untraced functions such as _jit_compiled_convolution_op, _jit_compiled_convolution_op, _jit_compiled_convolution_op, _jit_compiled_convolution_op, _jit_compiled_convolution_op while saving (showing 5 of 9). These functions will not be directly callable after loading.\n"
     ]
    },
    {
     "name": "stdout",
     "output_type": "stream",
     "text": [
      "INFO:tensorflow:Assets written to: A:\\MSc\\Pulmonary Nodules\\models_checkpoints\\assets\n"
     ]
    },
    {
     "name": "stderr",
     "output_type": "stream",
     "text": [
      "INFO:tensorflow:Assets written to: A:\\MSc\\Pulmonary Nodules\\models_checkpoints\\assets\n"
     ]
    },
    {
     "name": "stdout",
     "output_type": "stream",
     "text": [
      "200/200 [==============================] - 74s 369ms/step - loss: 0.2245 - accuracy: 0.9072 - val_loss: 0.2659 - val_accuracy: 0.8875\n",
      "Epoch 7/30\n",
      "200/200 [==============================] - 72s 361ms/step - loss: 0.1557 - accuracy: 0.9369 - val_loss: 1.0665 - val_accuracy: 0.6137\n",
      "Epoch 8/30\n",
      "200/200 [==============================] - 72s 362ms/step - loss: 0.1102 - accuracy: 0.9581 - val_loss: 0.8243 - val_accuracy: 0.6950\n",
      "Epoch 9/30\n",
      "200/200 [==============================] - 72s 361ms/step - loss: 0.1025 - accuracy: 0.9553 - val_loss: 0.6951 - val_accuracy: 0.8125\n",
      "Epoch 10/30\n",
      "200/200 [==============================] - 72s 362ms/step - loss: 0.0661 - accuracy: 0.9766 - val_loss: 2.3130 - val_accuracy: 0.5950\n",
      "Epoch 11/30\n",
      "200/200 [==============================] - 72s 362ms/step - loss: 0.0431 - accuracy: 0.9844 - val_loss: 0.5557 - val_accuracy: 0.8500\n",
      "Epoch 12/30\n",
      "200/200 [==============================] - 72s 362ms/step - loss: 0.0752 - accuracy: 0.9734 - val_loss: 3.0711 - val_accuracy: 0.5900\n",
      "Epoch 13/30\n",
      "200/200 [==============================] - ETA: 0s - loss: 0.0371 - accuracy: 0.9862"
     ]
    },
    {
     "name": "stderr",
     "output_type": "stream",
     "text": [
      "WARNING:absl:Found untraced functions such as _jit_compiled_convolution_op, _jit_compiled_convolution_op, _jit_compiled_convolution_op, _jit_compiled_convolution_op, _jit_compiled_convolution_op while saving (showing 5 of 9). These functions will not be directly callable after loading.\n"
     ]
    },
    {
     "name": "stdout",
     "output_type": "stream",
     "text": [
      "INFO:tensorflow:Assets written to: A:\\MSc\\Pulmonary Nodules\\models_checkpoints\\assets\n"
     ]
    },
    {
     "name": "stderr",
     "output_type": "stream",
     "text": [
      "INFO:tensorflow:Assets written to: A:\\MSc\\Pulmonary Nodules\\models_checkpoints\\assets\n"
     ]
    },
    {
     "name": "stdout",
     "output_type": "stream",
     "text": [
      "200/200 [==============================] - 87s 436ms/step - loss: 0.0371 - accuracy: 0.9862 - val_loss: 0.1665 - val_accuracy: 0.9650\n",
      "Epoch 14/30\n",
      "200/200 [==============================] - 134s 672ms/step - loss: 0.0564 - accuracy: 0.9822 - val_loss: 0.9509 - val_accuracy: 0.7763\n",
      "Epoch 15/30\n",
      "200/200 [==============================] - 135s 673ms/step - loss: 0.0666 - accuracy: 0.9806 - val_loss: 0.8273 - val_accuracy: 0.7375\n",
      "Epoch 16/30\n",
      "200/200 [==============================] - ETA: 0s - loss: 0.0343 - accuracy: 0.9862  "
     ]
    },
    {
     "name": "stderr",
     "output_type": "stream",
     "text": [
      "WARNING:absl:Found untraced functions such as _jit_compiled_convolution_op, _jit_compiled_convolution_op, _jit_compiled_convolution_op, _jit_compiled_convolution_op, _jit_compiled_convolution_op while saving (showing 5 of 9). These functions will not be directly callable after loading.\n"
     ]
    },
    {
     "name": "stdout",
     "output_type": "stream",
     "text": [
      "INFO:tensorflow:Assets written to: A:\\MSc\\Pulmonary Nodules\\models_checkpoints\\assets\n"
     ]
    },
    {
     "name": "stderr",
     "output_type": "stream",
     "text": [
      "INFO:tensorflow:Assets written to: A:\\MSc\\Pulmonary Nodules\\models_checkpoints\\assets\n"
     ]
    },
    {
     "name": "stdout",
     "output_type": "stream",
     "text": [
      "200/200 [==============================] - 13421s 67s/step - loss: 0.0343 - accuracy: 0.9862 - val_loss: 0.1220 - val_accuracy: 0.9675\n",
      "Epoch 17/30\n",
      "200/200 [==============================] - 73s 365ms/step - loss: 0.0252 - accuracy: 0.9900 - val_loss: 0.4636 - val_accuracy: 0.8325\n",
      "Epoch 18/30\n",
      "200/200 [==============================] - 73s 364ms/step - loss: 0.0199 - accuracy: 0.9944 - val_loss: 1.3279 - val_accuracy: 0.7188\n",
      "Epoch 19/30\n",
      "200/200 [==============================] - 72s 360ms/step - loss: 0.0254 - accuracy: 0.9925 - val_loss: 1.1228 - val_accuracy: 0.7575\n",
      "Epoch 20/30\n",
      "200/200 [==============================] - ETA: 0s - loss: 0.0161 - accuracy: 0.9956"
     ]
    },
    {
     "name": "stderr",
     "output_type": "stream",
     "text": [
      "WARNING:absl:Found untraced functions such as _jit_compiled_convolution_op, _jit_compiled_convolution_op, _jit_compiled_convolution_op, _jit_compiled_convolution_op, _jit_compiled_convolution_op while saving (showing 5 of 9). These functions will not be directly callable after loading.\n"
     ]
    },
    {
     "name": "stdout",
     "output_type": "stream",
     "text": [
      "INFO:tensorflow:Assets written to: A:\\MSc\\Pulmonary Nodules\\models_checkpoints\\assets\n"
     ]
    },
    {
     "name": "stderr",
     "output_type": "stream",
     "text": [
      "INFO:tensorflow:Assets written to: A:\\MSc\\Pulmonary Nodules\\models_checkpoints\\assets\n"
     ]
    },
    {
     "name": "stdout",
     "output_type": "stream",
     "text": [
      "200/200 [==============================] - 73s 367ms/step - loss: 0.0161 - accuracy: 0.9956 - val_loss: 0.1973 - val_accuracy: 0.9725\n",
      "Epoch 21/30\n",
      "200/200 [==============================] - 82s 412ms/step - loss: 0.0912 - accuracy: 0.9737 - val_loss: 3.9574 - val_accuracy: 0.5550\n",
      "Epoch 22/30\n",
      "200/200 [==============================] - 71s 358ms/step - loss: 0.0956 - accuracy: 0.9641 - val_loss: 0.1937 - val_accuracy: 0.9375\n",
      "Epoch 23/30\n",
      "200/200 [==============================] - 71s 358ms/step - loss: 0.0154 - accuracy: 0.9944 - val_loss: 0.1591 - val_accuracy: 0.9688\n",
      "Epoch 24/30\n",
      "  9/200 [>.............................] - ETA: 1:03 - loss: 0.0026 - accuracy: 1.0000"
     ]
    },
    {
     "ename": "ResourceExhaustedError",
     "evalue": "Graph execution error:\n\nDetected at node 'gradient_tape/sequential/batch_normalization/FusedBatchNormGradV3' defined at (most recent call last):\n    File \"C:\\Users\\peter\\anaconda3\\envs\\tf\\lib\\runpy.py\", line 197, in _run_module_as_main\n      return _run_code(code, main_globals, None,\n    File \"C:\\Users\\peter\\anaconda3\\envs\\tf\\lib\\runpy.py\", line 87, in _run_code\n      exec(code, run_globals)\n    File \"C:\\Users\\peter\\anaconda3\\envs\\tf\\lib\\site-packages\\ipykernel_launcher.py\", line 17, in <module>\n      app.launch_new_instance()\n    File \"C:\\Users\\peter\\anaconda3\\envs\\tf\\lib\\site-packages\\traitlets\\config\\application.py\", line 992, in launch_instance\n      app.start()\n    File \"C:\\Users\\peter\\anaconda3\\envs\\tf\\lib\\site-packages\\ipykernel\\kernelapp.py\", line 711, in start\n      self.io_loop.start()\n    File \"C:\\Users\\peter\\anaconda3\\envs\\tf\\lib\\site-packages\\tornado\\platform\\asyncio.py\", line 215, in start\n      self.asyncio_loop.run_forever()\n    File \"C:\\Users\\peter\\anaconda3\\envs\\tf\\lib\\asyncio\\base_events.py\", line 601, in run_forever\n      self._run_once()\n    File \"C:\\Users\\peter\\anaconda3\\envs\\tf\\lib\\asyncio\\base_events.py\", line 1905, in _run_once\n      handle._run()\n    File \"C:\\Users\\peter\\anaconda3\\envs\\tf\\lib\\asyncio\\events.py\", line 80, in _run\n      self._context.run(self._callback, *self._args)\n    File \"C:\\Users\\peter\\anaconda3\\envs\\tf\\lib\\site-packages\\ipykernel\\kernelbase.py\", line 510, in dispatch_queue\n      await self.process_one()\n    File \"C:\\Users\\peter\\anaconda3\\envs\\tf\\lib\\site-packages\\ipykernel\\kernelbase.py\", line 499, in process_one\n      await dispatch(*args)\n    File \"C:\\Users\\peter\\anaconda3\\envs\\tf\\lib\\site-packages\\ipykernel\\kernelbase.py\", line 406, in dispatch_shell\n      await result\n    File \"C:\\Users\\peter\\anaconda3\\envs\\tf\\lib\\site-packages\\ipykernel\\kernelbase.py\", line 729, in execute_request\n      reply_content = await reply_content\n    File \"C:\\Users\\peter\\anaconda3\\envs\\tf\\lib\\site-packages\\ipykernel\\ipkernel.py\", line 411, in do_execute\n      res = shell.run_cell(\n    File \"C:\\Users\\peter\\anaconda3\\envs\\tf\\lib\\site-packages\\ipykernel\\zmqshell.py\", line 531, in run_cell\n      return super().run_cell(*args, **kwargs)\n    File \"C:\\Users\\peter\\anaconda3\\envs\\tf\\lib\\site-packages\\IPython\\core\\interactiveshell.py\", line 2961, in run_cell\n      result = self._run_cell(\n    File \"C:\\Users\\peter\\anaconda3\\envs\\tf\\lib\\site-packages\\IPython\\core\\interactiveshell.py\", line 3016, in _run_cell\n      result = runner(coro)\n    File \"C:\\Users\\peter\\anaconda3\\envs\\tf\\lib\\site-packages\\IPython\\core\\async_helpers.py\", line 129, in _pseudo_sync_runner\n      coro.send(None)\n    File \"C:\\Users\\peter\\anaconda3\\envs\\tf\\lib\\site-packages\\IPython\\core\\interactiveshell.py\", line 3221, in run_cell_async\n      has_raised = await self.run_ast_nodes(code_ast.body, cell_name,\n    File \"C:\\Users\\peter\\anaconda3\\envs\\tf\\lib\\site-packages\\IPython\\core\\interactiveshell.py\", line 3400, in run_ast_nodes\n      if await self.run_code(code, result, async_=asy):\n    File \"C:\\Users\\peter\\anaconda3\\envs\\tf\\lib\\site-packages\\IPython\\core\\interactiveshell.py\", line 3460, in run_code\n      exec(code_obj, self.user_global_ns, self.user_ns)\n    File \"C:\\Users\\peter\\AppData\\Local\\Temp\\ipykernel_1160\\3523236342.py\", line 2, in <module>\n      history = model_r30.fit(\n    File \"C:\\Users\\peter\\anaconda3\\envs\\tf\\lib\\site-packages\\keras\\utils\\traceback_utils.py\", line 65, in error_handler\n      return fn(*args, **kwargs)\n    File \"C:\\Users\\peter\\anaconda3\\envs\\tf\\lib\\site-packages\\keras\\engine\\training.py\", line 1564, in fit\n      tmp_logs = self.train_function(iterator)\n    File \"C:\\Users\\peter\\anaconda3\\envs\\tf\\lib\\site-packages\\keras\\engine\\training.py\", line 1160, in train_function\n      return step_function(self, iterator)\n    File \"C:\\Users\\peter\\anaconda3\\envs\\tf\\lib\\site-packages\\keras\\engine\\training.py\", line 1146, in step_function\n      outputs = model.distribute_strategy.run(run_step, args=(data,))\n    File \"C:\\Users\\peter\\anaconda3\\envs\\tf\\lib\\site-packages\\keras\\engine\\training.py\", line 1135, in run_step\n      outputs = model.train_step(data)\n    File \"C:\\Users\\peter\\anaconda3\\envs\\tf\\lib\\site-packages\\keras\\engine\\training.py\", line 997, in train_step\n      self.optimizer.minimize(loss, self.trainable_variables, tape=tape)\n    File \"C:\\Users\\peter\\anaconda3\\envs\\tf\\lib\\site-packages\\keras\\optimizers\\optimizer_v2\\optimizer_v2.py\", line 576, in minimize\n      grads_and_vars = self._compute_gradients(\n    File \"C:\\Users\\peter\\anaconda3\\envs\\tf\\lib\\site-packages\\keras\\optimizers\\optimizer_v2\\optimizer_v2.py\", line 634, in _compute_gradients\n      grads_and_vars = self._get_gradients(\n    File \"C:\\Users\\peter\\anaconda3\\envs\\tf\\lib\\site-packages\\keras\\optimizers\\optimizer_v2\\optimizer_v2.py\", line 510, in _get_gradients\n      grads = tape.gradient(loss, var_list, grad_loss)\nNode: 'gradient_tape/sequential/batch_normalization/FusedBatchNormGradV3'\nOOM when allocating tensor with shape[16,32,64,1792] and type float on /job:localhost/replica:0/task:0/device:GPU:0 by allocator GPU_0_bfc\n\t [[{{node gradient_tape/sequential/batch_normalization/FusedBatchNormGradV3}}]]\nHint: If you want to see a list of allocated tensors when OOM happens, add report_tensor_allocations_upon_oom to RunOptions for current allocation info. This isn't available when running in Eager mode.\n [Op:__inference_train_function_1960]",
     "output_type": "error",
     "traceback": [
      "\u001b[1;31m---------------------------------------------------------------------------\u001b[0m",
      "\u001b[1;31mResourceExhaustedError\u001b[0m                    Traceback (most recent call last)",
      "Cell \u001b[1;32mIn[8], line 2\u001b[0m\n\u001b[0;32m      1\u001b[0m epochs \u001b[38;5;241m=\u001b[39m \u001b[38;5;241m30\u001b[39m\n\u001b[1;32m----> 2\u001b[0m history \u001b[38;5;241m=\u001b[39m \u001b[43mmodel_r30\u001b[49m\u001b[38;5;241;43m.\u001b[39;49m\u001b[43mfit\u001b[49m\u001b[43m(\u001b[49m\n\u001b[0;32m      3\u001b[0m \u001b[43m  \u001b[49m\u001b[43mtrain_30\u001b[49m\u001b[43m,\u001b[49m\n\u001b[0;32m      4\u001b[0m \u001b[43m  \u001b[49m\u001b[43mvalidation_data\u001b[49m\u001b[38;5;241;43m=\u001b[39;49m\u001b[43mval_30\u001b[49m\u001b[43m,\u001b[49m\n\u001b[0;32m      5\u001b[0m \u001b[43m  \u001b[49m\u001b[43mepochs\u001b[49m\u001b[38;5;241;43m=\u001b[39;49m\u001b[43mepochs\u001b[49m\u001b[43m,\u001b[49m\n\u001b[0;32m      6\u001b[0m \u001b[43m  \u001b[49m\u001b[43mcallbacks\u001b[49m\u001b[38;5;241;43m=\u001b[39;49m\u001b[43m[\u001b[49m\u001b[43mmodel_checkpoint_callback\u001b[49m\u001b[43m]\u001b[49m\n\u001b[0;32m      7\u001b[0m \u001b[43m)\u001b[49m\n\u001b[0;32m      9\u001b[0m model_r30\u001b[38;5;241m.\u001b[39msave(\u001b[38;5;124mr\u001b[39m\u001b[38;5;124m'\u001b[39m\u001b[38;5;124mA:\u001b[39m\u001b[38;5;124m\\\u001b[39m\u001b[38;5;124mMSc\u001b[39m\u001b[38;5;124m\\\u001b[39m\u001b[38;5;124mPulmonary Nodules\u001b[39m\u001b[38;5;124m\\\u001b[39m\u001b[38;5;124mmodels\u001b[39m\u001b[38;5;124m\\\u001b[39m\u001b[38;5;124marranged_model_r30\u001b[39m\u001b[38;5;124m'\u001b[39m)\n",
      "File \u001b[1;32m~\\anaconda3\\envs\\tf\\lib\\site-packages\\keras\\utils\\traceback_utils.py:70\u001b[0m, in \u001b[0;36mfilter_traceback.<locals>.error_handler\u001b[1;34m(*args, **kwargs)\u001b[0m\n\u001b[0;32m     67\u001b[0m     filtered_tb \u001b[38;5;241m=\u001b[39m _process_traceback_frames(e\u001b[38;5;241m.\u001b[39m__traceback__)\n\u001b[0;32m     68\u001b[0m     \u001b[38;5;66;03m# To get the full stack trace, call:\u001b[39;00m\n\u001b[0;32m     69\u001b[0m     \u001b[38;5;66;03m# `tf.debugging.disable_traceback_filtering()`\u001b[39;00m\n\u001b[1;32m---> 70\u001b[0m     \u001b[38;5;28;01mraise\u001b[39;00m e\u001b[38;5;241m.\u001b[39mwith_traceback(filtered_tb) \u001b[38;5;28;01mfrom\u001b[39;00m \u001b[38;5;28mNone\u001b[39m\n\u001b[0;32m     71\u001b[0m \u001b[38;5;28;01mfinally\u001b[39;00m:\n\u001b[0;32m     72\u001b[0m     \u001b[38;5;28;01mdel\u001b[39;00m filtered_tb\n",
      "File \u001b[1;32m~\\anaconda3\\envs\\tf\\lib\\site-packages\\tensorflow\\python\\eager\\execute.py:54\u001b[0m, in \u001b[0;36mquick_execute\u001b[1;34m(op_name, num_outputs, inputs, attrs, ctx, name)\u001b[0m\n\u001b[0;32m     52\u001b[0m \u001b[38;5;28;01mtry\u001b[39;00m:\n\u001b[0;32m     53\u001b[0m   ctx\u001b[38;5;241m.\u001b[39mensure_initialized()\n\u001b[1;32m---> 54\u001b[0m   tensors \u001b[38;5;241m=\u001b[39m pywrap_tfe\u001b[38;5;241m.\u001b[39mTFE_Py_Execute(ctx\u001b[38;5;241m.\u001b[39m_handle, device_name, op_name,\n\u001b[0;32m     55\u001b[0m                                       inputs, attrs, num_outputs)\n\u001b[0;32m     56\u001b[0m \u001b[38;5;28;01mexcept\u001b[39;00m core\u001b[38;5;241m.\u001b[39m_NotOkStatusException \u001b[38;5;28;01mas\u001b[39;00m e:\n\u001b[0;32m     57\u001b[0m   \u001b[38;5;28;01mif\u001b[39;00m name \u001b[38;5;129;01mis\u001b[39;00m \u001b[38;5;129;01mnot\u001b[39;00m \u001b[38;5;28;01mNone\u001b[39;00m:\n",
      "\u001b[1;31mResourceExhaustedError\u001b[0m: Graph execution error:\n\nDetected at node 'gradient_tape/sequential/batch_normalization/FusedBatchNormGradV3' defined at (most recent call last):\n    File \"C:\\Users\\peter\\anaconda3\\envs\\tf\\lib\\runpy.py\", line 197, in _run_module_as_main\n      return _run_code(code, main_globals, None,\n    File \"C:\\Users\\peter\\anaconda3\\envs\\tf\\lib\\runpy.py\", line 87, in _run_code\n      exec(code, run_globals)\n    File \"C:\\Users\\peter\\anaconda3\\envs\\tf\\lib\\site-packages\\ipykernel_launcher.py\", line 17, in <module>\n      app.launch_new_instance()\n    File \"C:\\Users\\peter\\anaconda3\\envs\\tf\\lib\\site-packages\\traitlets\\config\\application.py\", line 992, in launch_instance\n      app.start()\n    File \"C:\\Users\\peter\\anaconda3\\envs\\tf\\lib\\site-packages\\ipykernel\\kernelapp.py\", line 711, in start\n      self.io_loop.start()\n    File \"C:\\Users\\peter\\anaconda3\\envs\\tf\\lib\\site-packages\\tornado\\platform\\asyncio.py\", line 215, in start\n      self.asyncio_loop.run_forever()\n    File \"C:\\Users\\peter\\anaconda3\\envs\\tf\\lib\\asyncio\\base_events.py\", line 601, in run_forever\n      self._run_once()\n    File \"C:\\Users\\peter\\anaconda3\\envs\\tf\\lib\\asyncio\\base_events.py\", line 1905, in _run_once\n      handle._run()\n    File \"C:\\Users\\peter\\anaconda3\\envs\\tf\\lib\\asyncio\\events.py\", line 80, in _run\n      self._context.run(self._callback, *self._args)\n    File \"C:\\Users\\peter\\anaconda3\\envs\\tf\\lib\\site-packages\\ipykernel\\kernelbase.py\", line 510, in dispatch_queue\n      await self.process_one()\n    File \"C:\\Users\\peter\\anaconda3\\envs\\tf\\lib\\site-packages\\ipykernel\\kernelbase.py\", line 499, in process_one\n      await dispatch(*args)\n    File \"C:\\Users\\peter\\anaconda3\\envs\\tf\\lib\\site-packages\\ipykernel\\kernelbase.py\", line 406, in dispatch_shell\n      await result\n    File \"C:\\Users\\peter\\anaconda3\\envs\\tf\\lib\\site-packages\\ipykernel\\kernelbase.py\", line 729, in execute_request\n      reply_content = await reply_content\n    File \"C:\\Users\\peter\\anaconda3\\envs\\tf\\lib\\site-packages\\ipykernel\\ipkernel.py\", line 411, in do_execute\n      res = shell.run_cell(\n    File \"C:\\Users\\peter\\anaconda3\\envs\\tf\\lib\\site-packages\\ipykernel\\zmqshell.py\", line 531, in run_cell\n      return super().run_cell(*args, **kwargs)\n    File \"C:\\Users\\peter\\anaconda3\\envs\\tf\\lib\\site-packages\\IPython\\core\\interactiveshell.py\", line 2961, in run_cell\n      result = self._run_cell(\n    File \"C:\\Users\\peter\\anaconda3\\envs\\tf\\lib\\site-packages\\IPython\\core\\interactiveshell.py\", line 3016, in _run_cell\n      result = runner(coro)\n    File \"C:\\Users\\peter\\anaconda3\\envs\\tf\\lib\\site-packages\\IPython\\core\\async_helpers.py\", line 129, in _pseudo_sync_runner\n      coro.send(None)\n    File \"C:\\Users\\peter\\anaconda3\\envs\\tf\\lib\\site-packages\\IPython\\core\\interactiveshell.py\", line 3221, in run_cell_async\n      has_raised = await self.run_ast_nodes(code_ast.body, cell_name,\n    File \"C:\\Users\\peter\\anaconda3\\envs\\tf\\lib\\site-packages\\IPython\\core\\interactiveshell.py\", line 3400, in run_ast_nodes\n      if await self.run_code(code, result, async_=asy):\n    File \"C:\\Users\\peter\\anaconda3\\envs\\tf\\lib\\site-packages\\IPython\\core\\interactiveshell.py\", line 3460, in run_code\n      exec(code_obj, self.user_global_ns, self.user_ns)\n    File \"C:\\Users\\peter\\AppData\\Local\\Temp\\ipykernel_1160\\3523236342.py\", line 2, in <module>\n      history = model_r30.fit(\n    File \"C:\\Users\\peter\\anaconda3\\envs\\tf\\lib\\site-packages\\keras\\utils\\traceback_utils.py\", line 65, in error_handler\n      return fn(*args, **kwargs)\n    File \"C:\\Users\\peter\\anaconda3\\envs\\tf\\lib\\site-packages\\keras\\engine\\training.py\", line 1564, in fit\n      tmp_logs = self.train_function(iterator)\n    File \"C:\\Users\\peter\\anaconda3\\envs\\tf\\lib\\site-packages\\keras\\engine\\training.py\", line 1160, in train_function\n      return step_function(self, iterator)\n    File \"C:\\Users\\peter\\anaconda3\\envs\\tf\\lib\\site-packages\\keras\\engine\\training.py\", line 1146, in step_function\n      outputs = model.distribute_strategy.run(run_step, args=(data,))\n    File \"C:\\Users\\peter\\anaconda3\\envs\\tf\\lib\\site-packages\\keras\\engine\\training.py\", line 1135, in run_step\n      outputs = model.train_step(data)\n    File \"C:\\Users\\peter\\anaconda3\\envs\\tf\\lib\\site-packages\\keras\\engine\\training.py\", line 997, in train_step\n      self.optimizer.minimize(loss, self.trainable_variables, tape=tape)\n    File \"C:\\Users\\peter\\anaconda3\\envs\\tf\\lib\\site-packages\\keras\\optimizers\\optimizer_v2\\optimizer_v2.py\", line 576, in minimize\n      grads_and_vars = self._compute_gradients(\n    File \"C:\\Users\\peter\\anaconda3\\envs\\tf\\lib\\site-packages\\keras\\optimizers\\optimizer_v2\\optimizer_v2.py\", line 634, in _compute_gradients\n      grads_and_vars = self._get_gradients(\n    File \"C:\\Users\\peter\\anaconda3\\envs\\tf\\lib\\site-packages\\keras\\optimizers\\optimizer_v2\\optimizer_v2.py\", line 510, in _get_gradients\n      grads = tape.gradient(loss, var_list, grad_loss)\nNode: 'gradient_tape/sequential/batch_normalization/FusedBatchNormGradV3'\nOOM when allocating tensor with shape[16,32,64,1792] and type float on /job:localhost/replica:0/task:0/device:GPU:0 by allocator GPU_0_bfc\n\t [[{{node gradient_tape/sequential/batch_normalization/FusedBatchNormGradV3}}]]\nHint: If you want to see a list of allocated tensors when OOM happens, add report_tensor_allocations_upon_oom to RunOptions for current allocation info. This isn't available when running in Eager mode.\n [Op:__inference_train_function_1960]"
     ]
    }
   ],
   "source": [
    "epochs = 20\n",
    "history = model_r30.fit(\n",
    "  train_30,\n",
    "  validation_data=val_30,\n",
    "  epochs=epochs,\n",
    "  callbacks=[model_checkpoint_callback]\n",
    ")\n",
    "\n",
    "model_r30.save(r'A:\\MSc\\Pulmonary Nodules\\models\\arranged_model_r30')"
   ]
  },
  {
   "cell_type": "code",
   "execution_count": null,
   "id": "f87ffdb7-c9a1-4b73-96de-81a4f51f2c67",
   "metadata": {
    "tags": []
   },
   "outputs": [],
   "source": [
    "acc = history.history['accuracy']\n",
    "val_acc = history.history['val_accuracy']\n",
    "\n",
    "loss = history.history['loss']\n",
    "val_loss = history.history['val_loss']\n",
    "\n",
    "epochs_range = range(epochs)\n",
    "\n",
    "plt.figure(figsize=(8, 8))\n",
    "plt.subplot(1, 2, 1)\n",
    "plt.plot(epochs_range, acc, label='Training Accuracy')\n",
    "plt.plot(epochs_range, val_acc, label='Validation Accuracy')\n",
    "plt.legend(loc='lower right')\n",
    "plt.title('Training and Validation Accuracy')\n",
    "\n",
    "plt.subplot(1, 2, 2)\n",
    "plt.plot(epochs_range, loss, label='Training Loss')\n",
    "plt.plot(epochs_range, val_loss, label='Validation Loss')\n",
    "plt.legend(loc='upper right')\n",
    "plt.title('Training and Validation Loss')\n",
    "plt.show()"
   ]
  },
  {
   "cell_type": "markdown",
   "id": "736edfc2-f44a-4fab-86d2-180317b9184e",
   "metadata": {
    "jp-MarkdownHeadingCollapsed": true,
    "tags": []
   },
   "source": [
    "## Training radius 40"
   ]
  },
  {
   "cell_type": "code",
   "execution_count": 7,
   "id": "fca8db14-b3fe-4409-a39d-ae481d76ffe0",
   "metadata": {},
   "outputs": [],
   "source": [
    "n_classes = 1\n",
    "model_r40 = get_cnn_model(h=64,w=64,d=28)\n",
    "checkpoint_filepath = r'A:\\MSc\\Pulmonary Nodules\\models_checkpoints'\n",
    "model_checkpoint_callback = tf.keras.callbacks.ModelCheckpoint(\n",
    "    filepath=checkpoint_filepath,\n",
    "    monitor='val_accuracy',\n",
    "    mode='max',\n",
    "    save_best_only=True)\n",
    "\n",
    "model_r40.compile(optimizer='adam',\n",
    "              loss=tf.keras.losses.BinaryCrossentropy(),\n",
    "              metrics=['accuracy'])"
   ]
  },
  {
   "cell_type": "code",
   "execution_count": 8,
   "id": "80a6caa3-6adc-4b35-bb20-2f167209bab9",
   "metadata": {
    "tags": []
   },
   "outputs": [
    {
     "name": "stdout",
     "output_type": "stream",
     "text": [
      "Epoch 1/20\n",
      "200/200 [==============================] - ETA: 0s - loss: 1.0274 - accuracy: 0.5659"
     ]
    },
    {
     "name": "stderr",
     "output_type": "stream",
     "text": [
      "WARNING:absl:Found untraced functions such as _jit_compiled_convolution_op, _jit_compiled_convolution_op, _jit_compiled_convolution_op, _jit_compiled_convolution_op, _jit_compiled_convolution_op while saving (showing 5 of 9). These functions will not be directly callable after loading.\n"
     ]
    },
    {
     "name": "stdout",
     "output_type": "stream",
     "text": [
      "INFO:tensorflow:Assets written to: A:\\MSc\\Pulmonary Nodules\\models_checkpoints\\assets\n"
     ]
    },
    {
     "name": "stderr",
     "output_type": "stream",
     "text": [
      "INFO:tensorflow:Assets written to: A:\\MSc\\Pulmonary Nodules\\models_checkpoints\\assets\n"
     ]
    },
    {
     "name": "stdout",
     "output_type": "stream",
     "text": [
      "200/200 [==============================] - 85s 368ms/step - loss: 1.0274 - accuracy: 0.5659 - val_loss: 3.7649 - val_accuracy: 0.4888\n",
      "Epoch 2/20\n",
      "200/200 [==============================] - ETA: 0s - loss: 0.5775 - accuracy: 0.6944"
     ]
    },
    {
     "name": "stderr",
     "output_type": "stream",
     "text": [
      "WARNING:absl:Found untraced functions such as _jit_compiled_convolution_op, _jit_compiled_convolution_op, _jit_compiled_convolution_op, _jit_compiled_convolution_op, _jit_compiled_convolution_op while saving (showing 5 of 9). These functions will not be directly callable after loading.\n"
     ]
    },
    {
     "name": "stdout",
     "output_type": "stream",
     "text": [
      "INFO:tensorflow:Assets written to: A:\\MSc\\Pulmonary Nodules\\models_checkpoints\\assets\n"
     ]
    },
    {
     "name": "stderr",
     "output_type": "stream",
     "text": [
      "INFO:tensorflow:Assets written to: A:\\MSc\\Pulmonary Nodules\\models_checkpoints\\assets\n"
     ]
    },
    {
     "name": "stdout",
     "output_type": "stream",
     "text": [
      "200/200 [==============================] - 74s 371ms/step - loss: 0.5775 - accuracy: 0.6944 - val_loss: 0.6515 - val_accuracy: 0.5900\n",
      "Epoch 3/20\n",
      "200/200 [==============================] - ETA: 0s - loss: 0.4383 - accuracy: 0.7944"
     ]
    },
    {
     "name": "stderr",
     "output_type": "stream",
     "text": [
      "WARNING:absl:Found untraced functions such as _jit_compiled_convolution_op, _jit_compiled_convolution_op, _jit_compiled_convolution_op, _jit_compiled_convolution_op, _jit_compiled_convolution_op while saving (showing 5 of 9). These functions will not be directly callable after loading.\n"
     ]
    },
    {
     "name": "stdout",
     "output_type": "stream",
     "text": [
      "INFO:tensorflow:Assets written to: A:\\MSc\\Pulmonary Nodules\\models_checkpoints\\assets\n"
     ]
    },
    {
     "name": "stderr",
     "output_type": "stream",
     "text": [
      "INFO:tensorflow:Assets written to: A:\\MSc\\Pulmonary Nodules\\models_checkpoints\\assets\n"
     ]
    },
    {
     "name": "stdout",
     "output_type": "stream",
     "text": [
      "200/200 [==============================] - 73s 367ms/step - loss: 0.4383 - accuracy: 0.7944 - val_loss: 0.6675 - val_accuracy: 0.6438\n",
      "Epoch 4/20\n",
      "200/200 [==============================] - ETA: 0s - loss: 0.3185 - accuracy: 0.8644"
     ]
    },
    {
     "name": "stderr",
     "output_type": "stream",
     "text": [
      "WARNING:absl:Found untraced functions such as _jit_compiled_convolution_op, _jit_compiled_convolution_op, _jit_compiled_convolution_op, _jit_compiled_convolution_op, _jit_compiled_convolution_op while saving (showing 5 of 9). These functions will not be directly callable after loading.\n"
     ]
    },
    {
     "name": "stdout",
     "output_type": "stream",
     "text": [
      "INFO:tensorflow:Assets written to: A:\\MSc\\Pulmonary Nodules\\models_checkpoints\\assets\n"
     ]
    },
    {
     "name": "stderr",
     "output_type": "stream",
     "text": [
      "INFO:tensorflow:Assets written to: A:\\MSc\\Pulmonary Nodules\\models_checkpoints\\assets\n"
     ]
    },
    {
     "name": "stdout",
     "output_type": "stream",
     "text": [
      "200/200 [==============================] - 74s 369ms/step - loss: 0.3185 - accuracy: 0.8644 - val_loss: 0.6661 - val_accuracy: 0.7412\n",
      "Epoch 5/20\n",
      "200/200 [==============================] - ETA: 0s - loss: 0.2502 - accuracy: 0.8972"
     ]
    },
    {
     "name": "stderr",
     "output_type": "stream",
     "text": [
      "WARNING:absl:Found untraced functions such as _jit_compiled_convolution_op, _jit_compiled_convolution_op, _jit_compiled_convolution_op, _jit_compiled_convolution_op, _jit_compiled_convolution_op while saving (showing 5 of 9). These functions will not be directly callable after loading.\n"
     ]
    },
    {
     "name": "stdout",
     "output_type": "stream",
     "text": [
      "INFO:tensorflow:Assets written to: A:\\MSc\\Pulmonary Nodules\\models_checkpoints\\assets\n"
     ]
    },
    {
     "name": "stderr",
     "output_type": "stream",
     "text": [
      "INFO:tensorflow:Assets written to: A:\\MSc\\Pulmonary Nodules\\models_checkpoints\\assets\n"
     ]
    },
    {
     "name": "stdout",
     "output_type": "stream",
     "text": [
      "200/200 [==============================] - 99s 497ms/step - loss: 0.2502 - accuracy: 0.8972 - val_loss: 0.3111 - val_accuracy: 0.8712\n",
      "Epoch 6/20\n",
      "200/200 [==============================] - 72s 361ms/step - loss: 0.1602 - accuracy: 0.9384 - val_loss: 0.3098 - val_accuracy: 0.8562\n",
      "Epoch 7/20\n",
      "200/200 [==============================] - 72s 361ms/step - loss: 0.1428 - accuracy: 0.9466 - val_loss: 2.0481 - val_accuracy: 0.6000\n",
      "Epoch 8/20\n",
      "200/200 [==============================] - 72s 361ms/step - loss: 0.1542 - accuracy: 0.9441 - val_loss: 0.5962 - val_accuracy: 0.7788\n",
      "Epoch 9/20\n",
      "200/200 [==============================] - 107s 534ms/step - loss: 0.1004 - accuracy: 0.9688 - val_loss: 0.6223 - val_accuracy: 0.7700\n",
      "Epoch 10/20\n",
      "200/200 [==============================] - ETA: 0s - loss: 0.0823 - accuracy: 0.9737"
     ]
    },
    {
     "name": "stderr",
     "output_type": "stream",
     "text": [
      "WARNING:absl:Found untraced functions such as _jit_compiled_convolution_op, _jit_compiled_convolution_op, _jit_compiled_convolution_op, _jit_compiled_convolution_op, _jit_compiled_convolution_op while saving (showing 5 of 9). These functions will not be directly callable after loading.\n"
     ]
    },
    {
     "name": "stdout",
     "output_type": "stream",
     "text": [
      "INFO:tensorflow:Assets written to: A:\\MSc\\Pulmonary Nodules\\models_checkpoints\\assets\n"
     ]
    },
    {
     "name": "stderr",
     "output_type": "stream",
     "text": [
      "INFO:tensorflow:Assets written to: A:\\MSc\\Pulmonary Nodules\\models_checkpoints\\assets\n"
     ]
    },
    {
     "name": "stdout",
     "output_type": "stream",
     "text": [
      "200/200 [==============================] - 118s 590ms/step - loss: 0.0823 - accuracy: 0.9737 - val_loss: 0.2210 - val_accuracy: 0.9175\n",
      "Epoch 11/20\n",
      "200/200 [==============================] - ETA: 0s - loss: 0.0678 - accuracy: 0.9766"
     ]
    },
    {
     "name": "stderr",
     "output_type": "stream",
     "text": [
      "WARNING:absl:Found untraced functions such as _jit_compiled_convolution_op, _jit_compiled_convolution_op, _jit_compiled_convolution_op, _jit_compiled_convolution_op, _jit_compiled_convolution_op while saving (showing 5 of 9). These functions will not be directly callable after loading.\n"
     ]
    },
    {
     "name": "stdout",
     "output_type": "stream",
     "text": [
      "INFO:tensorflow:Assets written to: A:\\MSc\\Pulmonary Nodules\\models_checkpoints\\assets\n"
     ]
    },
    {
     "name": "stderr",
     "output_type": "stream",
     "text": [
      "INFO:tensorflow:Assets written to: A:\\MSc\\Pulmonary Nodules\\models_checkpoints\\assets\n"
     ]
    },
    {
     "name": "stdout",
     "output_type": "stream",
     "text": [
      "200/200 [==============================] - 73s 366ms/step - loss: 0.0678 - accuracy: 0.9766 - val_loss: 0.1512 - val_accuracy: 0.9538\n",
      "Epoch 12/20\n",
      "200/200 [==============================] - 72s 359ms/step - loss: 0.0712 - accuracy: 0.9762 - val_loss: 0.8782 - val_accuracy: 0.7400\n",
      "Epoch 13/20\n",
      "200/200 [==============================] - 72s 360ms/step - loss: 0.0945 - accuracy: 0.9753 - val_loss: 0.9316 - val_accuracy: 0.7563\n",
      "Epoch 14/20\n",
      "200/200 [==============================] - 72s 361ms/step - loss: 0.0555 - accuracy: 0.9803 - val_loss: 0.1904 - val_accuracy: 0.9488\n",
      "Epoch 15/20\n",
      "200/200 [==============================] - 72s 360ms/step - loss: 0.0540 - accuracy: 0.9806 - val_loss: 6.2031 - val_accuracy: 0.5487\n",
      "Epoch 16/20\n",
      "200/200 [==============================] - ETA: 0s - loss: 0.0480 - accuracy: 0.9878 "
     ]
    },
    {
     "name": "stderr",
     "output_type": "stream",
     "text": [
      "WARNING:absl:Found untraced functions such as _jit_compiled_convolution_op, _jit_compiled_convolution_op, _jit_compiled_convolution_op, _jit_compiled_convolution_op, _jit_compiled_convolution_op while saving (showing 5 of 9). These functions will not be directly callable after loading.\n"
     ]
    },
    {
     "name": "stdout",
     "output_type": "stream",
     "text": [
      "INFO:tensorflow:Assets written to: A:\\MSc\\Pulmonary Nodules\\models_checkpoints\\assets\n"
     ]
    },
    {
     "name": "stderr",
     "output_type": "stream",
     "text": [
      "INFO:tensorflow:Assets written to: A:\\MSc\\Pulmonary Nodules\\models_checkpoints\\assets\n"
     ]
    },
    {
     "name": "stdout",
     "output_type": "stream",
     "text": [
      "200/200 [==============================] - 10115s 51s/step - loss: 0.0480 - accuracy: 0.9878 - val_loss: 0.1197 - val_accuracy: 0.9688\n",
      "Epoch 17/20\n",
      "200/200 [==============================] - 71s 354ms/step - loss: 0.0383 - accuracy: 0.9856 - val_loss: 0.1402 - val_accuracy: 0.9625\n",
      "Epoch 18/20\n",
      "200/200 [==============================] - 73s 367ms/step - loss: 0.0589 - accuracy: 0.9778 - val_loss: 8.5377 - val_accuracy: 0.5025\n",
      "Epoch 19/20\n",
      "200/200 [==============================] - 73s 364ms/step - loss: 0.1443 - accuracy: 0.9547 - val_loss: 0.5943 - val_accuracy: 0.8313\n",
      "Epoch 20/20\n",
      "200/200 [==============================] - 72s 361ms/step - loss: 0.0431 - accuracy: 0.9834 - val_loss: 0.1228 - val_accuracy: 0.9600\n"
     ]
    },
    {
     "name": "stderr",
     "output_type": "stream",
     "text": [
      "WARNING:absl:Found untraced functions such as _jit_compiled_convolution_op, _jit_compiled_convolution_op, _jit_compiled_convolution_op, _jit_compiled_convolution_op, _jit_compiled_convolution_op while saving (showing 5 of 9). These functions will not be directly callable after loading.\n"
     ]
    },
    {
     "name": "stdout",
     "output_type": "stream",
     "text": [
      "INFO:tensorflow:Assets written to: A:\\MSc\\Pulmonary Nodules\\models\\arranged_model_r30\\assets\n"
     ]
    },
    {
     "name": "stderr",
     "output_type": "stream",
     "text": [
      "INFO:tensorflow:Assets written to: A:\\MSc\\Pulmonary Nodules\\models\\arranged_model_r30\\assets\n"
     ]
    }
   ],
   "source": [
    "epochs = 20\n",
    "history = model_r40.fit(\n",
    "  train_40,\n",
    "  validation_data=val_40,\n",
    "  epochs=epochs,\n",
    "    callbacks=[model_checkpoint_callback]\n",
    ")\n",
    "model_r40.save(r'A:\\MSc\\Pulmonary Nodules\\models\\arranged_model_r40')"
   ]
  },
  {
   "cell_type": "code",
   "execution_count": null,
   "id": "b090a985-b831-4f48-b00d-7be3e524b60e",
   "metadata": {
    "tags": []
   },
   "outputs": [
    {
     "data": {
      "image/png": "[encoded data removed]",
      "text/plain": [
       "<Figure size 800x800 with 2 Axes>"
      ]
     },
     "metadata": {},
     "output_type": "display_data"
    }
   ],
   "source": [
    "acc = history.history['accuracy']\n",
    "val_acc = history.history['val_accuracy']\n",
    "\n",
    "loss = history.history['loss']\n",
    "val_loss = history.history['val_loss']\n",
    "\n",
    "epochs_range = range(epochs)\n",
    "\n",
    "plt.figure(figsize=(8, 8))\n",
    "plt.subplot(1, 2, 1)\n",
    "plt.plot(epochs_range, acc, label='Training Accuracy')\n",
    "plt.plot(epochs_range, val_acc, label='Validation Accuracy')\n",
    "plt.legend(loc='lower right')\n",
    "plt.title('Training and Validation Accuracy')\n",
    "\n",
    "plt.subplot(1, 2, 2)\n",
    "plt.plot(epochs_range, loss, label='Training Loss')\n",
    "plt.plot(epochs_range, val_loss, label='Validation Loss')\n",
    "plt.legend(loc='upper right')\n",
    "plt.title('Training and Validation Loss')\n",
    "plt.show()"
   ]
  },
  {
   "cell_type": "markdown",
   "id": "eb0e3d2e-2174-485a-8e0f-d570c08954f5",
   "metadata": {
    "tags": []
   },
   "source": [
    "## Training radius 50"
   ]
  },
  {
   "cell_type": "code",
   "execution_count": 7,
   "id": "02db6ed7-dec3-4712-aec4-90a39b046d5c",
   "metadata": {
    "tags": []
   },
   "outputs": [],
   "source": [
    "n_classes = 1\n",
    "model_r50 = get_cnn_model(h=64,w=64,d=28)\n",
    "checkpoint_filepath = r'A:\\MSc\\Pulmonary Nodules\\models_checkpoints'\n",
    "model_checkpoint_callback = tf.keras.callbacks.ModelCheckpoint(\n",
    "    filepath=checkpoint_filepath,\n",
    "    monitor='val_accuracy',\n",
    "    mode='max',\n",
    "    save_best_only=True)\n",
    "\n",
    "model_r50.compile(optimizer='adam',\n",
    "              loss=tf.keras.losses.BinaryCrossentropy(),\n",
    "              metrics=['accuracy'])"
   ]
  },
  {
   "cell_type": "code",
   "execution_count": 9,
   "id": "6ceb237a-e7fd-42cf-8701-68e9223670e5",
   "metadata": {
    "tags": []
   },
   "outputs": [
    {
     "name": "stdout",
     "output_type": "stream",
     "text": [
      "Epoch 1/20\n",
      "200/200 [==============================] - ETA: 0s - loss: 0.9175 - accuracy: 0.5016"
     ]
    },
    {
     "name": "stderr",
     "output_type": "stream",
     "text": [
      "WARNING:absl:Found untraced functions such as _jit_compiled_convolution_op, _jit_compiled_convolution_op, _jit_compiled_convolution_op, _jit_compiled_convolution_op, _jit_compiled_convolution_op while saving (showing 5 of 9). These functions will not be directly callable after loading.\n"
     ]
    },
    {
     "name": "stdout",
     "output_type": "stream",
     "text": [
      "INFO:tensorflow:Assets written to: A:\\MSc\\Pulmonary Nodules\\models_checkpoints\\assets\n"
     ]
    },
    {
     "name": "stderr",
     "output_type": "stream",
     "text": [
      "INFO:tensorflow:Assets written to: A:\\MSc\\Pulmonary Nodules\\models_checkpoints\\assets\n"
     ]
    },
    {
     "name": "stdout",
     "output_type": "stream",
     "text": [
      "200/200 [==============================] - 84s 363ms/step - loss: 0.9175 - accuracy: 0.5016 - val_loss: 41.9602 - val_accuracy: 0.5275\n",
      "Epoch 2/20\n",
      "200/200 [==============================] - 70s 351ms/step - loss: 0.6932 - accuracy: 0.5013 - val_loss: 39.2939 - val_accuracy: 0.5275\n",
      "Epoch 3/20\n",
      "200/200 [==============================] - 70s 351ms/step - loss: 0.6931 - accuracy: 0.5069 - val_loss: 1.5759 - val_accuracy: 0.5238\n",
      "Epoch 4/20\n",
      "200/200 [==============================] - 70s 351ms/step - loss: 0.6931 - accuracy: 0.5069 - val_loss: 0.6938 - val_accuracy: 0.4725\n",
      "Epoch 5/20\n",
      "200/200 [==============================] - 70s 350ms/step - loss: 0.6931 - accuracy: 0.5069 - val_loss: 0.6938 - val_accuracy: 0.4725\n",
      "Epoch 6/20\n",
      "200/200 [==============================] - 70s 350ms/step - loss: 0.6931 - accuracy: 0.5069 - val_loss: 0.6939 - val_accuracy: 0.4725\n",
      "Epoch 7/20\n",
      "200/200 [==============================] - 70s 351ms/step - loss: 0.6931 - accuracy: 0.5069 - val_loss: 0.6939 - val_accuracy: 0.4725\n",
      "Epoch 8/20\n",
      "200/200 [==============================] - 70s 350ms/step - loss: 0.6931 - accuracy: 0.5069 - val_loss: 0.6939 - val_accuracy: 0.4725\n",
      "Epoch 9/20\n",
      "200/200 [==============================] - 70s 350ms/step - loss: 0.6931 - accuracy: 0.5069 - val_loss: 0.6939 - val_accuracy: 0.4725\n",
      "Epoch 10/20\n",
      "200/200 [==============================] - 70s 350ms/step - loss: 0.6931 - accuracy: 0.5069 - val_loss: 0.6940 - val_accuracy: 0.4725\n",
      "Epoch 11/20\n",
      "200/200 [==============================] - 70s 351ms/step - loss: 0.6931 - accuracy: 0.5069 - val_loss: 0.6939 - val_accuracy: 0.4725\n",
      "Epoch 12/20\n",
      "200/200 [==============================] - 71s 356ms/step - loss: 0.6931 - accuracy: 0.5069 - val_loss: 0.6940 - val_accuracy: 0.4725\n",
      "Epoch 13/20\n",
      "200/200 [==============================] - 70s 350ms/step - loss: 0.6931 - accuracy: 0.5069 - val_loss: 0.6940 - val_accuracy: 0.4725\n",
      "Epoch 14/20\n",
      "200/200 [==============================] - 70s 350ms/step - loss: 0.6931 - accuracy: 0.5069 - val_loss: 0.6941 - val_accuracy: 0.4725\n",
      "Epoch 15/20\n",
      "200/200 [==============================] - 70s 351ms/step - loss: 0.6931 - accuracy: 0.5069 - val_loss: 0.6941 - val_accuracy: 0.4725\n",
      "Epoch 16/20\n",
      "200/200 [==============================] - 70s 351ms/step - loss: 0.6931 - accuracy: 0.5069 - val_loss: 0.6941 - val_accuracy: 0.4725\n",
      "Epoch 17/20\n",
      "200/200 [==============================] - 70s 351ms/step - loss: 0.6931 - accuracy: 0.5069 - val_loss: 0.6941 - val_accuracy: 0.4725\n",
      "Epoch 18/20\n",
      "200/200 [==============================] - 70s 351ms/step - loss: 0.6931 - accuracy: 0.5069 - val_loss: 0.6941 - val_accuracy: 0.4725\n",
      "Epoch 19/20\n",
      "200/200 [==============================] - 70s 351ms/step - loss: 0.6931 - accuracy: 0.5069 - val_loss: 0.6941 - val_accuracy: 0.4725\n",
      "Epoch 20/20\n",
      "200/200 [==============================] - 70s 351ms/step - loss: 0.6931 - accuracy: 0.5069 - val_loss: 0.6940 - val_accuracy: 0.4725\n"
     ]
    },
    {
     "name": "stderr",
     "output_type": "stream",
     "text": [
      "WARNING:absl:Found untraced functions such as _jit_compiled_convolution_op, _jit_compiled_convolution_op, _jit_compiled_convolution_op, _jit_compiled_convolution_op, _jit_compiled_convolution_op while saving (showing 5 of 9). These functions will not be directly callable after loading.\n"
     ]
    },
    {
     "name": "stdout",
     "output_type": "stream",
     "text": [
      "INFO:tensorflow:Assets written to: A:\\MSc\\Pulmonary Nodules\\models\\arranged_model_r50\\assets\n"
     ]
    },
    {
     "name": "stderr",
     "output_type": "stream",
     "text": [
      "INFO:tensorflow:Assets written to: A:\\MSc\\Pulmonary Nodules\\models\\arranged_model_r50\\assets\n"
     ]
    }
   ],
   "source": [
    "epochs = 20\n",
    "history = model_r50.fit(\n",
    "  train_50,\n",
    "  validation_data=val_50,\n",
    "  epochs=epochs,\n",
    "  callbacks = [model_checkpoint_callback]\n",
    ")\n",
    "model_r50.save(r'A:\\MSc\\Pulmonary Nodules\\models\\arranged_model_r50')"
   ]
  },
  {
   "cell_type": "code",
   "execution_count": 10,
   "id": "23b9482a-592b-42bf-a03e-c1d78a330e24",
   "metadata": {
    "tags": []
   },
   "outputs": [
    {
     "data": {
      "image/png": "[encoded data removed]",
      "text/plain": [
       "<Figure size 800x800 with 2 Axes>"
      ]
     },
     "metadata": {},
     "output_type": "display_data"
    }
   ],
   "source": [
    "acc = history.history['accuracy']\n",
    "val_acc = history.history['val_accuracy']\n",
    "\n",
    "loss = history.history['loss']\n",
    "val_loss = history.history['val_loss']\n",
    "\n",
    "epochs_range = range(epochs)\n",
    "\n",
    "plt.figure(figsize=(8, 8))\n",
    "plt.subplot(1, 2, 1)\n",
    "plt.plot(epochs_range, acc, label='Training Accuracy')\n",
    "plt.plot(epochs_range, val_acc, label='Validation Accuracy')\n",
    "plt.legend(loc='lower right')\n",
    "plt.title('Training and Validation Accuracy')\n",
    "\n",
    "plt.subplot(1, 2, 2)\n",
    "plt.plot(epochs_range, loss, label='Training Loss')\n",
    "plt.plot(epochs_range, val_loss, label='Validation Loss')\n",
    "plt.legend(loc='upper right')\n",
    "plt.title('Training and Validation Loss')\n",
    "plt.show()"
   ]
  },
  {
   "cell_type": "markdown",
   "id": "45ee1210-343b-4baf-9aaf-49abb4f5b805",
   "metadata": {},
   "source": [
    "# Testing "
   ]
  },
  {
   "cell_type": "code",
   "execution_count": 5,
   "id": "e4f2204e-a242-4e5b-b608-1673755aca5b",
   "metadata": {},
   "outputs": [],
   "source": [
    "def get_binary_testing_data(radius, n1 = 2000, n2=2500, size = (64,64,28), levels=[1, 5]):\n",
    "    h,w,d = size\n",
    "    \n",
    "    data = []\n",
    "    label = []\n",
    "    \n",
    "    for level in levels:\n",
    "        for i in tqdm(range(n1, n2)):\n",
    "            try:\n",
    "                data.append(np.load(_get_path(radius, level, i)).reshape(h,w,d,1))\n",
    "            except :\n",
    "                continue\n",
    "            if level < 3:\n",
    "                label.append(0)\n",
    "            elif level > 3:\n",
    "                label.append(1)\n",
    "    return data, label"
   ]
  },
  {
   "cell_type": "code",
   "execution_count": 20,
   "id": "33db6dc4-1ffc-44c5-91cc-744342d99faf",
   "metadata": {},
   "outputs": [],
   "source": [
    "def test_data_prep(data, labels, BATCH_SIZE = 16):\n",
    "    print('data length = ', len(labels))\n",
    "    scaler = Normalizer(data)\n",
    "    normalized = scaler.normalize(data)\n",
    "    print(\"max of training dataset: \", np.max(normalized), \" & min: \", np.min(normalized))\n",
    "    data = tf.data.Dataset.from_tensor_slices((normalized, labels))\n",
    "    test_data = data.batch(BATCH_SIZE)\n",
    "    return normalized, labels, test_data"
   ]
  },
  {
   "cell_type": "code",
   "execution_count": 21,
   "id": "75719fa1-5e68-4fb0-8599-d901c6db3baa",
   "metadata": {},
   "outputs": [
    {
     "data": {
      "application/vnd.jupyter.widget-view+json": {
       "model_id": "ca6085ec95274d488679b2d9e33a78b9",
       "version_major": 2,
       "version_minor": 0
      },
      "text/plain": [
       "  0%|          | 0/200 [00:00<?, ?it/s]"
      ]
     },
     "metadata": {},
     "output_type": "display_data"
    },
    {
     "data": {
      "application/vnd.jupyter.widget-view+json": {
       "model_id": "36b616f70f8f4486bd544237b66d9372",
       "version_major": 2,
       "version_minor": 0
      },
      "text/plain": [
       "  0%|          | 0/200 [00:00<?, ?it/s]"
      ]
     },
     "metadata": {},
     "output_type": "display_data"
    },
    {
     "name": "stdout",
     "output_type": "stream",
     "text": [
      "data length =  400\n",
      "max of training dataset:  1.0  & min:  0.0\n"
     ]
    },
    {
     "data": {
      "application/vnd.jupyter.widget-view+json": {
       "model_id": "2f1550c5d6b947c49eb42d68f7c5f6e9",
       "version_major": 2,
       "version_minor": 0
      },
      "text/plain": [
       "  0%|          | 0/200 [00:00<?, ?it/s]"
      ]
     },
     "metadata": {},
     "output_type": "display_data"
    },
    {
     "data": {
      "application/vnd.jupyter.widget-view+json": {
       "model_id": "095d222a19fd4d778625d59a0b8cad67",
       "version_major": 2,
       "version_minor": 0
      },
      "text/plain": [
       "  0%|          | 0/200 [00:00<?, ?it/s]"
      ]
     },
     "metadata": {},
     "output_type": "display_data"
    },
    {
     "name": "stdout",
     "output_type": "stream",
     "text": [
      "data length =  400\n",
      "max of training dataset:  1.0  & min:  0.0\n"
     ]
    },
    {
     "data": {
      "application/vnd.jupyter.widget-view+json": {
       "model_id": "f4d9287b08044d9c9f21029dd2af75c7",
       "version_major": 2,
       "version_minor": 0
      },
      "text/plain": [
       "  0%|          | 0/200 [00:00<?, ?it/s]"
      ]
     },
     "metadata": {},
     "output_type": "display_data"
    },
    {
     "data": {
      "application/vnd.jupyter.widget-view+json": {
       "model_id": "86e2193ab505481b80316e45646d4408",
       "version_major": 2,
       "version_minor": 0
      },
      "text/plain": [
       "  0%|          | 0/200 [00:00<?, ?it/s]"
      ]
     },
     "metadata": {},
     "output_type": "display_data"
    },
    {
     "name": "stdout",
     "output_type": "stream",
     "text": [
      "data length =  400\n",
      "max of training dataset:  1.0  & min:  0.0\n"
     ]
    },
    {
     "data": {
      "application/vnd.jupyter.widget-view+json": {
       "model_id": "0ff8fbfc115b4701ab700ed005bdbb3b",
       "version_major": 2,
       "version_minor": 0
      },
      "text/plain": [
       "  0%|          | 0/200 [00:00<?, ?it/s]"
      ]
     },
     "metadata": {},
     "output_type": "display_data"
    },
    {
     "data": {
      "application/vnd.jupyter.widget-view+json": {
       "model_id": "fdca541d0d0f4b3d9b810781f631f2bf",
       "version_major": 2,
       "version_minor": 0
      },
      "text/plain": [
       "  0%|          | 0/200 [00:00<?, ?it/s]"
      ]
     },
     "metadata": {},
     "output_type": "display_data"
    },
    {
     "name": "stdout",
     "output_type": "stream",
     "text": [
      "data length =  400\n",
      "max of training dataset:  1.0  & min:  0.0\n"
     ]
    },
    {
     "data": {
      "application/vnd.jupyter.widget-view+json": {
       "model_id": "b3d8d389a4d841f294381fd41369b5da",
       "version_major": 2,
       "version_minor": 0
      },
      "text/plain": [
       "  0%|          | 0/200 [00:00<?, ?it/s]"
      ]
     },
     "metadata": {},
     "output_type": "display_data"
    },
    {
     "data": {
      "application/vnd.jupyter.widget-view+json": {
       "model_id": "8c5e93b04fe841429ab506bec44bf2ce",
       "version_major": 2,
       "version_minor": 0
      },
      "text/plain": [
       "  0%|          | 0/200 [00:00<?, ?it/s]"
      ]
     },
     "metadata": {},
     "output_type": "display_data"
    },
    {
     "name": "stdout",
     "output_type": "stream",
     "text": [
      "data length =  400\n",
      "max of training dataset:  1.0  & min:  0.0\n"
     ]
    },
    {
     "data": {
      "application/vnd.jupyter.widget-view+json": {
       "model_id": "80b353035a0248a08a66f4a42b5a017f",
       "version_major": 2,
       "version_minor": 0
      },
      "text/plain": [
       "  0%|          | 0/200 [00:00<?, ?it/s]"
      ]
     },
     "metadata": {},
     "output_type": "display_data"
    },
    {
     "data": {
      "application/vnd.jupyter.widget-view+json": {
       "model_id": "decdfde0ef0a4206951df10ae5a9b778",
       "version_major": 2,
       "version_minor": 0
      },
      "text/plain": [
       "  0%|          | 0/200 [00:00<?, ?it/s]"
      ]
     },
     "metadata": {},
     "output_type": "display_data"
    },
    {
     "name": "stdout",
     "output_type": "stream",
     "text": [
      "data length =  400\n",
      "max of training dataset:  1.0  & min:  0.0\n"
     ]
    },
    {
     "data": {
      "application/vnd.jupyter.widget-view+json": {
       "model_id": "297e5949f6054a138516732fc3c5cdcc",
       "version_major": 2,
       "version_minor": 0
      },
      "text/plain": [
       "  0%|          | 0/200 [00:00<?, ?it/s]"
      ]
     },
     "metadata": {},
     "output_type": "display_data"
    },
    {
     "data": {
      "application/vnd.jupyter.widget-view+json": {
       "model_id": "be83f0cd8ccf49d9a73ce1f1a8866fb7",
       "version_major": 2,
       "version_minor": 0
      },
      "text/plain": [
       "  0%|          | 0/200 [00:00<?, ?it/s]"
      ]
     },
     "metadata": {},
     "output_type": "display_data"
    },
    {
     "name": "stdout",
     "output_type": "stream",
     "text": [
      "data length =  400\n",
      "max of training dataset:  1.0  & min:  0.0\n"
     ]
    },
    {
     "data": {
      "application/vnd.jupyter.widget-view+json": {
       "model_id": "1f4ebf2665f74b718dc2edaf2750b56f",
       "version_major": 2,
       "version_minor": 0
      },
      "text/plain": [
       "  0%|          | 0/200 [00:00<?, ?it/s]"
      ]
     },
     "metadata": {},
     "output_type": "display_data"
    },
    {
     "data": {
      "application/vnd.jupyter.widget-view+json": {
       "model_id": "a7931b6ae2e848708bc28426d25d21f5",
       "version_major": 2,
       "version_minor": 0
      },
      "text/plain": [
       "  0%|          | 0/200 [00:00<?, ?it/s]"
      ]
     },
     "metadata": {},
     "output_type": "display_data"
    },
    {
     "name": "stdout",
     "output_type": "stream",
     "text": [
      "data length =  400\n",
      "max of training dataset:  1.0  & min:  0.0\n"
     ]
    },
    {
     "data": {
      "application/vnd.jupyter.widget-view+json": {
       "model_id": "707bbafa2c8c4a1e8dca2adabf67fc9b",
       "version_major": 2,
       "version_minor": 0
      },
      "text/plain": [
       "  0%|          | 0/200 [00:00<?, ?it/s]"
      ]
     },
     "metadata": {},
     "output_type": "display_data"
    },
    {
     "data": {
      "application/vnd.jupyter.widget-view+json": {
       "model_id": "e8bd8264aa494108a6c5bcec466dbd3d",
       "version_major": 2,
       "version_minor": 0
      },
      "text/plain": [
       "  0%|          | 0/200 [00:00<?, ?it/s]"
      ]
     },
     "metadata": {},
     "output_type": "display_data"
    },
    {
     "name": "stdout",
     "output_type": "stream",
     "text": [
      "data length =  400\n",
      "max of training dataset:  1.0  & min:  0.0\n"
     ]
    },
    {
     "data": {
      "application/vnd.jupyter.widget-view+json": {
       "model_id": "403749540feb47dea9355bdb724adf9d",
       "version_major": 2,
       "version_minor": 0
      },
      "text/plain": [
       "  0%|          | 0/200 [00:00<?, ?it/s]"
      ]
     },
     "metadata": {},
     "output_type": "display_data"
    },
    {
     "data": {
      "application/vnd.jupyter.widget-view+json": {
       "model_id": "a0ffea9f625a4e20add4fb43eea93b00",
       "version_major": 2,
       "version_minor": 0
      },
      "text/plain": [
       "  0%|          | 0/200 [00:00<?, ?it/s]"
      ]
     },
     "metadata": {},
     "output_type": "display_data"
    },
    {
     "name": "stdout",
     "output_type": "stream",
     "text": [
      "data length =  400\n",
      "max of training dataset:  1.0  & min:  0.0\n"
     ]
    }
   ],
   "source": [
    "radii = [5, 10, 15, 20, 25, 30, 35, 40, 45, 50]\n",
    "test = []\n",
    "y_test = []\n",
    "for r in radii:\n",
    "    t, l = get_binary_testing_data(radius = r, n1 = 2000, n2 = 2200)\n",
    "    _, _, data = test_data_prep(t, l)\n",
    "    test.append(data)\n",
    "    #y_test.append(y)"
   ]
  },
  {
   "cell_type": "code",
   "execution_count": 22,
   "id": "1faf8f4c-3551-44e8-84d2-3ce3847bd509",
   "metadata": {},
   "outputs": [],
   "source": [
    "m10 = tf.keras.models.load_model(r'A:\\MSc\\Pulmonary Nodules\\MY BEST MODELS\\R10')\n",
    "m20 = tf.keras.models.load_model(r'A:\\MSc\\Pulmonary Nodules\\MY BEST MODELS\\R20')\n",
    "m30 = tf.keras.models.load_model(r'A:\\MSc\\Pulmonary Nodules\\MY BEST MODELS\\R30')\n",
    "m40 = tf.keras.models.load_model(r'A:\\MSc\\Pulmonary Nodules\\MY BEST MODELS\\R40')\n",
    "m50 = tf.keras.models.load_model(r'A:\\MSc\\Pulmonary Nodules\\MY BEST MODELS\\R50')\n",
    "models = [m10, m20, m30, m40, m50]"
   ]
  },
  {
   "cell_type": "code",
   "execution_count": 14,
   "id": "b6d158a1-dafe-43d0-9d5b-bfad78d3d9f8",
   "metadata": {
    "tags": []
   },
   "outputs": [
    {
     "name": "stdout",
     "output_type": "stream",
     "text": [
      "13/13 [==============================] - 3s 207ms/step\n"
     ]
    },
    {
     "data": {
      "text/plain": [
       "0.5"
      ]
     },
     "execution_count": 14,
     "metadata": {},
     "output_type": "execute_result"
    }
   ],
   "source": [
    "preds = models[0].predict(x)\n",
    "out = preds.copy()\n",
    "out[preds<0.5] = 0\n",
    "out[preds>-0.5] = 1\n",
    "m = tf.keras.metrics.Accuracy()\n",
    "m.update_state(out, y)\n",
    "m.result().numpy()"
   ]
  },
  {
   "cell_type": "code",
   "execution_count": 23,
   "id": "ae646c1c-9913-4ed0-9e11-f1af62b7f9d5",
   "metadata": {
    "tags": []
   },
   "outputs": [
    {
     "data": {
      "application/vnd.jupyter.widget-view+json": {
       "model_id": "3a2a6bb1c155413494f8524281e0a18f",
       "version_major": 2,
       "version_minor": 0
      },
      "text/plain": [
       "  0%|          | 0/10 [00:00<?, ?it/s]"
      ]
     },
     "metadata": {},
     "output_type": "display_data"
    },
    {
     "name": "stdout",
     "output_type": "stream",
     "text": [
      "25/25 [==============================] - 3s 107ms/step - loss: 26.6490 - accuracy: 0.5000\n",
      "25/25 [==============================] - 3s 107ms/step - loss: 33.4619 - accuracy: 0.5000\n",
      "25/25 [==============================] - 3s 107ms/step - loss: 11.2663 - accuracy: 0.5825\n",
      "25/25 [==============================] - 3s 108ms/step - loss: 11.7878 - accuracy: 0.5775\n",
      "25/25 [==============================] - 3s 108ms/step - loss: 1.1431 - accuracy: 0.5300\n",
      "25/25 [==============================] - 3s 109ms/step - loss: 2.4269 - accuracy: 0.6450\n",
      "25/25 [==============================] - 3s 108ms/step - loss: 3.4746 - accuracy: 0.5425\n",
      "25/25 [==============================] - 3s 109ms/step - loss: 3.7891 - accuracy: 0.5100\n",
      "25/25 [==============================] - 3s 109ms/step - loss: 2.2621 - accuracy: 0.4750\n",
      "25/25 [==============================] - 3s 109ms/step - loss: 0.6868 - accuracy: 0.5000\n",
      "25/25 [==============================] - 3s 110ms/step - loss: 2.9543 - accuracy: 0.5650\n",
      "25/25 [==============================] - 3s 109ms/step - loss: 2.6999 - accuracy: 0.5575\n",
      "25/25 [==============================] - 3s 110ms/step - loss: 3.0882 - accuracy: 0.5750\n",
      "25/25 [==============================] - 3s 111ms/step - loss: 1.7198 - accuracy: 0.6475\n",
      "25/25 [==============================] - 3s 110ms/step - loss: 0.6869 - accuracy: 0.5000\n",
      "25/25 [==============================] - 3s 111ms/step - loss: 3.0750 - accuracy: 0.5675\n",
      "25/25 [==============================] - 3s 109ms/step - loss: 3.0324 - accuracy: 0.5300\n",
      "25/25 [==============================] - 3s 110ms/step - loss: 2.7855 - accuracy: 0.5725\n",
      "25/25 [==============================] - 3s 112ms/step - loss: 1.8933 - accuracy: 0.5800\n",
      "25/25 [==============================] - 3s 111ms/step - loss: 0.6891 - accuracy: 0.5000\n",
      "25/25 [==============================] - 3s 112ms/step - loss: 3.7026 - accuracy: 0.5175\n",
      "25/25 [==============================] - 3s 110ms/step - loss: 3.3961 - accuracy: 0.5150\n",
      "25/25 [==============================] - 3s 112ms/step - loss: 2.9204 - accuracy: 0.6250\n",
      "25/25 [==============================] - 3s 112ms/step - loss: 2.1239 - accuracy: 0.5425\n",
      "25/25 [==============================] - 3s 111ms/step - loss: 0.6918 - accuracy: 0.5000\n",
      "25/25 [==============================] - 3s 112ms/step - loss: 4.0296 - accuracy: 0.4550\n",
      "25/25 [==============================] - 3s 110ms/step - loss: 2.8916 - accuracy: 0.5500\n",
      "25/25 [==============================] - 3s 111ms/step - loss: 3.4258 - accuracy: 0.6250\n",
      "25/25 [==============================] - 3s 111ms/step - loss: 1.9608 - accuracy: 0.5325\n",
      "25/25 [==============================] - 3s 110ms/step - loss: 0.6931 - accuracy: 0.5000\n",
      "25/25 [==============================] - 3s 111ms/step - loss: 2.9704 - accuracy: 0.5725\n",
      "25/25 [==============================] - 3s 111ms/step - loss: 2.4660 - accuracy: 0.6075\n",
      "25/25 [==============================] - 3s 111ms/step - loss: 3.9152 - accuracy: 0.5500\n",
      "25/25 [==============================] - 3s 112ms/step - loss: 1.9528 - accuracy: 0.5625\n",
      "25/25 [==============================] - 3s 110ms/step - loss: 0.6935 - accuracy: 0.5000\n",
      "25/25 [==============================] - 3s 111ms/step - loss: 3.1775 - accuracy: 0.4750\n",
      "25/25 [==============================] - 3s 110ms/step - loss: 2.5092 - accuracy: 0.5300\n",
      "25/25 [==============================] - 3s 111ms/step - loss: 4.0258 - accuracy: 0.4875\n",
      "25/25 [==============================] - 3s 111ms/step - loss: 2.1167 - accuracy: 0.5125\n",
      "25/25 [==============================] - 3s 110ms/step - loss: 0.6952 - accuracy: 0.5000\n",
      "25/25 [==============================] - 3s 111ms/step - loss: 3.2810 - accuracy: 0.5250\n",
      "25/25 [==============================] - 3s 110ms/step - loss: 2.5887 - accuracy: 0.5125\n",
      "25/25 [==============================] - 3s 110ms/step - loss: 3.4370 - accuracy: 0.4700\n",
      "25/25 [==============================] - 3s 111ms/step - loss: 2.0473 - accuracy: 0.4975\n",
      "25/25 [==============================] - 3s 109ms/step - loss: 0.6972 - accuracy: 0.5000\n",
      "25/25 [==============================] - 3s 111ms/step - loss: 3.2449 - accuracy: 0.4475\n",
      "25/25 [==============================] - 3s 109ms/step - loss: 2.5106 - accuracy: 0.5325\n",
      "25/25 [==============================] - 3s 111ms/step - loss: 2.5860 - accuracy: 0.5700\n",
      "25/25 [==============================] - 3s 111ms/step - loss: 2.1580 - accuracy: 0.4900\n",
      "25/25 [==============================] - 3s 110ms/step - loss: 0.6982 - accuracy: 0.5000\n"
     ]
    }
   ],
   "source": [
    "results = {'m10': [], 'm20': [], 'm30': [], 'm40': [], 'm50': []}\n",
    "for test_data in tqdm(test):\n",
    "    for m in range(1, len(models) + 1):\n",
    "        model_no = str(m * 10)\n",
    "        model_name = 'm' + model_no\n",
    "        r = models[m-1].evaluate(test_data)\n",
    "        #preds = models[m-1].predict(test_data)\n",
    "        #out = preds.copy()\n",
    "        #out[preds<0.5] = 0\n",
    "        #out[preds>= 0.5] = 1\n",
    "        #m = tf.keras.metrics.Accuracy()\n",
    "        #m.update_state(out, y)\n",
    "        #m.result().numpy()\n",
    "        results[model_name].append(r[1])"
   ]
  },
  {
   "cell_type": "code",
   "execution_count": 24,
   "id": "c2b6ddbc-73a2-44d3-81f4-cbef22eda980",
   "metadata": {},
   "outputs": [],
   "source": [
    "pd.DataFrame(results).to_csv(r'A:\\MSc\\Pulmonary Nodules\\Results/m10-to-m50-arranged-results-2ksample.csv')"
   ]
  },
  {
   "cell_type": "markdown",
   "id": "a6153dbd-df93-403a-afc9-e0278adbc0ff",
   "metadata": {},
   "source": [
    "## Load Testing Data 10, 20, 40"
   ]
  },
  {
   "cell_type": "code",
   "execution_count": 13,
   "id": "857ba65a-c839-4e3e-b0d6-cce098715264",
   "metadata": {},
   "outputs": [
    {
     "data": {
      "application/vnd.jupyter.widget-view+json": {
       "model_id": "d21c1c53c8564ea19a649388164fe6e6",
       "version_major": 2,
       "version_minor": 0
      },
      "text/plain": [
       "  0%|          | 0/1000 [00:00<?, ?it/s]"
      ]
     },
     "metadata": {},
     "output_type": "display_data"
    },
    {
     "data": {
      "application/vnd.jupyter.widget-view+json": {
       "model_id": "0f5bc7bd2a8944aeb4226cbbb3a6e7c3",
       "version_major": 2,
       "version_minor": 0
      },
      "text/plain": [
       "  0%|          | 0/1000 [00:00<?, ?it/s]"
      ]
     },
     "metadata": {},
     "output_type": "display_data"
    },
    {
     "data": {
      "application/vnd.jupyter.widget-view+json": {
       "model_id": "9ab36f0df96d4dacb9faee4f87f5a2e9",
       "version_major": 2,
       "version_minor": 0
      },
      "text/plain": [
       "  0%|          | 0/1000 [00:00<?, ?it/s]"
      ]
     },
     "metadata": {},
     "output_type": "display_data"
    },
    {
     "data": {
      "application/vnd.jupyter.widget-view+json": {
       "model_id": "4e83140fac704e4e9d2f22a9735d5370",
       "version_major": 2,
       "version_minor": 0
      },
      "text/plain": [
       "  0%|          | 0/1000 [00:00<?, ?it/s]"
      ]
     },
     "metadata": {},
     "output_type": "display_data"
    },
    {
     "data": {
      "application/vnd.jupyter.widget-view+json": {
       "model_id": "13f67ca141da42b28378737ea25ab99b",
       "version_major": 2,
       "version_minor": 0
      },
      "text/plain": [
       "  0%|          | 0/1000 [00:00<?, ?it/s]"
      ]
     },
     "metadata": {},
     "output_type": "display_data"
    },
    {
     "data": {
      "application/vnd.jupyter.widget-view+json": {
       "model_id": "0c94ea21b6574a6f9e9592661e658c93",
       "version_major": 2,
       "version_minor": 0
      },
      "text/plain": [
       "  0%|          | 0/1000 [00:00<?, ?it/s]"
      ]
     },
     "metadata": {},
     "output_type": "display_data"
    }
   ],
   "source": [
    "n = 1000\n",
    "n2 = 2000\n",
    "h,w,d = 64, 64, 28\n",
    "\n",
    "test_10 = []\n",
    "test_label_10 = []\n",
    "\n",
    "radius = 10\n",
    "for level in [1, 5]:\n",
    "    for i in tqdm(range(n, n2)):\n",
    "        try:\n",
    "            test_10.append(np.load(_get_path(radius, level, i)).reshape(h,w,d,1))\n",
    "        except :\n",
    "            continue\n",
    "        if level < 3:\n",
    "            test_label_10.append(0)\n",
    "        else :\n",
    "            test_label_10.append(1)\n",
    "\n",
    "test_20 = []\n",
    "test_label_20 = []\n",
    "radius = 20\n",
    "for level in [1, 5]:\n",
    "    for i in tqdm(range(n, n2)):\n",
    "        try:\n",
    "            test_20.append(np.load(_get_path(radius, level, i)).reshape(h,w,d,1))\n",
    "        except :\n",
    "            continue\n",
    "        if level < 3:\n",
    "            test_label_20.append(0)\n",
    "        else :\n",
    "            test_label_20.append(1)\n",
    "            \n",
    "test_40 = []\n",
    "test_label_40 = []\n",
    "radius = 40\n",
    "for level in [1, 5]:\n",
    "    for i in tqdm(range(n, n2)):\n",
    "        try:\n",
    "            test_40.append(np.load(_get_path(radius, level, i)).reshape(h,w,d,1))\n",
    "        except :\n",
    "            continue\n",
    "        if level < 3:\n",
    "            test_label_40.append(0)\n",
    "        else :\n",
    "            test_label_40.append(1)"
   ]
  },
  {
   "cell_type": "code",
   "execution_count": 14,
   "id": "082437dd-3977-4d41-8e64-3def0a22a4ec",
   "metadata": {
    "tags": []
   },
   "outputs": [
    {
     "name": "stdout",
     "output_type": "stream",
     "text": [
      "max of training dataset:  1.0  & min:  0.0\n",
      "max of training dataset:  1.0  & min:  0.0\n",
      "max of training dataset:  1.0  & min:  0.0\n"
     ]
    }
   ],
   "source": [
    "def test_data_prep(data, labels, BATCH_SIZE = 32):\n",
    "    scaler = Normalizer(data)\n",
    "    normalized = scaler.normalize(data)\n",
    "    print(\"max of training dataset: \", np.max(normalized), \" & min: \", np.min(normalized))\n",
    "    data = tf.data.Dataset.from_tensor_slices((normalized, labels))\n",
    "    test_data = data.batch(BATCH_SIZE)\n",
    "    return test_data\n",
    "\n",
    "test_10 = test_data_prep(data_10, label_10)\n",
    "test_20 = test_data_prep(data_20, label_20)\n",
    "test_40 = test_data_prep(data_40, label_40)"
   ]
  },
  {
   "cell_type": "markdown",
   "id": "486930c9-d44b-4603-ad89-2ccc57993321",
   "metadata": {},
   "source": [
    "## Results"
   ]
  },
  {
   "cell_type": "markdown",
   "id": "431b7a7e-cbe6-45e3-ad6d-c3ad3ae24e72",
   "metadata": {},
   "source": [
    "### Model trained on radius 10 results"
   ]
  },
  {
   "cell_type": "code",
   "execution_count": 15,
   "id": "8f48e651-24a0-41f6-a53f-02d4ed7620ff",
   "metadata": {
    "collapsed": true,
    "jupyter": {
     "outputs_hidden": true
    },
    "tags": []
   },
   "outputs": [
    {
     "ename": "NameError",
     "evalue": "name 'model_r10' is not defined",
     "output_type": "error",
     "traceback": [
      "\u001b[1;31m---------------------------------------------------------------------------\u001b[0m",
      "\u001b[1;31mNameError\u001b[0m                                 Traceback (most recent call last)",
      "\u001b[1;32m<ipython-input-15-9b29dfc195ca>\u001b[0m in \u001b[0;36m<module>\u001b[1;34m\u001b[0m\n\u001b[1;32m----> 1\u001b[1;33m \u001b[0mmodel_r10\u001b[0m\u001b[1;33m.\u001b[0m\u001b[0mevaluate\u001b[0m\u001b[1;33m(\u001b[0m\u001b[0mtest_10\u001b[0m\u001b[1;33m)\u001b[0m\u001b[1;33m\u001b[0m\u001b[1;33m\u001b[0m\u001b[0m\n\u001b[0m\u001b[0;32m      2\u001b[0m \u001b[0mmodel_r10\u001b[0m\u001b[1;33m.\u001b[0m\u001b[0mevaluate\u001b[0m\u001b[1;33m(\u001b[0m\u001b[0mtest_20\u001b[0m\u001b[1;33m)\u001b[0m\u001b[1;33m\u001b[0m\u001b[1;33m\u001b[0m\u001b[0m\n\u001b[0;32m      3\u001b[0m \u001b[0mmodel_r10\u001b[0m\u001b[1;33m.\u001b[0m\u001b[0mevaluate\u001b[0m\u001b[1;33m(\u001b[0m\u001b[0mtest_40\u001b[0m\u001b[1;33m)\u001b[0m\u001b[1;33m\u001b[0m\u001b[1;33m\u001b[0m\u001b[0m\n",
      "\u001b[1;31mNameError\u001b[0m: name 'model_r10' is not defined"
     ]
    }
   ],
   "source": [
    "model_r10.evaluate(test_10)\n",
    "model_r10.evaluate(test_20)\n",
    "model_r10.evaluate(test_40)"
   ]
  },
  {
   "cell_type": "markdown",
   "id": "b1f683e2-c7bd-4097-a165-e0edbde0e75e",
   "metadata": {},
   "source": [
    "### Model trained on radius 20 results"
   ]
  },
  {
   "cell_type": "code",
   "execution_count": 26,
   "id": "4b2a5a1f-5c79-4bfb-8199-fed42f5ecd5d",
   "metadata": {},
   "outputs": [
    {
     "name": "stdout",
     "output_type": "stream",
     "text": [
      "59/59 [==============================] - 10s 154ms/step - loss: 1.4986 - accuracy: 0.6653\n",
      "58/58 [==============================] - 10s 154ms/step - loss: 0.1478 - accuracy: 0.9541\n",
      "55/55 [==============================] - 9s 153ms/step - loss: 3.9234 - accuracy: 0.5247\n"
     ]
    },
    {
     "data": {
      "text/plain": [
       "[3.9234087467193604, 0.5246559381484985]"
      ]
     },
     "execution_count": 26,
     "metadata": {},
     "output_type": "execute_result"
    }
   ],
   "source": [
    "model_r20.evaluate(test_10)\n",
    "model_r20.evaluate(test_20)\n",
    "model_r20.evaluate(test_40)"
   ]
  },
  {
   "cell_type": "markdown",
   "id": "b456c433-5bff-4e32-ad71-0ec94fed8315",
   "metadata": {},
   "source": [
    "### Model trained on radius 40 results"
   ]
  },
  {
   "cell_type": "code",
   "execution_count": 32,
   "id": "bb858910-6924-495c-885a-a2b3e919d69b",
   "metadata": {},
   "outputs": [
    {
     "name": "stdout",
     "output_type": "stream",
     "text": [
      "59/59 [==============================] - 10s 153ms/step - loss: 1.5921 - accuracy: 0.5042\n",
      "58/58 [==============================] - 10s 153ms/step - loss: 1.8316 - accuracy: 0.4649\n",
      "55/55 [==============================] - 9s 152ms/step - loss: 0.4920 - accuracy: 0.8257\n"
     ]
    },
    {
     "data": {
      "text/plain": [
       "[0.491988867521286, 0.8256880640983582]"
      ]
     },
     "execution_count": 32,
     "metadata": {},
     "output_type": "execute_result"
    }
   ],
   "source": [
    "model_r40.evaluate(test_10)\n",
    "model_r40.evaluate(test_20)\n",
    "model_r40.evaluate(test_40)"
   ]
  },
  {
   "cell_type": "code",
   "execution_count": 16,
   "id": "099d2dae-b55f-49a0-b921-d528819fcfb7",
   "metadata": {},
   "outputs": [
    {
     "name": "stdout",
     "output_type": "stream",
     "text": [
      "59/59 [==============================] - 10s 156ms/step - loss: 1.2862 - accuracy: 0.6811\n",
      "58/58 [==============================] - 11s 174ms/step - loss: 1.4502 - accuracy: 0.6533\n",
      "55/55 [==============================] - 10s 166ms/step - loss: 1.2667 - accuracy: 0.5092\n"
     ]
    },
    {
     "data": {
      "text/plain": [
       "[1.2666913270950317, 0.5091742873191833]"
      ]
     },
     "execution_count": 16,
     "metadata": {},
     "output_type": "execute_result"
    }
   ],
   "source": [
    "model_rAll.evaluate(test_10)\n",
    "model_rAll.evaluate(test_20)\n",
    "model_rAll.evaluate(test_40)"
   ]
  },
  {
   "cell_type": "markdown",
   "id": "6390a364-ae2e-42a5-b163-a21a2866763a",
   "metadata": {},
   "source": [
    "## Loading malignant data only"
   ]
  },
  {
   "cell_type": "code",
   "execution_count": 17,
   "id": "89057a2a-9ed8-46c4-9d36-1249567cb3f5",
   "metadata": {},
   "outputs": [
    {
     "data": {
      "application/vnd.jupyter.widget-view+json": {
       "model_id": "e62c0b3211ec4167a7bfbe4d5a04b757",
       "version_major": 2,
       "version_minor": 0
      },
      "text/plain": [
       "  0%|          | 0/1000 [00:00<?, ?it/s]"
      ]
     },
     "metadata": {},
     "output_type": "display_data"
    },
    {
     "data": {
      "application/vnd.jupyter.widget-view+json": {
       "model_id": "acd6074c8fd347b7be00572579ae303e",
       "version_major": 2,
       "version_minor": 0
      },
      "text/plain": [
       "  0%|          | 0/1000 [00:00<?, ?it/s]"
      ]
     },
     "metadata": {},
     "output_type": "display_data"
    },
    {
     "data": {
      "application/vnd.jupyter.widget-view+json": {
       "model_id": "2b9419af29f24585864767b9df63b0ef",
       "version_major": 2,
       "version_minor": 0
      },
      "text/plain": [
       "  0%|          | 0/1000 [00:00<?, ?it/s]"
      ]
     },
     "metadata": {},
     "output_type": "display_data"
    }
   ],
   "source": [
    "mal_10 = []\n",
    "mal_label_10 = []\n",
    "radius = 10\n",
    "level = 5\n",
    "for i in tqdm(range(n, n2)):\n",
    "    try:\n",
    "        mal_10.append(np.load(_get_path(radius, level, i)).reshape(h,w,d,1))\n",
    "    except :\n",
    "        continue\n",
    "    if level < 3:\n",
    "        mal_label_10.append(0)\n",
    "    else :\n",
    "        mal_label_10.append(1)\n",
    "        \n",
    "mal_20 = []\n",
    "mal_label_20 = []\n",
    "radius = 20\n",
    "level = 5\n",
    "for i in tqdm(range(n, n2)):\n",
    "    try:\n",
    "        mal_20.append(np.load(_get_path(radius, level, i)).reshape(h,w,d,1))\n",
    "    except :\n",
    "        continue\n",
    "    if level < 3:\n",
    "        mal_label_20.append(0)\n",
    "    else :\n",
    "        mal_label_20.append(1)\n",
    "        \n",
    "mal_40 = []\n",
    "mal_label_40 = []\n",
    "radius = 40\n",
    "level = 5\n",
    "for i in tqdm(range(n, n2)):\n",
    "    try:\n",
    "        mal_40.append(np.load(_get_path(radius, level, i)).reshape(h,w,d,1))\n",
    "    except :\n",
    "        continue\n",
    "    if level < 3:\n",
    "        mal_label_40.append(0)\n",
    "    else :\n",
    "        mal_label_40.append(1)"
   ]
  },
  {
   "cell_type": "code",
   "execution_count": 18,
   "id": "decce267-74f9-4b91-b2be-bc63370631f3",
   "metadata": {},
   "outputs": [
    {
     "name": "stdout",
     "output_type": "stream",
     "text": [
      "max of training dataset:  1.0  & min:  0.0\n",
      "max of training dataset:  1.0  & min:  0.0\n",
      "max of training dataset:  1.0  & min:  0.0\n"
     ]
    }
   ],
   "source": [
    "maltest_10 = test_data_prep(mal_10, mal_label_10)\n",
    "maltest_20 = test_data_prep(mal_20, mal_label_20)\n",
    "maltest_40 = test_data_prep(mal_40, mal_label_40)"
   ]
  },
  {
   "cell_type": "code",
   "execution_count": 20,
   "id": "8b94d2a3-3694-4fa6-a1cb-8e3ab249efcb",
   "metadata": {},
   "outputs": [
    {
     "name": "stdout",
     "output_type": "stream",
     "text": [
      "8/8 [==============================] - 2s 144ms/step - loss: 19.6851 - accuracy: 0.0500\n",
      "8/8 [==============================] - 2s 205ms/step - loss: 21.8930 - accuracy: 0.1314\n",
      "8/8 [==============================] - 1s 143ms/step - loss: 2.3331 - accuracy: 0.2712\n"
     ]
    },
    {
     "data": {
      "text/plain": [
       "[2.3331305980682373, 0.2711864411830902]"
      ]
     },
     "execution_count": 20,
     "metadata": {},
     "output_type": "execute_result"
    }
   ],
   "source": [
    "model_rAll.evaluate(maltest_10)\n",
    "model_rAll.evaluate(maltest_20)\n",
    "model_rAll.evaluate(maltest_40)"
   ]
  },
  {
   "cell_type": "markdown",
   "id": "569269c6-8298-464f-bbfe-0c749d168cc3",
   "metadata": {},
   "source": [
    "# Results in Figures"
   ]
  },
  {
   "cell_type": "code",
   "execution_count": 65,
   "id": "2ca980b7-88a1-4dfd-85b8-247e5e825bd5",
   "metadata": {},
   "outputs": [],
   "source": [
    "model_r10 = tf.keras.models.load_model(r'A:\\After Graduation\\CUFE Masters\\Thesis\\Pulmonary Nodules\\data\\code\\models\\model_r10')\n",
    "model_r20 = tf.keras.models.load_model(r'A:\\After Graduation\\CUFE Masters\\Thesis\\Pulmonary Nodules\\data\\code\\models\\model_r20')\n",
    "model_r40 = tf.keras.models.load_model(r'A:\\After Graduation\\CUFE Masters\\Thesis\\Pulmonary Nodules\\data\\code\\models\\model_r40')"
   ]
  },
  {
   "cell_type": "code",
   "execution_count": 50,
   "id": "ed93865b-db42-4007-bc7a-310bfca256a2",
   "metadata": {},
   "outputs": [],
   "source": [
    "def predict_for_roc(model, test):\n",
    "    pred = model.predict(test).ravel()\n",
    "    complement = 1 - pred\n",
    "    return np.array([complement, pred]).T\n",
    "roc_pred_r10 = predict_for_roc(model_r10, test_10)"
   ]
  },
  {
   "cell_type": "code",
   "execution_count": 64,
   "id": "0415fbe6-fd72-4a96-acaf-429a051e67f8",
   "metadata": {},
   "outputs": [
    {
     "data": {
      "image/png": "[encoded data removed]",
      "text/plain": [
       "<Figure size 720x720 with 1 Axes>"
      ]
     },
     "metadata": {
      "needs_background": "light"
     },
     "output_type": "display_data"
    }
   ],
   "source": [
    "skplt.metrics.plot_roc(np.array(label_10), roc_pred_r10, \n",
    "                       title = \"Radius 10 ROC Curves\", \n",
    "                       plot_micro=False, plot_macro=False, \n",
    "                       figsize=(10,10), cmap='plasma')\n",
    "plt.savefig('./figs/roc_r10.jpg')\n",
    "plt.show()"
   ]
  },
  {
   "cell_type": "code",
   "execution_count": 69,
   "id": "da82e3bf-60be-4017-b966-6948614872c0",
   "metadata": {},
   "outputs": [
    {
     "data": {
      "image/png": "[encoded data removed]",
      "text/plain": [
       "<Figure size 720x720 with 1 Axes>"
      ]
     },
     "metadata": {
      "needs_background": "light"
     },
     "output_type": "display_data"
    }
   ],
   "source": [
    "roc_pred_r20 = predict_for_roc(model_r20, test_20)\n",
    "skplt.metrics.plot_roc(np.array(label_20), roc_pred_r20, \n",
    "                       title = \"Radius 20 ROC Curves\", \n",
    "                       plot_micro=True, plot_macro=True, \n",
    "                       figsize=(10,10))\n",
    "plt.savefig('./figs/roc_r20_micromacro.jpg')\n",
    "plt.show()"
   ]
  },
  {
   "cell_type": "code",
   "execution_count": 71,
   "id": "a52729a0-ea2a-42f7-930c-2445ff79ccc1",
   "metadata": {},
   "outputs": [
    {
     "data": {
      "image/png": "[encoded data removed]",
      "text/plain": [
       "<Figure size 720x720 with 1 Axes>"
      ]
     },
     "metadata": {
      "needs_background": "light"
     },
     "output_type": "display_data"
    }
   ],
   "source": [
    "roc_pred_r40 = predict_for_roc(model_r40, test_40)\n",
    "skplt.metrics.plot_roc(np.array(label_40), roc_pred_r40, \n",
    "                       title = \"Radius 40 ROC Curves\", \n",
    "                       plot_micro=False, plot_macro=False, \n",
    "                       figsize=(10,10), cmap='plasma')\n",
    "plt.savefig('./figs/roc_r40.jpg')\n",
    "plt.show()"
   ]
  },
  {
   "cell_type": "code",
   "execution_count": null,
   "id": "ccb9406c-9a9e-4ca0-8d86-4c5bc51923f1",
   "metadata": {},
   "outputs": [],
   "source": []
  }
 ],
 "metadata": {
  "kernelspec": {
   "display_name": "Python 3 (ipykernel)",
   "language": "python",
   "name": "python3"
  },
  "language_info": {
   "codemirror_mode": {
    "name": "ipython",
    "version": 3
   },
   "file_extension": ".py",
   "mimetype": "text/x-python",
   "name": "python",
   "nbconvert_exporter": "python",
   "pygments_lexer": "ipython3",
   "version": "3.9.16"
  }
 },
 "nbformat": 4,
 "nbformat_minor": 5
}
