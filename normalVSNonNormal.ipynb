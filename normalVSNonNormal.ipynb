{
 "cells": [
  {
   "cell_type": "code",
   "execution_count": 16,
   "id": "071f1802-2132-48e9-9bd1-b66add192eed",
   "metadata": {},
   "outputs": [],
   "source": [
    "import numpy as np\n",
    "import matplotlib.pyplot as plt\n",
    "import tensorflow as tf\n",
    "import pandas as pd\n",
    "from tqdm.notebook import tqdm\n",
    "import matplotlib.pyplot as plt\n",
    "import scikitplot as skplt\n",
    "import sklearn\n",
    "from sklearn.model_selection import train_test_split\n",
    "import os"
   ]
  },
  {
   "cell_type": "markdown",
   "id": "639dd9c2-5729-45f6-964b-d96fa5052780",
   "metadata": {
    "tags": []
   },
   "source": [
    "# Helper Functions"
   ]
  },
  {
   "cell_type": "code",
   "execution_count": 17,
   "id": "3639d0c6-a4a5-4c87-87bf-aa519f2e7782",
   "metadata": {},
   "outputs": [],
   "source": [
    "def normalize_volume(volume):\n",
    "    return (volume-volume.min())/(volume.max()-volume.min())\n",
    "\n",
    "def _get_path(radius, level, i):\n",
    "    if level == 'normal':\n",
    "        return r'A:\\MSc\\Pulmonary Nodules\\sameslicethickness\\normal_cropped_lower_quality' + '/v' + str(i) + '.npy'\n",
    "    else :\n",
    "        return r'A:\\MSc\\Pulmonary Nodules\\sameslicethickness\\arranged\\radius_' + str(radius) + '\\level_' + str(level) + '/v' + str(i) + '.npy'\n",
    "    \n",
    "def get_training_data(radius, n = 1000, size = (64,64,28), levels=['normal', 1, 5], criteria = 'mixed'):\n",
    "    h,w,d = size\n",
    "    \n",
    "    data = []\n",
    "    label = []\n",
    "    \n",
    "    if criteria == 'mixed': # normal vs mix malignant and benign volumes (labeled as \"contain nodules\")\n",
    "        level = levels[0]\n",
    "        for i in tqdm(range(n)):\n",
    "            try:\n",
    "                data.append(normalize_volume(np.load(_get_path(radius, level, i))).reshape(h,w,d,1))\n",
    "                label.append(0)\n",
    "            except:\n",
    "                continue\n",
    "        \n",
    "        level = levels[1]\n",
    "        for i in tqdm(range(int(n/2))):\n",
    "            try:\n",
    "                data.append(normalize_volume(np.load(_get_path(radius, level, i))).reshape(h,w,d,1))\n",
    "                label.append(1)\n",
    "            except:\n",
    "                continue\n",
    "                \n",
    "        level = levels[2]\n",
    "        for i in tqdm(range(int(n/2))):\n",
    "            try:\n",
    "                data.append(normalize_volume(np.load(_get_path(radius, level, i))).reshape(h,w,d,1))\n",
    "                label.append(1)\n",
    "            except:\n",
    "                continue\n",
    "            \n",
    "        \n",
    "    elif criteria == 'binary' : # normal vs malignant or normal vs benign\n",
    "        for level in levels:\n",
    "            for i in tqdm(range(n)):\n",
    "                try:\n",
    "                    data.append(normalize_volume(np.load(_get_path(radius, level, i))).reshape(h,w,d,1))\n",
    "                except :\n",
    "                    continue\n",
    "                if level == 'normal':\n",
    "                    label.append(0)\n",
    "                else :\n",
    "                    label.append(1)\n",
    "    \n",
    "    elif criteria == 'binary_nodules': # malignant vs benign\n",
    "        for level in levels:\n",
    "            for i in tqdm(range(n)):\n",
    "                try:\n",
    "                    data.append(normalize_volume(np.load(_get_path(radius, level, i))).reshape(h,w,d,1))\n",
    "                except :\n",
    "                    continue\n",
    "                if level == 1:\n",
    "                    label.append(0)\n",
    "                elif level == 5 :\n",
    "                    label.append(1)\n",
    "    \n",
    "    elif criteria == 'three classes': # three classes for classification normal vs ben vs mal\n",
    "        for level in levels:\n",
    "            for i in tqdm(range(n)):\n",
    "                try:\n",
    "                    data.append(normalize_volume(np.load(_get_path(radius, level, i))).reshape(h,w,d,1))\n",
    "                except :\n",
    "                    continue\n",
    "                if level == 'normal':\n",
    "                    label.append(0)\n",
    "                elif level == 1 :\n",
    "                    label.append(1)\n",
    "                elif level == 5 :\n",
    "                    label.append(2)\n",
    "        \n",
    "    return data, label\n",
    "\n",
    "def data_prep(data, labels, BATCH_SIZE = 32, SHUFFLE_BUFFER_SIZE = 100, n_classes = 1):\n",
    "    train_ds, valid_ds, y_train, y_valid = train_test_split(data, labels, test_size=0.2, random_state=42)\n",
    "    print(\"number of training examples: \", len(train_ds))\n",
    "    print(\"number of validation examples: \", len(valid_ds))\n",
    "    \n",
    "    if n_classes == 3:\n",
    "        y_train = tf.keras.utils.to_categorical(y_train, 3)\n",
    "        y_valid = tf.keras.utils.to_categorical(y_valid, 3)\n",
    "\n",
    "    train_dataset = tf.data.Dataset.from_tensor_slices((train_ds, y_train))\n",
    "    validation_dataset = tf.data.Dataset.from_tensor_slices((valid_ds, y_valid))\n",
    "\n",
    "    train_dataset = train_dataset.shuffle(SHUFFLE_BUFFER_SIZE).batch(BATCH_SIZE)\n",
    "    validation_dataset = validation_dataset.batch(BATCH_SIZE)\n",
    "    \n",
    "    \n",
    "    return train_dataset, validation_dataset\n",
    "\n",
    "def get_cnn_model(h=64,w=64,d=28,n_classes=1):\n",
    "    \n",
    "    if n_classes == 1:\n",
    "\n",
    "        model = tf.keras.models.Sequential([\n",
    "            tf.keras.layers.InputLayer(input_shape=(h,w,d, 1)),\n",
    "            tf.keras.layers.Conv3D(16, 5, padding='same', activation='relu'),\n",
    "            tf.keras.layers.Conv3D(16, 5, padding='same', activation='relu'),\n",
    "            tf.keras.layers.Conv3D(32, 3, padding='same', activation='relu'),\n",
    "            tf.keras.layers.BatchNormalization(),\n",
    "            tf.keras.layers.MaxPooling3D(),\n",
    "            tf.keras.layers.Conv3D(32, 3, padding='same', activation='relu'),\n",
    "            tf.keras.layers.Conv3D(32, 3, padding='same', activation='relu'),\n",
    "            tf.keras.layers.Conv3D(64, 1, padding='same', activation='relu'),\n",
    "            tf.keras.layers.BatchNormalization(),\n",
    "            tf.keras.layers.MaxPooling3D(),\n",
    "            tf.keras.layers.Conv3D(64, 1, padding='same', activation='relu'),\n",
    "            tf.keras.layers.Conv3D(64, 1, padding='same', activation='relu'),\n",
    "            tf.keras.layers.Conv3D(128, 1, padding='same', activation='relu'),\n",
    "            tf.keras.layers.BatchNormalization(),\n",
    "            tf.keras.layers.MaxPooling3D(),\n",
    "            tf.keras.layers.Flatten(),\n",
    "            tf.keras.layers.Dense(128, activation='relu'),\n",
    "            tf.keras.layers.Dense(n_classes, activation='sigmoid')\n",
    "        ])\n",
    "    else :\n",
    "        \n",
    "        model = tf.keras.models.Sequential([\n",
    "            tf.keras.layers.InputLayer(input_shape=(h,w,d, 1)),\n",
    "            tf.keras.layers.Conv3D(16, 5, padding='same', activation='relu'),\n",
    "            tf.keras.layers.Conv3D(16, 5, padding='same', activation='relu'),\n",
    "            tf.keras.layers.Conv3D(32, 3, padding='same', activation='relu'),\n",
    "            tf.keras.layers.BatchNormalization(),\n",
    "            tf.keras.layers.MaxPooling3D(),\n",
    "            tf.keras.layers.Conv3D(32, 3, padding='same', activation='relu'),\n",
    "            tf.keras.layers.Conv3D(32, 3, padding='same', activation='relu'),\n",
    "            tf.keras.layers.Conv3D(64, 1, padding='same', activation='relu'),\n",
    "            tf.keras.layers.BatchNormalization(),\n",
    "            tf.keras.layers.MaxPooling3D(),\n",
    "            tf.keras.layers.Conv3D(64, 1, padding='same', activation='relu'),\n",
    "            tf.keras.layers.Conv3D(64, 1, padding='same', activation='relu'),\n",
    "            tf.keras.layers.Conv3D(128, 1, padding='same', activation='relu'),\n",
    "            tf.keras.layers.BatchNormalization(),\n",
    "            tf.keras.layers.MaxPooling3D(),\n",
    "            tf.keras.layers.Flatten(),\n",
    "            tf.keras.layers.Dense(128, activation='relu'),\n",
    "            tf.keras.layers.Dense(n_classes, activation='softmax')\n",
    "        ])\n",
    "    return model"
   ]
  },
  {
   "cell_type": "markdown",
   "id": "adf95c66-6ed1-4f31-ba53-c6be0701cf49",
   "metadata": {
    "tags": []
   },
   "source": [
    "# Data Preparation"
   ]
  },
  {
   "cell_type": "markdown",
   "id": "432bfb3d-b266-4921-9dd3-403b567a5efe",
   "metadata": {
    "tags": []
   },
   "source": [
    "## Normal vs Malignant"
   ]
  },
  {
   "cell_type": "markdown",
   "id": "051e3a56-3fa4-46b6-8657-b260c4b1b80a",
   "metadata": {
    "tags": []
   },
   "source": [
    "### Normal vs Malignant (radius = 10)"
   ]
  },
  {
   "cell_type": "code",
   "execution_count": 19,
   "id": "5c47ccd9-75bb-470a-8cf7-ebd2b5fd73e4",
   "metadata": {},
   "outputs": [],
   "source": [
    "# variables\n",
    "r = 10\n",
    "l = ['normal', 5]\n",
    "c = 'binary'\n",
    "n_classes = 1\n",
    "model_name = 'normal_vs_malignant_r10'\n",
    "bs = 16\n",
    "epochs = 20\n",
    "# Done"
   ]
  },
  {
   "cell_type": "markdown",
   "id": "757ea961-b082-4558-a330-ca6b8e98aaa5",
   "metadata": {
    "tags": []
   },
   "source": [
    "### Normal vs Malignant (radius = 20)"
   ]
  },
  {
   "cell_type": "code",
   "execution_count": 32,
   "id": "ace059e6-53cb-46d5-86e9-20490897c532",
   "metadata": {},
   "outputs": [],
   "source": [
    "# variables\n",
    "r = 20\n",
    "l = ['normal', 5]\n",
    "c = 'binary'\n",
    "n_classes = 1\n",
    "model_name = 'normal_vs_malignant_r20'\n",
    "bs = 16\n",
    "epochs = 20\n",
    "# done"
   ]
  },
  {
   "cell_type": "markdown",
   "id": "4fbc257c-7ff0-4d4b-a1b5-3906271243f3",
   "metadata": {
    "tags": []
   },
   "source": [
    "### Normal vs Malignant (radius = 30)"
   ]
  },
  {
   "cell_type": "code",
   "execution_count": 37,
   "id": "1e567eec-54e8-403b-8e79-81fffb5c7142",
   "metadata": {},
   "outputs": [],
   "source": [
    "# variables\n",
    "r = 30\n",
    "l = ['normal', 5]\n",
    "c = 'binary'\n",
    "n_classes = 1\n",
    "model_name = 'normal_vs_malignant_r30'\n",
    "bs = 16\n",
    "epochs = 20\n",
    "# done"
   ]
  },
  {
   "cell_type": "markdown",
   "id": "f0b44547-bb68-40a8-a557-a815e355682c",
   "metadata": {
    "tags": []
   },
   "source": [
    "### Normal vs Malignant (radius = 40)"
   ]
  },
  {
   "cell_type": "code",
   "execution_count": 42,
   "id": "5c2d0825-0333-48de-8fab-5b5b5f31d8af",
   "metadata": {},
   "outputs": [],
   "source": [
    "# variables\n",
    "r = 40\n",
    "l = ['normal', 5]\n",
    "c = 'binary'\n",
    "n_classes = 1\n",
    "model_name = 'normal_vs_malignant_r40'\n",
    "bs = 16\n",
    "epochs = 20\n",
    "# done"
   ]
  },
  {
   "cell_type": "markdown",
   "id": "3011efd6-b541-485b-b691-18760f3ba019",
   "metadata": {
    "tags": []
   },
   "source": [
    "### Normal vs Malignant (radius = 50)"
   ]
  },
  {
   "cell_type": "code",
   "execution_count": 47,
   "id": "b17dd556-ec04-4726-b387-ba0d0ace1f3b",
   "metadata": {},
   "outputs": [],
   "source": [
    "# variables\n",
    "r = 50\n",
    "l = ['normal', 5]\n",
    "c = 'binary'\n",
    "n_classes = 1\n",
    "model_name = 'normal_vs_malignant_r50'\n",
    "bs = 16\n",
    "epochs = 20\n",
    "# done"
   ]
  },
  {
   "cell_type": "markdown",
   "id": "b87b5e28-c6d4-44f7-aaa4-9b5c837bcbd5",
   "metadata": {
    "tags": []
   },
   "source": [
    "## Normal vs Benign"
   ]
  },
  {
   "cell_type": "markdown",
   "id": "bdf13f55-cb83-4ac5-99da-0bbb14d7e5ea",
   "metadata": {
    "tags": []
   },
   "source": [
    "### Normal vs Benign (radius = 10)"
   ]
  },
  {
   "cell_type": "code",
   "execution_count": 52,
   "id": "8c87655c-ba26-4f99-878b-6d99904cae7c",
   "metadata": {},
   "outputs": [],
   "source": [
    "# variables\n",
    "r = 10\n",
    "l = ['normal', 1]\n",
    "c = 'binary'\n",
    "n_classes = 1\n",
    "model_name = 'normal_vs_benign_r10'\n",
    "bs = 16\n",
    "epochs = 20\n",
    "# done"
   ]
  },
  {
   "cell_type": "markdown",
   "id": "3f53f506-447f-442b-994b-e443dd5cfb3f",
   "metadata": {
    "tags": []
   },
   "source": [
    "### Normal vs benign (radius = 20)"
   ]
  },
  {
   "cell_type": "code",
   "execution_count": 57,
   "id": "880ed9f1-7ec6-4c14-8892-9d2669fc458a",
   "metadata": {},
   "outputs": [],
   "source": [
    "# variables\n",
    "r = 20\n",
    "l = ['normal', 1]\n",
    "c = 'binary'\n",
    "n_classes = 1\n",
    "model_name = 'normal_vs_benign_r20'\n",
    "bs = 16\n",
    "epochs = 20\n",
    "# done"
   ]
  },
  {
   "cell_type": "markdown",
   "id": "c3c13c76-0bf9-4645-8c17-55c839c7096a",
   "metadata": {
    "tags": []
   },
   "source": [
    "### Normal vs benign (radius = 30)"
   ]
  },
  {
   "cell_type": "code",
   "execution_count": 62,
   "id": "e18d76e6-6d64-4e68-83f4-9b57be02c011",
   "metadata": {},
   "outputs": [],
   "source": [
    "# variables\n",
    "r = 30\n",
    "l = ['normal', 1]\n",
    "c = 'binary'\n",
    "n_classes = 1\n",
    "model_name = 'normal_vs_benign_r30'\n",
    "bs = 16\n",
    "epochs = 20\n",
    "# done"
   ]
  },
  {
   "cell_type": "markdown",
   "id": "16da4df6-b251-4a08-93df-ff083d1f76ba",
   "metadata": {
    "tags": []
   },
   "source": [
    "### Normal vs benign (radius = 40)"
   ]
  },
  {
   "cell_type": "code",
   "execution_count": 67,
   "id": "44b156fe-0598-45ae-981d-c4a690e7c9a8",
   "metadata": {},
   "outputs": [],
   "source": [
    "# variables\n",
    "r = 40\n",
    "l = ['normal', 1]\n",
    "c = 'binary'\n",
    "n_classes = 1\n",
    "model_name = 'normal_vs_benign_r40'\n",
    "bs = 16\n",
    "epochs = 20\n",
    "# done"
   ]
  },
  {
   "cell_type": "markdown",
   "id": "873efabe-0872-4906-91e6-e185cb6456bc",
   "metadata": {
    "tags": []
   },
   "source": [
    "### Normal vs benign (radius = 50)"
   ]
  },
  {
   "cell_type": "code",
   "execution_count": 72,
   "id": "c7b5b367-5d28-460a-abe9-bf0f7902b684",
   "metadata": {},
   "outputs": [],
   "source": [
    "# variables\n",
    "r = 50\n",
    "l = ['normal', 1]\n",
    "c = 'binary'\n",
    "n_classes = 1\n",
    "model_name = 'normal_vs_benign_r50'\n",
    "bs = 16\n",
    "epochs = 20\n",
    "# done"
   ]
  },
  {
   "cell_type": "markdown",
   "id": "95f2de89-aaa2-441e-b5ba-cf92a4d1b32a",
   "metadata": {
    "jp-MarkdownHeadingCollapsed": true,
    "tags": []
   },
   "source": [
    "## Benign vs Malignant"
   ]
  },
  {
   "cell_type": "markdown",
   "id": "a2f58ef0-4720-445a-956e-17fd619457d7",
   "metadata": {
    "jp-MarkdownHeadingCollapsed": true,
    "tags": []
   },
   "source": [
    "### Benign vs Malignant (radius = 10)"
   ]
  },
  {
   "cell_type": "code",
   "execution_count": 3,
   "id": "c49369ee-6690-4d31-bcf9-43e313989693",
   "metadata": {},
   "outputs": [],
   "source": [
    "# variables\n",
    "r = 10\n",
    "l = [1, 5]\n",
    "c = 'binary_nodules'\n",
    "n_classes = 1\n",
    "model_name = 'benign_vs_malignant_r10'\n",
    "bs = 16\n",
    "epochs = 20\n",
    "# done"
   ]
  },
  {
   "cell_type": "markdown",
   "id": "8a647076-2cf6-424f-9edf-dc13ad541e0d",
   "metadata": {
    "jp-MarkdownHeadingCollapsed": true,
    "tags": []
   },
   "source": [
    "### Benign vs Malignant (radius = 20)"
   ]
  },
  {
   "cell_type": "code",
   "execution_count": 3,
   "id": "d6e106f2-03b2-4797-b5da-3d9b9dc27c93",
   "metadata": {},
   "outputs": [],
   "source": [
    "# variables\n",
    "r = 20\n",
    "l = [1, 5]\n",
    "c = 'binary_nodules'\n",
    "n_classes = 1\n",
    "model_name = 'benign_vs_malignant_r20'\n",
    "bs = 16\n",
    "epochs = 20\n",
    "# done"
   ]
  },
  {
   "cell_type": "markdown",
   "id": "3737fad0-6497-4fbf-ba34-60f2011d30a3",
   "metadata": {
    "jp-MarkdownHeadingCollapsed": true,
    "tags": []
   },
   "source": [
    "### Benign vs Malignant (radius = 30)"
   ]
  },
  {
   "cell_type": "code",
   "execution_count": 8,
   "id": "7172202d-ef59-41db-92df-912981814567",
   "metadata": {},
   "outputs": [],
   "source": [
    "# variables\n",
    "r = 30\n",
    "l = [1, 5]\n",
    "c = 'binary_nodules'\n",
    "n_classes = 1\n",
    "model_name = 'benign_vs_malignant_r30'\n",
    "bs = 16\n",
    "epochs = 20\n",
    "# done"
   ]
  },
  {
   "cell_type": "markdown",
   "id": "38e391a0-5098-4cb1-9716-0b7f049c30bb",
   "metadata": {
    "jp-MarkdownHeadingCollapsed": true,
    "tags": []
   },
   "source": [
    "### Benign vs Malignant (radius = 40)"
   ]
  },
  {
   "cell_type": "code",
   "execution_count": 13,
   "id": "fd2f1fdb-e347-4cc4-a8ee-c1e18ecb03f0",
   "metadata": {},
   "outputs": [],
   "source": [
    "# variables\n",
    "r = 40\n",
    "l = [1, 5]\n",
    "c = 'binary_nodules'\n",
    "n_classes = 1\n",
    "model_name = 'benign_vs_malignant_r40'\n",
    "bs = 16\n",
    "epochs = 20\n",
    "# done"
   ]
  },
  {
   "cell_type": "markdown",
   "id": "c967dec2-45f8-4ba2-8a44-f434f998f816",
   "metadata": {
    "tags": []
   },
   "source": [
    "### Benign vs Malignant (radius = 50)"
   ]
  },
  {
   "cell_type": "code",
   "execution_count": 3,
   "id": "68aa4aae-d37d-438a-99c3-8bb00a71c2b4",
   "metadata": {},
   "outputs": [],
   "source": [
    "# variables\n",
    "r = 50\n",
    "l = [1, 5]\n",
    "c = 'binary_nodules'\n",
    "n_classes = 1\n",
    "model_name = 'benign_vs_malignant_r50'\n",
    "bs = 16\n",
    "epochs = 20\n",
    "# done"
   ]
  },
  {
   "cell_type": "markdown",
   "id": "01fc0dea-3232-46c9-ba6c-f6900192f5a0",
   "metadata": {
    "tags": []
   },
   "source": [
    "## Normal vs Mixed (Malignant and Benign)"
   ]
  },
  {
   "cell_type": "markdown",
   "id": "d22af2cc-b0e9-4f9f-b124-8ece6511b3f8",
   "metadata": {
    "tags": []
   },
   "source": [
    "### Normal vs Mixed (radius = 10)"
   ]
  },
  {
   "cell_type": "code",
   "execution_count": 83,
   "id": "02cc9aa3-28f8-4e40-9237-01316385c06a",
   "metadata": {},
   "outputs": [],
   "source": [
    "# variables\n",
    "r = 10\n",
    "l = ['normal', 1, 5]\n",
    "c = 'mixed'\n",
    "n_classes = 1\n",
    "model_name = 'normal_vs_mixed_r10'\n",
    "bs = 16\n",
    "epochs = 20\n",
    "# done"
   ]
  },
  {
   "cell_type": "markdown",
   "id": "a6843fe5-64da-47a0-b6c4-4acb5509a13e",
   "metadata": {
    "jp-MarkdownHeadingCollapsed": true,
    "tags": []
   },
   "source": [
    "### Normal vs Mixed (radius = 20)"
   ]
  },
  {
   "cell_type": "code",
   "execution_count": 88,
   "id": "22ce6482-404f-42c5-a173-758aaf6bc786",
   "metadata": {},
   "outputs": [],
   "source": [
    "# variables\n",
    "r = 20\n",
    "l = ['normal', 1, 5]\n",
    "c = 'mixed'\n",
    "n_classes = 1\n",
    "model_name = 'normal_vs_mixed_r20'\n",
    "bs = 16\n",
    "epochs = 20\n",
    "# done"
   ]
  },
  {
   "cell_type": "markdown",
   "id": "e15b5156-af2e-486f-8202-f6ff6b1d6ab3",
   "metadata": {
    "jp-MarkdownHeadingCollapsed": true,
    "tags": []
   },
   "source": [
    "### Normal vs Mixed (radius = 30)"
   ]
  },
  {
   "cell_type": "code",
   "execution_count": 93,
   "id": "7c773ac8-f928-443b-93bf-7e672cd4b60d",
   "metadata": {},
   "outputs": [],
   "source": [
    "# variables\n",
    "r = 30\n",
    "l = ['normal', 1, 5]\n",
    "c = 'mixed'\n",
    "n_classes = 1\n",
    "model_name = 'normal_vs_mixed_r30'\n",
    "bs = 16\n",
    "epochs = 20\n",
    "# done"
   ]
  },
  {
   "cell_type": "markdown",
   "id": "88cd42c3-f757-4f4b-af8d-318c48b91c43",
   "metadata": {
    "jp-MarkdownHeadingCollapsed": true,
    "tags": []
   },
   "source": [
    "### Normal vs Mixed (radius = 40)"
   ]
  },
  {
   "cell_type": "code",
   "execution_count": 98,
   "id": "3c6026ee-16b5-419a-9384-b825b1dd4267",
   "metadata": {},
   "outputs": [],
   "source": [
    "# variables\n",
    "r = 40\n",
    "l = ['normal', 1, 5]\n",
    "c = 'mixed'\n",
    "n_classes = 1\n",
    "model_name = 'normal_vs_mixed_r40'\n",
    "bs = 16\n",
    "epochs = 20\n",
    "# done"
   ]
  },
  {
   "cell_type": "markdown",
   "id": "c47703ee-ac7b-4b11-a312-7bdc9b050fd2",
   "metadata": {
    "jp-MarkdownHeadingCollapsed": true,
    "tags": []
   },
   "source": [
    "### Normal vs Mixed (radius = 50)"
   ]
  },
  {
   "cell_type": "code",
   "execution_count": 103,
   "id": "36d5c366-f830-4908-a798-7f8068bde122",
   "metadata": {},
   "outputs": [],
   "source": [
    "# variables\n",
    "r = 50\n",
    "l = ['normal', 1, 5]\n",
    "c = 'mixed'\n",
    "n_classes = 1\n",
    "model_name = 'normal_vs_mixed_r50'\n",
    "bs = 16\n",
    "epochs = 20\n",
    "# done"
   ]
  },
  {
   "cell_type": "markdown",
   "id": "85611759-fdfd-4e65-a1c8-f985b439bc0b",
   "metadata": {
    "jp-MarkdownHeadingCollapsed": true,
    "tags": []
   },
   "source": [
    "## Normal vs Benign vs Malignant"
   ]
  },
  {
   "cell_type": "markdown",
   "id": "a6e52f05-c4fd-451c-a8d4-757ea292472c",
   "metadata": {
    "jp-MarkdownHeadingCollapsed": true,
    "tags": []
   },
   "source": [
    "### Normal vs Benign vs Malignant (radius = 10)"
   ]
  },
  {
   "cell_type": "code",
   "execution_count": 34,
   "id": "3598a11e-a047-463a-8914-9ec5517b7f98",
   "metadata": {},
   "outputs": [],
   "source": [
    "# variables\n",
    "r = 10\n",
    "l = ['normal', 1, 5]\n",
    "c = 'three classes'\n",
    "n_classes = 3\n",
    "model_name = 'normal_vs_benign_vs_malignant_r10'\n",
    "bs = 16\n",
    "epochs = 20\n",
    "# done"
   ]
  },
  {
   "cell_type": "markdown",
   "id": "47d2f243-21cf-4a75-aee7-08e362798118",
   "metadata": {
    "jp-MarkdownHeadingCollapsed": true,
    "tags": []
   },
   "source": [
    "### Normal vs Benign vs Malignant (radius = 20)"
   ]
  },
  {
   "cell_type": "code",
   "execution_count": 41,
   "id": "2f217b88-291c-4137-82d2-e8be651a41a1",
   "metadata": {},
   "outputs": [],
   "source": [
    "# variables\n",
    "r = 20\n",
    "l = ['normal', 1, 5]\n",
    "c = 'three classes'\n",
    "n_classes = 3\n",
    "model_name = 'normal_vs_benign_vs_malignant_r20'\n",
    "bs = 16\n",
    "epochs = 20\n",
    "# done"
   ]
  },
  {
   "cell_type": "markdown",
   "id": "02b5e682-3a62-4446-aa07-28f4bb114945",
   "metadata": {
    "jp-MarkdownHeadingCollapsed": true,
    "tags": []
   },
   "source": [
    "### Normal vs Benign vs Malignant (radius = 30)"
   ]
  },
  {
   "cell_type": "code",
   "execution_count": 3,
   "id": "3ffbe593-414b-48aa-a5f6-502ac6300e6d",
   "metadata": {},
   "outputs": [],
   "source": [
    "# variables\n",
    "r = 30\n",
    "l = ['normal', 1, 5]\n",
    "c = 'three classes'\n",
    "n_classes = 3\n",
    "model_name = 'normal_vs_benign_vs_malignant_r30'\n",
    "bs = 16\n",
    "epochs = 20\n",
    "# done"
   ]
  },
  {
   "cell_type": "markdown",
   "id": "098abe8d-ded2-43a3-ba4b-81a1bfe39bb8",
   "metadata": {
    "jp-MarkdownHeadingCollapsed": true,
    "tags": []
   },
   "source": [
    "### Normal vs Benign vs Malignant (radius = 40)"
   ]
  },
  {
   "cell_type": "code",
   "execution_count": 3,
   "id": "48ec6653-eb6b-4359-8740-82c3813b9c8c",
   "metadata": {},
   "outputs": [],
   "source": [
    "# variables\n",
    "r = 40\n",
    "l = ['normal', 1, 5]\n",
    "c = 'three classes'\n",
    "n_classes = 3\n",
    "model_name = 'normal_vs_benign_vs_malignant_r40'\n",
    "bs = 16\n",
    "epochs = 20\n",
    "# done"
   ]
  },
  {
   "cell_type": "markdown",
   "id": "b79fd13b-5bd6-4900-9761-f002e5b32960",
   "metadata": {
    "jp-MarkdownHeadingCollapsed": true,
    "tags": []
   },
   "source": [
    "### Normal vs Benign vs Malignant (radius = 50)"
   ]
  },
  {
   "cell_type": "code",
   "execution_count": 5,
   "id": "cac0f8c1-0b82-44fd-9706-da603bd6cc3e",
   "metadata": {},
   "outputs": [],
   "source": [
    "# variables\n",
    "r = 50\n",
    "l = ['normal', 1, 5]\n",
    "c = 'three classes'\n",
    "n_classes = 3\n",
    "model_name = 'normal_vs_benign_vs_malignant_r50'\n",
    "bs = 16\n",
    "epochs = 20\n",
    "# done"
   ]
  },
  {
   "cell_type": "markdown",
   "id": "2ae50f2a-1f81-433b-886c-9c063ef83f5e",
   "metadata": {
    "jp-MarkdownHeadingCollapsed": true,
    "tags": []
   },
   "source": [
    "# Training"
   ]
  },
  {
   "cell_type": "code",
   "execution_count": 4,
   "id": "5f8cc733-7485-4350-94d7-4fa89470e1dc",
   "metadata": {},
   "outputs": [
    {
     "data": {
      "application/vnd.jupyter.widget-view+json": {
       "model_id": "00e29d93f5f94b18acb627b94e26cdfb",
       "version_major": 2,
       "version_minor": 0
      },
      "text/plain": [
       "  0%|          | 0/1000 [00:00<?, ?it/s]"
      ]
     },
     "metadata": {},
     "output_type": "display_data"
    },
    {
     "data": {
      "application/vnd.jupyter.widget-view+json": {
       "model_id": "729e60d28b10452fbb5aef84c2e0bca0",
       "version_major": 2,
       "version_minor": 0
      },
      "text/plain": [
       "  0%|          | 0/1000 [00:00<?, ?it/s]"
      ]
     },
     "metadata": {},
     "output_type": "display_data"
    },
    {
     "name": "stdout",
     "output_type": "stream",
     "text": [
      "number of training examples:  1600\n",
      "number of validation examples:  400\n"
     ]
    }
   ],
   "source": [
    "data, labels = get_training_data(radius = r, n = 1000, size = (64,64,28), levels=l, criteria = c)\n",
    "train, val = data_prep(data, labels, BATCH_SIZE = bs, SHUFFLE_BUFFER_SIZE = 1000, n_classes = n_classes)"
   ]
  },
  {
   "cell_type": "code",
   "execution_count": 5,
   "id": "26473b53-bc0d-4bfe-a212-47366175048c",
   "metadata": {},
   "outputs": [],
   "source": [
    "model = get_cnn_model(h=64,w=64,d=28, n_classes=n_classes)\n",
    "checkpoint_filepath = r'A:\\MSc\\Pulmonary Nodules\\models_checkpoints'\n",
    "model_checkpoint_callback = tf.keras.callbacks.ModelCheckpoint(\n",
    "    filepath=checkpoint_filepath,\n",
    "    monitor='val_accuracy',\n",
    "    mode='max',\n",
    "    save_best_only=True)\n",
    "\n",
    "model.compile(optimizer='adam',\n",
    "              loss=tf.keras.losses.BinaryCrossentropy(),\n",
    "              metrics=['accuracy'])"
   ]
  },
  {
   "cell_type": "code",
   "execution_count": 6,
   "id": "653a7eff-6351-4dce-a5af-564ddcb1f979",
   "metadata": {
    "collapsed": true,
    "jupyter": {
     "outputs_hidden": true
    },
    "tags": []
   },
   "outputs": [
    {
     "name": "stdout",
     "output_type": "stream",
     "text": [
      "Epoch 1/20\n",
      "100/100 [==============================] - ETA: 0s - loss: 1.2603 - accuracy: 0.6281"
     ]
    },
    {
     "name": "stderr",
     "output_type": "stream",
     "text": [
      "WARNING:absl:Found untraced functions such as _jit_compiled_convolution_op, _jit_compiled_convolution_op, _jit_compiled_convolution_op, _jit_compiled_convolution_op, _jit_compiled_convolution_op while saving (showing 5 of 9). These functions will not be directly callable after loading.\n"
     ]
    },
    {
     "name": "stdout",
     "output_type": "stream",
     "text": [
      "INFO:tensorflow:Assets written to: A:\\MSc\\Pulmonary Nodules\\models_checkpoints\\assets\n"
     ]
    },
    {
     "name": "stderr",
     "output_type": "stream",
     "text": [
      "INFO:tensorflow:Assets written to: A:\\MSc\\Pulmonary Nodules\\models_checkpoints\\assets\n"
     ]
    },
    {
     "name": "stdout",
     "output_type": "stream",
     "text": [
      "100/100 [==============================] - 47s 372ms/step - loss: 1.2603 - accuracy: 0.6281 - val_loss: 1.3762 - val_accuracy: 0.5075\n",
      "Epoch 2/20\n",
      "100/100 [==============================] - ETA: 0s - loss: 0.4812 - accuracy: 0.7631"
     ]
    },
    {
     "name": "stderr",
     "output_type": "stream",
     "text": [
      "WARNING:absl:Found untraced functions such as _jit_compiled_convolution_op, _jit_compiled_convolution_op, _jit_compiled_convolution_op, _jit_compiled_convolution_op, _jit_compiled_convolution_op while saving (showing 5 of 9). These functions will not be directly callable after loading.\n"
     ]
    },
    {
     "name": "stdout",
     "output_type": "stream",
     "text": [
      "INFO:tensorflow:Assets written to: A:\\MSc\\Pulmonary Nodules\\models_checkpoints\\assets\n"
     ]
    },
    {
     "name": "stderr",
     "output_type": "stream",
     "text": [
      "INFO:tensorflow:Assets written to: A:\\MSc\\Pulmonary Nodules\\models_checkpoints\\assets\n"
     ]
    },
    {
     "name": "stdout",
     "output_type": "stream",
     "text": [
      "100/100 [==============================] - 38s 376ms/step - loss: 0.4812 - accuracy: 0.7631 - val_loss: 1.1840 - val_accuracy: 0.6200\n",
      "Epoch 3/20\n",
      "100/100 [==============================] - 36s 360ms/step - loss: 0.3493 - accuracy: 0.8438 - val_loss: 1.7119 - val_accuracy: 0.6100\n",
      "Epoch 4/20\n",
      "100/100 [==============================] - ETA: 0s - loss: 0.2392 - accuracy: 0.9019"
     ]
    },
    {
     "name": "stderr",
     "output_type": "stream",
     "text": [
      "WARNING:absl:Found untraced functions such as _jit_compiled_convolution_op, _jit_compiled_convolution_op, _jit_compiled_convolution_op, _jit_compiled_convolution_op, _jit_compiled_convolution_op while saving (showing 5 of 9). These functions will not be directly callable after loading.\n"
     ]
    },
    {
     "name": "stdout",
     "output_type": "stream",
     "text": [
      "INFO:tensorflow:Assets written to: A:\\MSc\\Pulmonary Nodules\\models_checkpoints\\assets\n"
     ]
    },
    {
     "name": "stderr",
     "output_type": "stream",
     "text": [
      "INFO:tensorflow:Assets written to: A:\\MSc\\Pulmonary Nodules\\models_checkpoints\\assets\n"
     ]
    },
    {
     "name": "stdout",
     "output_type": "stream",
     "text": [
      "100/100 [==============================] - 37s 372ms/step - loss: 0.2392 - accuracy: 0.9019 - val_loss: 0.8251 - val_accuracy: 0.7600\n",
      "Epoch 5/20\n",
      "100/100 [==============================] - 36s 358ms/step - loss: 0.2232 - accuracy: 0.9156 - val_loss: 1.5225 - val_accuracy: 0.6800\n",
      "Epoch 6/20\n",
      "100/100 [==============================] - ETA: 0s - loss: 0.1955 - accuracy: 0.9231"
     ]
    },
    {
     "name": "stderr",
     "output_type": "stream",
     "text": [
      "WARNING:absl:Found untraced functions such as _jit_compiled_convolution_op, _jit_compiled_convolution_op, _jit_compiled_convolution_op, _jit_compiled_convolution_op, _jit_compiled_convolution_op while saving (showing 5 of 9). These functions will not be directly callable after loading.\n"
     ]
    },
    {
     "name": "stdout",
     "output_type": "stream",
     "text": [
      "INFO:tensorflow:Assets written to: A:\\MSc\\Pulmonary Nodules\\models_checkpoints\\assets\n"
     ]
    },
    {
     "name": "stderr",
     "output_type": "stream",
     "text": [
      "INFO:tensorflow:Assets written to: A:\\MSc\\Pulmonary Nodules\\models_checkpoints\\assets\n"
     ]
    },
    {
     "name": "stdout",
     "output_type": "stream",
     "text": [
      "100/100 [==============================] - 37s 373ms/step - loss: 0.1955 - accuracy: 0.9231 - val_loss: 0.4354 - val_accuracy: 0.8350\n",
      "Epoch 7/20\n",
      "100/100 [==============================] - ETA: 0s - loss: 0.0831 - accuracy: 0.9719"
     ]
    },
    {
     "name": "stderr",
     "output_type": "stream",
     "text": [
      "WARNING:absl:Found untraced functions such as _jit_compiled_convolution_op, _jit_compiled_convolution_op, _jit_compiled_convolution_op, _jit_compiled_convolution_op, _jit_compiled_convolution_op while saving (showing 5 of 9). These functions will not be directly callable after loading.\n"
     ]
    },
    {
     "name": "stdout",
     "output_type": "stream",
     "text": [
      "INFO:tensorflow:Assets written to: A:\\MSc\\Pulmonary Nodules\\models_checkpoints\\assets\n"
     ]
    },
    {
     "name": "stderr",
     "output_type": "stream",
     "text": [
      "INFO:tensorflow:Assets written to: A:\\MSc\\Pulmonary Nodules\\models_checkpoints\\assets\n"
     ]
    },
    {
     "name": "stdout",
     "output_type": "stream",
     "text": [
      "100/100 [==============================] - 37s 371ms/step - loss: 0.0831 - accuracy: 0.9719 - val_loss: 0.3052 - val_accuracy: 0.9100\n",
      "Epoch 8/20\n",
      "100/100 [==============================] - ETA: 0s - loss: 0.0954 - accuracy: 0.9694"
     ]
    },
    {
     "name": "stderr",
     "output_type": "stream",
     "text": [
      "WARNING:absl:Found untraced functions such as _jit_compiled_convolution_op, _jit_compiled_convolution_op, _jit_compiled_convolution_op, _jit_compiled_convolution_op, _jit_compiled_convolution_op while saving (showing 5 of 9). These functions will not be directly callable after loading.\n"
     ]
    },
    {
     "name": "stdout",
     "output_type": "stream",
     "text": [
      "INFO:tensorflow:Assets written to: A:\\MSc\\Pulmonary Nodules\\models_checkpoints\\assets\n"
     ]
    },
    {
     "name": "stderr",
     "output_type": "stream",
     "text": [
      "INFO:tensorflow:Assets written to: A:\\MSc\\Pulmonary Nodules\\models_checkpoints\\assets\n"
     ]
    },
    {
     "name": "stdout",
     "output_type": "stream",
     "text": [
      "100/100 [==============================] - 37s 372ms/step - loss: 0.0954 - accuracy: 0.9694 - val_loss: 0.3204 - val_accuracy: 0.9175\n",
      "Epoch 9/20\n",
      "100/100 [==============================] - 36s 357ms/step - loss: 0.0918 - accuracy: 0.9644 - val_loss: 0.2684 - val_accuracy: 0.9175\n",
      "Epoch 10/20\n",
      "100/100 [==============================] - ETA: 0s - loss: 0.0407 - accuracy: 0.9887"
     ]
    },
    {
     "name": "stderr",
     "output_type": "stream",
     "text": [
      "WARNING:absl:Found untraced functions such as _jit_compiled_convolution_op, _jit_compiled_convolution_op, _jit_compiled_convolution_op, _jit_compiled_convolution_op, _jit_compiled_convolution_op while saving (showing 5 of 9). These functions will not be directly callable after loading.\n"
     ]
    },
    {
     "name": "stdout",
     "output_type": "stream",
     "text": [
      "INFO:tensorflow:Assets written to: A:\\MSc\\Pulmonary Nodules\\models_checkpoints\\assets\n"
     ]
    },
    {
     "name": "stderr",
     "output_type": "stream",
     "text": [
      "INFO:tensorflow:Assets written to: A:\\MSc\\Pulmonary Nodules\\models_checkpoints\\assets\n"
     ]
    },
    {
     "name": "stdout",
     "output_type": "stream",
     "text": [
      "100/100 [==============================] - 37s 370ms/step - loss: 0.0407 - accuracy: 0.9887 - val_loss: 0.2167 - val_accuracy: 0.9600\n",
      "Epoch 11/20\n",
      "100/100 [==============================] - 36s 356ms/step - loss: 0.0271 - accuracy: 0.9894 - val_loss: 0.3045 - val_accuracy: 0.9425\n",
      "Epoch 12/20\n",
      "100/100 [==============================] - 36s 357ms/step - loss: 0.0203 - accuracy: 0.9956 - val_loss: 0.3014 - val_accuracy: 0.9575\n",
      "Epoch 13/20\n",
      "100/100 [==============================] - ETA: 0s - loss: 0.0240 - accuracy: 0.9925"
     ]
    },
    {
     "name": "stderr",
     "output_type": "stream",
     "text": [
      "WARNING:absl:Found untraced functions such as _jit_compiled_convolution_op, _jit_compiled_convolution_op, _jit_compiled_convolution_op, _jit_compiled_convolution_op, _jit_compiled_convolution_op while saving (showing 5 of 9). These functions will not be directly callable after loading.\n"
     ]
    },
    {
     "name": "stdout",
     "output_type": "stream",
     "text": [
      "INFO:tensorflow:Assets written to: A:\\MSc\\Pulmonary Nodules\\models_checkpoints\\assets\n"
     ]
    },
    {
     "name": "stderr",
     "output_type": "stream",
     "text": [
      "INFO:tensorflow:Assets written to: A:\\MSc\\Pulmonary Nodules\\models_checkpoints\\assets\n"
     ]
    },
    {
     "name": "stdout",
     "output_type": "stream",
     "text": [
      "100/100 [==============================] - 37s 372ms/step - loss: 0.0240 - accuracy: 0.9925 - val_loss: 0.2723 - val_accuracy: 0.9650\n",
      "Epoch 14/20\n",
      "100/100 [==============================] - 36s 356ms/step - loss: 0.0264 - accuracy: 0.9931 - val_loss: 0.4237 - val_accuracy: 0.9350\n",
      "Epoch 15/20\n",
      "100/100 [==============================] - 36s 357ms/step - loss: 0.0927 - accuracy: 0.9725 - val_loss: 2.5192 - val_accuracy: 0.7575\n",
      "Epoch 16/20\n",
      "100/100 [==============================] - 36s 357ms/step - loss: 0.1239 - accuracy: 0.9619 - val_loss: 0.3823 - val_accuracy: 0.8850\n",
      "Epoch 17/20\n",
      "100/100 [==============================] - 36s 356ms/step - loss: 0.0223 - accuracy: 0.9931 - val_loss: 0.2367 - val_accuracy: 0.9575\n",
      "Epoch 18/20\n",
      "100/100 [==============================] - 36s 357ms/step - loss: 0.0468 - accuracy: 0.9825 - val_loss: 0.2660 - val_accuracy: 0.9325\n",
      "Epoch 19/20\n",
      "100/100 [==============================] - 36s 356ms/step - loss: 0.0325 - accuracy: 0.9925 - val_loss: 0.3134 - val_accuracy: 0.9575\n",
      "Epoch 20/20\n",
      "100/100 [==============================] - 36s 356ms/step - loss: 0.0236 - accuracy: 0.9931 - val_loss: 0.3639 - val_accuracy: 0.9375\n"
     ]
    },
    {
     "name": "stderr",
     "output_type": "stream",
     "text": [
      "WARNING:absl:Found untraced functions such as _jit_compiled_convolution_op, _jit_compiled_convolution_op, _jit_compiled_convolution_op, _jit_compiled_convolution_op, _jit_compiled_convolution_op while saving (showing 5 of 9). These functions will not be directly callable after loading.\n"
     ]
    },
    {
     "name": "stdout",
     "output_type": "stream",
     "text": [
      "INFO:tensorflow:Assets written to: A:\\\\MSc\\\\Pulmonary Nodules\\\\models\\\\benign_vs_malignant_r50\\assets\n"
     ]
    },
    {
     "name": "stderr",
     "output_type": "stream",
     "text": [
      "INFO:tensorflow:Assets written to: A:\\\\MSc\\\\Pulmonary Nodules\\\\models\\\\benign_vs_malignant_r50\\assets\n"
     ]
    }
   ],
   "source": [
    "history = model.fit(\n",
    "  train,\n",
    "  validation_data=val,\n",
    "  epochs=epochs,\n",
    "  callbacks = [model_checkpoint_callback]\n",
    ")\n",
    "model.save(r'A:\\\\MSc\\\\Pulmonary Nodules\\\\models\\\\' + model_name)"
   ]
  },
  {
   "cell_type": "code",
   "execution_count": 7,
   "id": "ffd4f7d8-58c5-488f-9efc-4d2aa8fe42e6",
   "metadata": {
    "collapsed": true,
    "jupyter": {
     "outputs_hidden": true
    },
    "tags": []
   },
   "outputs": [
    {
     "data": {
      "image/png": "[encoded data removed]",
      "text/plain": [
       "<Figure size 800x800 with 2 Axes>"
      ]
     },
     "metadata": {},
     "output_type": "display_data"
    }
   ],
   "source": [
    "acc = history.history['accuracy']\n",
    "val_acc = history.history['val_accuracy']\n",
    "\n",
    "loss = history.history['loss']\n",
    "val_loss = history.history['val_loss']\n",
    "\n",
    "epochs_range = range(epochs)\n",
    "\n",
    "plt.figure(figsize=(8, 8))\n",
    "plt.subplot(1, 2, 1)\n",
    "plt.plot(epochs_range, acc, label='Training Accuracy')\n",
    "plt.plot(epochs_range, val_acc, label='Validation Accuracy')\n",
    "plt.legend(loc='lower right')\n",
    "plt.title('Training and Validation Accuracy')\n",
    "\n",
    "plt.subplot(1, 2, 2)\n",
    "plt.plot(epochs_range, loss, label='Training Loss')\n",
    "plt.plot(epochs_range, val_loss, label='Validation Loss')\n",
    "plt.legend(loc='upper right')\n",
    "plt.title('Training and Validation Loss')\n",
    "plt.savefig(r'A:\\\\MSc\\\\Pulmonary Nodules\\\\figures\\\\'  + model_name + '.png')\n",
    "plt.show()"
   ]
  },
  {
   "cell_type": "markdown",
   "id": "4f177ba5-0e84-4427-8a12-4ff92d5c60e3",
   "metadata": {
    "tags": []
   },
   "source": [
    "# Extracting results"
   ]
  },
  {
   "cell_type": "markdown",
   "id": "acce0531-3772-412e-9083-c692fc27f092",
   "metadata": {},
   "source": [
    "## Testing Helper Functions"
   ]
  },
  {
   "cell_type": "code",
   "execution_count": 20,
   "id": "958812f0-fa61-498a-a8f8-a6e4815a3e82",
   "metadata": {},
   "outputs": [],
   "source": [
    " def get_testing_data(radius, start = 1200, n = 200, size = (64,64,28), levels=['normal', 1, 5], criteria = 'mixed'):\n",
    "    h,w,d = size  \n",
    "    data = []\n",
    "    label = []\n",
    "    \n",
    "    if criteria == 'mixed': # normal vs mix malignant and benign volumes (labeled as \"contain nodules\")\n",
    "        level = levels[0]\n",
    "        for i in tqdm(range(start, start+n)):\n",
    "            try:\n",
    "                data.append(normalize_volume(np.load(_get_path(radius, level, i))).reshape(h,w,d,1))\n",
    "                label.append(0)\n",
    "            except:\n",
    "                continue\n",
    "        \n",
    "        level = levels[1]\n",
    "        for i in tqdm(range(start, start+int(n/2))):\n",
    "            try:\n",
    "                data.append(normalize_volume(np.load(_get_path(radius, level, i))).reshape(h,w,d,1))\n",
    "                label.append(1)\n",
    "            except:\n",
    "                continue\n",
    "                \n",
    "        level = levels[2]\n",
    "        for i in tqdm(range(start, start+int(n/2))):\n",
    "            try:\n",
    "                data.append(normalize_volume(np.load(_get_path(radius, level, i))).reshape(h,w,d,1))\n",
    "                label.append(1)\n",
    "            except:\n",
    "                continue\n",
    "               \n",
    "    elif criteria == 'binary' : # normal vs malignant or normal vs benign\n",
    "        for level in levels:\n",
    "            for i in tqdm(range(start, start+n)):\n",
    "                try:\n",
    "                    data.append(normalize_volume(np.load(_get_path(radius, level, i))).reshape(h,w,d,1))\n",
    "                except :\n",
    "                    continue\n",
    "                if level == 'normal':\n",
    "                    label.append(0)\n",
    "                else :\n",
    "                    label.append(1)\n",
    "                    \n",
    "    elif criteria == 'binary_nodules':\n",
    "        for level in levels:\n",
    "            for i in tqdm(range(start, start+n)):\n",
    "                try:\n",
    "                    data.append(normalize_volume(np.load(_get_path(radius, level, i))).reshape(h,w,d,1))\n",
    "                except :\n",
    "                    continue\n",
    "                if level == 1:\n",
    "                    label.append(0)\n",
    "                elif level == 5 :\n",
    "                    label.append(1)\n",
    "                    \n",
    "    elif criteria == 'three classes': # three classes for classification normal vs ben vs mal\n",
    "        for level in levels:\n",
    "            for i in tqdm(range(start, start+n)):\n",
    "                try:\n",
    "                    data.append(normalize_volume(np.load(_get_path(radius, level, i))).reshape(h,w,d,1))\n",
    "                except :\n",
    "                    continue\n",
    "                if level == 'normal':\n",
    "                    label.append(0)\n",
    "                elif level == 1 :\n",
    "                    label.append(1)\n",
    "                elif level == 5:\n",
    "                    label.append(2)\n",
    "        \n",
    "    return data, label\n",
    "\n",
    "def test_data_prep(data, labels, BATCH_SIZE = 16, n_classes = 1):\n",
    "    if n_classes == 1:\n",
    "        dataset = tf.data.Dataset.from_tensor_slices((data, labels))\n",
    "        dataset = dataset.batch(BATCH_SIZE)\n",
    "    else :\n",
    "        labels = tf.keras.utils.to_categorical(labels, 3)\n",
    "        dataset = tf.data.Dataset.from_tensor_slices((data, labels))\n",
    "        dataset = dataset.batch(BATCH_SIZE)\n",
    "    return dataset\n",
    "\n",
    "classification_problem = ['normal_vs_malignant', 'normal_vs_benign', 'normal_vs_mixed', 'benign_vs_malignant', 'normal_vs_benign_vs_malignant']\n",
    "model_groups = [['normal_vs_malignant_r10', 'normal_vs_malignant_r20', 'normal_vs_malignant_r30', 'normal_vs_malignant_r40', 'normal_vs_malignant_r50'],\n",
    "               ['normal_vs_benign_r10', 'normal_vs_benign_r20', 'normal_vs_benign_r30', 'normal_vs_benign_r40', 'normal_vs_benign_r50'],\n",
    "               ['normal_vs_mixed_r10', 'normal_vs_mixed_r20', 'normal_vs_mixed_r30', 'normal_vs_mixed_r40', 'normal_vs_mixed_r50'],\n",
    "               ['benign_vs_malignant_r10', 'benign_vs_malignant_r20', 'benign_vs_malignant_r30', 'benign_vs_malignant_r40', 'benign_vs_malignant_r50'],\n",
    "               ['normal_vs_benign_vs_malignant_r10', 'normal_vs_benign_vs_malignant_r20', 'normal_vs_benign_vs_malignant_r30', 'normal_vs_benign_vs_malignant_r40', 'normal_vs_benign_vs_malignant_r50']\n",
    "              ]\n"
   ]
  },
  {
   "cell_type": "code",
   "execution_count": 4,
   "id": "10ce09f7-ed88-4d32-822d-c7a9aa18cc0f",
   "metadata": {
    "collapsed": true,
    "jupyter": {
     "outputs_hidden": true
    },
    "tags": []
   },
   "outputs": [
    {
     "data": {
      "application/vnd.jupyter.widget-view+json": {
       "model_id": "0430eef54d834704918794de117071c5",
       "version_major": 2,
       "version_minor": 0
      },
      "text/plain": [
       "  0%|          | 0/1 [00:00<?, ?it/s]"
      ]
     },
     "metadata": {},
     "output_type": "display_data"
    },
    {
     "data": {
      "application/vnd.jupyter.widget-view+json": {
       "model_id": "f9fd0eb242a44c85ac25c8102da20f0e",
       "version_major": 2,
       "version_minor": 0
      },
      "text/plain": [
       "  0%|          | 0/200 [00:00<?, ?it/s]"
      ]
     },
     "metadata": {},
     "output_type": "display_data"
    },
    {
     "data": {
      "application/vnd.jupyter.widget-view+json": {
       "model_id": "d6e08949ea024d0ebc81ff8808468562",
       "version_major": 2,
       "version_minor": 0
      },
      "text/plain": [
       "  0%|          | 0/200 [00:00<?, ?it/s]"
      ]
     },
     "metadata": {},
     "output_type": "display_data"
    },
    {
     "name": "stdout",
     "output_type": "stream",
     "text": [
      "25/25 [==============================] - 5s 107ms/step - loss: 1.3894 - accuracy: 0.7750\n"
     ]
    },
    {
     "data": {
      "application/vnd.jupyter.widget-view+json": {
       "model_id": "3b83c8f6f87a4821b7785a0f64dacead",
       "version_major": 2,
       "version_minor": 0
      },
      "text/plain": [
       "  0%|          | 0/200 [00:00<?, ?it/s]"
      ]
     },
     "metadata": {},
     "output_type": "display_data"
    },
    {
     "data": {
      "application/vnd.jupyter.widget-view+json": {
       "model_id": "7958bd769bcc4ebd91b685b67e482884",
       "version_major": 2,
       "version_minor": 0
      },
      "text/plain": [
       "  0%|          | 0/200 [00:00<?, ?it/s]"
      ]
     },
     "metadata": {},
     "output_type": "display_data"
    },
    {
     "name": "stdout",
     "output_type": "stream",
     "text": [
      "25/25 [==============================] - 3s 107ms/step - loss: 1.4604 - accuracy: 0.7375\n"
     ]
    },
    {
     "data": {
      "application/vnd.jupyter.widget-view+json": {
       "model_id": "304ff791aee14a878a3460341ddf045f",
       "version_major": 2,
       "version_minor": 0
      },
      "text/plain": [
       "  0%|          | 0/200 [00:00<?, ?it/s]"
      ]
     },
     "metadata": {},
     "output_type": "display_data"
    },
    {
     "data": {
      "application/vnd.jupyter.widget-view+json": {
       "model_id": "e5fe588518c349f6809bcb08247da66c",
       "version_major": 2,
       "version_minor": 0
      },
      "text/plain": [
       "  0%|          | 0/200 [00:00<?, ?it/s]"
      ]
     },
     "metadata": {},
     "output_type": "display_data"
    },
    {
     "name": "stdout",
     "output_type": "stream",
     "text": [
      "25/25 [==============================] - 3s 107ms/step - loss: 2.8221 - accuracy: 0.6050\n"
     ]
    },
    {
     "data": {
      "application/vnd.jupyter.widget-view+json": {
       "model_id": "5f0620e0880a4410ad3ddb9c3129186b",
       "version_major": 2,
       "version_minor": 0
      },
      "text/plain": [
       "  0%|          | 0/200 [00:00<?, ?it/s]"
      ]
     },
     "metadata": {},
     "output_type": "display_data"
    },
    {
     "data": {
      "application/vnd.jupyter.widget-view+json": {
       "model_id": "f146363da3bc46fb91e0135e2a3ab519",
       "version_major": 2,
       "version_minor": 0
      },
      "text/plain": [
       "  0%|          | 0/200 [00:00<?, ?it/s]"
      ]
     },
     "metadata": {},
     "output_type": "display_data"
    },
    {
     "name": "stdout",
     "output_type": "stream",
     "text": [
      "25/25 [==============================] - 3s 107ms/step - loss: 4.1647 - accuracy: 0.5025\n"
     ]
    },
    {
     "data": {
      "application/vnd.jupyter.widget-view+json": {
       "model_id": "4cd245028a35495f8401a517a61be6a1",
       "version_major": 2,
       "version_minor": 0
      },
      "text/plain": [
       "  0%|          | 0/200 [00:00<?, ?it/s]"
      ]
     },
     "metadata": {},
     "output_type": "display_data"
    },
    {
     "data": {
      "application/vnd.jupyter.widget-view+json": {
       "model_id": "51cf1b6dde73467b83e328deb28526f0",
       "version_major": 2,
       "version_minor": 0
      },
      "text/plain": [
       "  0%|          | 0/200 [00:00<?, ?it/s]"
      ]
     },
     "metadata": {},
     "output_type": "display_data"
    },
    {
     "name": "stdout",
     "output_type": "stream",
     "text": [
      "25/25 [==============================] - 3s 107ms/step - loss: 4.9551 - accuracy: 0.4625\n"
     ]
    },
    {
     "data": {
      "application/vnd.jupyter.widget-view+json": {
       "model_id": "d158b47ddfed4d1dbf00e681bc269d1b",
       "version_major": 2,
       "version_minor": 0
      },
      "text/plain": [
       "  0%|          | 0/200 [00:00<?, ?it/s]"
      ]
     },
     "metadata": {},
     "output_type": "display_data"
    },
    {
     "data": {
      "application/vnd.jupyter.widget-view+json": {
       "model_id": "046aea5225d045ccb8fd38646bbe78dc",
       "version_major": 2,
       "version_minor": 0
      },
      "text/plain": [
       "  0%|          | 0/200 [00:00<?, ?it/s]"
      ]
     },
     "metadata": {},
     "output_type": "display_data"
    },
    {
     "name": "stdout",
     "output_type": "stream",
     "text": [
      "25/25 [==============================] - 3s 108ms/step - loss: 5.1005 - accuracy: 0.4525\n"
     ]
    },
    {
     "data": {
      "application/vnd.jupyter.widget-view+json": {
       "model_id": "cc4b40f055644263a63998d5f2722333",
       "version_major": 2,
       "version_minor": 0
      },
      "text/plain": [
       "  0%|          | 0/200 [00:00<?, ?it/s]"
      ]
     },
     "metadata": {},
     "output_type": "display_data"
    },
    {
     "data": {
      "application/vnd.jupyter.widget-view+json": {
       "model_id": "f44cfca47f6649ca95936eeb3132c716",
       "version_major": 2,
       "version_minor": 0
      },
      "text/plain": [
       "  0%|          | 0/200 [00:00<?, ?it/s]"
      ]
     },
     "metadata": {},
     "output_type": "display_data"
    },
    {
     "name": "stdout",
     "output_type": "stream",
     "text": [
      "25/25 [==============================] - 3s 106ms/step - loss: 5.1852 - accuracy: 0.3800\n"
     ]
    },
    {
     "data": {
      "application/vnd.jupyter.widget-view+json": {
       "model_id": "8d34652ddacc4984b1051d2126278158",
       "version_major": 2,
       "version_minor": 0
      },
      "text/plain": [
       "  0%|          | 0/200 [00:00<?, ?it/s]"
      ]
     },
     "metadata": {},
     "output_type": "display_data"
    },
    {
     "data": {
      "application/vnd.jupyter.widget-view+json": {
       "model_id": "fbc8732c456f437d971df2f444cc3a52",
       "version_major": 2,
       "version_minor": 0
      },
      "text/plain": [
       "  0%|          | 0/200 [00:00<?, ?it/s]"
      ]
     },
     "metadata": {},
     "output_type": "display_data"
    },
    {
     "name": "stdout",
     "output_type": "stream",
     "text": [
      "25/25 [==============================] - 3s 107ms/step - loss: 4.7801 - accuracy: 0.3725\n"
     ]
    },
    {
     "data": {
      "application/vnd.jupyter.widget-view+json": {
       "model_id": "b19534426849431d9d2a001a8c34dbd7",
       "version_major": 2,
       "version_minor": 0
      },
      "text/plain": [
       "  0%|          | 0/200 [00:00<?, ?it/s]"
      ]
     },
     "metadata": {},
     "output_type": "display_data"
    },
    {
     "data": {
      "application/vnd.jupyter.widget-view+json": {
       "model_id": "1ee42360682b46a082c547361f8dcfc9",
       "version_major": 2,
       "version_minor": 0
      },
      "text/plain": [
       "  0%|          | 0/200 [00:00<?, ?it/s]"
      ]
     },
     "metadata": {},
     "output_type": "display_data"
    },
    {
     "name": "stdout",
     "output_type": "stream",
     "text": [
      "25/25 [==============================] - 3s 107ms/step - loss: 4.5414 - accuracy: 0.3600\n"
     ]
    },
    {
     "data": {
      "application/vnd.jupyter.widget-view+json": {
       "model_id": "b8a591b9fa0a4c65a0664324f7a0d6f6",
       "version_major": 2,
       "version_minor": 0
      },
      "text/plain": [
       "  0%|          | 0/200 [00:00<?, ?it/s]"
      ]
     },
     "metadata": {},
     "output_type": "display_data"
    },
    {
     "data": {
      "application/vnd.jupyter.widget-view+json": {
       "model_id": "0c66b34df915479192284551b145d76a",
       "version_major": 2,
       "version_minor": 0
      },
      "text/plain": [
       "  0%|          | 0/200 [00:00<?, ?it/s]"
      ]
     },
     "metadata": {},
     "output_type": "display_data"
    },
    {
     "name": "stdout",
     "output_type": "stream",
     "text": [
      "25/25 [==============================] - 3s 107ms/step - loss: 4.4753 - accuracy: 0.4150\n"
     ]
    },
    {
     "data": {
      "application/vnd.jupyter.widget-view+json": {
       "model_id": "4b1876816b4a4d5b997721c444d9ca3d",
       "version_major": 2,
       "version_minor": 0
      },
      "text/plain": [
       "  0%|          | 0/200 [00:00<?, ?it/s]"
      ]
     },
     "metadata": {},
     "output_type": "display_data"
    },
    {
     "data": {
      "application/vnd.jupyter.widget-view+json": {
       "model_id": "7d6069b69e014ed4b018a70e186adf66",
       "version_major": 2,
       "version_minor": 0
      },
      "text/plain": [
       "  0%|          | 0/200 [00:00<?, ?it/s]"
      ]
     },
     "metadata": {},
     "output_type": "display_data"
    },
    {
     "name": "stdout",
     "output_type": "stream",
     "text": [
      "25/25 [==============================] - 3s 108ms/step - loss: 3.0564 - accuracy: 0.5225\n"
     ]
    },
    {
     "data": {
      "application/vnd.jupyter.widget-view+json": {
       "model_id": "dd7a6803a540480fb1153b847a4f481c",
       "version_major": 2,
       "version_minor": 0
      },
      "text/plain": [
       "  0%|          | 0/200 [00:00<?, ?it/s]"
      ]
     },
     "metadata": {},
     "output_type": "display_data"
    },
    {
     "data": {
      "application/vnd.jupyter.widget-view+json": {
       "model_id": "aa3d5ff9b2e34e35a94ea7928023d794",
       "version_major": 2,
       "version_minor": 0
      },
      "text/plain": [
       "  0%|          | 0/200 [00:00<?, ?it/s]"
      ]
     },
     "metadata": {},
     "output_type": "display_data"
    },
    {
     "name": "stdout",
     "output_type": "stream",
     "text": [
      "25/25 [==============================] - 3s 108ms/step - loss: 2.8974 - accuracy: 0.5425\n"
     ]
    },
    {
     "data": {
      "application/vnd.jupyter.widget-view+json": {
       "model_id": "2db866b9de2f4e86a5f37d6fa24e32c1",
       "version_major": 2,
       "version_minor": 0
      },
      "text/plain": [
       "  0%|          | 0/200 [00:00<?, ?it/s]"
      ]
     },
     "metadata": {},
     "output_type": "display_data"
    },
    {
     "data": {
      "application/vnd.jupyter.widget-view+json": {
       "model_id": "48504b6e45b14bc189a15fc8541f419b",
       "version_major": 2,
       "version_minor": 0
      },
      "text/plain": [
       "  0%|          | 0/200 [00:00<?, ?it/s]"
      ]
     },
     "metadata": {},
     "output_type": "display_data"
    },
    {
     "name": "stdout",
     "output_type": "stream",
     "text": [
      "25/25 [==============================] - 3s 108ms/step - loss: 1.8577 - accuracy: 0.7100\n"
     ]
    },
    {
     "data": {
      "application/vnd.jupyter.widget-view+json": {
       "model_id": "9d669c0678324216a57b55524b1b14df",
       "version_major": 2,
       "version_minor": 0
      },
      "text/plain": [
       "  0%|          | 0/200 [00:00<?, ?it/s]"
      ]
     },
     "metadata": {},
     "output_type": "display_data"
    },
    {
     "data": {
      "application/vnd.jupyter.widget-view+json": {
       "model_id": "4f2b0ead284a4f649e343fee41b3a1b8",
       "version_major": 2,
       "version_minor": 0
      },
      "text/plain": [
       "  0%|          | 0/200 [00:00<?, ?it/s]"
      ]
     },
     "metadata": {},
     "output_type": "display_data"
    },
    {
     "name": "stdout",
     "output_type": "stream",
     "text": [
      "25/25 [==============================] - 3s 108ms/step - loss: 1.7240 - accuracy: 0.6125\n"
     ]
    },
    {
     "data": {
      "application/vnd.jupyter.widget-view+json": {
       "model_id": "18e5ead86d914b2c84386d904b65c601",
       "version_major": 2,
       "version_minor": 0
      },
      "text/plain": [
       "  0%|          | 0/200 [00:00<?, ?it/s]"
      ]
     },
     "metadata": {},
     "output_type": "display_data"
    },
    {
     "data": {
      "application/vnd.jupyter.widget-view+json": {
       "model_id": "5506d0cc5a174785bafdc35aba200c31",
       "version_major": 2,
       "version_minor": 0
      },
      "text/plain": [
       "  0%|          | 0/200 [00:00<?, ?it/s]"
      ]
     },
     "metadata": {},
     "output_type": "display_data"
    },
    {
     "name": "stdout",
     "output_type": "stream",
     "text": [
      "25/25 [==============================] - 3s 108ms/step - loss: 1.4037 - accuracy: 0.6500\n"
     ]
    },
    {
     "data": {
      "application/vnd.jupyter.widget-view+json": {
       "model_id": "e5e54dbe06534bfebab4538d702beb19",
       "version_major": 2,
       "version_minor": 0
      },
      "text/plain": [
       "  0%|          | 0/200 [00:00<?, ?it/s]"
      ]
     },
     "metadata": {},
     "output_type": "display_data"
    },
    {
     "data": {
      "application/vnd.jupyter.widget-view+json": {
       "model_id": "f22c73ce6ca64f82b61a162191f41059",
       "version_major": 2,
       "version_minor": 0
      },
      "text/plain": [
       "  0%|          | 0/200 [00:00<?, ?it/s]"
      ]
     },
     "metadata": {},
     "output_type": "display_data"
    },
    {
     "name": "stdout",
     "output_type": "stream",
     "text": [
      "25/25 [==============================] - 3s 108ms/step - loss: 1.8764 - accuracy: 0.5625\n"
     ]
    },
    {
     "data": {
      "application/vnd.jupyter.widget-view+json": {
       "model_id": "dc0506412e58453ead08978b059db4b3",
       "version_major": 2,
       "version_minor": 0
      },
      "text/plain": [
       "  0%|          | 0/200 [00:00<?, ?it/s]"
      ]
     },
     "metadata": {},
     "output_type": "display_data"
    },
    {
     "data": {
      "application/vnd.jupyter.widget-view+json": {
       "model_id": "a8221b1b5a7140fb97aeddb35bd3ac45",
       "version_major": 2,
       "version_minor": 0
      },
      "text/plain": [
       "  0%|          | 0/200 [00:00<?, ?it/s]"
      ]
     },
     "metadata": {},
     "output_type": "display_data"
    },
    {
     "name": "stdout",
     "output_type": "stream",
     "text": [
      "25/25 [==============================] - 3s 108ms/step - loss: 2.0422 - accuracy: 0.5900\n"
     ]
    },
    {
     "data": {
      "application/vnd.jupyter.widget-view+json": {
       "model_id": "18cc87f5ebe64d90be9822c80b6e1686",
       "version_major": 2,
       "version_minor": 0
      },
      "text/plain": [
       "  0%|          | 0/200 [00:00<?, ?it/s]"
      ]
     },
     "metadata": {},
     "output_type": "display_data"
    },
    {
     "data": {
      "application/vnd.jupyter.widget-view+json": {
       "model_id": "fccce63db8844497a74bd54a9ee9efd8",
       "version_major": 2,
       "version_minor": 0
      },
      "text/plain": [
       "  0%|          | 0/200 [00:00<?, ?it/s]"
      ]
     },
     "metadata": {},
     "output_type": "display_data"
    },
    {
     "name": "stdout",
     "output_type": "stream",
     "text": [
      "25/25 [==============================] - 3s 108ms/step - loss: 3.1389 - accuracy: 0.4550\n"
     ]
    },
    {
     "data": {
      "application/vnd.jupyter.widget-view+json": {
       "model_id": "7e0d5627269c49d18824f4f90400f3e7",
       "version_major": 2,
       "version_minor": 0
      },
      "text/plain": [
       "  0%|          | 0/200 [00:00<?, ?it/s]"
      ]
     },
     "metadata": {},
     "output_type": "display_data"
    },
    {
     "data": {
      "application/vnd.jupyter.widget-view+json": {
       "model_id": "88c1c51886974edf9c832220816387f1",
       "version_major": 2,
       "version_minor": 0
      },
      "text/plain": [
       "  0%|          | 0/200 [00:00<?, ?it/s]"
      ]
     },
     "metadata": {},
     "output_type": "display_data"
    },
    {
     "name": "stdout",
     "output_type": "stream",
     "text": [
      "25/25 [==============================] - 3s 108ms/step - loss: 2.8209 - accuracy: 0.4350\n"
     ]
    },
    {
     "data": {
      "application/vnd.jupyter.widget-view+json": {
       "model_id": "69e5597a629b425fb83e063c7c28608b",
       "version_major": 2,
       "version_minor": 0
      },
      "text/plain": [
       "  0%|          | 0/200 [00:00<?, ?it/s]"
      ]
     },
     "metadata": {},
     "output_type": "display_data"
    },
    {
     "data": {
      "application/vnd.jupyter.widget-view+json": {
       "model_id": "bde99f118e6d4e9e87a1601343b0263b",
       "version_major": 2,
       "version_minor": 0
      },
      "text/plain": [
       "  0%|          | 0/200 [00:00<?, ?it/s]"
      ]
     },
     "metadata": {},
     "output_type": "display_data"
    },
    {
     "name": "stdout",
     "output_type": "stream",
     "text": [
      "25/25 [==============================] - 3s 108ms/step - loss: 2.3539 - accuracy: 0.5375\n"
     ]
    },
    {
     "data": {
      "application/vnd.jupyter.widget-view+json": {
       "model_id": "d6b8c27d3e8d414fbde680b4b170d41c",
       "version_major": 2,
       "version_minor": 0
      },
      "text/plain": [
       "  0%|          | 0/200 [00:00<?, ?it/s]"
      ]
     },
     "metadata": {},
     "output_type": "display_data"
    },
    {
     "data": {
      "application/vnd.jupyter.widget-view+json": {
       "model_id": "681148ef7a50434b8b4ef108c9a2aaee",
       "version_major": 2,
       "version_minor": 0
      },
      "text/plain": [
       "  0%|          | 0/200 [00:00<?, ?it/s]"
      ]
     },
     "metadata": {},
     "output_type": "display_data"
    },
    {
     "name": "stdout",
     "output_type": "stream",
     "text": [
      "25/25 [==============================] - 3s 109ms/step - loss: 4.0627 - accuracy: 0.4150\n"
     ]
    },
    {
     "data": {
      "application/vnd.jupyter.widget-view+json": {
       "model_id": "38910fbd0ee84115a354f0cba08bb1cc",
       "version_major": 2,
       "version_minor": 0
      },
      "text/plain": [
       "  0%|          | 0/200 [00:00<?, ?it/s]"
      ]
     },
     "metadata": {},
     "output_type": "display_data"
    },
    {
     "data": {
      "application/vnd.jupyter.widget-view+json": {
       "model_id": "bea5f862c55f42b8b5e44df020ad931c",
       "version_major": 2,
       "version_minor": 0
      },
      "text/plain": [
       "  0%|          | 0/200 [00:00<?, ?it/s]"
      ]
     },
     "metadata": {},
     "output_type": "display_data"
    },
    {
     "name": "stdout",
     "output_type": "stream",
     "text": [
      "25/25 [==============================] - 3s 108ms/step - loss: 3.2195 - accuracy: 0.4625\n"
     ]
    },
    {
     "data": {
      "application/vnd.jupyter.widget-view+json": {
       "model_id": "f7de1bb8366f4969b650e3f266cf75d9",
       "version_major": 2,
       "version_minor": 0
      },
      "text/plain": [
       "  0%|          | 0/200 [00:00<?, ?it/s]"
      ]
     },
     "metadata": {},
     "output_type": "display_data"
    },
    {
     "data": {
      "application/vnd.jupyter.widget-view+json": {
       "model_id": "bfaf29a957de4f878ce7eca46e402b94",
       "version_major": 2,
       "version_minor": 0
      },
      "text/plain": [
       "  0%|          | 0/200 [00:00<?, ?it/s]"
      ]
     },
     "metadata": {},
     "output_type": "display_data"
    },
    {
     "name": "stdout",
     "output_type": "stream",
     "text": [
      "25/25 [==============================] - 3s 109ms/step - loss: 2.4428 - accuracy: 0.5500\n"
     ]
    },
    {
     "data": {
      "application/vnd.jupyter.widget-view+json": {
       "model_id": "6ab77281f4ec40828999d59f0d86b8c9",
       "version_major": 2,
       "version_minor": 0
      },
      "text/plain": [
       "  0%|          | 0/200 [00:00<?, ?it/s]"
      ]
     },
     "metadata": {},
     "output_type": "display_data"
    },
    {
     "data": {
      "application/vnd.jupyter.widget-view+json": {
       "model_id": "1e5c0f7c1e304788bdcc16de3ab20f72",
       "version_major": 2,
       "version_minor": 0
      },
      "text/plain": [
       "  0%|          | 0/200 [00:00<?, ?it/s]"
      ]
     },
     "metadata": {},
     "output_type": "display_data"
    },
    {
     "name": "stdout",
     "output_type": "stream",
     "text": [
      "25/25 [==============================] - 3s 109ms/step - loss: 2.6314 - accuracy: 0.6275\n"
     ]
    },
    {
     "data": {
      "application/vnd.jupyter.widget-view+json": {
       "model_id": "547f7c9ff79140ad92cf15d36e071bf0",
       "version_major": 2,
       "version_minor": 0
      },
      "text/plain": [
       "  0%|          | 0/200 [00:00<?, ?it/s]"
      ]
     },
     "metadata": {},
     "output_type": "display_data"
    },
    {
     "data": {
      "application/vnd.jupyter.widget-view+json": {
       "model_id": "bdc396f65a214d1b89858686fa498924",
       "version_major": 2,
       "version_minor": 0
      },
      "text/plain": [
       "  0%|          | 0/200 [00:00<?, ?it/s]"
      ]
     },
     "metadata": {},
     "output_type": "display_data"
    },
    {
     "name": "stdout",
     "output_type": "stream",
     "text": [
      "25/25 [==============================] - 3s 108ms/step - loss: 2.3720 - accuracy: 0.6050\n"
     ]
    },
    {
     "data": {
      "application/vnd.jupyter.widget-view+json": {
       "model_id": "dfa23e647b434e2b973045a80d140dc9",
       "version_major": 2,
       "version_minor": 0
      },
      "text/plain": [
       "  0%|          | 0/200 [00:00<?, ?it/s]"
      ]
     },
     "metadata": {},
     "output_type": "display_data"
    },
    {
     "data": {
      "application/vnd.jupyter.widget-view+json": {
       "model_id": "cadc2d6cb0914d1e9402eb63035391d8",
       "version_major": 2,
       "version_minor": 0
      },
      "text/plain": [
       "  0%|          | 0/200 [00:00<?, ?it/s]"
      ]
     },
     "metadata": {},
     "output_type": "display_data"
    },
    {
     "name": "stdout",
     "output_type": "stream",
     "text": [
      "25/25 [==============================] - 3s 109ms/step - loss: 2.2338 - accuracy: 0.6850\n"
     ]
    },
    {
     "data": {
      "application/vnd.jupyter.widget-view+json": {
       "model_id": "67b59236d7da48569da25b7af55ba4a8",
       "version_major": 2,
       "version_minor": 0
      },
      "text/plain": [
       "  0%|          | 0/200 [00:00<?, ?it/s]"
      ]
     },
     "metadata": {},
     "output_type": "display_data"
    },
    {
     "data": {
      "application/vnd.jupyter.widget-view+json": {
       "model_id": "9b94622c8f2f481b8b2bd9c46d60e16b",
       "version_major": 2,
       "version_minor": 0
      },
      "text/plain": [
       "  0%|          | 0/200 [00:00<?, ?it/s]"
      ]
     },
     "metadata": {},
     "output_type": "display_data"
    },
    {
     "name": "stdout",
     "output_type": "stream",
     "text": [
      "25/25 [==============================] - 3s 108ms/step - loss: 2.6890 - accuracy: 0.6250\n"
     ]
    },
    {
     "data": {
      "application/vnd.jupyter.widget-view+json": {
       "model_id": "7f2362d036414e88bb53b950a1d966a4",
       "version_major": 2,
       "version_minor": 0
      },
      "text/plain": [
       "  0%|          | 0/200 [00:00<?, ?it/s]"
      ]
     },
     "metadata": {},
     "output_type": "display_data"
    },
    {
     "data": {
      "application/vnd.jupyter.widget-view+json": {
       "model_id": "5532fac761354f3195c26bb682c34c83",
       "version_major": 2,
       "version_minor": 0
      },
      "text/plain": [
       "  0%|          | 0/200 [00:00<?, ?it/s]"
      ]
     },
     "metadata": {},
     "output_type": "display_data"
    },
    {
     "name": "stdout",
     "output_type": "stream",
     "text": [
      "25/25 [==============================] - 3s 108ms/step - loss: 3.3931 - accuracy: 0.4775\n"
     ]
    },
    {
     "data": {
      "application/vnd.jupyter.widget-view+json": {
       "model_id": "2d94dd961a254acfac9fe6f2e56c1e4f",
       "version_major": 2,
       "version_minor": 0
      },
      "text/plain": [
       "  0%|          | 0/200 [00:00<?, ?it/s]"
      ]
     },
     "metadata": {},
     "output_type": "display_data"
    },
    {
     "data": {
      "application/vnd.jupyter.widget-view+json": {
       "model_id": "61203192b94944cc850f4e8c55cc0d45",
       "version_major": 2,
       "version_minor": 0
      },
      "text/plain": [
       "  0%|          | 0/200 [00:00<?, ?it/s]"
      ]
     },
     "metadata": {},
     "output_type": "display_data"
    },
    {
     "name": "stdout",
     "output_type": "stream",
     "text": [
      "25/25 [==============================] - 3s 108ms/step - loss: 3.6940 - accuracy: 0.3925\n"
     ]
    },
    {
     "data": {
      "application/vnd.jupyter.widget-view+json": {
       "model_id": "d0ab791d7e4e418f9e2c9982a7d2d53e",
       "version_major": 2,
       "version_minor": 0
      },
      "text/plain": [
       "  0%|          | 0/200 [00:00<?, ?it/s]"
      ]
     },
     "metadata": {},
     "output_type": "display_data"
    },
    {
     "data": {
      "application/vnd.jupyter.widget-view+json": {
       "model_id": "006ef39c95254a4e84df5bd34256f683",
       "version_major": 2,
       "version_minor": 0
      },
      "text/plain": [
       "  0%|          | 0/200 [00:00<?, ?it/s]"
      ]
     },
     "metadata": {},
     "output_type": "display_data"
    },
    {
     "name": "stdout",
     "output_type": "stream",
     "text": [
      "25/25 [==============================] - 3s 108ms/step - loss: 2.9005 - accuracy: 0.4975\n"
     ]
    },
    {
     "data": {
      "application/vnd.jupyter.widget-view+json": {
       "model_id": "1f40e59de3584bbea416d0e0f6fd01a8",
       "version_major": 2,
       "version_minor": 0
      },
      "text/plain": [
       "  0%|          | 0/200 [00:00<?, ?it/s]"
      ]
     },
     "metadata": {},
     "output_type": "display_data"
    },
    {
     "data": {
      "application/vnd.jupyter.widget-view+json": {
       "model_id": "1c61cd3c129d4f488cd7030663b0b707",
       "version_major": 2,
       "version_minor": 0
      },
      "text/plain": [
       "  0%|          | 0/200 [00:00<?, ?it/s]"
      ]
     },
     "metadata": {},
     "output_type": "display_data"
    },
    {
     "name": "stdout",
     "output_type": "stream",
     "text": [
      "25/25 [==============================] - 3s 108ms/step - loss: 3.3450 - accuracy: 0.4550\n"
     ]
    },
    {
     "data": {
      "application/vnd.jupyter.widget-view+json": {
       "model_id": "e92b966d72f04c2aabe79201a7c77669",
       "version_major": 2,
       "version_minor": 0
      },
      "text/plain": [
       "  0%|          | 0/200 [00:00<?, ?it/s]"
      ]
     },
     "metadata": {},
     "output_type": "display_data"
    },
    {
     "data": {
      "application/vnd.jupyter.widget-view+json": {
       "model_id": "a063d1b2c51648d0b92b699fdd542edf",
       "version_major": 2,
       "version_minor": 0
      },
      "text/plain": [
       "  0%|          | 0/200 [00:00<?, ?it/s]"
      ]
     },
     "metadata": {},
     "output_type": "display_data"
    },
    {
     "name": "stdout",
     "output_type": "stream",
     "text": [
      "25/25 [==============================] - 3s 108ms/step - loss: 3.2872 - accuracy: 0.4350\n"
     ]
    },
    {
     "data": {
      "application/vnd.jupyter.widget-view+json": {
       "model_id": "60b964fcbe8c4c68bd652d8f004d5a7e",
       "version_major": 2,
       "version_minor": 0
      },
      "text/plain": [
       "  0%|          | 0/200 [00:00<?, ?it/s]"
      ]
     },
     "metadata": {},
     "output_type": "display_data"
    },
    {
     "data": {
      "application/vnd.jupyter.widget-view+json": {
       "model_id": "335269bb8cb545efaef6feda20023610",
       "version_major": 2,
       "version_minor": 0
      },
      "text/plain": [
       "  0%|          | 0/200 [00:00<?, ?it/s]"
      ]
     },
     "metadata": {},
     "output_type": "display_data"
    },
    {
     "name": "stdout",
     "output_type": "stream",
     "text": [
      "25/25 [==============================] - 3s 107ms/step - loss: 3.9601 - accuracy: 0.4200\n"
     ]
    },
    {
     "data": {
      "application/vnd.jupyter.widget-view+json": {
       "model_id": "739bad593d0e496794fb666b33d0a9b9",
       "version_major": 2,
       "version_minor": 0
      },
      "text/plain": [
       "  0%|          | 0/200 [00:00<?, ?it/s]"
      ]
     },
     "metadata": {},
     "output_type": "display_data"
    },
    {
     "data": {
      "application/vnd.jupyter.widget-view+json": {
       "model_id": "c4a8a3b0f67e495faa51183fd2b686cb",
       "version_major": 2,
       "version_minor": 0
      },
      "text/plain": [
       "  0%|          | 0/200 [00:00<?, ?it/s]"
      ]
     },
     "metadata": {},
     "output_type": "display_data"
    },
    {
     "name": "stdout",
     "output_type": "stream",
     "text": [
      "25/25 [==============================] - 3s 108ms/step - loss: 3.0886 - accuracy: 0.4675\n"
     ]
    },
    {
     "data": {
      "application/vnd.jupyter.widget-view+json": {
       "model_id": "441b947b8c414ca6a7ba5548f870955f",
       "version_major": 2,
       "version_minor": 0
      },
      "text/plain": [
       "  0%|          | 0/200 [00:00<?, ?it/s]"
      ]
     },
     "metadata": {},
     "output_type": "display_data"
    },
    {
     "data": {
      "application/vnd.jupyter.widget-view+json": {
       "model_id": "626ea3fb32e24c9da4a6dd27f7da63d9",
       "version_major": 2,
       "version_minor": 0
      },
      "text/plain": [
       "  0%|          | 0/200 [00:00<?, ?it/s]"
      ]
     },
     "metadata": {},
     "output_type": "display_data"
    },
    {
     "name": "stdout",
     "output_type": "stream",
     "text": [
      "25/25 [==============================] - 3s 107ms/step - loss: 2.2352 - accuracy: 0.5550\n"
     ]
    },
    {
     "data": {
      "application/vnd.jupyter.widget-view+json": {
       "model_id": "a50da46d8d584b0d98e40e97d0b177b8",
       "version_major": 2,
       "version_minor": 0
      },
      "text/plain": [
       "  0%|          | 0/200 [00:00<?, ?it/s]"
      ]
     },
     "metadata": {},
     "output_type": "display_data"
    },
    {
     "data": {
      "application/vnd.jupyter.widget-view+json": {
       "model_id": "ca04d6acb16b4e96ab7272fdbb459144",
       "version_major": 2,
       "version_minor": 0
      },
      "text/plain": [
       "  0%|          | 0/200 [00:00<?, ?it/s]"
      ]
     },
     "metadata": {},
     "output_type": "display_data"
    },
    {
     "name": "stdout",
     "output_type": "stream",
     "text": [
      "25/25 [==============================] - 3s 108ms/step - loss: 1.9599 - accuracy: 0.5325\n"
     ]
    },
    {
     "data": {
      "application/vnd.jupyter.widget-view+json": {
       "model_id": "30083ded9da04b4bb20810b43a1cd27a",
       "version_major": 2,
       "version_minor": 0
      },
      "text/plain": [
       "  0%|          | 0/200 [00:00<?, ?it/s]"
      ]
     },
     "metadata": {},
     "output_type": "display_data"
    },
    {
     "data": {
      "application/vnd.jupyter.widget-view+json": {
       "model_id": "4303d33ced4f49aa83119c3cd2b41f62",
       "version_major": 2,
       "version_minor": 0
      },
      "text/plain": [
       "  0%|          | 0/200 [00:00<?, ?it/s]"
      ]
     },
     "metadata": {},
     "output_type": "display_data"
    },
    {
     "name": "stdout",
     "output_type": "stream",
     "text": [
      "25/25 [==============================] - 3s 107ms/step - loss: 2.2439 - accuracy: 0.6325\n"
     ]
    },
    {
     "data": {
      "application/vnd.jupyter.widget-view+json": {
       "model_id": "a92eab5aa06740f9b9a633786fab4f58",
       "version_major": 2,
       "version_minor": 0
      },
      "text/plain": [
       "  0%|          | 0/200 [00:00<?, ?it/s]"
      ]
     },
     "metadata": {},
     "output_type": "display_data"
    },
    {
     "data": {
      "application/vnd.jupyter.widget-view+json": {
       "model_id": "714decc993b74d97858e81fe108ecc50",
       "version_major": 2,
       "version_minor": 0
      },
      "text/plain": [
       "  0%|          | 0/200 [00:00<?, ?it/s]"
      ]
     },
     "metadata": {},
     "output_type": "display_data"
    },
    {
     "name": "stdout",
     "output_type": "stream",
     "text": [
      "25/25 [==============================] - 3s 107ms/step - loss: 2.9470 - accuracy: 0.6575\n"
     ]
    },
    {
     "data": {
      "application/vnd.jupyter.widget-view+json": {
       "model_id": "889eaf7b1a84476b882353f3bffdc839",
       "version_major": 2,
       "version_minor": 0
      },
      "text/plain": [
       "  0%|          | 0/200 [00:00<?, ?it/s]"
      ]
     },
     "metadata": {},
     "output_type": "display_data"
    },
    {
     "data": {
      "application/vnd.jupyter.widget-view+json": {
       "model_id": "f9c6d881543f413299860e71051c2d07",
       "version_major": 2,
       "version_minor": 0
      },
      "text/plain": [
       "  0%|          | 0/200 [00:00<?, ?it/s]"
      ]
     },
     "metadata": {},
     "output_type": "display_data"
    },
    {
     "name": "stdout",
     "output_type": "stream",
     "text": [
      "25/25 [==============================] - 3s 106ms/step - loss: 3.4815 - accuracy: 0.6175\n"
     ]
    },
    {
     "data": {
      "application/vnd.jupyter.widget-view+json": {
       "model_id": "28cc5f16f3b44a5a9726808bb19af445",
       "version_major": 2,
       "version_minor": 0
      },
      "text/plain": [
       "  0%|          | 0/200 [00:00<?, ?it/s]"
      ]
     },
     "metadata": {},
     "output_type": "display_data"
    },
    {
     "data": {
      "application/vnd.jupyter.widget-view+json": {
       "model_id": "f6998f0ada424e418a7bcbb582ff3b81",
       "version_major": 2,
       "version_minor": 0
      },
      "text/plain": [
       "  0%|          | 0/200 [00:00<?, ?it/s]"
      ]
     },
     "metadata": {},
     "output_type": "display_data"
    },
    {
     "name": "stdout",
     "output_type": "stream",
     "text": [
      "25/25 [==============================] - 3s 107ms/step - loss: 2.1472 - accuracy: 0.5625\n"
     ]
    },
    {
     "data": {
      "application/vnd.jupyter.widget-view+json": {
       "model_id": "917b57eceeed44abb969534ab6c99778",
       "version_major": 2,
       "version_minor": 0
      },
      "text/plain": [
       "  0%|          | 0/200 [00:00<?, ?it/s]"
      ]
     },
     "metadata": {},
     "output_type": "display_data"
    },
    {
     "data": {
      "application/vnd.jupyter.widget-view+json": {
       "model_id": "2177a7b20bf9453fa5919763e40d64e5",
       "version_major": 2,
       "version_minor": 0
      },
      "text/plain": [
       "  0%|          | 0/200 [00:00<?, ?it/s]"
      ]
     },
     "metadata": {},
     "output_type": "display_data"
    },
    {
     "name": "stdout",
     "output_type": "stream",
     "text": [
      "25/25 [==============================] - 3s 108ms/step - loss: 3.1515 - accuracy: 0.4575\n"
     ]
    },
    {
     "data": {
      "application/vnd.jupyter.widget-view+json": {
       "model_id": "940a0daf203b4a2e92f77aec75ae8fb5",
       "version_major": 2,
       "version_minor": 0
      },
      "text/plain": [
       "  0%|          | 0/200 [00:00<?, ?it/s]"
      ]
     },
     "metadata": {},
     "output_type": "display_data"
    },
    {
     "data": {
      "application/vnd.jupyter.widget-view+json": {
       "model_id": "37d9889a697547e78db18eace1e38d5c",
       "version_major": 2,
       "version_minor": 0
      },
      "text/plain": [
       "  0%|          | 0/200 [00:00<?, ?it/s]"
      ]
     },
     "metadata": {},
     "output_type": "display_data"
    },
    {
     "name": "stdout",
     "output_type": "stream",
     "text": [
      "25/25 [==============================] - 3s 108ms/step - loss: 2.7467 - accuracy: 0.5050\n"
     ]
    },
    {
     "data": {
      "application/vnd.jupyter.widget-view+json": {
       "model_id": "7c7e56ae98ea450c873bfb17097d7815",
       "version_major": 2,
       "version_minor": 0
      },
      "text/plain": [
       "  0%|          | 0/200 [00:00<?, ?it/s]"
      ]
     },
     "metadata": {},
     "output_type": "display_data"
    },
    {
     "data": {
      "application/vnd.jupyter.widget-view+json": {
       "model_id": "c7521cbc203a4aeb9032177d581e1795",
       "version_major": 2,
       "version_minor": 0
      },
      "text/plain": [
       "  0%|          | 0/200 [00:00<?, ?it/s]"
      ]
     },
     "metadata": {},
     "output_type": "display_data"
    },
    {
     "name": "stdout",
     "output_type": "stream",
     "text": [
      "25/25 [==============================] - 3s 108ms/step - loss: 3.1660 - accuracy: 0.4950\n"
     ]
    },
    {
     "data": {
      "application/vnd.jupyter.widget-view+json": {
       "model_id": "a38bfdb73ebf4cac8b666ec708c6c497",
       "version_major": 2,
       "version_minor": 0
      },
      "text/plain": [
       "  0%|          | 0/200 [00:00<?, ?it/s]"
      ]
     },
     "metadata": {},
     "output_type": "display_data"
    },
    {
     "data": {
      "application/vnd.jupyter.widget-view+json": {
       "model_id": "955a04cc89df419c8359ba0434764a77",
       "version_major": 2,
       "version_minor": 0
      },
      "text/plain": [
       "  0%|          | 0/200 [00:00<?, ?it/s]"
      ]
     },
     "metadata": {},
     "output_type": "display_data"
    },
    {
     "name": "stdout",
     "output_type": "stream",
     "text": [
      "25/25 [==============================] - 3s 108ms/step - loss: 3.1961 - accuracy: 0.5350\n"
     ]
    },
    {
     "data": {
      "application/vnd.jupyter.widget-view+json": {
       "model_id": "c2d3e447e9e74880b2033ae29ce7acec",
       "version_major": 2,
       "version_minor": 0
      },
      "text/plain": [
       "  0%|          | 0/200 [00:00<?, ?it/s]"
      ]
     },
     "metadata": {},
     "output_type": "display_data"
    },
    {
     "data": {
      "application/vnd.jupyter.widget-view+json": {
       "model_id": "952075e8014d48aeb21c6474c9f9ec67",
       "version_major": 2,
       "version_minor": 0
      },
      "text/plain": [
       "  0%|          | 0/200 [00:00<?, ?it/s]"
      ]
     },
     "metadata": {},
     "output_type": "display_data"
    },
    {
     "name": "stdout",
     "output_type": "stream",
     "text": [
      "25/25 [==============================] - 3s 108ms/step - loss: 2.8889 - accuracy: 0.5050\n"
     ]
    },
    {
     "data": {
      "application/vnd.jupyter.widget-view+json": {
       "model_id": "bba7d1bbc2d64d47953c4b7589fe4c1c",
       "version_major": 2,
       "version_minor": 0
      },
      "text/plain": [
       "  0%|          | 0/200 [00:00<?, ?it/s]"
      ]
     },
     "metadata": {},
     "output_type": "display_data"
    },
    {
     "data": {
      "application/vnd.jupyter.widget-view+json": {
       "model_id": "f0edbdabdee744afbd51d631d3bbe182",
       "version_major": 2,
       "version_minor": 0
      },
      "text/plain": [
       "  0%|          | 0/200 [00:00<?, ?it/s]"
      ]
     },
     "metadata": {},
     "output_type": "display_data"
    },
    {
     "name": "stdout",
     "output_type": "stream",
     "text": [
      "25/25 [==============================] - 3s 107ms/step - loss: 2.4059 - accuracy: 0.5250\n"
     ]
    },
    {
     "data": {
      "application/vnd.jupyter.widget-view+json": {
       "model_id": "aaa517f31a494783be788a9be1b0056c",
       "version_major": 2,
       "version_minor": 0
      },
      "text/plain": [
       "  0%|          | 0/200 [00:00<?, ?it/s]"
      ]
     },
     "metadata": {},
     "output_type": "display_data"
    },
    {
     "data": {
      "application/vnd.jupyter.widget-view+json": {
       "model_id": "d018559a61f6482f82847d04e56f5703",
       "version_major": 2,
       "version_minor": 0
      },
      "text/plain": [
       "  0%|          | 0/200 [00:00<?, ?it/s]"
      ]
     },
     "metadata": {},
     "output_type": "display_data"
    },
    {
     "name": "stdout",
     "output_type": "stream",
     "text": [
      "25/25 [==============================] - 3s 107ms/step - loss: 2.4945 - accuracy: 0.5300\n"
     ]
    },
    {
     "data": {
      "application/vnd.jupyter.widget-view+json": {
       "model_id": "df6fea73fbf14b86ad8a2b26c11a7a02",
       "version_major": 2,
       "version_minor": 0
      },
      "text/plain": [
       "  0%|          | 0/200 [00:00<?, ?it/s]"
      ]
     },
     "metadata": {},
     "output_type": "display_data"
    },
    {
     "data": {
      "application/vnd.jupyter.widget-view+json": {
       "model_id": "35e811154f6f42a5b46b59ed78f1a9ca",
       "version_major": 2,
       "version_minor": 0
      },
      "text/plain": [
       "  0%|          | 0/200 [00:00<?, ?it/s]"
      ]
     },
     "metadata": {},
     "output_type": "display_data"
    },
    {
     "name": "stdout",
     "output_type": "stream",
     "text": [
      "25/25 [==============================] - 3s 108ms/step - loss: 2.9421 - accuracy: 0.5275\n"
     ]
    },
    {
     "data": {
      "application/vnd.jupyter.widget-view+json": {
       "model_id": "b75fa2108fd9488981b8dd28cd614108",
       "version_major": 2,
       "version_minor": 0
      },
      "text/plain": [
       "  0%|          | 0/200 [00:00<?, ?it/s]"
      ]
     },
     "metadata": {},
     "output_type": "display_data"
    },
    {
     "data": {
      "application/vnd.jupyter.widget-view+json": {
       "model_id": "ac15804fb8144248986e68fba7a07f13",
       "version_major": 2,
       "version_minor": 0
      },
      "text/plain": [
       "  0%|          | 0/200 [00:00<?, ?it/s]"
      ]
     },
     "metadata": {},
     "output_type": "display_data"
    },
    {
     "name": "stdout",
     "output_type": "stream",
     "text": [
      "25/25 [==============================] - 3s 107ms/step - loss: 3.1648 - accuracy: 0.5300\n"
     ]
    },
    {
     "data": {
      "application/vnd.jupyter.widget-view+json": {
       "model_id": "8a6e8adcc4db479188a867d2ebac6d9c",
       "version_major": 2,
       "version_minor": 0
      },
      "text/plain": [
       "  0%|          | 0/200 [00:00<?, ?it/s]"
      ]
     },
     "metadata": {},
     "output_type": "display_data"
    },
    {
     "data": {
      "application/vnd.jupyter.widget-view+json": {
       "model_id": "4d90fe64d6f84a5c8b63552d97284cbe",
       "version_major": 2,
       "version_minor": 0
      },
      "text/plain": [
       "  0%|          | 0/200 [00:00<?, ?it/s]"
      ]
     },
     "metadata": {},
     "output_type": "display_data"
    },
    {
     "name": "stdout",
     "output_type": "stream",
     "text": [
      "25/25 [==============================] - 3s 108ms/step - loss: 1.9974 - accuracy: 0.6025\n"
     ]
    }
   ],
   "source": [
    "models_path = r'A:\\\\MSc\\\\Pulmonary Nodules\\\\models\\\\'\n",
    "radii = [5, 10, 15, 20, 25, 30, 35, 40, 45, 50]\n",
    "results = {}\n",
    "\n",
    "for prob, group in tqdm(zip(classification_problem, model_groups), total = len(classification_problem)):\n",
    "    \n",
    "    if prob == 'normal_vs_malignant':\n",
    "        levels = ['normal', 5]\n",
    "        criteria = 'binary'\n",
    "        n_classes = 1\n",
    "    if prob == 'normal_vs_benign':\n",
    "        levels = ['normal', 1]\n",
    "        criteria = 'binary'\n",
    "        n_classes = 1\n",
    "    if prob == 'normal_vs_mixed':\n",
    "        levels = ['normal', 1, 5]\n",
    "        criteria = 'mixed'\n",
    "        n_classes = 1\n",
    "    if prob == 'benign_vs_malignant':\n",
    "        levels = [1, 5]\n",
    "        criteria = 'binary_nodules'\n",
    "        n_classes = 1\n",
    "    if prob == 'normal_vs_benign_vs_malignant':\n",
    "        levels = ['normal', 1, 5]\n",
    "        criteria = 'three classes'\n",
    "        n_classes = 3\n",
    "    \n",
    "        \n",
    "    for m_name in group:\n",
    "        results[m_name] = []\n",
    "        _path = models_path + m_name\n",
    "        m = tf.keras.models.load_model(_path)\n",
    "\n",
    "        for r in radii:\n",
    "            data, labels = get_testing_data(r, start = 1000, n = 200, size = (64,64,28), levels=levels, criteria = criteria)\n",
    "            test_data =  test_data_prep(data, labels, BATCH_SIZE = 16, n_classes = n_classes)\n",
    "            r = m.evaluate(test_data)\n",
    "            results[m_name].append(r[1])   "
   ]
  },
  {
   "cell_type": "code",
   "execution_count": 5,
   "id": "ee58969a-b00d-40a6-9096-6d83ecb39db6",
   "metadata": {},
   "outputs": [],
   "source": [
    "pd.DataFrame(results).to_csv(r'A:\\MSc\\Pulmonary Nodules\\Results/benign_vs_malignant.csv')"
   ]
  },
  {
   "cell_type": "markdown",
   "id": "b33f3098-dd37-44ef-9e27-9f1958d3811e",
   "metadata": {
    "tags": []
   },
   "source": [
    "# Normal vs Malignant Heatmap"
   ]
  },
  {
   "cell_type": "code",
   "execution_count": 2,
   "id": "a1dca4f6-f618-45b8-b12b-155c9c68b07a",
   "metadata": {},
   "outputs": [],
   "source": [
    "data_info = pd.read_csv(r'A:\\MSc\\Pulmonary Nodules\\sameslicethickness\\arranged\\arranged_info.csv')"
   ]
  },
  {
   "cell_type": "code",
   "execution_count": 3,
   "id": "d1c14351-25cd-4c14-a2f8-62e0ee18746f",
   "metadata": {},
   "outputs": [
    {
     "name": "stdout",
     "output_type": "stream",
     "text": [
      "there are 292 different nodule diameters\n"
     ]
    }
   ],
   "source": [
    "target = 'nodule_diameter'\n",
    "n = np.unique(np.array(data_info['nodule_diameter'])).shape[0]\n",
    "nodule_diameters = np.unique(np.array(data_info['nodule_diameter']))\n",
    "print(f'there are {n} different nodule diameters')"
   ]
  },
  {
   "cell_type": "markdown",
   "id": "17287927-3a20-4275-b0b5-41983feb4353",
   "metadata": {},
   "source": [
    "## Helper functions"
   ]
  },
  {
   "cell_type": "code",
   "execution_count": 6,
   "id": "bb8ea4c3-813a-459b-8196-6b627030840b",
   "metadata": {},
   "outputs": [],
   "source": [
    "def create_v_path(r, l, vn):\n",
    "    path = f'A:/MSc/Pulmonary Nodules/sameslicethickness/arranged/radius_{r}/level_{l}/' + vn + '.npy'\n",
    "    return path\n",
    "\n",
    "def get_vn(vname):\n",
    "    return int(vname.split('v')[-1])\n",
    "\n",
    "def normalize_volume(volume):\n",
    "    return (volume-volume.min())/(volume.max()-volume.min())\n",
    "\n",
    "def test_data_prep(data, labels, BATCH_SIZE = 16):\n",
    "    dataset = tf.data.Dataset.from_tensor_slices((data, labels))\n",
    "    dataset = dataset.batch(BATCH_SIZE)\n",
    "    return dataset\n",
    "\n",
    "def load_data(df, malignancy_score, c):\n",
    "    h, w, d = (64, 64, 28)\n",
    "    data = []\n",
    "    label = []\n",
    "    vs = list(df['volume'])\n",
    "    rs = list(df['radius'])\n",
    "    for v, r in zip(vs, rs):\n",
    "        if  get_vn(v) > 1000: # to get samples from testing data only\n",
    "            data.append(normalize_volume(np.load(create_v_path(int(r), malignancy_score, v))).reshape(h,w,d,1))\n",
    "            label.append(c)\n",
    "            if len(data) > 100:\n",
    "                break\n",
    "    dataset = test_data_prep(data, label, 16)\n",
    "    return dataset"
   ]
  },
  {
   "cell_type": "markdown",
   "id": "26ce0e79-b97d-46c9-9d82-a301059a274f",
   "metadata": {
    "tags": []
   },
   "source": [
    "## number of malignant | benign nodules vs nodule diameter"
   ]
  },
  {
   "cell_type": "code",
   "execution_count": 65,
   "id": "a0786a62-b2f4-49d2-97ba-c7284a9cc147",
   "metadata": {},
   "outputs": [
    {
     "data": {
      "text/plain": [
       "[<matplotlib.lines.Line2D at 0x2519df4e820>]"
      ]
     },
     "execution_count": 65,
     "metadata": {},
     "output_type": "execute_result"
    },
    {
     "data": {
      "image/png": "[encoded data removed]",
      "text/plain": [
       "<Figure size 1600x480 with 1 Axes>"
      ]
     },
     "metadata": {},
     "output_type": "display_data"
    }
   ],
   "source": [
    "# getting number of malignant nodules that has a certain size\n",
    "size_n_nodules = []\n",
    "for size in nodule_diameters:\n",
    "    n_nodules = len(data_info.loc[data_info['nodule_diameter'] == size].loc[data_info['malignancy_score']==5])\n",
    "    size_n_nodules.append([size, n_nodules])\n",
    "size_n_nodules = np.array(size_n_nodules)\n",
    "plt.figure(figsize=(20, 6), dpi=80)\n",
    "plt.xlabel('nodule diameter in mm')\n",
    "plt.ylabel('number of nodules')\n",
    "plt.plot(size_n_nodules[:,0], size_n_nodules[:,1])"
   ]
  },
  {
   "cell_type": "code",
   "execution_count": 66,
   "id": "e3deb4bf-0c92-4daf-8720-cef7bbea6dcb",
   "metadata": {},
   "outputs": [
    {
     "data": {
      "text/plain": [
       "[<matplotlib.lines.Line2D at 0x2519cb889a0>]"
      ]
     },
     "execution_count": 66,
     "metadata": {},
     "output_type": "execute_result"
    },
    {
     "data": {
      "image/png": "[encoded data removed]",
      "text/plain": [
       "<Figure size 1600x480 with 1 Axes>"
      ]
     },
     "metadata": {},
     "output_type": "display_data"
    }
   ],
   "source": [
    "# getting number of benign nodules that has a certain size\n",
    "size_n_nodules = []\n",
    "for size in nodule_diameters:\n",
    "    n_nodules = len(data_info.loc[data_info['nodule_diameter'] == size].loc[data_info['malignancy_score']==1])\n",
    "    size_n_nodules.append([size, n_nodules])\n",
    "size_n_nodules = np.array(size_n_nodules)\n",
    "plt.figure(figsize=(20, 6), dpi=80)\n",
    "plt.xlabel('nodule diameter in mm cube')\n",
    "plt.ylabel('number of nodules')\n",
    "plt.plot(size_n_nodules[:,0], size_n_nodules[:,1])"
   ]
  },
  {
   "cell_type": "markdown",
   "id": "f4dd31f7-12ea-41f2-a68a-4c3c29f329c7",
   "metadata": {},
   "source": [
    "## Group per diameter and test"
   ]
  },
  {
   "cell_type": "markdown",
   "id": "64fdd818-ab7f-42fd-b981-66417d93c6ef",
   "metadata": {
    "tags": []
   },
   "source": [
    "### Number of samples per group"
   ]
  },
  {
   "cell_type": "code",
   "execution_count": 5,
   "id": "aadcb20a-afa3-4f72-8185-157f8573516f",
   "metadata": {},
   "outputs": [],
   "source": [
    "malignancy_score = 5\n",
    "radii = [5, 10, 15, 20, 25, 30, 35, 40, 45, 50]\n",
    "noduleD_r_nSamples = {}\n",
    "results = {}\n",
    "small_d = [0, 10, 20, 30, 40 ] # mm\n",
    "large_d = [10, 20, 30, 40, 60] # mm\n",
    "# number of nodules that ranges from 50 to 60 is too small to determine accuracy.\n",
    "\n",
    "for r in radii:\n",
    "    noduleD_r_nSamples[f'r{r}'] = {}\n",
    "    for d1, d2 in zip(small_d, large_d):\n",
    "        data_df = data_info.loc[data_info['nodule_diameter'] > d1].loc[data_info['nodule_diameter'] <= d2].loc[\n",
    "            data_info['malignancy_score']==malignancy_score].loc[data_info['radius'] == r]\n",
    "        n_samples = 0\n",
    "        for vname in list(data_df['volume']):\n",
    "            if get_vn(vname) > 1000:\n",
    "                n_samples += 1\n",
    "        noduleD_r_nSamples[f'r{r}'][f'{d1}  < d <= {d2}'] = n_samples"
   ]
  },
  {
   "cell_type": "code",
   "execution_count": 6,
   "id": "0408a1b0-7e8a-46de-bb0a-f2e08a8aba80",
   "metadata": {},
   "outputs": [
    {
     "data": {
      "text/html": [
       "<div>\n",
       "<style scoped>\n",
       "    .dataframe tbody tr th:only-of-type {\n",
       "        vertical-align: middle;\n",
       "    }\n",
       "\n",
       "    .dataframe tbody tr th {\n",
       "        vertical-align: top;\n",
       "    }\n",
       "\n",
       "    .dataframe thead th {\n",
       "        text-align: right;\n",
       "    }\n",
       "</style>\n",
       "<table border=\"1\" class=\"dataframe\">\n",
       "  <thead>\n",
       "    <tr style=\"text-align: right;\">\n",
       "      <th></th>\n",
       "      <th>r5</th>\n",
       "      <th>r10</th>\n",
       "      <th>r15</th>\n",
       "      <th>r20</th>\n",
       "      <th>r25</th>\n",
       "      <th>r30</th>\n",
       "      <th>r35</th>\n",
       "      <th>r40</th>\n",
       "      <th>r45</th>\n",
       "      <th>r50</th>\n",
       "    </tr>\n",
       "  </thead>\n",
       "  <tbody>\n",
       "    <tr>\n",
       "      <th>0  &lt; d &lt;= 10</th>\n",
       "      <td>160</td>\n",
       "      <td>156</td>\n",
       "      <td>152</td>\n",
       "      <td>152</td>\n",
       "      <td>148</td>\n",
       "      <td>148</td>\n",
       "      <td>141</td>\n",
       "      <td>136</td>\n",
       "      <td>136</td>\n",
       "      <td>131</td>\n",
       "    </tr>\n",
       "    <tr>\n",
       "      <th>10  &lt; d &lt;= 20</th>\n",
       "      <td>372</td>\n",
       "      <td>368</td>\n",
       "      <td>368</td>\n",
       "      <td>354</td>\n",
       "      <td>352</td>\n",
       "      <td>344</td>\n",
       "      <td>340</td>\n",
       "      <td>322</td>\n",
       "      <td>322</td>\n",
       "      <td>322</td>\n",
       "    </tr>\n",
       "    <tr>\n",
       "      <th>20  &lt; d &lt;= 30</th>\n",
       "      <td>399</td>\n",
       "      <td>399</td>\n",
       "      <td>399</td>\n",
       "      <td>378</td>\n",
       "      <td>377</td>\n",
       "      <td>373</td>\n",
       "      <td>365</td>\n",
       "      <td>348</td>\n",
       "      <td>326</td>\n",
       "      <td>313</td>\n",
       "    </tr>\n",
       "    <tr>\n",
       "      <th>30  &lt; d &lt;= 40</th>\n",
       "      <td>359</td>\n",
       "      <td>359</td>\n",
       "      <td>359</td>\n",
       "      <td>359</td>\n",
       "      <td>347</td>\n",
       "      <td>339</td>\n",
       "      <td>339</td>\n",
       "      <td>339</td>\n",
       "      <td>335</td>\n",
       "      <td>335</td>\n",
       "    </tr>\n",
       "    <tr>\n",
       "      <th>40  &lt; d &lt;= 60</th>\n",
       "      <td>205</td>\n",
       "      <td>205</td>\n",
       "      <td>205</td>\n",
       "      <td>200</td>\n",
       "      <td>199</td>\n",
       "      <td>195</td>\n",
       "      <td>190</td>\n",
       "      <td>172</td>\n",
       "      <td>170</td>\n",
       "      <td>168</td>\n",
       "    </tr>\n",
       "  </tbody>\n",
       "</table>\n",
       "</div>"
      ],
      "text/plain": [
       "                r5  r10  r15  r20  r25  r30  r35  r40  r45  r50\n",
       "0  < d <= 10   160  156  152  152  148  148  141  136  136  131\n",
       "10  < d <= 20  372  368  368  354  352  344  340  322  322  322\n",
       "20  < d <= 30  399  399  399  378  377  373  365  348  326  313\n",
       "30  < d <= 40  359  359  359  359  347  339  339  339  335  335\n",
       "40  < d <= 60  205  205  205  200  199  195  190  172  170  168"
      ]
     },
     "execution_count": 6,
     "metadata": {},
     "output_type": "execute_result"
    }
   ],
   "source": [
    "pd.DataFrame(noduleD_r_nSamples)"
   ]
  },
  {
   "cell_type": "markdown",
   "id": "f15ed741-e324-4c93-8138-9771282474a7",
   "metadata": {},
   "source": [
    "### Test"
   ]
  },
  {
   "cell_type": "markdown",
   "id": "80e35e4e-afb4-403f-bb8f-6aed2119dddf",
   "metadata": {
    "tags": []
   },
   "source": [
    "#### All at once (kernel dies)"
   ]
  },
  {
   "cell_type": "code",
   "execution_count": null,
   "id": "46faece9-8c3f-41be-98fd-0fc63b6ad80e",
   "metadata": {},
   "outputs": [
    {
     "data": {
      "application/vnd.jupyter.widget-view+json": {
       "model_id": "c9d9ef9b2ced401597c49b305e6feaa5",
       "version_major": 2,
       "version_minor": 0
      },
      "text/plain": [
       "  0%|          | 0/5 [00:00<?, ?it/s]"
      ]
     },
     "metadata": {},
     "output_type": "display_data"
    },
    {
     "data": {
      "application/vnd.jupyter.widget-view+json": {
       "model_id": "58c1c2ca1ddc44e8913373d56a55c2e4",
       "version_major": 2,
       "version_minor": 0
      },
      "text/plain": [
       "  0%|          | 0/10 [00:00<?, ?it/s]"
      ]
     },
     "metadata": {},
     "output_type": "display_data"
    }
   ],
   "source": [
    "malignancy_score = 5\n",
    "radii = [5, 10, 15, 20, 25, 30, 35, 40, 45, 50]\n",
    "results = {}\n",
    "small_d = [0, 10, 20, 30, 40 ] # mm\n",
    "large_d = [10, 20, 30, 40, 60] # mm\n",
    "# number of nodules that ranges from 50 to 60 is too small to determine accuracy.\n",
    "models_path = r'A:\\\\MSc\\\\Pulmonary Nodules\\\\models\\\\'\n",
    "models = ['normal_vs_malignant_r10', 'normal_vs_malignant_r20', 'normal_vs_malignant_r30', 'normal_vs_malignant_r40', 'normal_vs_malignant_r50']\n",
    "for m_name in tqdm(models, total = len(models)):\n",
    "    results[m_name] = {}\n",
    "    _path = models_path + m_name\n",
    "    m = tf.keras.models.load_model(_path)\n",
    "    for r in tqdm(radii, total = len(radii)):\n",
    "        results[m_name][f'r{r}'] = {}\n",
    "        for d1, d2 in zip(small_d, large_d):\n",
    "            data_df = data_info.loc[data_info['nodule_diameter'] > d1].loc[data_info['nodule_diameter'] <= d2].loc[\n",
    "                data_info['malignancy_score']==malignancy_score].loc[data_info['radius'] == r]\n",
    "            test_data = load_data(data_df, malignancy_score, 1)\n",
    "            accuracy = m.evaluate(test_data)\n",
    "            results[m_name][f'r{r}'][f'{d1}  < d <= {d2}'] = accuracy[1]"
   ]
  },
  {
   "cell_type": "markdown",
   "id": "3f614d5b-485d-4cc9-82e4-044dfdd3ac9a",
   "metadata": {},
   "source": [
    "#### normal_vs_malignant_r10"
   ]
  },
  {
   "cell_type": "code",
   "execution_count": 12,
   "id": "05ce0e0a-8745-446e-b688-8e2bde4e923e",
   "metadata": {},
   "outputs": [],
   "source": [
    "malignancy_score = 5\n",
    "radii = [5, 10, 15, 20, 25, 30, 35, 40, 45, 50]\n",
    "results = {}\n",
    "small_d = [0, 10, 20, 30, 40 ] # mm\n",
    "large_d = [10, 20, 30, 40, 60] # mm\n",
    "models_path = r'A:\\\\MSc\\\\Pulmonary Nodules\\\\models\\\\'\n",
    "#\n",
    "m_name = 'normal_vs_malignant_r10'\n",
    "_path = models_path + m_name\n",
    "m = tf.keras.models.load_model(_path)"
   ]
  },
  {
   "cell_type": "code",
   "execution_count": null,
   "id": "43f6b540-6c28-45d5-b3ef-6224303de2aa",
   "metadata": {},
   "outputs": [
    {
     "data": {
      "application/vnd.jupyter.widget-view+json": {
       "model_id": "4fd47158349b408c91a306f74d9c282c",
       "version_major": 2,
       "version_minor": 0
      },
      "text/plain": [
       "  0%|          | 0/10 [00:00<?, ?it/s]"
      ]
     },
     "metadata": {},
     "output_type": "display_data"
    },
    {
     "name": "stdout",
     "output_type": "stream",
     "text": [
      "radius is  5\n",
      "0   ->    10\n"
     ]
    }
   ],
   "source": [
    "results[m_name] = {}\n",
    "for r in tqdm(radii, total = len(radii)):\n",
    "    print(f'radius is  {r}')\n",
    "    results[m_name][f'r{r}'] = {}\n",
    "    for d1, d2 in zip(small_d, large_d):\n",
    "        print(f'{d1}   ->    {d2}')\n",
    "        data_df = data_info.loc[data_info['nodule_diameter'] > d1].loc[data_info['nodule_diameter'] <= d2].loc[\n",
    "            data_info['malignancy_score']==malignancy_score].loc[data_info['radius'] == r]\n",
    "        test_data = load_data(data_df, malignancy_score, 1)\n",
    "        # accuracy = m.evaluate(test_data)\n",
    "        # results[m_name][f'r{r}'][f'{d1}  < d <= {d2}'] = accuracy[1]"
   ]
  },
  {
   "cell_type": "code",
   "execution_count": 6,
   "id": "36b6c69f-cfd4-4003-89bf-13481a66376e",
   "metadata": {},
   "outputs": [
    {
     "data": {
      "text/html": [
       "<div>\n",
       "<style scoped>\n",
       "    .dataframe tbody tr th:only-of-type {\n",
       "        vertical-align: middle;\n",
       "    }\n",
       "\n",
       "    .dataframe tbody tr th {\n",
       "        vertical-align: top;\n",
       "    }\n",
       "\n",
       "    .dataframe thead th {\n",
       "        text-align: right;\n",
       "    }\n",
       "</style>\n",
       "<table border=\"1\" class=\"dataframe\">\n",
       "  <thead>\n",
       "    <tr style=\"text-align: right;\">\n",
       "      <th></th>\n",
       "      <th>Unnamed: 0</th>\n",
       "      <th>volume</th>\n",
       "      <th>pid</th>\n",
       "      <th>malignancy_score</th>\n",
       "      <th>nodule_centroid</th>\n",
       "      <th>volume_centroid</th>\n",
       "      <th>radius</th>\n",
       "      <th>nodule_diameter</th>\n",
       "      <th>nodule_volume</th>\n",
       "    </tr>\n",
       "  </thead>\n",
       "  <tbody>\n",
       "    <tr>\n",
       "      <th>9005</th>\n",
       "      <td>9005</td>\n",
       "      <td>v87</td>\n",
       "      <td>LIDC-IDRI-0590</td>\n",
       "      <td>5.0</td>\n",
       "      <td>[252.36121673 416.2243346  258.00380228]</td>\n",
       "      <td>[252. 416. 268.]</td>\n",
       "      <td>10.0</td>\n",
       "      <td>9.140625</td>\n",
       "      <td>174.425125</td>\n",
       "    </tr>\n",
       "    <tr>\n",
       "      <th>9006</th>\n",
       "      <td>9006</td>\n",
       "      <td>v88</td>\n",
       "      <td>LIDC-IDRI-0590</td>\n",
       "      <td>5.0</td>\n",
       "      <td>[252.36121673 416.2243346  258.00380228]</td>\n",
       "      <td>[252. 416. 268.]</td>\n",
       "      <td>10.0</td>\n",
       "      <td>9.140625</td>\n",
       "      <td>174.425125</td>\n",
       "    </tr>\n",
       "    <tr>\n",
       "      <th>9007</th>\n",
       "      <td>9007</td>\n",
       "      <td>v89</td>\n",
       "      <td>LIDC-IDRI-0590</td>\n",
       "      <td>5.0</td>\n",
       "      <td>[252.36121673 416.2243346  258.00380228]</td>\n",
       "      <td>[252. 416. 268.]</td>\n",
       "      <td>10.0</td>\n",
       "      <td>9.140625</td>\n",
       "      <td>174.425125</td>\n",
       "    </tr>\n",
       "    <tr>\n",
       "      <th>9008</th>\n",
       "      <td>9008</td>\n",
       "      <td>v90</td>\n",
       "      <td>LIDC-IDRI-0590</td>\n",
       "      <td>5.0</td>\n",
       "      <td>[252.36121673 416.2243346  258.00380228]</td>\n",
       "      <td>[252. 416. 268.]</td>\n",
       "      <td>10.0</td>\n",
       "      <td>9.140625</td>\n",
       "      <td>174.425125</td>\n",
       "    </tr>\n",
       "    <tr>\n",
       "      <th>9009</th>\n",
       "      <td>9009</td>\n",
       "      <td>v91</td>\n",
       "      <td>LIDC-IDRI-0590</td>\n",
       "      <td>5.0</td>\n",
       "      <td>[252.36121673 416.2243346  258.00380228]</td>\n",
       "      <td>[262. 416. 258.]</td>\n",
       "      <td>10.0</td>\n",
       "      <td>9.140625</td>\n",
       "      <td>174.425125</td>\n",
       "    </tr>\n",
       "  </tbody>\n",
       "</table>\n",
       "</div>"
      ],
      "text/plain": [
       "      Unnamed: 0 volume             pid  malignancy_score  \\\n",
       "9005        9005    v87  LIDC-IDRI-0590               5.0   \n",
       "9006        9006    v88  LIDC-IDRI-0590               5.0   \n",
       "9007        9007    v89  LIDC-IDRI-0590               5.0   \n",
       "9008        9008    v90  LIDC-IDRI-0590               5.0   \n",
       "9009        9009    v91  LIDC-IDRI-0590               5.0   \n",
       "\n",
       "                               nodule_centroid   volume_centroid  radius  \\\n",
       "9005  [252.36121673 416.2243346  258.00380228]  [252. 416. 268.]    10.0   \n",
       "9006  [252.36121673 416.2243346  258.00380228]  [252. 416. 268.]    10.0   \n",
       "9007  [252.36121673 416.2243346  258.00380228]  [252. 416. 268.]    10.0   \n",
       "9008  [252.36121673 416.2243346  258.00380228]  [252. 416. 268.]    10.0   \n",
       "9009  [252.36121673 416.2243346  258.00380228]  [262. 416. 258.]    10.0   \n",
       "\n",
       "      nodule_diameter  nodule_volume  \n",
       "9005         9.140625     174.425125  \n",
       "9006         9.140625     174.425125  \n",
       "9007         9.140625     174.425125  \n",
       "9008         9.140625     174.425125  \n",
       "9009         9.140625     174.425125  "
      ]
     },
     "execution_count": 6,
     "metadata": {},
     "output_type": "execute_result"
    }
   ],
   "source": [
    "data_df = data_info.loc[data_info['nodule_diameter'] > 0].loc[data_info['nodule_diameter'] <= 10].loc[\n",
    "            data_info['malignancy_score']==5].loc[data_info['radius'] == 10]\n",
    "data_df.head()"
   ]
  },
  {
   "cell_type": "code",
   "execution_count": null,
   "id": "63fd7d58-c543-4109-9a22-6147674418d3",
   "metadata": {},
   "outputs": [],
   "source": [
    "test_data = load_data(data_df, 5, 1)"
   ]
  },
  {
   "cell_type": "code",
   "execution_count": 7,
   "id": "d0948263-455a-442d-91f9-d449a5c7b87b",
   "metadata": {},
   "outputs": [
    {
     "data": {
      "application/vnd.jupyter.widget-view+json": {
       "model_id": "fe36dd3bb9644d279c3a699e43d84842",
       "version_major": 2,
       "version_minor": 0
      },
      "text/plain": [
       "  0%|          | 0/204 [00:00<?, ?it/s]"
      ]
     },
     "metadata": {},
     "output_type": "display_data"
    }
   ],
   "source": [
    "h, w, d = (64, 64, 28)\n",
    "data = []\n",
    "label = []\n",
    "vs = list(data_df['volume'])\n",
    "rs = list(data_df['radius'])\n",
    "for v, r in tqdm(zip(vs, rs), total = len(vs)):\n",
    "    if  get_vn(v) > 1000: # to get samples from testing data only\n",
    "        data.append(normalize_volume(np.load(create_v_path(int(r), 5, v))).reshape(h,w,d,1))\n",
    "        label.append(label)\n",
    "#dataset = test_data_prep(data, label, 16)"
   ]
  },
  {
   "cell_type": "code",
   "execution_count": null,
   "id": "d2ea9015-9d9b-4d0c-9582-8f9ebde3d25a",
   "metadata": {},
   "outputs": [],
   "source": [
    "dataset = tf.data.Dataset.from_tensor_slices((data, label))"
   ]
  },
  {
   "cell_type": "markdown",
   "id": "6ee0bb72-5118-4960-96ef-368367a79b38",
   "metadata": {},
   "source": [
    "# AUC"
   ]
  },
  {
   "cell_type": "code",
   "execution_count": 25,
   "id": "d1e0ed41-1d54-40f1-8944-f201d68301bf",
   "metadata": {},
   "outputs": [],
   "source": [
    "models_path = r'A:\\\\MSc\\\\Pulmonary Nodules\\\\models\\\\'\n",
    "models = ['normal_vs_malignant_r10', 'normal_vs_malignant_r20', 'normal_vs_malignant_r30', 'normal_vs_malignant_r40', 'normal_vs_malignant_r50']\n",
    "_path = models_path + models[2]\n",
    "m = tf.keras.models.load_model(_path)\n",
    "m.compile(optimizer='adam',\n",
    "              loss=tf.keras.losses.BinaryCrossentropy(),\n",
    "              metrics=[tf.keras.metrics.AUC()])"
   ]
  },
  {
   "cell_type": "code",
   "execution_count": 60,
   "id": "038835e3-8b92-4689-b31b-e6a698bf2f9d",
   "metadata": {},
   "outputs": [],
   "source": [
    "# variables\n",
    "r = 50\n",
    "l = ['normal', 5]\n",
    "c = 'binary'\n",
    "n_classes = 1\n",
    "model_name = 'normal_vs_malignant_r50'\n",
    "bs = 16\n",
    "epochs = 20\n",
    "# done\n",
    "_path = models_path + model_name\n",
    "m = tf.keras.models.load_model(_path)\n",
    "m.compile(optimizer='adam',\n",
    "              loss=tf.keras.losses.BinaryCrossentropy(),\n",
    "              metrics=[tf.keras.metrics.AUC()])"
   ]
  },
  {
   "cell_type": "code",
   "execution_count": 61,
   "id": "f0754c4e-e577-4838-9bb0-ee8cc2d33fce",
   "metadata": {},
   "outputs": [
    {
     "data": {
      "application/vnd.jupyter.widget-view+json": {
       "model_id": "e389db4568654d7aad480c7413a5e4ef",
       "version_major": 2,
       "version_minor": 0
      },
      "text/plain": [
       "  0%|          | 0/200 [00:00<?, ?it/s]"
      ]
     },
     "metadata": {},
     "output_type": "display_data"
    },
    {
     "data": {
      "application/vnd.jupyter.widget-view+json": {
       "model_id": "6579e3af9d9c464cbc2b2befdceb6865",
       "version_major": 2,
       "version_minor": 0
      },
      "text/plain": [
       "  0%|          | 0/200 [00:00<?, ?it/s]"
      ]
     },
     "metadata": {},
     "output_type": "display_data"
    },
    {
     "name": "stdout",
     "output_type": "stream",
     "text": [
      "25/25 [==============================] - 5s 169ms/step - loss: 0.8906 - auc_19: 0.9146\n"
     ]
    },
    {
     "data": {
      "text/plain": [
       "[0.8906364440917969, 0.9146499037742615]"
      ]
     },
     "execution_count": 61,
     "metadata": {},
     "output_type": "execute_result"
    }
   ],
   "source": [
    "data, labels = get_testing_data(r, start = 1000, n = 200, size = (64,64,28), levels=l, criteria = c)\n",
    "test_data =  test_data_prep(data, labels, BATCH_SIZE = 16, n_classes = n_classes)\n",
    "m.evaluate(test_data)"
   ]
  },
  {
   "cell_type": "code",
   "execution_count": null,
   "id": "bdecba19-2eec-40b0-aa52-7d559a3b131d",
   "metadata": {},
   "outputs": [],
   "source": [
    "models_path = r'A:\\\\MSc\\\\Pulmonary Nodules\\\\models\\\\'\n",
    "radii = [5, 10, 15, 20, 25, 30, 35, 40, 45, 50]\n",
    "results = {}\n",
    "\n",
    "for prob, group in tqdm(zip(classification_problem, model_groups), total = len(classification_problem)):\n",
    "    \n",
    "    if prob == 'normal_vs_malignant':\n",
    "        levels = ['normal', 5]\n",
    "        criteria = 'binary'\n",
    "        n_classes = 1\n",
    "    if prob == 'normal_vs_benign':\n",
    "        levels = ['normal', 1]\n",
    "        criteria = 'binary'\n",
    "        n_classes = 1\n",
    "    if prob == 'normal_vs_mixed':\n",
    "        levels = ['normal', 1, 5]\n",
    "        criteria = 'mixed'\n",
    "        n_classes = 1\n",
    "    if prob == 'benign_vs_malignant':\n",
    "        levels = [1, 5]\n",
    "        criteria = 'binary_nodules'\n",
    "        n_classes = 1\n",
    "    if prob == 'normal_vs_benign_vs_malignant':\n",
    "        levels = ['normal', 1, 5]\n",
    "        criteria = 'three classes'\n",
    "        n_classes = 3\n",
    "    \n",
    "        \n",
    "    for m_name in group:\n",
    "        results[m_name] = []\n",
    "        _path = models_path + m_name\n",
    "        m = tf.keras.models.load_model(_path)\n",
    "        m.compile(optimizer='adam',\n",
    "              loss=tf.keras.losses.BinaryCrossentropy(),\n",
    "              metrics=[tf.keras.metrics.AUC()])\n",
    "\n",
    "        data, labels = get_testing_data(r, start = 1000, n = 200, size = (64,64,28), levels=levels, criteria = criteria)\n",
    "        test_data =  test_data_prep(data, labels, BATCH_SIZE = 16, n_classes = n_classes)\n",
    "        r = m.evaluate(test_data)\n",
    "        results[m_name].append(r[1])  "
   ]
  }
 ],
 "metadata": {
  "kernelspec": {
   "display_name": "Python 3 (ipykernel)",
   "language": "python",
   "name": "python3"
  },
  "language_info": {
   "codemirror_mode": {
    "name": "ipython",
    "version": 3
   },
   "file_extension": ".py",
   "mimetype": "text/x-python",
   "name": "python",
   "nbconvert_exporter": "python",
   "pygments_lexer": "ipython3",
   "version": "3.9.16"
  }
 },
 "nbformat": 4,
 "nbformat_minor": 5
}
